{
 "cells": [
  {
   "cell_type": "markdown",
   "source": [
    "# NATURAL LANGUAGE PROCESSING WITH TRANSFORMERS\n",
    "# Α Pos Tagger trained on UD treebank with fine-tuning a BERT model"
   ],
   "metadata": {}
  },
  {
   "cell_type": "markdown",
   "source": [
    "# Native BERT implementation"
   ],
   "metadata": {}
  },
  {
   "cell_type": "code",
   "execution_count": 1,
   "source": [
    "# First install some extra packages\r\n",
    "# ! pip install pyconll # for UD treebank reading\r\n",
    "# ! pip install bert-tensorflow # for using bert model \r\n",
    "# tensorflow version == 1.14.0"
   ],
   "outputs": [],
   "metadata": {}
  },
  {
   "cell_type": "code",
   "execution_count": 2,
   "source": [
    "import pyconll, pickle, os, random, datetime, warnings, gc, urllib.request, zipfile, collections\r\n",
    "import numpy as np\r\n",
    "import matplotlib.pyplot as plt\r\n",
    "from sklearn.utils import shuffle\r\n",
    "from sklearn.metrics import recall_score, precision_score, classification_report, accuracy_score, confusion_matrix, f1_score\r\n",
    "from sklearn.model_selection import train_test_split, StratifiedKFold, KFold, GridSearchCV, learning_curve, cross_val_score\r\n",
    "from sklearn import preprocessing\r\n",
    "from sklearn.exceptions import UndefinedMetricWarning\r\n",
    "\r\n",
    "from IPython.display import Image \r\n",
    "warnings.filterwarnings(action='ignore', category=UndefinedMetricWarning)\r\n",
    "\r\n",
    "import pandas as pd"
   ],
   "outputs": [],
   "metadata": {}
  },
  {
   "cell_type": "code",
   "execution_count": 3,
   "source": [
    "def plot_confusion_matrix(f1,\r\n",
    "                          cm,\r\n",
    "                          target_names,\r\n",
    "                          title='Confusion matrix',\r\n",
    "                          cmap=None,\r\n",
    "                          normalize=True,\r\n",
    "                          i=1):\r\n",
    "    \"\"\"\r\n",
    "    given a sklearn confusion matrix (cm), make a nice plot\r\n",
    "\r\n",
    "    Arguments\r\n",
    "    ---------\r\n",
    "    cm:           confusion matrix from sklearn.metrics.confusion_matrix\r\n",
    "\r\n",
    "    target_names: given classification classes such as [0, 1, 2]\r\n",
    "                  the class names, for example: ['high', 'medium', 'low']\r\n",
    "\r\n",
    "    title:        the text to display at the top of the matrix\r\n",
    "\r\n",
    "    cmap:         the gradient of the values displayed from matplotlib.pyplot.cm\r\n",
    "                  see http://matplotlib.org/examples/color/colormaps_reference.html\r\n",
    "                  plt.get_cmap('jet') or plt.cm.Blues\r\n",
    "\r\n",
    "    normalize:    If False, plot the raw numbers\r\n",
    "                  If True, plot the proportions\r\n",
    "\r\n",
    "    Usage\r\n",
    "    -----\r\n",
    "    plot_confusion_matrix(cm           = cm,                  # confusion matrix created by\r\n",
    "                                                              # sklearn.metrics.confusion_matrix\r\n",
    "                          normalize    = True,                # show proportions\r\n",
    "                          target_names = y_labels_vals,       # list of names of the classes\r\n",
    "                          title        = best_estimator_name) # title of graph\r\n",
    "\r\n",
    "    Citiation\r\n",
    "    ---------\r\n",
    "    http://scikit-learn.org/stable/auto_examples/model_selection/plot_confusion_matrix.html\r\n",
    "\r\n",
    "    \"\"\"\r\n",
    "    import matplotlib.pyplot as plt\r\n",
    "    import numpy as np\r\n",
    "    import itertools\r\n",
    "\r\n",
    "    accuracy = np.trace(cm) / float(np.sum(cm))\r\n",
    "    misclass = 1 - accuracy\r\n",
    "    plt.figure(figsize=(10, 6))\r\n",
    "    if cmap is None:\r\n",
    "        cmap = plt.get_cmap('Blues')\r\n",
    "\r\n",
    "    plt.imshow(cm, interpolation='nearest', cmap=cmap)\r\n",
    "    plt.title(title)\r\n",
    "    plt.colorbar()\r\n",
    "\r\n",
    "    if target_names is not None:\r\n",
    "        tick_marks = np.arange(len(target_names))\r\n",
    "        plt.xticks(tick_marks, target_names, rotation=45)\r\n",
    "        plt.yticks(tick_marks, target_names)\r\n",
    "\r\n",
    "    if normalize:\r\n",
    "        cm = cm.astype('float') / cm.sum(axis=1)[:, np.newaxis]\r\n",
    "\r\n",
    "\r\n",
    "    thresh = cm.max() / 1.5 if normalize else cm.max() / 2\r\n",
    "    for i, j in itertools.product(range(cm.shape[0]), range(cm.shape[1])):\r\n",
    "        if normalize:\r\n",
    "            plt.text(j, i, \"{:0.4f}\".format(cm[i, j]),\r\n",
    "                     horizontalalignment=\"center\",\r\n",
    "                     color=\"white\" if cm[i, j] > thresh else \"black\")\r\n",
    "        else:\r\n",
    "            plt.text(j, i, \"{:,}\".format(cm[i, j]),\r\n",
    "                     horizontalalignment=\"center\",\r\n",
    "                     color=\"white\" if cm[i, j] > thresh else \"black\")\r\n",
    "\r\n",
    "\r\n",
    "    plt.tight_layout()\r\n",
    "    plt.ylabel('True label')\r\n",
    "    plt.xlabel('Predicted label\\naccuracy={:0.4f}; misclass={:0.4f}; f1-score={:0.4f}'.format(accuracy, misclass, f1))"
   ],
   "outputs": [],
   "metadata": {}
  },
  {
   "cell_type": "code",
   "execution_count": 4,
   "source": [
    "# def download_files():\r\n",
    "#     print('Downloading English treebank...')\r\n",
    "#     urllib.request.urlretrieve('http://archive.aueb.gr:8085/files/en_partut-ud-dev.conllu', UD_ENGLISH_DEV)\r\n",
    "#     urllib.request.urlretrieve('http://archive.aueb.gr:8085/files/en_partut-ud-test.conllu', UD_ENGLISH_TEST)\r\n",
    "#     urllib.request.urlretrieve('http://archive.aueb.gr:8085/files/en_partut-ud-train.conllu', UD_ENGLISH_TRAIN)\r\n",
    "#     print('Treebank downloaded.')\r\n",
    "#     print('Downloading pre-trained BERT model...')\r\n",
    "#     urllib.request.urlretrieve('https://storage.googleapis.com/bert_models/2018_10_18/uncased_L-12_H-768_A-12.zip', 'uncased_L-12_H-768_A-12.zip')\r\n",
    "#     print('Pre-trained BERT model downloaded.')\r\n",
    "#     print('Extracting zip file...')\r\n",
    "#     zip_ref = zipfile.ZipFile('uncased_L-12_H-768_A-12.zip', 'r')\r\n",
    "#     zip_ref.extractall('.')\r\n",
    "#     zip_ref.close()\r\n",
    "#     print('Zip file extracted.')"
   ],
   "outputs": [],
   "metadata": {
    "nbpresent": {
     "id": "2eb0b136-1052-4d48-8a66-48b5ebc96ff8"
    }
   }
  },
  {
   "cell_type": "markdown",
   "source": [
    "First we download English treebank and pre-trained BERT model:"
   ],
   "metadata": {}
  },
  {
   "cell_type": "code",
   "execution_count": 5,
   "source": [
    "# download_files()"
   ],
   "outputs": [],
   "metadata": {
    "nbpresent": {
     "id": "4e617ca6-4cce-42a0-9396-28b9d704df73"
    }
   }
  },
  {
   "cell_type": "markdown",
   "source": [
    "# Preprocessing"
   ],
   "metadata": {
    "nbpresent": {
     "id": "43c9097b-37be-4f3d-b3d3-4a54a94c1174"
    }
   }
  },
  {
   "cell_type": "code",
   "execution_count": 6,
   "source": [
    "# def read_conllu(path):\r\n",
    "#     data = pyconll.load_from_file(path)\r\n",
    "#     tagged_sentences=[]\r\n",
    "#     t=0\r\n",
    "#     for sentence in data:\r\n",
    "#         tagged_sentence=[]\r\n",
    "#         for token in sentence:\r\n",
    "#             if token.upos and token.form:\r\n",
    "#                 t+=1\r\n",
    "#                 tagged_sentence.append((token.form.lower(), token.upos))\r\n",
    "#         tagged_sentences.append(tagged_sentence)\r\n",
    "#     return tagged_sentences"
   ],
   "outputs": [],
   "metadata": {
    "nbpresent": {
     "id": "016836bb-abb2-4235-ab21-df90a6e1e44e"
    }
   }
  },
  {
   "cell_type": "code",
   "execution_count": 7,
   "source": [
    "def read_data(path):\r\n",
    "    table = pd.read_table(path).fillna('X')\r\n",
    "    data = table.values \r\n",
    "    X, X_ = [], [] # store input sequence\r\n",
    "    Y, Y_ = [], [] # store output sequence\r\n",
    "    for word in data:\r\n",
    "        if word[0] is not '.':         \r\n",
    "            X_.append(word[0])  # entity[0] contains the word\r\n",
    "            Y_.append(word[2])  # entity[1] contains corresponding tag\r\n",
    "        else:        \r\n",
    "            X_.append('.')\r\n",
    "            Y_.append('PUNC')\r\n",
    "            X.append(X_)\r\n",
    "            Y.append(Y_)\r\n",
    "            X_ = []\r\n",
    "            Y_ = []\r\n",
    "        \r\n",
    "    return X,Y\r\n"
   ],
   "outputs": [],
   "metadata": {}
  },
  {
   "cell_type": "markdown",
   "source": [
    "Load train, development and test set in the appropriate tagged format, tuple (word, pos-tag)"
   ],
   "metadata": {
    "nbpresent": {
     "id": "11bff856-f685-49ef-a4e6-b5f2a768a9ad"
    }
   }
  },
  {
   "cell_type": "code",
   "execution_count": 8,
   "source": [
    "UD_ENGLISH_TRAIN = 'C:/Users/dell/Desktop/nlp/NLAPOST2021-main/train/nr.gold.train'\r\n",
    "UD_ENGLISH_DEV = 'C:/Users/dell/Desktop/nlp/NLAPOST2021-main/dev/nr.gold.dev'\r\n",
    "# UD_ENGLISH_TEST = 'en_partut-ud-test.conllu'"
   ],
   "outputs": [],
   "metadata": {
    "nbpresent": {
     "id": "75d32121-1074-4cd6-8355-599afeff56db"
    }
   }
  },
  {
   "cell_type": "code",
   "execution_count": 9,
   "source": [
    "train_text, train_label = read_data(UD_ENGLISH_TRAIN)\r\n",
    "val_text, val_label = read_data(UD_ENGLISH_DEV)\r\n",
    "# test_sentences = read_conllu(UD_ENGLISH_TEST)\r\n",
    "\r\n",
    "# split entire data into training and testing sets\r\n",
    "TEST_SIZE = 0.15\r\n",
    "train_text, test_text, train_label, test_label = train_test_split(train_text, train_label, test_size=TEST_SIZE, random_state=4)"
   ],
   "outputs": [],
   "metadata": {
    "nbpresent": {
     "id": "fc49598b-75d3-45e9-9fa3-a7b604234760"
    }
   }
  },
  {
   "cell_type": "markdown",
   "source": [
    "Print some statistics"
   ],
   "metadata": {
    "nbpresent": {
     "id": "3f72d1da-c1d1-4e25-a782-e12a66f1cedf"
    }
   }
  },
  {
   "cell_type": "code",
   "execution_count": 10,
   "source": [
    "MAX_SEQUENCE_LENGTH=len(max(train_text+val_text+test_text, key=len))\r\n",
    "print('Max sentence length:',MAX_SEQUENCE_LENGTH)"
   ],
   "outputs": [
    {
     "output_type": "stream",
     "name": "stdout",
     "text": [
      "Max sentence length: 103\n"
     ]
    }
   ],
   "metadata": {}
  },
  {
   "cell_type": "code",
   "execution_count": 11,
   "source": [
    "train_text[0:1], train_label[0:1]"
   ],
   "outputs": [
    {
     "output_type": "execute_result",
     "data": {
      "text/plain": [
       "([['Iinkomba',\n",
       "   'kufanele',\n",
       "   'zifaneleke',\n",
       "   ',',\n",
       "   'zanele',\n",
       "   ',',\n",
       "   'zinqophe',\n",
       "   ',',\n",
       "   'zimedeke',\n",
       "   ',',\n",
       "   'zonge',\n",
       "   'imali',\n",
       "   'begodu',\n",
       "   'zitholakale',\n",
       "   '.']],\n",
       " [['N',\n",
       "   'V',\n",
       "   'V',\n",
       "   'PUNC',\n",
       "   'V',\n",
       "   'PUNC',\n",
       "   'V',\n",
       "   'PUNC',\n",
       "   'V',\n",
       "   'PUNC',\n",
       "   'V',\n",
       "   'N',\n",
       "   'CONJ',\n",
       "   'V',\n",
       "   'PUNC']])"
      ]
     },
     "metadata": {},
     "execution_count": 11
    }
   ],
   "metadata": {}
  },
  {
   "cell_type": "markdown",
   "source": [
    "Convert our UD dataset to NER conllu format and save in 'data' directory:"
   ],
   "metadata": {}
  },
  {
   "cell_type": "code",
   "execution_count": 12,
   "source": [
    "def convert_ner_format(text, label, file):\r\n",
    "    with open(file, 'w') as f:\r\n",
    "        words=0\r\n",
    "        i=0\r\n",
    "        for zip_i in zip(text, label):\r\n",
    "            a, b = tuple(zip_i)\r\n",
    "            for r in range(len(a)):\r\n",
    "                item = a[r]+' '+b[r]\r\n",
    "                f.write(\"%s\\n\" % item)\r\n",
    "                words+=1\r\n",
    "            f.write(\"\\n\")\r\n",
    "            i+=1\r\n",
    "            #if i==3: break\r\n",
    "    print('Sentences:',i,'Words:',words)"
   ],
   "outputs": [],
   "metadata": {}
  },
  {
   "cell_type": "code",
   "execution_count": 13,
   "source": [
    "convert_ner_format(train_text, train_label, 'data/train.txt')\r\n",
    "convert_ner_format(test_text, test_label, 'data/test.txt')\r\n",
    "convert_ner_format(val_text, val_label, 'data/dev.txt')"
   ],
   "outputs": [
    {
     "output_type": "stream",
     "name": "stdout",
     "text": [
      "Sentences: 2338 Words: 37560\n",
      "Sentences: 413 Words: 7103\n",
      "Sentences: 2 Words: 42\n"
     ]
    }
   ],
   "metadata": {}
  },
  {
   "cell_type": "markdown",
   "source": [
    "# Run BERT fine-tuning"
   ],
   "metadata": {}
  },
  {
   "cell_type": "code",
   "execution_count": 14,
   "source": [
    "MAX_SEQUENCE_LENGTH = MAX_SEQUENCE_LENGTH+2 # +2 for [CLS], [SEP] tokens"
   ],
   "outputs": [],
   "metadata": {
    "nbpresent": {
     "id": "62b0877c-64fa-4f42-b18c-2fc0f5989223"
    }
   }
  },
  {
   "cell_type": "code",
   "execution_count": 15,
   "source": [
    "!rm -rf ./output/result_dir/* "
   ],
   "outputs": [
    {
     "output_type": "stream",
     "name": "stderr",
     "text": [
      "'rm' �����ڲ����ⲿ���Ҳ���ǿ����еĳ���\n",
      "���������ļ���\n"
     ]
    }
   ],
   "metadata": {}
  },
  {
   "cell_type": "code",
   "execution_count": 16,
   "source": [
    "%run bert_pos.py \\\r\n",
    "    --data_dir=data \\\r\n",
    "    --task_name=\"POS\" \\\r\n",
    "    --do_lower_case=False \\\r\n",
    "    --crf=False \\\r\n",
    "    --do_train=True \\\r\n",
    "    --do_eval=True \\\r\n",
    "    --do_predict=True  \\\r\n",
    "    --vocab_file=multi_cased_L-12_H-768_A-12/vocab.txt \\\r\n",
    "    --bert_config_file=multi_cased_L-12_H-768_A-12/bert_config.json \\\r\n",
    "    --init_checkpoint=multi_cased_L-12_H-768_A-12/bert_model.ckpt \\\r\n",
    "    --max_seq_length=$MAX_SEQUENCE_LENGTH \\\r\n",
    "    --train_batch_size=16 \\\r\n",
    "    --learning_rate=2e-5 \\\r\n",
    "    --num_train_epochs=4.0 \\\r\n",
    "    --output_dir=./output/result_dir"
   ],
   "outputs": [
    {
     "output_type": "stream",
     "name": "stderr",
     "text": [
      "C:\\Users\\dell\\AppData\\Local\\Programs\\Python\\Python37\\lib\\site-packages\\tensorflow\\python\\framework\\dtypes.py:516: FutureWarning: Passing (type, 1) or '1type' as a synonym of type is deprecated; in a future version of numpy, it will be understood as (type, (1,)) / '(1,)type'.\n",
      "  _np_qint8 = np.dtype([(\"qint8\", np.int8, 1)])\n",
      "C:\\Users\\dell\\AppData\\Local\\Programs\\Python\\Python37\\lib\\site-packages\\tensorflow\\python\\framework\\dtypes.py:517: FutureWarning: Passing (type, 1) or '1type' as a synonym of type is deprecated; in a future version of numpy, it will be understood as (type, (1,)) / '(1,)type'.\n",
      "  _np_quint8 = np.dtype([(\"quint8\", np.uint8, 1)])\n",
      "C:\\Users\\dell\\AppData\\Local\\Programs\\Python\\Python37\\lib\\site-packages\\tensorflow\\python\\framework\\dtypes.py:518: FutureWarning: Passing (type, 1) or '1type' as a synonym of type is deprecated; in a future version of numpy, it will be understood as (type, (1,)) / '(1,)type'.\n",
      "  _np_qint16 = np.dtype([(\"qint16\", np.int16, 1)])\n",
      "C:\\Users\\dell\\AppData\\Local\\Programs\\Python\\Python37\\lib\\site-packages\\tensorflow\\python\\framework\\dtypes.py:519: FutureWarning: Passing (type, 1) or '1type' as a synonym of type is deprecated; in a future version of numpy, it will be understood as (type, (1,)) / '(1,)type'.\n",
      "  _np_quint16 = np.dtype([(\"quint16\", np.uint16, 1)])\n",
      "C:\\Users\\dell\\AppData\\Local\\Programs\\Python\\Python37\\lib\\site-packages\\tensorflow\\python\\framework\\dtypes.py:520: FutureWarning: Passing (type, 1) or '1type' as a synonym of type is deprecated; in a future version of numpy, it will be understood as (type, (1,)) / '(1,)type'.\n",
      "  _np_qint32 = np.dtype([(\"qint32\", np.int32, 1)])\n",
      "C:\\Users\\dell\\AppData\\Local\\Programs\\Python\\Python37\\lib\\site-packages\\tensorflow\\python\\framework\\dtypes.py:525: FutureWarning: Passing (type, 1) or '1type' as a synonym of type is deprecated; in a future version of numpy, it will be understood as (type, (1,)) / '(1,)type'.\n",
      "  np_resource = np.dtype([(\"resource\", np.ubyte, 1)])\n",
      "C:\\Users\\dell\\AppData\\Local\\Programs\\Python\\Python37\\lib\\site-packages\\tensorboard\\compat\\tensorflow_stub\\dtypes.py:541: FutureWarning: Passing (type, 1) or '1type' as a synonym of type is deprecated; in a future version of numpy, it will be understood as (type, (1,)) / '(1,)type'.\n",
      "  _np_qint8 = np.dtype([(\"qint8\", np.int8, 1)])\n",
      "C:\\Users\\dell\\AppData\\Local\\Programs\\Python\\Python37\\lib\\site-packages\\tensorboard\\compat\\tensorflow_stub\\dtypes.py:542: FutureWarning: Passing (type, 1) or '1type' as a synonym of type is deprecated; in a future version of numpy, it will be understood as (type, (1,)) / '(1,)type'.\n",
      "  _np_quint8 = np.dtype([(\"quint8\", np.uint8, 1)])\n",
      "C:\\Users\\dell\\AppData\\Local\\Programs\\Python\\Python37\\lib\\site-packages\\tensorboard\\compat\\tensorflow_stub\\dtypes.py:543: FutureWarning: Passing (type, 1) or '1type' as a synonym of type is deprecated; in a future version of numpy, it will be understood as (type, (1,)) / '(1,)type'.\n",
      "  _np_qint16 = np.dtype([(\"qint16\", np.int16, 1)])\n",
      "C:\\Users\\dell\\AppData\\Local\\Programs\\Python\\Python37\\lib\\site-packages\\tensorboard\\compat\\tensorflow_stub\\dtypes.py:544: FutureWarning: Passing (type, 1) or '1type' as a synonym of type is deprecated; in a future version of numpy, it will be understood as (type, (1,)) / '(1,)type'.\n",
      "  _np_quint16 = np.dtype([(\"quint16\", np.uint16, 1)])\n",
      "C:\\Users\\dell\\AppData\\Local\\Programs\\Python\\Python37\\lib\\site-packages\\tensorboard\\compat\\tensorflow_stub\\dtypes.py:545: FutureWarning: Passing (type, 1) or '1type' as a synonym of type is deprecated; in a future version of numpy, it will be understood as (type, (1,)) / '(1,)type'.\n",
      "  _np_qint32 = np.dtype([(\"qint32\", np.int32, 1)])\n",
      "C:\\Users\\dell\\AppData\\Local\\Programs\\Python\\Python37\\lib\\site-packages\\tensorboard\\compat\\tensorflow_stub\\dtypes.py:550: FutureWarning: Passing (type, 1) or '1type' as a synonym of type is deprecated; in a future version of numpy, it will be understood as (type, (1,)) / '(1,)type'.\n",
      "  np_resource = np.dtype([(\"resource\", np.ubyte, 1)])\n"
     ]
    },
    {
     "output_type": "stream",
     "name": "stdout",
     "text": [
      "WARNING:tensorflow:From c:\\Users\\dell\\Desktop\\nlp\\pos-tagger-bert-tensorflow-master\\bert_pos.py:708: The name tf.app.run is deprecated. Please use tf.compat.v1.app.run instead.\n",
      "\n",
      "WARNING:tensorflow:Estimator's model_fn (<function model_fn_builder.<locals>.model_fn at 0x0000016761F4DF78>) includes params argument, but params are not passed to Estimator.\n"
     ]
    },
    {
     "output_type": "stream",
     "name": "stderr",
     "text": [
      "W0829 21:41:43.554743  6600 estimator.py:1984] Estimator's model_fn (<function model_fn_builder.<locals>.model_fn at 0x0000016761F4DF78>) includes params argument, but params are not passed to Estimator.\n"
     ]
    },
    {
     "output_type": "stream",
     "name": "stdout",
     "text": [
      "INFO:tensorflow:Using config: {'_model_dir': './output/result_dir', '_tf_random_seed': None, '_save_summary_steps': 100, '_save_checkpoints_steps': 1000, '_save_checkpoints_secs': None, '_session_config': allow_soft_placement: true\n",
      "graph_options {\n",
      "  rewrite_options {\n",
      "    meta_optimizer_iterations: ONE\n",
      "  }\n",
      "}\n",
      ", '_keep_checkpoint_max': 5, '_keep_checkpoint_every_n_hours': 10000, '_log_step_count_steps': None, '_train_distribute': None, '_device_fn': None, '_protocol': None, '_eval_distribute': None, '_experimental_distribute': None, '_experimental_max_worker_delay_secs': None, '_service': None, '_cluster_spec': <tensorflow.python.training.server_lib.ClusterSpec object at 0x0000016761E886C8>, '_task_type': 'worker', '_task_id': 0, '_global_id_in_cluster': 0, '_master': '', '_evaluation_master': '', '_is_chief': True, '_num_ps_replicas': 0, '_num_worker_replicas': 1, '_tpu_config': TPUConfig(iterations_per_loop=1000, num_shards=8, num_cores_per_replica=None, per_host_input_for_training=3, tpu_job_name=None, initial_infeed_sleep_secs=None, input_partition_dims=None, eval_training_input_configuration=2), '_cluster': None}\n"
     ]
    },
    {
     "output_type": "stream",
     "name": "stderr",
     "text": [
      "I0829 21:41:43.560740  6600 estimator.py:209] Using config: {'_model_dir': './output/result_dir', '_tf_random_seed': None, '_save_summary_steps': 100, '_save_checkpoints_steps': 1000, '_save_checkpoints_secs': None, '_session_config': allow_soft_placement: true\n",
      "graph_options {\n",
      "  rewrite_options {\n",
      "    meta_optimizer_iterations: ONE\n",
      "  }\n",
      "}\n",
      ", '_keep_checkpoint_max': 5, '_keep_checkpoint_every_n_hours': 10000, '_log_step_count_steps': None, '_train_distribute': None, '_device_fn': None, '_protocol': None, '_eval_distribute': None, '_experimental_distribute': None, '_experimental_max_worker_delay_secs': None, '_service': None, '_cluster_spec': <tensorflow.python.training.server_lib.ClusterSpec object at 0x0000016761E886C8>, '_task_type': 'worker', '_task_id': 0, '_global_id_in_cluster': 0, '_master': '', '_evaluation_master': '', '_is_chief': True, '_num_ps_replicas': 0, '_num_worker_replicas': 1, '_tpu_config': TPUConfig(iterations_per_loop=1000, num_shards=8, num_cores_per_replica=None, per_host_input_for_training=3, tpu_job_name=None, initial_infeed_sleep_secs=None, input_partition_dims=None, eval_training_input_configuration=2), '_cluster': None}\n"
     ]
    },
    {
     "output_type": "stream",
     "name": "stdout",
     "text": [
      "INFO:tensorflow:_TPUContext: eval_on_tpu True\n"
     ]
    },
    {
     "output_type": "stream",
     "name": "stderr",
     "text": [
      "I0829 21:41:43.566746  6600 tpu_context.py:209] _TPUContext: eval_on_tpu True\n"
     ]
    },
    {
     "output_type": "stream",
     "name": "stdout",
     "text": [
      "WARNING:tensorflow:eval_on_tpu ignored because use_tpu is False.\n"
     ]
    },
    {
     "output_type": "stream",
     "name": "stderr",
     "text": [
      "W0829 21:41:43.573743  6600 tpu_context.py:211] eval_on_tpu ignored because use_tpu is False.\n"
     ]
    },
    {
     "output_type": "stream",
     "name": "stdout",
     "text": [
      "WARNING:tensorflow:From c:\\Users\\dell\\Desktop\\nlp\\pos-tagger-bert-tensorflow-master\\bert_pos.py:329: The name tf.python_io.TFRecordWriter is deprecated. Please use tf.io.TFRecordWriter instead.\n",
      "\n"
     ]
    },
    {
     "output_type": "stream",
     "name": "stderr",
     "text": [
      "W0829 21:41:43.577742  6600 deprecation_wrapper.py:119] From c:\\Users\\dell\\Desktop\\nlp\\pos-tagger-bert-tensorflow-master\\bert_pos.py:329: The name tf.python_io.TFRecordWriter is deprecated. Please use tf.io.TFRecordWriter instead.\n",
      "\n",
      "I0829 21:41:43.589744  6600 bert_pos.py:334] Writing example 0 of 2338\n",
      "I0829 21:41:43.605747  6600 bert_pos.py:311] *** Example ***\n",
      "I0829 21:41:43.607743  6600 bert_pos.py:312] guid: train-0\n",
      "I0829 21:41:43.608744  6600 bert_pos.py:314] tokens: I ##inko ##mba ku ##fan ##ele zif ##ane ##lek ##e , za ##nele , zin ##q ##op ##he , zi ##mede ##ke , zon ##ge imali be ##go ##du zit ##hola ##kale .\n",
      "I0829 21:41:43.610744  6600 bert_pos.py:315] input_ids: 101 146 107113 17714 15694 24049 12739 14663 12822 26776 10112 117 10339 106261 117 99830 11703 13362 11643 117 57087 59268 10550 117 80973 10525 52488 10347 10797 11460 84265 95912 60526 119 0 0 0 0 0 0 0 0 0 0 0 0 0 0 0 0 0 0 0 0 0 0 0 0 0 0 0 0 0 0 0 0 0 0 0 0 0 0 0 0 0 0 0 0 0 0 0 0 0 0 0 0 0 0 0 0 0 0 0 0 0 0 0 0 0 0 0 0 0 0 0\n",
      "I0829 21:41:43.611744  6600 bert_pos.py:316] input_mask: 1 1 1 1 1 1 1 1 1 1 1 1 1 1 1 1 1 1 1 1 1 1 1 1 1 1 1 1 1 1 1 1 1 1 0 0 0 0 0 0 0 0 0 0 0 0 0 0 0 0 0 0 0 0 0 0 0 0 0 0 0 0 0 0 0 0 0 0 0 0 0 0 0 0 0 0 0 0 0 0 0 0 0 0 0 0 0 0 0 0 0 0 0 0 0 0 0 0 0 0 0 0 0 0 0\n",
      "I0829 21:41:43.613744  6600 bert_pos.py:317] segment_ids: 0 0 0 0 0 0 0 0 0 0 0 0 0 0 0 0 0 0 0 0 0 0 0 0 0 0 0 0 0 0 0 0 0 0 0 0 0 0 0 0 0 0 0 0 0 0 0 0 0 0 0 0 0 0 0 0 0 0 0 0 0 0 0 0 0 0 0 0 0 0 0 0 0 0 0 0 0 0 0 0 0 0 0 0 0 0 0 0 0 0 0 0 0 0 0 0 0 0 0 0 0 0 0 0 0\n",
      "I0829 21:41:43.619745  6600 bert_pos.py:318] label_ids: 18 10 17 17 16 17 17 16 17 17 17 14 16 17 14 16 17 17 17 14 16 17 17 14 16 17 10 5 17 17 16 17 17 14 0 0 0 0 0 0 0 0 0 0 0 0 0 0 0 0 0 0 0 0 0 0 0 0 0 0 0 0 0 0 0 0 0 0 0 0 0 0 0 0 0 0 0 0 0 0 0 0 0 0 0 0 0 0 0 0 0 0 0 0 0 0 0 0 0 0 0 0 0 0 0\n",
      "I0829 21:41:43.630743  6600 bert_pos.py:311] *** Example ***\n",
      "I0829 21:41:43.642743  6600 bert_pos.py:312] guid: train-1\n",
      "I0829 21:41:43.645747  6600 bert_pos.py:314] tokens: In ##dim ##a ed ##lal ##wa yi - CD ##M may ##ela ##na nok ##uh ##lal ##isa ku ##hle kwa ##bom ##asi ##pala be ##kha ##ya may ##ela ##na ne - HIV / AIDS .\n",
      "I0829 21:41:43.652742  6600 bert_pos.py:315] input_ids: 101 10167 45094 10113 10539 29267 11037 44418 118 11646 11517 11387 15108 10219 41376 18593 29267 19403 15694 41058 14266 52043 15525 70272 10347 77639 10679 11387 15108 10219 10554 118 30855 120 36119 119 0 0 0 0 0 0 0 0 0 0 0 0 0 0 0 0 0 0 0 0 0 0 0 0 0 0 0 0 0 0 0 0 0 0 0 0 0 0 0 0 0 0 0 0 0 0 0 0 0 0 0 0 0 0 0 0 0 0 0 0 0 0 0 0 0 0 0 0 0\n",
      "I0829 21:41:43.654745  6600 bert_pos.py:316] input_mask: 1 1 1 1 1 1 1 1 1 1 1 1 1 1 1 1 1 1 1 1 1 1 1 1 1 1 1 1 1 1 1 1 1 1 1 1 0 0 0 0 0 0 0 0 0 0 0 0 0 0 0 0 0 0 0 0 0 0 0 0 0 0 0 0 0 0 0 0 0 0 0 0 0 0 0 0 0 0 0 0 0 0 0 0 0 0 0 0 0 0 0 0 0 0 0 0 0 0 0 0 0 0 0 0 0\n",
      "I0829 21:41:43.656745  6600 bert_pos.py:317] segment_ids: 0 0 0 0 0 0 0 0 0 0 0 0 0 0 0 0 0 0 0 0 0 0 0 0 0 0 0 0 0 0 0 0 0 0 0 0 0 0 0 0 0 0 0 0 0 0 0 0 0 0 0 0 0 0 0 0 0 0 0 0 0 0 0 0 0 0 0 0 0 0 0 0 0 0 0 0 0 0 0 0 0 0 0 0 0 0 0 0 0 0 0 0 0 0 0 0 0 0 0 0 0 0 0 0 0\n",
      "I0829 21:41:43.658743  6600 bert_pos.py:318] label_ids: 18 10 17 17 15 17 17 6 17 17 17 10 17 17 3 17 17 17 2 17 12 17 17 17 6 17 17 10 17 17 3 17 17 14 1 14 0 0 0 0 0 0 0 0 0 0 0 0 0 0 0 0 0 0 0 0 0 0 0 0 0 0 0 0 0 0 0 0 0 0 0 0 0 0 0 0 0 0 0 0 0 0 0 0 0 0 0 0 0 0 0 0 0 0 0 0 0 0 0 0 0 0 0 0 0\n",
      "I0829 21:41:43.670758  6600 bert_pos.py:311] *** Example ***\n",
      "I0829 21:41:43.677767  6600 bert_pos.py:312] guid: train-2\n",
      "I0829 21:41:43.680745  6600 bert_pos.py:314] tokens: U ##ku ##hla ##ngan ##yel ##a kwa ##bab ##am ##bis ##ani kus ##it ##j ##hi ##jil ##o ku ##masi ##pala , ku ##mak ##han ##sel ##a wa ##ma ##wad ##i nak ##uma ##K ##omi ##di wa ##ma ##W ##adi .\n",
      "I0829 21:41:43.691781  6600 bert_pos.py:315] input_ids: 101 158 10853 74935 15728 106604 10113 14266 51382 11008 24345 14013 23011 10486 10418 11924 45816 10133 15694 67448 70272 117 15694 23892 11781 12912 10113 11471 10369 87051 10116 82035 16746 11733 32013 10703 11471 10369 13034 18974 119 0 0 0 0 0 0 0 0 0 0 0 0 0 0 0 0 0 0 0 0 0 0 0 0 0 0 0 0 0 0 0 0 0 0 0 0 0 0 0 0 0 0 0 0 0 0 0 0 0 0 0 0 0 0 0 0 0 0 0 0 0 0 0 0\n",
      "I0829 21:41:43.696777  6600 bert_pos.py:316] input_mask: 1 1 1 1 1 1 1 1 1 1 1 1 1 1 1 1 1 1 1 1 1 1 1 1 1 1 1 1 1 1 1 1 1 1 1 1 1 1 1 1 1 0 0 0 0 0 0 0 0 0 0 0 0 0 0 0 0 0 0 0 0 0 0 0 0 0 0 0 0 0 0 0 0 0 0 0 0 0 0 0 0 0 0 0 0 0 0 0 0 0 0 0 0 0 0 0 0 0 0 0 0 0 0 0 0\n",
      "I0829 21:41:43.700744  6600 bert_pos.py:317] segment_ids: 0 0 0 0 0 0 0 0 0 0 0 0 0 0 0 0 0 0 0 0 0 0 0 0 0 0 0 0 0 0 0 0 0 0 0 0 0 0 0 0 0 0 0 0 0 0 0 0 0 0 0 0 0 0 0 0 0 0 0 0 0 0 0 0 0 0 0 0 0 0 0 0 0 0 0 0 0 0 0 0 0 0 0 0 0 0 0 0 0 0 0 0 0 0 0 0 0 0 0 0 0 0 0 0 0\n",
      "I0829 21:41:43.702742  6600 bert_pos.py:318] label_ids: 18 10 17 17 17 17 17 12 17 17 17 17 10 17 17 17 17 17 10 17 17 14 10 17 17 17 17 12 17 17 17 3 17 17 17 17 12 17 17 17 14 0 0 0 0 0 0 0 0 0 0 0 0 0 0 0 0 0 0 0 0 0 0 0 0 0 0 0 0 0 0 0 0 0 0 0 0 0 0 0 0 0 0 0 0 0 0 0 0 0 0 0 0 0 0 0 0 0 0 0 0 0 0 0 0\n",
      "I0829 21:41:52.132193  6600 bert_pos.py:626] ***** Running training *****\n",
      "I0829 21:41:52.134193  6600 bert_pos.py:627]   Num examples = 2338\n",
      "I0829 21:41:52.137192  6600 bert_pos.py:628]   Batch size = 16\n",
      "I0829 21:41:52.138196  6600 bert_pos.py:629]   Num steps = 584\n"
     ]
    },
    {
     "output_type": "stream",
     "name": "stdout",
     "text": [
      "WARNING:tensorflow:From c:\\Users\\dell\\Desktop\\nlp\\pos-tagger-bert-tensorflow-master\\bert_pos.py:355: The name tf.FixedLenFeature is deprecated. Please use tf.io.FixedLenFeature instead.\n",
      "\n"
     ]
    },
    {
     "output_type": "stream",
     "name": "stderr",
     "text": [
      "W0829 21:41:52.142196  6600 deprecation_wrapper.py:119] From c:\\Users\\dell\\Desktop\\nlp\\pos-tagger-bert-tensorflow-master\\bert_pos.py:355: The name tf.FixedLenFeature is deprecated. Please use tf.io.FixedLenFeature instead.\n",
      "\n"
     ]
    },
    {
     "output_type": "stream",
     "name": "stdout",
     "text": [
      "WARNING:tensorflow:From C:\\Users\\dell\\AppData\\Local\\Programs\\Python\\Python37\\lib\\site-packages\\tensorflow\\python\\training\\training_util.py:236: Variable.initialized_value (from tensorflow.python.ops.variables) is deprecated and will be removed in a future version.\n",
      "Instructions for updating:\n",
      "Use Variable.read_value. Variables in 2.X are initialized automatically both in eager and graph (inside tf.defun) contexts.\n"
     ]
    },
    {
     "output_type": "stream",
     "name": "stderr",
     "text": [
      "W0829 21:41:52.231196  6600 deprecation.py:323] From C:\\Users\\dell\\AppData\\Local\\Programs\\Python\\Python37\\lib\\site-packages\\tensorflow\\python\\training\\training_util.py:236: Variable.initialized_value (from tensorflow.python.ops.variables) is deprecated and will be removed in a future version.\n",
      "Instructions for updating:\n",
      "Use Variable.read_value. Variables in 2.X are initialized automatically both in eager and graph (inside tf.defun) contexts.\n"
     ]
    },
    {
     "output_type": "stream",
     "name": "stdout",
     "text": [
      "WARNING:tensorflow:From c:\\Users\\dell\\Desktop\\nlp\\pos-tagger-bert-tensorflow-master\\bert_pos.py:379: map_and_batch (from tensorflow.python.data.experimental.ops.batching) is deprecated and will be removed in a future version.\n",
      "Instructions for updating:\n",
      "Use `tf.data.Dataset.map(map_func, num_parallel_calls)` followed by `tf.data.Dataset.batch(batch_size, drop_remainder)`. Static tf.data optimizations will take care of using the fused implementation.\n"
     ]
    },
    {
     "output_type": "stream",
     "name": "stderr",
     "text": [
      "W0829 21:41:52.416421  6600 deprecation.py:323] From c:\\Users\\dell\\Desktop\\nlp\\pos-tagger-bert-tensorflow-master\\bert_pos.py:379: map_and_batch (from tensorflow.python.data.experimental.ops.batching) is deprecated and will be removed in a future version.\n",
      "Instructions for updating:\n",
      "Use `tf.data.Dataset.map(map_func, num_parallel_calls)` followed by `tf.data.Dataset.batch(batch_size, drop_remainder)`. Static tf.data optimizations will take care of using the fused implementation.\n"
     ]
    },
    {
     "output_type": "stream",
     "name": "stdout",
     "text": [
      "WARNING:tensorflow:From c:\\Users\\dell\\Desktop\\nlp\\pos-tagger-bert-tensorflow-master\\bert_pos.py:362: The name tf.parse_single_example is deprecated. Please use tf.io.parse_single_example instead.\n",
      "\n"
     ]
    },
    {
     "output_type": "stream",
     "name": "stderr",
     "text": [
      "W0829 21:41:52.446891  6600 deprecation_wrapper.py:119] From c:\\Users\\dell\\Desktop\\nlp\\pos-tagger-bert-tensorflow-master\\bert_pos.py:362: The name tf.parse_single_example is deprecated. Please use tf.io.parse_single_example instead.\n",
      "\n"
     ]
    },
    {
     "output_type": "stream",
     "name": "stdout",
     "text": [
      "WARNING:tensorflow:From c:\\Users\\dell\\Desktop\\nlp\\pos-tagger-bert-tensorflow-master\\bert_pos.py:366: to_int32 (from tensorflow.python.ops.math_ops) is deprecated and will be removed in a future version.\n",
      "Instructions for updating:\n",
      "Use `tf.cast` instead.\n"
     ]
    },
    {
     "output_type": "stream",
     "name": "stderr",
     "text": [
      "W0829 21:41:52.469892  6600 deprecation.py:323] From c:\\Users\\dell\\Desktop\\nlp\\pos-tagger-bert-tensorflow-master\\bert_pos.py:366: to_int32 (from tensorflow.python.ops.math_ops) is deprecated and will be removed in a future version.\n",
      "Instructions for updating:\n",
      "Use `tf.cast` instead.\n"
     ]
    },
    {
     "output_type": "stream",
     "name": "stdout",
     "text": [
      "INFO:tensorflow:Calling model_fn.\n"
     ]
    },
    {
     "output_type": "stream",
     "name": "stderr",
     "text": [
      "I0829 21:41:52.570822  6600 estimator.py:1145] Calling model_fn.\n"
     ]
    },
    {
     "output_type": "stream",
     "name": "stdout",
     "text": [
      "INFO:tensorflow:Running train on CPU\n"
     ]
    },
    {
     "output_type": "stream",
     "name": "stderr",
     "text": [
      "I0829 21:41:52.597173  6600 tpu_estimator.py:2965] Running train on CPU\n",
      "I0829 21:41:52.600169  6600 bert_pos.py:461] *** Features ***\n",
      "I0829 21:41:52.604174  6600 bert_pos.py:463]   name = input_ids, shape = (16, 105)\n",
      "I0829 21:41:52.615203  6600 bert_pos.py:463]   name = label_ids, shape = (16, 105)\n",
      "I0829 21:41:52.630018  6600 bert_pos.py:463]   name = mask, shape = (16, 105)\n",
      "I0829 21:41:52.631018  6600 bert_pos.py:463]   name = segment_ids, shape = (16, 105)\n"
     ]
    },
    {
     "output_type": "stream",
     "name": "stdout",
     "text": [
      "WARNING:tensorflow:From C:\\Users\\dell\\AppData\\Local\\Programs\\Python\\Python37\\lib\\site-packages\\bert\\modeling.py:233: dense (from tensorflow.python.layers.core) is deprecated and will be removed in a future version.\n",
      "Instructions for updating:\n",
      "Use keras.layers.dense instead.\n"
     ]
    },
    {
     "output_type": "stream",
     "name": "stderr",
     "text": [
      "W0829 21:42:01.052000  6600 deprecation.py:323] From C:\\Users\\dell\\AppData\\Local\\Programs\\Python\\Python37\\lib\\site-packages\\bert\\modeling.py:233: dense (from tensorflow.python.layers.core) is deprecated and will be removed in a future version.\n",
      "Instructions for updating:\n",
      "Use keras.layers.dense instead.\n"
     ]
    },
    {
     "output_type": "stream",
     "name": "stdout",
     "text": [
      "WARNING:tensorflow:Entity <bound method Dense.call of <tensorflow.python.layers.core.Dense object at 0x0000016762E12B08>> could not be transformed and will be executed as-is. Please report this to the AutgoGraph team. When filing the bug, set the verbosity to 10 (on Linux, `export AUTOGRAPH_VERBOSITY=10`) and attach the full output. Cause: converting <bound method Dense.call of <tensorflow.python.layers.core.Dense object at 0x0000016762E12B08>>: AttributeError: module 'gast' has no attribute 'Index'\n"
     ]
    },
    {
     "output_type": "stream",
     "name": "stderr",
     "text": [
      "W0829 21:42:01.143998  6600 ag_logging.py:145] Entity <bound method Dense.call of <tensorflow.python.layers.core.Dense object at 0x0000016762E12B08>> could not be transformed and will be executed as-is. Please report this to the AutgoGraph team. When filing the bug, set the verbosity to 10 (on Linux, `export AUTOGRAPH_VERBOSITY=10`) and attach the full output. Cause: converting <bound method Dense.call of <tensorflow.python.layers.core.Dense object at 0x0000016762E12B08>>: AttributeError: module 'gast' has no attribute 'Index'\n"
     ]
    },
    {
     "output_type": "stream",
     "name": "stdout",
     "text": [
      "WARNING: Entity <bound method Dense.call of <tensorflow.python.layers.core.Dense object at 0x0000016762E12B08>> could not be transformed and will be executed as-is. Please report this to the AutgoGraph team. When filing the bug, set the verbosity to 10 (on Linux, `export AUTOGRAPH_VERBOSITY=10`) and attach the full output. Cause: converting <bound method Dense.call of <tensorflow.python.layers.core.Dense object at 0x0000016762E12B08>>: AttributeError: module 'gast' has no attribute 'Index'\n",
      "WARNING:tensorflow:From C:\\Users\\dell\\AppData\\Local\\Programs\\Python\\Python37\\lib\\site-packages\\tensorflow\\python\\ops\\init_ops.py:1251: calling VarianceScaling.__init__ (from tensorflow.python.ops.init_ops) with dtype is deprecated and will be removed in a future version.\n",
      "Instructions for updating:\n",
      "Call initializer instance with the dtype argument instead of passing it to the constructor\n"
     ]
    },
    {
     "output_type": "stream",
     "name": "stderr",
     "text": [
      "W0829 21:42:01.293002  6600 deprecation.py:506] From C:\\Users\\dell\\AppData\\Local\\Programs\\Python\\Python37\\lib\\site-packages\\tensorflow\\python\\ops\\init_ops.py:1251: calling VarianceScaling.__init__ (from tensorflow.python.ops.init_ops) with dtype is deprecated and will be removed in a future version.\n",
      "Instructions for updating:\n",
      "Call initializer instance with the dtype argument instead of passing it to the constructor\n"
     ]
    },
    {
     "output_type": "stream",
     "name": "stdout",
     "text": [
      "WARNING:tensorflow:From c:\\Users\\dell\\Desktop\\nlp\\pos-tagger-bert-tensorflow-master\\bert_pos.py:399: The name tf.variable_scope is deprecated. Please use tf.compat.v1.variable_scope instead.\n",
      "\n"
     ]
    },
    {
     "output_type": "stream",
     "name": "stderr",
     "text": [
      "W0829 21:42:01.459725  6600 deprecation_wrapper.py:119] From c:\\Users\\dell\\Desktop\\nlp\\pos-tagger-bert-tensorflow-master\\bert_pos.py:399: The name tf.variable_scope is deprecated. Please use tf.compat.v1.variable_scope instead.\n",
      "\n"
     ]
    },
    {
     "output_type": "stream",
     "name": "stdout",
     "text": [
      "WARNING:tensorflow:From c:\\Users\\dell\\Desktop\\nlp\\pos-tagger-bert-tensorflow-master\\bert_pos.py:400: The name tf.get_variable is deprecated. Please use tf.compat.v1.get_variable instead.\n",
      "\n"
     ]
    },
    {
     "output_type": "stream",
     "name": "stderr",
     "text": [
      "W0829 21:42:01.466732  6600 deprecation_wrapper.py:119] From c:\\Users\\dell\\Desktop\\nlp\\pos-tagger-bert-tensorflow-master\\bert_pos.py:400: The name tf.get_variable is deprecated. Please use tf.compat.v1.get_variable instead.\n",
      "\n"
     ]
    },
    {
     "output_type": "stream",
     "name": "stdout",
     "text": [
      "WARNING:tensorflow:From C:\\Users\\dell\\AppData\\Local\\Programs\\Python\\Python37\\lib\\site-packages\\tensorflow\\contrib\\crf\\python\\ops\\crf.py:213: dynamic_rnn (from tensorflow.python.ops.rnn) is deprecated and will be removed in a future version.\n",
      "Instructions for updating:\n",
      "Please use `keras.layers.RNN(cell)`, which is equivalent to this API\n"
     ]
    },
    {
     "output_type": "stream",
     "name": "stderr",
     "text": [
      "W0829 21:42:02.040220  6600 deprecation.py:323] From C:\\Users\\dell\\AppData\\Local\\Programs\\Python\\Python37\\lib\\site-packages\\tensorflow\\contrib\\crf\\python\\ops\\crf.py:213: dynamic_rnn (from tensorflow.python.ops.rnn) is deprecated and will be removed in a future version.\n",
      "Instructions for updating:\n",
      "Please use `keras.layers.RNN(cell)`, which is equivalent to this API\n"
     ]
    },
    {
     "output_type": "stream",
     "name": "stdout",
     "text": [
      "WARNING:tensorflow:From C:\\Users\\dell\\AppData\\Local\\Programs\\Python\\Python37\\lib\\site-packages\\tensorflow\\python\\ops\\math_ops.py:2403: add_dispatch_support.<locals>.wrapper (from tensorflow.python.ops.array_ops) is deprecated and will be removed in a future version.\n",
      "Instructions for updating:\n",
      "Use tf.where in 2.0, which has the same broadcast rule as np.where\n"
     ]
    },
    {
     "output_type": "stream",
     "name": "stderr",
     "text": [
      "W0829 21:42:02.418457  6600 deprecation.py:323] From C:\\Users\\dell\\AppData\\Local\\Programs\\Python\\Python37\\lib\\site-packages\\tensorflow\\python\\ops\\math_ops.py:2403: add_dispatch_support.<locals>.wrapper (from tensorflow.python.ops.array_ops) is deprecated and will be removed in a future version.\n",
      "Instructions for updating:\n",
      "Use tf.where in 2.0, which has the same broadcast rule as np.where\n"
     ]
    },
    {
     "output_type": "stream",
     "name": "stdout",
     "text": [
      "WARNING:tensorflow:From c:\\Users\\dell\\Desktop\\nlp\\pos-tagger-bert-tensorflow-master\\bert_pos.py:478: The name tf.trainable_variables is deprecated. Please use tf.compat.v1.trainable_variables instead.\n",
      "\n"
     ]
    },
    {
     "output_type": "stream",
     "name": "stderr",
     "text": [
      "W0829 21:42:03.254889  6600 deprecation_wrapper.py:119] From c:\\Users\\dell\\Desktop\\nlp\\pos-tagger-bert-tensorflow-master\\bert_pos.py:478: The name tf.trainable_variables is deprecated. Please use tf.compat.v1.trainable_variables instead.\n",
      "\n"
     ]
    },
    {
     "output_type": "stream",
     "name": "stdout",
     "text": [
      "WARNING:tensorflow:From c:\\Users\\dell\\Desktop\\nlp\\pos-tagger-bert-tensorflow-master\\bert_pos.py:483: The name tf.train.init_from_checkpoint is deprecated. Please use tf.compat.v1.train.init_from_checkpoint instead.\n",
      "\n"
     ]
    },
    {
     "output_type": "stream",
     "name": "stderr",
     "text": [
      "W0829 21:42:03.275893  6600 deprecation_wrapper.py:119] From c:\\Users\\dell\\Desktop\\nlp\\pos-tagger-bert-tensorflow-master\\bert_pos.py:483: The name tf.train.init_from_checkpoint is deprecated. Please use tf.compat.v1.train.init_from_checkpoint instead.\n",
      "\n",
      "I0829 21:42:06.204654  6600 bert_pos.py:492] **** Trainable Variables ****\n",
      "I0829 21:42:06.206655  6600 bert_pos.py:498]   name = bert/embeddings/word_embeddings:0, shape = (119547, 768), *INIT_FROM_CKPT*\n",
      "I0829 21:42:06.211654  6600 bert_pos.py:498]   name = bert/embeddings/token_type_embeddings:0, shape = (2, 768), *INIT_FROM_CKPT*\n",
      "I0829 21:42:06.214654  6600 bert_pos.py:498]   name = bert/embeddings/position_embeddings:0, shape = (512, 768), *INIT_FROM_CKPT*\n",
      "I0829 21:42:06.217655  6600 bert_pos.py:498]   name = bert/embeddings/LayerNorm/beta:0, shape = (768,), *INIT_FROM_CKPT*\n",
      "I0829 21:42:06.219656  6600 bert_pos.py:498]   name = bert/embeddings/LayerNorm/gamma:0, shape = (768,), *INIT_FROM_CKPT*\n",
      "I0829 21:42:06.222652  6600 bert_pos.py:498]   name = bert/encoder/layer_0/attention/self/query/kernel:0, shape = (768, 768), *INIT_FROM_CKPT*\n",
      "I0829 21:42:06.228656  6600 bert_pos.py:498]   name = bert/encoder/layer_0/attention/self/query/bias:0, shape = (768,), *INIT_FROM_CKPT*\n",
      "I0829 21:42:06.230653  6600 bert_pos.py:498]   name = bert/encoder/layer_0/attention/self/key/kernel:0, shape = (768, 768), *INIT_FROM_CKPT*\n",
      "I0829 21:42:06.231657  6600 bert_pos.py:498]   name = bert/encoder/layer_0/attention/self/key/bias:0, shape = (768,), *INIT_FROM_CKPT*\n",
      "I0829 21:42:06.233653  6600 bert_pos.py:498]   name = bert/encoder/layer_0/attention/self/value/kernel:0, shape = (768, 768), *INIT_FROM_CKPT*\n",
      "I0829 21:42:06.234654  6600 bert_pos.py:498]   name = bert/encoder/layer_0/attention/self/value/bias:0, shape = (768,), *INIT_FROM_CKPT*\n",
      "I0829 21:42:06.236653  6600 bert_pos.py:498]   name = bert/encoder/layer_0/attention/output/dense/kernel:0, shape = (768, 768), *INIT_FROM_CKPT*\n",
      "I0829 21:42:06.238656  6600 bert_pos.py:498]   name = bert/encoder/layer_0/attention/output/dense/bias:0, shape = (768,), *INIT_FROM_CKPT*\n",
      "I0829 21:42:06.243656  6600 bert_pos.py:498]   name = bert/encoder/layer_0/attention/output/LayerNorm/beta:0, shape = (768,), *INIT_FROM_CKPT*\n",
      "I0829 21:42:06.245653  6600 bert_pos.py:498]   name = bert/encoder/layer_0/attention/output/LayerNorm/gamma:0, shape = (768,), *INIT_FROM_CKPT*\n",
      "I0829 21:42:06.247655  6600 bert_pos.py:498]   name = bert/encoder/layer_0/intermediate/dense/kernel:0, shape = (768, 3072), *INIT_FROM_CKPT*\n",
      "I0829 21:42:06.251655  6600 bert_pos.py:498]   name = bert/encoder/layer_0/intermediate/dense/bias:0, shape = (3072,), *INIT_FROM_CKPT*\n",
      "I0829 21:42:06.253655  6600 bert_pos.py:498]   name = bert/encoder/layer_0/output/dense/kernel:0, shape = (3072, 768), *INIT_FROM_CKPT*\n",
      "I0829 21:42:06.255655  6600 bert_pos.py:498]   name = bert/encoder/layer_0/output/dense/bias:0, shape = (768,), *INIT_FROM_CKPT*\n",
      "I0829 21:42:06.259656  6600 bert_pos.py:498]   name = bert/encoder/layer_0/output/LayerNorm/beta:0, shape = (768,), *INIT_FROM_CKPT*\n",
      "I0829 21:42:06.261654  6600 bert_pos.py:498]   name = bert/encoder/layer_0/output/LayerNorm/gamma:0, shape = (768,), *INIT_FROM_CKPT*\n",
      "I0829 21:42:06.262654  6600 bert_pos.py:498]   name = bert/encoder/layer_1/attention/self/query/kernel:0, shape = (768, 768), *INIT_FROM_CKPT*\n",
      "I0829 21:42:06.264656  6600 bert_pos.py:498]   name = bert/encoder/layer_1/attention/self/query/bias:0, shape = (768,), *INIT_FROM_CKPT*\n",
      "I0829 21:42:06.265652  6600 bert_pos.py:498]   name = bert/encoder/layer_1/attention/self/key/kernel:0, shape = (768, 768), *INIT_FROM_CKPT*\n",
      "I0829 21:42:06.276653  6600 bert_pos.py:498]   name = bert/encoder/layer_1/attention/self/key/bias:0, shape = (768,), *INIT_FROM_CKPT*\n",
      "I0829 21:42:06.281654  6600 bert_pos.py:498]   name = bert/encoder/layer_1/attention/self/value/kernel:0, shape = (768, 768), *INIT_FROM_CKPT*\n",
      "I0829 21:42:06.283655  6600 bert_pos.py:498]   name = bert/encoder/layer_1/attention/self/value/bias:0, shape = (768,), *INIT_FROM_CKPT*\n",
      "I0829 21:42:06.286654  6600 bert_pos.py:498]   name = bert/encoder/layer_1/attention/output/dense/kernel:0, shape = (768, 768), *INIT_FROM_CKPT*\n",
      "I0829 21:42:06.291657  6600 bert_pos.py:498]   name = bert/encoder/layer_1/attention/output/dense/bias:0, shape = (768,), *INIT_FROM_CKPT*\n",
      "I0829 21:42:06.293657  6600 bert_pos.py:498]   name = bert/encoder/layer_1/attention/output/LayerNorm/beta:0, shape = (768,), *INIT_FROM_CKPT*\n",
      "I0829 21:42:06.297655  6600 bert_pos.py:498]   name = bert/encoder/layer_1/attention/output/LayerNorm/gamma:0, shape = (768,), *INIT_FROM_CKPT*\n",
      "I0829 21:42:06.299655  6600 bert_pos.py:498]   name = bert/encoder/layer_1/intermediate/dense/kernel:0, shape = (768, 3072), *INIT_FROM_CKPT*\n",
      "I0829 21:42:06.301656  6600 bert_pos.py:498]   name = bert/encoder/layer_1/intermediate/dense/bias:0, shape = (3072,), *INIT_FROM_CKPT*\n",
      "I0829 21:42:06.304657  6600 bert_pos.py:498]   name = bert/encoder/layer_1/output/dense/kernel:0, shape = (3072, 768), *INIT_FROM_CKPT*\n",
      "I0829 21:42:06.308657  6600 bert_pos.py:498]   name = bert/encoder/layer_1/output/dense/bias:0, shape = (768,), *INIT_FROM_CKPT*\n",
      "I0829 21:42:06.311654  6600 bert_pos.py:498]   name = bert/encoder/layer_1/output/LayerNorm/beta:0, shape = (768,), *INIT_FROM_CKPT*\n",
      "I0829 21:42:06.313657  6600 bert_pos.py:498]   name = bert/encoder/layer_1/output/LayerNorm/gamma:0, shape = (768,), *INIT_FROM_CKPT*\n",
      "I0829 21:42:06.319655  6600 bert_pos.py:498]   name = bert/encoder/layer_2/attention/self/query/kernel:0, shape = (768, 768), *INIT_FROM_CKPT*\n",
      "I0829 21:42:06.338659  6600 bert_pos.py:498]   name = bert/encoder/layer_2/attention/self/query/bias:0, shape = (768,), *INIT_FROM_CKPT*\n",
      "I0829 21:42:06.348653  6600 bert_pos.py:498]   name = bert/encoder/layer_2/attention/self/key/kernel:0, shape = (768, 768), *INIT_FROM_CKPT*\n",
      "I0829 21:42:06.350653  6600 bert_pos.py:498]   name = bert/encoder/layer_2/attention/self/key/bias:0, shape = (768,), *INIT_FROM_CKPT*\n",
      "I0829 21:42:06.354655  6600 bert_pos.py:498]   name = bert/encoder/layer_2/attention/self/value/kernel:0, shape = (768, 768), *INIT_FROM_CKPT*\n",
      "I0829 21:42:06.360656  6600 bert_pos.py:498]   name = bert/encoder/layer_2/attention/self/value/bias:0, shape = (768,), *INIT_FROM_CKPT*\n",
      "I0829 21:42:06.362654  6600 bert_pos.py:498]   name = bert/encoder/layer_2/attention/output/dense/kernel:0, shape = (768, 768), *INIT_FROM_CKPT*\n",
      "I0829 21:42:06.364654  6600 bert_pos.py:498]   name = bert/encoder/layer_2/attention/output/dense/bias:0, shape = (768,), *INIT_FROM_CKPT*\n",
      "I0829 21:42:06.367655  6600 bert_pos.py:498]   name = bert/encoder/layer_2/attention/output/LayerNorm/beta:0, shape = (768,), *INIT_FROM_CKPT*\n",
      "I0829 21:42:06.369656  6600 bert_pos.py:498]   name = bert/encoder/layer_2/attention/output/LayerNorm/gamma:0, shape = (768,), *INIT_FROM_CKPT*\n",
      "I0829 21:42:06.371654  6600 bert_pos.py:498]   name = bert/encoder/layer_2/intermediate/dense/kernel:0, shape = (768, 3072), *INIT_FROM_CKPT*\n",
      "I0829 21:42:06.374691  6600 bert_pos.py:498]   name = bert/encoder/layer_2/intermediate/dense/bias:0, shape = (3072,), *INIT_FROM_CKPT*\n",
      "I0829 21:42:06.380956  6600 bert_pos.py:498]   name = bert/encoder/layer_2/output/dense/kernel:0, shape = (3072, 768), *INIT_FROM_CKPT*\n",
      "I0829 21:42:06.396106  6600 bert_pos.py:498]   name = bert/encoder/layer_2/output/dense/bias:0, shape = (768,), *INIT_FROM_CKPT*\n",
      "I0829 21:42:06.399095  6600 bert_pos.py:498]   name = bert/encoder/layer_2/output/LayerNorm/beta:0, shape = (768,), *INIT_FROM_CKPT*\n",
      "I0829 21:42:06.405095  6600 bert_pos.py:498]   name = bert/encoder/layer_2/output/LayerNorm/gamma:0, shape = (768,), *INIT_FROM_CKPT*\n",
      "I0829 21:42:06.413093  6600 bert_pos.py:498]   name = bert/encoder/layer_3/attention/self/query/kernel:0, shape = (768, 768), *INIT_FROM_CKPT*\n",
      "I0829 21:42:06.416092  6600 bert_pos.py:498]   name = bert/encoder/layer_3/attention/self/query/bias:0, shape = (768,), *INIT_FROM_CKPT*\n",
      "I0829 21:42:06.419092  6600 bert_pos.py:498]   name = bert/encoder/layer_3/attention/self/key/kernel:0, shape = (768, 768), *INIT_FROM_CKPT*\n",
      "I0829 21:42:06.427090  6600 bert_pos.py:498]   name = bert/encoder/layer_3/attention/self/key/bias:0, shape = (768,), *INIT_FROM_CKPT*\n",
      "I0829 21:42:06.429096  6600 bert_pos.py:498]   name = bert/encoder/layer_3/attention/self/value/kernel:0, shape = (768, 768), *INIT_FROM_CKPT*\n",
      "I0829 21:42:06.432092  6600 bert_pos.py:498]   name = bert/encoder/layer_3/attention/self/value/bias:0, shape = (768,), *INIT_FROM_CKPT*\n",
      "I0829 21:42:06.434092  6600 bert_pos.py:498]   name = bert/encoder/layer_3/attention/output/dense/kernel:0, shape = (768, 768), *INIT_FROM_CKPT*\n",
      "I0829 21:42:06.436093  6600 bert_pos.py:498]   name = bert/encoder/layer_3/attention/output/dense/bias:0, shape = (768,), *INIT_FROM_CKPT*\n",
      "I0829 21:42:06.438093  6600 bert_pos.py:498]   name = bert/encoder/layer_3/attention/output/LayerNorm/beta:0, shape = (768,), *INIT_FROM_CKPT*\n",
      "I0829 21:42:06.440094  6600 bert_pos.py:498]   name = bert/encoder/layer_3/attention/output/LayerNorm/gamma:0, shape = (768,), *INIT_FROM_CKPT*\n",
      "I0829 21:42:06.443091  6600 bert_pos.py:498]   name = bert/encoder/layer_3/intermediate/dense/kernel:0, shape = (768, 3072), *INIT_FROM_CKPT*\n",
      "I0829 21:42:06.447095  6600 bert_pos.py:498]   name = bert/encoder/layer_3/intermediate/dense/bias:0, shape = (3072,), *INIT_FROM_CKPT*\n",
      "I0829 21:42:06.453093  6600 bert_pos.py:498]   name = bert/encoder/layer_3/output/dense/kernel:0, shape = (3072, 768), *INIT_FROM_CKPT*\n",
      "I0829 21:42:06.459094  6600 bert_pos.py:498]   name = bert/encoder/layer_3/output/dense/bias:0, shape = (768,), *INIT_FROM_CKPT*\n",
      "I0829 21:42:06.463093  6600 bert_pos.py:498]   name = bert/encoder/layer_3/output/LayerNorm/beta:0, shape = (768,), *INIT_FROM_CKPT*\n",
      "I0829 21:42:06.466093  6600 bert_pos.py:498]   name = bert/encoder/layer_3/output/LayerNorm/gamma:0, shape = (768,), *INIT_FROM_CKPT*\n",
      "I0829 21:42:06.468090  6600 bert_pos.py:498]   name = bert/encoder/layer_4/attention/self/query/kernel:0, shape = (768, 768), *INIT_FROM_CKPT*\n",
      "I0829 21:42:06.470092  6600 bert_pos.py:498]   name = bert/encoder/layer_4/attention/self/query/bias:0, shape = (768,), *INIT_FROM_CKPT*\n",
      "I0829 21:42:06.471091  6600 bert_pos.py:498]   name = bert/encoder/layer_4/attention/self/key/kernel:0, shape = (768, 768), *INIT_FROM_CKPT*\n",
      "I0829 21:42:06.473095  6600 bert_pos.py:498]   name = bert/encoder/layer_4/attention/self/key/bias:0, shape = (768,), *INIT_FROM_CKPT*\n",
      "I0829 21:42:06.477094  6600 bert_pos.py:498]   name = bert/encoder/layer_4/attention/self/value/kernel:0, shape = (768, 768), *INIT_FROM_CKPT*\n",
      "I0829 21:42:06.478093  6600 bert_pos.py:498]   name = bert/encoder/layer_4/attention/self/value/bias:0, shape = (768,), *INIT_FROM_CKPT*\n",
      "I0829 21:42:06.481094  6600 bert_pos.py:498]   name = bert/encoder/layer_4/attention/output/dense/kernel:0, shape = (768, 768), *INIT_FROM_CKPT*\n",
      "I0829 21:42:06.482096  6600 bert_pos.py:498]   name = bert/encoder/layer_4/attention/output/dense/bias:0, shape = (768,), *INIT_FROM_CKPT*\n",
      "I0829 21:42:06.483098  6600 bert_pos.py:498]   name = bert/encoder/layer_4/attention/output/LayerNorm/beta:0, shape = (768,), *INIT_FROM_CKPT*\n",
      "I0829 21:42:06.485094  6600 bert_pos.py:498]   name = bert/encoder/layer_4/attention/output/LayerNorm/gamma:0, shape = (768,), *INIT_FROM_CKPT*\n",
      "I0829 21:42:06.486092  6600 bert_pos.py:498]   name = bert/encoder/layer_4/intermediate/dense/kernel:0, shape = (768, 3072), *INIT_FROM_CKPT*\n",
      "I0829 21:42:06.488091  6600 bert_pos.py:498]   name = bert/encoder/layer_4/intermediate/dense/bias:0, shape = (3072,), *INIT_FROM_CKPT*\n",
      "I0829 21:42:06.492091  6600 bert_pos.py:498]   name = bert/encoder/layer_4/output/dense/kernel:0, shape = (3072, 768), *INIT_FROM_CKPT*\n",
      "I0829 21:42:06.493095  6600 bert_pos.py:498]   name = bert/encoder/layer_4/output/dense/bias:0, shape = (768,), *INIT_FROM_CKPT*\n",
      "I0829 21:42:06.496094  6600 bert_pos.py:498]   name = bert/encoder/layer_4/output/LayerNorm/beta:0, shape = (768,), *INIT_FROM_CKPT*\n",
      "I0829 21:42:06.498093  6600 bert_pos.py:498]   name = bert/encoder/layer_4/output/LayerNorm/gamma:0, shape = (768,), *INIT_FROM_CKPT*\n",
      "I0829 21:42:06.500094  6600 bert_pos.py:498]   name = bert/encoder/layer_5/attention/self/query/kernel:0, shape = (768, 768), *INIT_FROM_CKPT*\n",
      "I0829 21:42:06.501093  6600 bert_pos.py:498]   name = bert/encoder/layer_5/attention/self/query/bias:0, shape = (768,), *INIT_FROM_CKPT*\n",
      "I0829 21:42:06.502092  6600 bert_pos.py:498]   name = bert/encoder/layer_5/attention/self/key/kernel:0, shape = (768, 768), *INIT_FROM_CKPT*\n",
      "I0829 21:42:06.504094  6600 bert_pos.py:498]   name = bert/encoder/layer_5/attention/self/key/bias:0, shape = (768,), *INIT_FROM_CKPT*\n",
      "I0829 21:42:06.506091  6600 bert_pos.py:498]   name = bert/encoder/layer_5/attention/self/value/kernel:0, shape = (768, 768), *INIT_FROM_CKPT*\n",
      "I0829 21:42:06.518126  6600 bert_pos.py:498]   name = bert/encoder/layer_5/attention/self/value/bias:0, shape = (768,), *INIT_FROM_CKPT*\n",
      "I0829 21:42:06.531095  6600 bert_pos.py:498]   name = bert/encoder/layer_5/attention/output/dense/kernel:0, shape = (768, 768), *INIT_FROM_CKPT*\n",
      "I0829 21:42:06.534095  6600 bert_pos.py:498]   name = bert/encoder/layer_5/attention/output/dense/bias:0, shape = (768,), *INIT_FROM_CKPT*\n",
      "I0829 21:42:06.535094  6600 bert_pos.py:498]   name = bert/encoder/layer_5/attention/output/LayerNorm/beta:0, shape = (768,), *INIT_FROM_CKPT*\n",
      "I0829 21:42:06.540092  6600 bert_pos.py:498]   name = bert/encoder/layer_5/attention/output/LayerNorm/gamma:0, shape = (768,), *INIT_FROM_CKPT*\n",
      "I0829 21:42:06.546097  6600 bert_pos.py:498]   name = bert/encoder/layer_5/intermediate/dense/kernel:0, shape = (768, 3072), *INIT_FROM_CKPT*\n",
      "I0829 21:42:06.548093  6600 bert_pos.py:498]   name = bert/encoder/layer_5/intermediate/dense/bias:0, shape = (3072,), *INIT_FROM_CKPT*\n",
      "I0829 21:42:06.549091  6600 bert_pos.py:498]   name = bert/encoder/layer_5/output/dense/kernel:0, shape = (3072, 768), *INIT_FROM_CKPT*\n",
      "I0829 21:42:06.551092  6600 bert_pos.py:498]   name = bert/encoder/layer_5/output/dense/bias:0, shape = (768,), *INIT_FROM_CKPT*\n",
      "I0829 21:42:06.552092  6600 bert_pos.py:498]   name = bert/encoder/layer_5/output/LayerNorm/beta:0, shape = (768,), *INIT_FROM_CKPT*\n",
      "I0829 21:42:06.554090  6600 bert_pos.py:498]   name = bert/encoder/layer_5/output/LayerNorm/gamma:0, shape = (768,), *INIT_FROM_CKPT*\n",
      "I0829 21:42:06.555092  6600 bert_pos.py:498]   name = bert/encoder/layer_6/attention/self/query/kernel:0, shape = (768, 768), *INIT_FROM_CKPT*\n",
      "I0829 21:42:06.561100  6600 bert_pos.py:498]   name = bert/encoder/layer_6/attention/self/query/bias:0, shape = (768,), *INIT_FROM_CKPT*\n",
      "I0829 21:42:06.563099  6600 bert_pos.py:498]   name = bert/encoder/layer_6/attention/self/key/kernel:0, shape = (768, 768), *INIT_FROM_CKPT*\n",
      "I0829 21:42:06.565093  6600 bert_pos.py:498]   name = bert/encoder/layer_6/attention/self/key/bias:0, shape = (768,), *INIT_FROM_CKPT*\n",
      "I0829 21:42:06.567094  6600 bert_pos.py:498]   name = bert/encoder/layer_6/attention/self/value/kernel:0, shape = (768, 768), *INIT_FROM_CKPT*\n",
      "I0829 21:42:06.568091  6600 bert_pos.py:498]   name = bert/encoder/layer_6/attention/self/value/bias:0, shape = (768,), *INIT_FROM_CKPT*\n",
      "I0829 21:42:06.570098  6600 bert_pos.py:498]   name = bert/encoder/layer_6/attention/output/dense/kernel:0, shape = (768, 768), *INIT_FROM_CKPT*\n",
      "I0829 21:42:06.572094  6600 bert_pos.py:498]   name = bert/encoder/layer_6/attention/output/dense/bias:0, shape = (768,), *INIT_FROM_CKPT*\n",
      "I0829 21:42:06.573093  6600 bert_pos.py:498]   name = bert/encoder/layer_6/attention/output/LayerNorm/beta:0, shape = (768,), *INIT_FROM_CKPT*\n",
      "I0829 21:42:06.577095  6600 bert_pos.py:498]   name = bert/encoder/layer_6/attention/output/LayerNorm/gamma:0, shape = (768,), *INIT_FROM_CKPT*\n",
      "I0829 21:42:06.578092  6600 bert_pos.py:498]   name = bert/encoder/layer_6/intermediate/dense/kernel:0, shape = (768, 3072), *INIT_FROM_CKPT*\n",
      "I0829 21:42:06.580091  6600 bert_pos.py:498]   name = bert/encoder/layer_6/intermediate/dense/bias:0, shape = (3072,), *INIT_FROM_CKPT*\n",
      "I0829 21:42:06.581090  6600 bert_pos.py:498]   name = bert/encoder/layer_6/output/dense/kernel:0, shape = (3072, 768), *INIT_FROM_CKPT*\n",
      "I0829 21:42:06.583091  6600 bert_pos.py:498]   name = bert/encoder/layer_6/output/dense/bias:0, shape = (768,), *INIT_FROM_CKPT*\n",
      "I0829 21:42:06.585091  6600 bert_pos.py:498]   name = bert/encoder/layer_6/output/LayerNorm/beta:0, shape = (768,), *INIT_FROM_CKPT*\n",
      "I0829 21:42:06.586091  6600 bert_pos.py:498]   name = bert/encoder/layer_6/output/LayerNorm/gamma:0, shape = (768,), *INIT_FROM_CKPT*\n",
      "I0829 21:42:06.628092  6600 bert_pos.py:498]   name = bert/encoder/layer_7/attention/self/query/kernel:0, shape = (768, 768), *INIT_FROM_CKPT*\n",
      "I0829 21:42:06.630095  6600 bert_pos.py:498]   name = bert/encoder/layer_7/attention/self/query/bias:0, shape = (768,), *INIT_FROM_CKPT*\n",
      "I0829 21:42:06.632092  6600 bert_pos.py:498]   name = bert/encoder/layer_7/attention/self/key/kernel:0, shape = (768, 768), *INIT_FROM_CKPT*\n",
      "I0829 21:42:06.633090  6600 bert_pos.py:498]   name = bert/encoder/layer_7/attention/self/key/bias:0, shape = (768,), *INIT_FROM_CKPT*\n",
      "I0829 21:42:06.634090  6600 bert_pos.py:498]   name = bert/encoder/layer_7/attention/self/value/kernel:0, shape = (768, 768), *INIT_FROM_CKPT*\n",
      "I0829 21:42:06.637093  6600 bert_pos.py:498]   name = bert/encoder/layer_7/attention/self/value/bias:0, shape = (768,), *INIT_FROM_CKPT*\n",
      "I0829 21:42:06.638092  6600 bert_pos.py:498]   name = bert/encoder/layer_7/attention/output/dense/kernel:0, shape = (768, 768), *INIT_FROM_CKPT*\n",
      "I0829 21:42:06.644094  6600 bert_pos.py:498]   name = bert/encoder/layer_7/attention/output/dense/bias:0, shape = (768,), *INIT_FROM_CKPT*\n",
      "I0829 21:42:06.647094  6600 bert_pos.py:498]   name = bert/encoder/layer_7/attention/output/LayerNorm/beta:0, shape = (768,), *INIT_FROM_CKPT*\n",
      "I0829 21:42:06.649093  6600 bert_pos.py:498]   name = bert/encoder/layer_7/attention/output/LayerNorm/gamma:0, shape = (768,), *INIT_FROM_CKPT*\n",
      "I0829 21:42:06.651093  6600 bert_pos.py:498]   name = bert/encoder/layer_7/intermediate/dense/kernel:0, shape = (768, 3072), *INIT_FROM_CKPT*\n",
      "I0829 21:42:06.655094  6600 bert_pos.py:498]   name = bert/encoder/layer_7/intermediate/dense/bias:0, shape = (3072,), *INIT_FROM_CKPT*\n",
      "I0829 21:42:06.659096  6600 bert_pos.py:498]   name = bert/encoder/layer_7/output/dense/kernel:0, shape = (3072, 768), *INIT_FROM_CKPT*\n",
      "I0829 21:42:06.661092  6600 bert_pos.py:498]   name = bert/encoder/layer_7/output/dense/bias:0, shape = (768,), *INIT_FROM_CKPT*\n",
      "I0829 21:42:06.662090  6600 bert_pos.py:498]   name = bert/encoder/layer_7/output/LayerNorm/beta:0, shape = (768,), *INIT_FROM_CKPT*\n",
      "I0829 21:42:06.664092  6600 bert_pos.py:498]   name = bert/encoder/layer_7/output/LayerNorm/gamma:0, shape = (768,), *INIT_FROM_CKPT*\n",
      "I0829 21:42:06.666094  6600 bert_pos.py:498]   name = bert/encoder/layer_8/attention/self/query/kernel:0, shape = (768, 768), *INIT_FROM_CKPT*\n",
      "I0829 21:42:06.667092  6600 bert_pos.py:498]   name = bert/encoder/layer_8/attention/self/query/bias:0, shape = (768,), *INIT_FROM_CKPT*\n",
      "I0829 21:42:06.669090  6600 bert_pos.py:498]   name = bert/encoder/layer_8/attention/self/key/kernel:0, shape = (768, 768), *INIT_FROM_CKPT*\n",
      "I0829 21:42:06.670092  6600 bert_pos.py:498]   name = bert/encoder/layer_8/attention/self/key/bias:0, shape = (768,), *INIT_FROM_CKPT*\n",
      "I0829 21:42:06.672092  6600 bert_pos.py:498]   name = bert/encoder/layer_8/attention/self/value/kernel:0, shape = (768, 768), *INIT_FROM_CKPT*\n",
      "I0829 21:42:06.675093  6600 bert_pos.py:498]   name = bert/encoder/layer_8/attention/self/value/bias:0, shape = (768,), *INIT_FROM_CKPT*\n",
      "I0829 21:42:06.677095  6600 bert_pos.py:498]   name = bert/encoder/layer_8/attention/output/dense/kernel:0, shape = (768, 768), *INIT_FROM_CKPT*\n",
      "I0829 21:42:06.678094  6600 bert_pos.py:498]   name = bert/encoder/layer_8/attention/output/dense/bias:0, shape = (768,), *INIT_FROM_CKPT*\n",
      "I0829 21:42:06.679092  6600 bert_pos.py:498]   name = bert/encoder/layer_8/attention/output/LayerNorm/beta:0, shape = (768,), *INIT_FROM_CKPT*\n",
      "I0829 21:42:06.687093  6600 bert_pos.py:498]   name = bert/encoder/layer_8/attention/output/LayerNorm/gamma:0, shape = (768,), *INIT_FROM_CKPT*\n",
      "I0829 21:42:06.695096  6600 bert_pos.py:498]   name = bert/encoder/layer_8/intermediate/dense/kernel:0, shape = (768, 3072), *INIT_FROM_CKPT*\n",
      "I0829 21:42:06.705097  6600 bert_pos.py:498]   name = bert/encoder/layer_8/intermediate/dense/bias:0, shape = (3072,), *INIT_FROM_CKPT*\n",
      "I0829 21:42:06.712139  6600 bert_pos.py:498]   name = bert/encoder/layer_8/output/dense/kernel:0, shape = (3072, 768), *INIT_FROM_CKPT*\n",
      "I0829 21:42:06.717092  6600 bert_pos.py:498]   name = bert/encoder/layer_8/output/dense/bias:0, shape = (768,), *INIT_FROM_CKPT*\n",
      "I0829 21:42:06.719092  6600 bert_pos.py:498]   name = bert/encoder/layer_8/output/LayerNorm/beta:0, shape = (768,), *INIT_FROM_CKPT*\n",
      "I0829 21:42:06.721092  6600 bert_pos.py:498]   name = bert/encoder/layer_8/output/LayerNorm/gamma:0, shape = (768,), *INIT_FROM_CKPT*\n",
      "I0829 21:42:06.723093  6600 bert_pos.py:498]   name = bert/encoder/layer_9/attention/self/query/kernel:0, shape = (768, 768), *INIT_FROM_CKPT*\n",
      "I0829 21:42:06.727095  6600 bert_pos.py:498]   name = bert/encoder/layer_9/attention/self/query/bias:0, shape = (768,), *INIT_FROM_CKPT*\n",
      "I0829 21:42:06.729092  6600 bert_pos.py:498]   name = bert/encoder/layer_9/attention/self/key/kernel:0, shape = (768, 768), *INIT_FROM_CKPT*\n",
      "I0829 21:42:06.730092  6600 bert_pos.py:498]   name = bert/encoder/layer_9/attention/self/key/bias:0, shape = (768,), *INIT_FROM_CKPT*\n",
      "I0829 21:42:06.732092  6600 bert_pos.py:498]   name = bert/encoder/layer_9/attention/self/value/kernel:0, shape = (768, 768), *INIT_FROM_CKPT*\n",
      "I0829 21:42:06.734091  6600 bert_pos.py:498]   name = bert/encoder/layer_9/attention/self/value/bias:0, shape = (768,), *INIT_FROM_CKPT*\n",
      "I0829 21:42:06.740092  6600 bert_pos.py:498]   name = bert/encoder/layer_9/attention/output/dense/kernel:0, shape = (768, 768), *INIT_FROM_CKPT*\n",
      "I0829 21:42:06.744096  6600 bert_pos.py:498]   name = bert/encoder/layer_9/attention/output/dense/bias:0, shape = (768,), *INIT_FROM_CKPT*\n",
      "I0829 21:42:06.746096  6600 bert_pos.py:498]   name = bert/encoder/layer_9/attention/output/LayerNorm/beta:0, shape = (768,), *INIT_FROM_CKPT*\n",
      "I0829 21:42:06.748092  6600 bert_pos.py:498]   name = bert/encoder/layer_9/attention/output/LayerNorm/gamma:0, shape = (768,), *INIT_FROM_CKPT*\n",
      "I0829 21:42:06.749093  6600 bert_pos.py:498]   name = bert/encoder/layer_9/intermediate/dense/kernel:0, shape = (768, 3072), *INIT_FROM_CKPT*\n",
      "I0829 21:42:06.751094  6600 bert_pos.py:498]   name = bert/encoder/layer_9/intermediate/dense/bias:0, shape = (3072,), *INIT_FROM_CKPT*\n",
      "I0829 21:42:06.763091  6600 bert_pos.py:498]   name = bert/encoder/layer_9/output/dense/kernel:0, shape = (3072, 768), *INIT_FROM_CKPT*\n",
      "I0829 21:42:06.765093  6600 bert_pos.py:498]   name = bert/encoder/layer_9/output/dense/bias:0, shape = (768,), *INIT_FROM_CKPT*\n",
      "I0829 21:42:06.767090  6600 bert_pos.py:498]   name = bert/encoder/layer_9/output/LayerNorm/beta:0, shape = (768,), *INIT_FROM_CKPT*\n",
      "I0829 21:42:06.769089  6600 bert_pos.py:498]   name = bert/encoder/layer_9/output/LayerNorm/gamma:0, shape = (768,), *INIT_FROM_CKPT*\n",
      "I0829 21:42:06.771091  6600 bert_pos.py:498]   name = bert/encoder/layer_10/attention/self/query/kernel:0, shape = (768, 768), *INIT_FROM_CKPT*\n",
      "I0829 21:42:06.773092  6600 bert_pos.py:498]   name = bert/encoder/layer_10/attention/self/query/bias:0, shape = (768,), *INIT_FROM_CKPT*\n",
      "I0829 21:42:06.776091  6600 bert_pos.py:498]   name = bert/encoder/layer_10/attention/self/key/kernel:0, shape = (768, 768), *INIT_FROM_CKPT*\n",
      "I0829 21:42:06.778093  6600 bert_pos.py:498]   name = bert/encoder/layer_10/attention/self/key/bias:0, shape = (768,), *INIT_FROM_CKPT*\n",
      "I0829 21:42:06.782095  6600 bert_pos.py:498]   name = bert/encoder/layer_10/attention/self/value/kernel:0, shape = (768, 768), *INIT_FROM_CKPT*\n",
      "I0829 21:42:06.784092  6600 bert_pos.py:498]   name = bert/encoder/layer_10/attention/self/value/bias:0, shape = (768,), *INIT_FROM_CKPT*\n",
      "I0829 21:42:06.787093  6600 bert_pos.py:498]   name = bert/encoder/layer_10/attention/output/dense/kernel:0, shape = (768, 768), *INIT_FROM_CKPT*\n",
      "I0829 21:42:06.789095  6600 bert_pos.py:498]   name = bert/encoder/layer_10/attention/output/dense/bias:0, shape = (768,), *INIT_FROM_CKPT*\n",
      "I0829 21:42:06.797091  6600 bert_pos.py:498]   name = bert/encoder/layer_10/attention/output/LayerNorm/beta:0, shape = (768,), *INIT_FROM_CKPT*\n",
      "I0829 21:42:06.799093  6600 bert_pos.py:498]   name = bert/encoder/layer_10/attention/output/LayerNorm/gamma:0, shape = (768,), *INIT_FROM_CKPT*\n",
      "I0829 21:42:06.801093  6600 bert_pos.py:498]   name = bert/encoder/layer_10/intermediate/dense/kernel:0, shape = (768, 3072), *INIT_FROM_CKPT*\n",
      "I0829 21:42:06.803093  6600 bert_pos.py:498]   name = bert/encoder/layer_10/intermediate/dense/bias:0, shape = (3072,), *INIT_FROM_CKPT*\n",
      "I0829 21:42:06.804092  6600 bert_pos.py:498]   name = bert/encoder/layer_10/output/dense/kernel:0, shape = (3072, 768), *INIT_FROM_CKPT*\n",
      "I0829 21:42:06.816147  6600 bert_pos.py:498]   name = bert/encoder/layer_10/output/dense/bias:0, shape = (768,), *INIT_FROM_CKPT*\n",
      "I0829 21:42:06.822095  6600 bert_pos.py:498]   name = bert/encoder/layer_10/output/LayerNorm/beta:0, shape = (768,), *INIT_FROM_CKPT*\n",
      "I0829 21:42:06.832090  6600 bert_pos.py:498]   name = bert/encoder/layer_10/output/LayerNorm/gamma:0, shape = (768,), *INIT_FROM_CKPT*\n",
      "I0829 21:42:06.833092  6600 bert_pos.py:498]   name = bert/encoder/layer_11/attention/self/query/kernel:0, shape = (768, 768), *INIT_FROM_CKPT*\n",
      "I0829 21:42:06.835092  6600 bert_pos.py:498]   name = bert/encoder/layer_11/attention/self/query/bias:0, shape = (768,), *INIT_FROM_CKPT*\n",
      "I0829 21:42:06.837094  6600 bert_pos.py:498]   name = bert/encoder/layer_11/attention/self/key/kernel:0, shape = (768, 768), *INIT_FROM_CKPT*\n",
      "I0829 21:42:06.839094  6600 bert_pos.py:498]   name = bert/encoder/layer_11/attention/self/key/bias:0, shape = (768,), *INIT_FROM_CKPT*\n",
      "I0829 21:42:06.844092  6600 bert_pos.py:498]   name = bert/encoder/layer_11/attention/self/value/kernel:0, shape = (768, 768), *INIT_FROM_CKPT*\n",
      "I0829 21:42:06.846092  6600 bert_pos.py:498]   name = bert/encoder/layer_11/attention/self/value/bias:0, shape = (768,), *INIT_FROM_CKPT*\n",
      "I0829 21:42:06.852094  6600 bert_pos.py:498]   name = bert/encoder/layer_11/attention/output/dense/kernel:0, shape = (768, 768), *INIT_FROM_CKPT*\n",
      "I0829 21:42:06.854094  6600 bert_pos.py:498]   name = bert/encoder/layer_11/attention/output/dense/bias:0, shape = (768,), *INIT_FROM_CKPT*\n",
      "I0829 21:42:06.861095  6600 bert_pos.py:498]   name = bert/encoder/layer_11/attention/output/LayerNorm/beta:0, shape = (768,), *INIT_FROM_CKPT*\n",
      "I0829 21:42:06.862091  6600 bert_pos.py:498]   name = bert/encoder/layer_11/attention/output/LayerNorm/gamma:0, shape = (768,), *INIT_FROM_CKPT*\n",
      "I0829 21:42:06.864092  6600 bert_pos.py:498]   name = bert/encoder/layer_11/intermediate/dense/kernel:0, shape = (768, 3072), *INIT_FROM_CKPT*\n",
      "I0829 21:42:06.866094  6600 bert_pos.py:498]   name = bert/encoder/layer_11/intermediate/dense/bias:0, shape = (3072,), *INIT_FROM_CKPT*\n",
      "I0829 21:42:06.867091  6600 bert_pos.py:498]   name = bert/encoder/layer_11/output/dense/kernel:0, shape = (3072, 768), *INIT_FROM_CKPT*\n",
      "I0829 21:42:06.870094  6600 bert_pos.py:498]   name = bert/encoder/layer_11/output/dense/bias:0, shape = (768,), *INIT_FROM_CKPT*\n",
      "I0829 21:42:06.872091  6600 bert_pos.py:498]   name = bert/encoder/layer_11/output/LayerNorm/beta:0, shape = (768,), *INIT_FROM_CKPT*\n",
      "I0829 21:42:06.875095  6600 bert_pos.py:498]   name = bert/encoder/layer_11/output/LayerNorm/gamma:0, shape = (768,), *INIT_FROM_CKPT*\n",
      "I0829 21:42:06.877094  6600 bert_pos.py:498]   name = bert/pooler/dense/kernel:0, shape = (768, 768), *INIT_FROM_CKPT*\n",
      "I0829 21:42:06.879091  6600 bert_pos.py:498]   name = bert/pooler/dense/bias:0, shape = (768,), *INIT_FROM_CKPT*\n",
      "I0829 21:42:06.881091  6600 bert_pos.py:498]   name = dense_1/kernel:0, shape = (768, 20)\n",
      "I0829 21:42:06.883090  6600 bert_pos.py:498]   name = dense_1/bias:0, shape = (20,)\n",
      "I0829 21:42:06.884093  6600 bert_pos.py:498]   name = crf_loss/transition:0, shape = (20, 20)\n"
     ]
    },
    {
     "output_type": "stream",
     "name": "stdout",
     "text": [
      "WARNING:tensorflow:From C:\\Users\\dell\\AppData\\Local\\Programs\\Python\\Python37\\lib\\site-packages\\tensorflow\\python\\keras\\optimizer_v2\\learning_rate_schedule.py:409: div (from tensorflow.python.ops.math_ops) is deprecated and will be removed in a future version.\n",
      "Instructions for updating:\n",
      "Deprecated in favor of operator or tf.math.divide.\n"
     ]
    },
    {
     "output_type": "stream",
     "name": "stderr",
     "text": [
      "W0829 21:42:06.922091  6600 deprecation.py:323] From C:\\Users\\dell\\AppData\\Local\\Programs\\Python\\Python37\\lib\\site-packages\\tensorflow\\python\\keras\\optimizer_v2\\learning_rate_schedule.py:409: div (from tensorflow.python.ops.math_ops) is deprecated and will be removed in a future version.\n",
      "Instructions for updating:\n",
      "Deprecated in favor of operator or tf.math.divide.\n"
     ]
    },
    {
     "output_type": "stream",
     "name": "stdout",
     "text": [
      "INFO:tensorflow:Done calling model_fn.\n"
     ]
    },
    {
     "output_type": "stream",
     "name": "stderr",
     "text": [
      "I0829 21:42:29.110622  6600 estimator.py:1147] Done calling model_fn.\n"
     ]
    },
    {
     "output_type": "stream",
     "name": "stdout",
     "text": [
      "INFO:tensorflow:Create CheckpointSaverHook.\n"
     ]
    },
    {
     "output_type": "stream",
     "name": "stderr",
     "text": [
      "I0829 21:42:29.121623  6600 basic_session_run_hooks.py:541] Create CheckpointSaverHook.\n"
     ]
    },
    {
     "output_type": "stream",
     "name": "stdout",
     "text": [
      "INFO:tensorflow:Graph was finalized.\n"
     ]
    },
    {
     "output_type": "stream",
     "name": "stderr",
     "text": [
      "I0829 21:42:36.583531  6600 monitored_session.py:240] Graph was finalized.\n"
     ]
    },
    {
     "output_type": "stream",
     "name": "stdout",
     "text": [
      "WARNING:tensorflow:From C:\\Users\\dell\\AppData\\Local\\Programs\\Python\\Python37\\lib\\site-packages\\tensorflow\\python\\training\\saver.py:1276: checkpoint_exists (from tensorflow.python.training.checkpoint_management) is deprecated and will be removed in a future version.\n",
      "Instructions for updating:\n",
      "Use standard file APIs to check for files with this prefix.\n"
     ]
    },
    {
     "output_type": "stream",
     "name": "stderr",
     "text": [
      "W0829 21:42:36.599534  6600 deprecation.py:323] From C:\\Users\\dell\\AppData\\Local\\Programs\\Python\\Python37\\lib\\site-packages\\tensorflow\\python\\training\\saver.py:1276: checkpoint_exists (from tensorflow.python.training.checkpoint_management) is deprecated and will be removed in a future version.\n",
      "Instructions for updating:\n",
      "Use standard file APIs to check for files with this prefix.\n"
     ]
    },
    {
     "output_type": "stream",
     "name": "stdout",
     "text": [
      "INFO:tensorflow:Restoring parameters from ./output/result_dir\\model.ckpt-146\n"
     ]
    },
    {
     "output_type": "stream",
     "name": "stderr",
     "text": [
      "I0829 21:42:36.612531  6600 saver.py:1280] Restoring parameters from ./output/result_dir\\model.ckpt-146\n"
     ]
    },
    {
     "output_type": "stream",
     "name": "stdout",
     "text": [
      "WARNING:tensorflow:From C:\\Users\\dell\\AppData\\Local\\Programs\\Python\\Python37\\lib\\site-packages\\tensorflow\\python\\training\\saver.py:1066: get_checkpoint_mtimes (from tensorflow.python.training.checkpoint_management) is deprecated and will be removed in a future version.\n",
      "Instructions for updating:\n",
      "Use standard file utilities to get mtimes.\n"
     ]
    },
    {
     "output_type": "stream",
     "name": "stderr",
     "text": [
      "W0829 21:42:48.094052  6600 deprecation.py:323] From C:\\Users\\dell\\AppData\\Local\\Programs\\Python\\Python37\\lib\\site-packages\\tensorflow\\python\\training\\saver.py:1066: get_checkpoint_mtimes (from tensorflow.python.training.checkpoint_management) is deprecated and will be removed in a future version.\n",
      "Instructions for updating:\n",
      "Use standard file utilities to get mtimes.\n"
     ]
    },
    {
     "output_type": "stream",
     "name": "stdout",
     "text": [
      "INFO:tensorflow:Running local_init_op.\n"
     ]
    },
    {
     "output_type": "stream",
     "name": "stderr",
     "text": [
      "I0829 21:42:49.686054  6600 session_manager.py:500] Running local_init_op.\n"
     ]
    },
    {
     "output_type": "stream",
     "name": "stdout",
     "text": [
      "INFO:tensorflow:Done running local_init_op.\n"
     ]
    },
    {
     "output_type": "stream",
     "name": "stderr",
     "text": [
      "I0829 21:42:50.332783  6600 session_manager.py:502] Done running local_init_op.\n"
     ]
    },
    {
     "output_type": "stream",
     "name": "stdout",
     "text": [
      "INFO:tensorflow:Saving checkpoints for 146 into ./output/result_dir\\model.ckpt.\n"
     ]
    },
    {
     "output_type": "stream",
     "name": "stderr",
     "text": [
      "I0829 21:43:06.787821  6600 basic_session_run_hooks.py:606] Saving checkpoints for 146 into ./output/result_dir\\model.ckpt.\n"
     ]
    },
    {
     "output_type": "stream",
     "name": "stdout",
     "text": [
      "INFO:tensorflow:global_step/sec: 0.0174246\n"
     ]
    },
    {
     "output_type": "stream",
     "name": "stderr",
     "text": [
      "I0829 21:45:14.947992  6600 tpu_estimator.py:2159] global_step/sec: 0.0174246\n"
     ]
    },
    {
     "output_type": "stream",
     "name": "stdout",
     "text": [
      "INFO:tensorflow:examples/sec: 0.278793\n"
     ]
    },
    {
     "output_type": "stream",
     "name": "stderr",
     "text": [
      "I0829 21:45:15.109996  6600 tpu_estimator.py:2160] examples/sec: 0.278793\n"
     ]
    },
    {
     "output_type": "stream",
     "name": "stdout",
     "text": [
      "INFO:tensorflow:global_step/sec: 0.0223172\n"
     ]
    },
    {
     "output_type": "stream",
     "name": "stderr",
     "text": [
      "I0829 21:45:59.755525  6600 tpu_estimator.py:2159] global_step/sec: 0.0223172\n"
     ]
    },
    {
     "output_type": "stream",
     "name": "stdout",
     "text": [
      "INFO:tensorflow:examples/sec: 0.357075\n"
     ]
    },
    {
     "output_type": "stream",
     "name": "stderr",
     "text": [
      "I0829 21:45:59.887526  6600 tpu_estimator.py:2160] examples/sec: 0.357075\n"
     ]
    },
    {
     "output_type": "stream",
     "name": "stdout",
     "text": [
      "INFO:tensorflow:global_step/sec: 0.0227123\n"
     ]
    },
    {
     "output_type": "stream",
     "name": "stderr",
     "text": [
      "I0829 21:46:43.772555  6600 tpu_estimator.py:2159] global_step/sec: 0.0227123\n"
     ]
    },
    {
     "output_type": "stream",
     "name": "stdout",
     "text": [
      "INFO:tensorflow:examples/sec: 0.363397\n"
     ]
    },
    {
     "output_type": "stream",
     "name": "stderr",
     "text": [
      "I0829 21:46:43.860554  6600 tpu_estimator.py:2160] examples/sec: 0.363397\n"
     ]
    },
    {
     "output_type": "stream",
     "name": "stdout",
     "text": [
      "INFO:tensorflow:global_step/sec: 0.0237002\n"
     ]
    },
    {
     "output_type": "stream",
     "name": "stderr",
     "text": [
      "I0829 21:47:25.978210  6600 tpu_estimator.py:2159] global_step/sec: 0.0237002\n"
     ]
    },
    {
     "output_type": "stream",
     "name": "stdout",
     "text": [
      "INFO:tensorflow:examples/sec: 0.379204\n"
     ]
    },
    {
     "output_type": "stream",
     "name": "stderr",
     "text": [
      "I0829 21:47:26.131213  6600 tpu_estimator.py:2160] examples/sec: 0.379204\n"
     ]
    },
    {
     "output_type": "stream",
     "name": "stdout",
     "text": [
      "INFO:tensorflow:global_step/sec: 0.025261\n"
     ]
    },
    {
     "output_type": "stream",
     "name": "stderr",
     "text": [
      "I0829 21:48:05.563866  6600 tpu_estimator.py:2159] global_step/sec: 0.025261\n"
     ]
    },
    {
     "output_type": "stream",
     "name": "stdout",
     "text": [
      "INFO:tensorflow:examples/sec: 0.404177\n"
     ]
    },
    {
     "output_type": "stream",
     "name": "stderr",
     "text": [
      "I0829 21:48:05.711867  6600 tpu_estimator.py:2160] examples/sec: 0.404177\n"
     ]
    },
    {
     "output_type": "stream",
     "name": "stdout",
     "text": [
      "INFO:tensorflow:global_step/sec: 0.0236837\n"
     ]
    },
    {
     "output_type": "stream",
     "name": "stderr",
     "text": [
      "I0829 21:48:47.763934  6600 tpu_estimator.py:2159] global_step/sec: 0.0236837\n"
     ]
    },
    {
     "output_type": "stream",
     "name": "stdout",
     "text": [
      "INFO:tensorflow:examples/sec: 0.37894\n"
     ]
    },
    {
     "output_type": "stream",
     "name": "stderr",
     "text": [
      "I0829 21:48:47.799938  6600 tpu_estimator.py:2160] examples/sec: 0.37894\n"
     ]
    },
    {
     "output_type": "stream",
     "name": "stdout",
     "text": [
      "INFO:tensorflow:global_step/sec: 0.0258713\n"
     ]
    },
    {
     "output_type": "stream",
     "name": "stderr",
     "text": [
      "I0829 21:49:26.428823  6600 tpu_estimator.py:2159] global_step/sec: 0.0258713\n"
     ]
    },
    {
     "output_type": "stream",
     "name": "stdout",
     "text": [
      "INFO:tensorflow:examples/sec: 0.413941\n"
     ]
    },
    {
     "output_type": "stream",
     "name": "stderr",
     "text": [
      "I0829 21:49:26.523817  6600 tpu_estimator.py:2160] examples/sec: 0.413941\n"
     ]
    },
    {
     "output_type": "stream",
     "name": "stdout",
     "text": [
      "INFO:tensorflow:global_step/sec: 0.0261855\n"
     ]
    },
    {
     "output_type": "stream",
     "name": "stderr",
     "text": [
      "I0829 21:50:04.619953  6600 tpu_estimator.py:2159] global_step/sec: 0.0261855\n"
     ]
    },
    {
     "output_type": "stream",
     "name": "stdout",
     "text": [
      "INFO:tensorflow:examples/sec: 0.418967\n"
     ]
    },
    {
     "output_type": "stream",
     "name": "stderr",
     "text": [
      "I0829 21:50:04.711956  6600 tpu_estimator.py:2160] examples/sec: 0.418967\n"
     ]
    },
    {
     "output_type": "stream",
     "name": "stdout",
     "text": [
      "INFO:tensorflow:global_step/sec: 0.026434\n"
     ]
    },
    {
     "output_type": "stream",
     "name": "stderr",
     "text": [
      "I0829 21:50:42.449967  6600 tpu_estimator.py:2159] global_step/sec: 0.026434\n"
     ]
    },
    {
     "output_type": "stream",
     "name": "stdout",
     "text": [
      "INFO:tensorflow:examples/sec: 0.422945\n"
     ]
    },
    {
     "output_type": "stream",
     "name": "stderr",
     "text": [
      "I0829 21:50:42.544966  6600 tpu_estimator.py:2160] examples/sec: 0.422945\n"
     ]
    },
    {
     "output_type": "stream",
     "name": "stdout",
     "text": [
      "INFO:tensorflow:global_step/sec: 0.027429\n"
     ]
    },
    {
     "output_type": "stream",
     "name": "stderr",
     "text": [
      "I0829 21:51:18.908715  6600 tpu_estimator.py:2159] global_step/sec: 0.027429\n"
     ]
    },
    {
     "output_type": "stream",
     "name": "stdout",
     "text": [
      "INFO:tensorflow:examples/sec: 0.438864\n"
     ]
    },
    {
     "output_type": "stream",
     "name": "stderr",
     "text": [
      "I0829 21:51:19.006711  6600 tpu_estimator.py:2160] examples/sec: 0.438864\n"
     ]
    },
    {
     "output_type": "stream",
     "name": "stdout",
     "text": [
      "INFO:tensorflow:global_step/sec: 0.0265755\n"
     ]
    },
    {
     "output_type": "stream",
     "name": "stderr",
     "text": [
      "I0829 21:51:56.539326  6600 tpu_estimator.py:2159] global_step/sec: 0.0265755\n"
     ]
    },
    {
     "output_type": "stream",
     "name": "stdout",
     "text": [
      "INFO:tensorflow:examples/sec: 0.425208\n"
     ]
    },
    {
     "output_type": "stream",
     "name": "stderr",
     "text": [
      "I0829 21:51:56.642326  6600 tpu_estimator.py:2160] examples/sec: 0.425208\n"
     ]
    },
    {
     "output_type": "stream",
     "name": "stdout",
     "text": [
      "INFO:tensorflow:global_step/sec: 0.0259928\n"
     ]
    },
    {
     "output_type": "stream",
     "name": "stderr",
     "text": [
      "I0829 21:52:35.008545  6600 tpu_estimator.py:2159] global_step/sec: 0.0259928\n"
     ]
    },
    {
     "output_type": "stream",
     "name": "stdout",
     "text": [
      "INFO:tensorflow:examples/sec: 0.415885\n"
     ]
    },
    {
     "output_type": "stream",
     "name": "stderr",
     "text": [
      "I0829 21:52:35.102547  6600 tpu_estimator.py:2160] examples/sec: 0.415885\n"
     ]
    },
    {
     "output_type": "stream",
     "name": "stdout",
     "text": [
      "INFO:tensorflow:global_step/sec: 0.0274521\n"
     ]
    },
    {
     "output_type": "stream",
     "name": "stderr",
     "text": [
      "I0829 21:53:11.436594  6600 tpu_estimator.py:2159] global_step/sec: 0.0274521\n"
     ]
    },
    {
     "output_type": "stream",
     "name": "stdout",
     "text": [
      "INFO:tensorflow:examples/sec: 0.439234\n"
     ]
    },
    {
     "output_type": "stream",
     "name": "stderr",
     "text": [
      "I0829 21:53:11.534595  6600 tpu_estimator.py:2160] examples/sec: 0.439234\n"
     ]
    },
    {
     "output_type": "stream",
     "name": "stdout",
     "text": [
      "INFO:tensorflow:global_step/sec: 0.0239304\n"
     ]
    },
    {
     "output_type": "stream",
     "name": "stderr",
     "text": [
      "I0829 21:53:53.225408  6600 tpu_estimator.py:2159] global_step/sec: 0.0239304\n"
     ]
    },
    {
     "output_type": "stream",
     "name": "stdout",
     "text": [
      "INFO:tensorflow:examples/sec: 0.382887\n"
     ]
    },
    {
     "output_type": "stream",
     "name": "stderr",
     "text": [
      "I0829 21:53:53.325408  6600 tpu_estimator.py:2160] examples/sec: 0.382887\n"
     ]
    },
    {
     "output_type": "stream",
     "name": "stdout",
     "text": [
      "WARNING:tensorflow:It seems that global step (tf.train.get_global_step) has not been increased. Current value (could be stable): 160 vs previous value: 160. You could increase the global step by passing tf.train.get_global_step() to Optimizer.apply_gradients or Optimizer.minimize.\n"
     ]
    },
    {
     "output_type": "stream",
     "name": "stderr",
     "text": [
      "W0829 21:53:53.338410  6600 basic_session_run_hooks.py:724] It seems that global step (tf.train.get_global_step) has not been increased. Current value (could be stable): 160 vs previous value: 160. You could increase the global step by passing tf.train.get_global_step() to Optimizer.apply_gradients or Optimizer.minimize.\n"
     ]
    },
    {
     "output_type": "stream",
     "name": "stdout",
     "text": [
      "INFO:tensorflow:global_step/sec: 0.0278309\n"
     ]
    },
    {
     "output_type": "stream",
     "name": "stderr",
     "text": [
      "I0829 21:54:29.152710  6600 tpu_estimator.py:2159] global_step/sec: 0.0278309\n"
     ]
    },
    {
     "output_type": "stream",
     "name": "stdout",
     "text": [
      "INFO:tensorflow:examples/sec: 0.445294\n"
     ]
    },
    {
     "output_type": "stream",
     "name": "stderr",
     "text": [
      "I0829 21:54:29.246713  6600 tpu_estimator.py:2160] examples/sec: 0.445294\n"
     ]
    },
    {
     "output_type": "stream",
     "name": "stdout",
     "text": [
      "INFO:tensorflow:global_step/sec: 0.0324981\n"
     ]
    },
    {
     "output_type": "stream",
     "name": "stderr",
     "text": [
      "I0829 21:54:59.933709  6600 tpu_estimator.py:2159] global_step/sec: 0.0324981\n"
     ]
    },
    {
     "output_type": "stream",
     "name": "stdout",
     "text": [
      "INFO:tensorflow:examples/sec: 0.51997\n"
     ]
    },
    {
     "output_type": "stream",
     "name": "stderr",
     "text": [
      "I0829 21:55:00.032710  6600 tpu_estimator.py:2160] examples/sec: 0.51997\n"
     ]
    },
    {
     "output_type": "stream",
     "name": "stdout",
     "text": [
      "INFO:tensorflow:global_step/sec: 0.033101\n"
     ]
    },
    {
     "output_type": "stream",
     "name": "stderr",
     "text": [
      "I0829 21:55:30.139321  6600 tpu_estimator.py:2159] global_step/sec: 0.033101\n"
     ]
    },
    {
     "output_type": "stream",
     "name": "stdout",
     "text": [
      "INFO:tensorflow:examples/sec: 0.529615\n"
     ]
    },
    {
     "output_type": "stream",
     "name": "stderr",
     "text": [
      "I0829 21:55:30.233321  6600 tpu_estimator.py:2160] examples/sec: 0.529615\n"
     ]
    },
    {
     "output_type": "stream",
     "name": "stdout",
     "text": [
      "INFO:tensorflow:global_step/sec: 0.0291236\n"
     ]
    },
    {
     "output_type": "stream",
     "name": "stderr",
     "text": [
      "I0829 21:56:04.470704  6600 tpu_estimator.py:2159] global_step/sec: 0.0291236\n"
     ]
    },
    {
     "output_type": "stream",
     "name": "stdout",
     "text": [
      "INFO:tensorflow:examples/sec: 0.465978\n"
     ]
    },
    {
     "output_type": "stream",
     "name": "stderr",
     "text": [
      "I0829 21:56:04.557706  6600 tpu_estimator.py:2160] examples/sec: 0.465978\n"
     ]
    },
    {
     "output_type": "stream",
     "name": "stdout",
     "text": [
      "WARNING:tensorflow:It seems that global step (tf.train.get_global_step) has not been increased. Current value (could be stable): 164 vs previous value: 164. You could increase the global step by passing tf.train.get_global_step() to Optimizer.apply_gradients or Optimizer.minimize.\n"
     ]
    },
    {
     "output_type": "stream",
     "name": "stderr",
     "text": [
      "W0829 21:56:04.564707  6600 basic_session_run_hooks.py:724] It seems that global step (tf.train.get_global_step) has not been increased. Current value (could be stable): 164 vs previous value: 164. You could increase the global step by passing tf.train.get_global_step() to Optimizer.apply_gradients or Optimizer.minimize.\n"
     ]
    },
    {
     "output_type": "stream",
     "name": "stdout",
     "text": [
      "INFO:tensorflow:global_step/sec: 0.0319826\n"
     ]
    },
    {
     "output_type": "stream",
     "name": "stderr",
     "text": [
      "I0829 21:56:35.740705  6600 tpu_estimator.py:2159] global_step/sec: 0.0319826\n"
     ]
    },
    {
     "output_type": "stream",
     "name": "stdout",
     "text": [
      "INFO:tensorflow:examples/sec: 0.511722\n"
     ]
    },
    {
     "output_type": "stream",
     "name": "stderr",
     "text": [
      "I0829 21:56:35.843708  6600 tpu_estimator.py:2160] examples/sec: 0.511722\n"
     ]
    },
    {
     "output_type": "stream",
     "name": "stdout",
     "text": [
      "INFO:tensorflow:global_step/sec: 0.0295902\n"
     ]
    },
    {
     "output_type": "stream",
     "name": "stderr",
     "text": [
      "I0829 21:57:09.535707  6600 tpu_estimator.py:2159] global_step/sec: 0.0295902\n"
     ]
    },
    {
     "output_type": "stream",
     "name": "stdout",
     "text": [
      "INFO:tensorflow:examples/sec: 0.473443\n"
     ]
    },
    {
     "output_type": "stream",
     "name": "stderr",
     "text": [
      "I0829 21:57:09.628707  6600 tpu_estimator.py:2160] examples/sec: 0.473443\n"
     ]
    },
    {
     "output_type": "stream",
     "name": "stdout",
     "text": [
      "INFO:tensorflow:global_step/sec: 0.0329587\n"
     ]
    },
    {
     "output_type": "stream",
     "name": "stderr",
     "text": [
      "I0829 21:57:39.878705  6600 tpu_estimator.py:2159] global_step/sec: 0.0329587\n"
     ]
    },
    {
     "output_type": "stream",
     "name": "stdout",
     "text": [
      "INFO:tensorflow:examples/sec: 0.527339\n"
     ]
    },
    {
     "output_type": "stream",
     "name": "stderr",
     "text": [
      "I0829 21:57:40.002703  6600 tpu_estimator.py:2160] examples/sec: 0.527339\n"
     ]
    },
    {
     "output_type": "stream",
     "name": "stdout",
     "text": [
      "INFO:tensorflow:global_step/sec: 0.0329012\n"
     ]
    },
    {
     "output_type": "stream",
     "name": "stderr",
     "text": [
      "I0829 21:58:10.269706  6600 tpu_estimator.py:2159] global_step/sec: 0.0329012\n"
     ]
    },
    {
     "output_type": "stream",
     "name": "stdout",
     "text": [
      "INFO:tensorflow:examples/sec: 0.52642\n"
     ]
    },
    {
     "output_type": "stream",
     "name": "stderr",
     "text": [
      "I0829 21:58:10.359705  6600 tpu_estimator.py:2160] examples/sec: 0.52642\n"
     ]
    },
    {
     "output_type": "stream",
     "name": "stdout",
     "text": [
      "INFO:tensorflow:global_step/sec: 0.033117\n"
     ]
    },
    {
     "output_type": "stream",
     "name": "stderr",
     "text": [
      "I0829 21:58:40.449706  6600 tpu_estimator.py:2159] global_step/sec: 0.033117\n"
     ]
    },
    {
     "output_type": "stream",
     "name": "stdout",
     "text": [
      "INFO:tensorflow:examples/sec: 0.529872\n"
     ]
    },
    {
     "output_type": "stream",
     "name": "stderr",
     "text": [
      "I0829 21:58:40.498706  6600 tpu_estimator.py:2160] examples/sec: 0.529872\n"
     ]
    },
    {
     "output_type": "stream",
     "name": "stdout",
     "text": [
      "WARNING:tensorflow:It seems that global step (tf.train.get_global_step) has not been increased. Current value (could be stable): 169 vs previous value: 169. You could increase the global step by passing tf.train.get_global_step() to Optimizer.apply_gradients or Optimizer.minimize.\n"
     ]
    },
    {
     "output_type": "stream",
     "name": "stderr",
     "text": [
      "W0829 21:58:40.505705  6600 basic_session_run_hooks.py:724] It seems that global step (tf.train.get_global_step) has not been increased. Current value (could be stable): 169 vs previous value: 169. You could increase the global step by passing tf.train.get_global_step() to Optimizer.apply_gradients or Optimizer.minimize.\n"
     ]
    },
    {
     "output_type": "stream",
     "name": "stdout",
     "text": [
      "INFO:tensorflow:global_step/sec: 0.0342056\n"
     ]
    },
    {
     "output_type": "stream",
     "name": "stderr",
     "text": [
      "I0829 21:59:09.708703  6600 tpu_estimator.py:2159] global_step/sec: 0.0342056\n"
     ]
    },
    {
     "output_type": "stream",
     "name": "stdout",
     "text": [
      "INFO:tensorflow:examples/sec: 0.547289\n"
     ]
    },
    {
     "output_type": "stream",
     "name": "stderr",
     "text": [
      "I0829 21:59:09.789707  6600 tpu_estimator.py:2160] examples/sec: 0.547289\n"
     ]
    },
    {
     "output_type": "stream",
     "name": "stdout",
     "text": [
      "INFO:tensorflow:global_step/sec: 0.0344341\n"
     ]
    },
    {
     "output_type": "stream",
     "name": "stderr",
     "text": [
      "I0829 21:59:38.725703  6600 tpu_estimator.py:2159] global_step/sec: 0.0344341\n"
     ]
    },
    {
     "output_type": "stream",
     "name": "stdout",
     "text": [
      "INFO:tensorflow:examples/sec: 0.550945\n"
     ]
    },
    {
     "output_type": "stream",
     "name": "stderr",
     "text": [
      "I0829 21:59:38.754704  6600 tpu_estimator.py:2160] examples/sec: 0.550945\n"
     ]
    },
    {
     "output_type": "stream",
     "name": "stdout",
     "text": [
      "INFO:tensorflow:global_step/sec: 0.0345232\n"
     ]
    },
    {
     "output_type": "stream",
     "name": "stderr",
     "text": [
      "I0829 22:00:07.692707  6600 tpu_estimator.py:2159] global_step/sec: 0.0345232\n"
     ]
    },
    {
     "output_type": "stream",
     "name": "stdout",
     "text": [
      "INFO:tensorflow:examples/sec: 0.552372\n"
     ]
    },
    {
     "output_type": "stream",
     "name": "stderr",
     "text": [
      "I0829 22:00:07.750709  6600 tpu_estimator.py:2160] examples/sec: 0.552372\n"
     ]
    },
    {
     "output_type": "stream",
     "name": "stdout",
     "text": [
      "INFO:tensorflow:global_step/sec: 0.0338329\n"
     ]
    },
    {
     "output_type": "stream",
     "name": "stderr",
     "text": [
      "I0829 22:00:37.265703  6600 tpu_estimator.py:2159] global_step/sec: 0.0338329\n"
     ]
    },
    {
     "output_type": "stream",
     "name": "stdout",
     "text": [
      "INFO:tensorflow:examples/sec: 0.541327\n"
     ]
    },
    {
     "output_type": "stream",
     "name": "stderr",
     "text": [
      "I0829 22:00:37.358704  6600 tpu_estimator.py:2160] examples/sec: 0.541327\n"
     ]
    },
    {
     "output_type": "stream",
     "name": "stdout",
     "text": [
      "INFO:tensorflow:global_step/sec: 0.0330186\n"
     ]
    },
    {
     "output_type": "stream",
     "name": "stderr",
     "text": [
      "I0829 22:01:07.534703  6600 tpu_estimator.py:2159] global_step/sec: 0.0330186\n"
     ]
    },
    {
     "output_type": "stream",
     "name": "stdout",
     "text": [
      "INFO:tensorflow:examples/sec: 0.528297\n"
     ]
    },
    {
     "output_type": "stream",
     "name": "stderr",
     "text": [
      "I0829 22:01:07.571705  6600 tpu_estimator.py:2160] examples/sec: 0.528297\n"
     ]
    },
    {
     "output_type": "stream",
     "name": "stdout",
     "text": [
      "INFO:tensorflow:global_step/sec: 0.0346069\n"
     ]
    },
    {
     "output_type": "stream",
     "name": "stderr",
     "text": [
      "I0829 22:01:36.457703  6600 tpu_estimator.py:2159] global_step/sec: 0.0346069\n"
     ]
    },
    {
     "output_type": "stream",
     "name": "stdout",
     "text": [
      "INFO:tensorflow:examples/sec: 0.55371\n"
     ]
    },
    {
     "output_type": "stream",
     "name": "stderr",
     "text": [
      "I0829 22:01:36.569706  6600 tpu_estimator.py:2160] examples/sec: 0.55371\n"
     ]
    },
    {
     "output_type": "stream",
     "name": "stdout",
     "text": [
      "INFO:tensorflow:global_step/sec: 0.0332339\n"
     ]
    },
    {
     "output_type": "stream",
     "name": "stderr",
     "text": [
      "I0829 22:02:06.520495  6600 tpu_estimator.py:2159] global_step/sec: 0.0332339\n"
     ]
    },
    {
     "output_type": "stream",
     "name": "stdout",
     "text": [
      "INFO:tensorflow:examples/sec: 0.531742\n"
     ]
    },
    {
     "output_type": "stream",
     "name": "stderr",
     "text": [
      "I0829 22:02:06.551493  6600 tpu_estimator.py:2160] examples/sec: 0.531742\n"
     ]
    },
    {
     "output_type": "stream",
     "name": "stdout",
     "text": [
      "INFO:tensorflow:global_step/sec: 0.0334437\n"
     ]
    },
    {
     "output_type": "stream",
     "name": "stderr",
     "text": [
      "I0829 22:02:36.425495  6600 tpu_estimator.py:2159] global_step/sec: 0.0334437\n"
     ]
    },
    {
     "output_type": "stream",
     "name": "stdout",
     "text": [
      "INFO:tensorflow:examples/sec: 0.535099\n"
     ]
    },
    {
     "output_type": "stream",
     "name": "stderr",
     "text": [
      "I0829 22:02:36.465495  6600 tpu_estimator.py:2160] examples/sec: 0.535099\n"
     ]
    },
    {
     "output_type": "stream",
     "name": "stdout",
     "text": [
      "INFO:tensorflow:global_step/sec: 0.0301605\n"
     ]
    },
    {
     "output_type": "stream",
     "name": "stderr",
     "text": [
      "I0829 22:03:09.586493  6600 tpu_estimator.py:2159] global_step/sec: 0.0301605\n"
     ]
    },
    {
     "output_type": "stream",
     "name": "stdout",
     "text": [
      "INFO:tensorflow:examples/sec: 0.482567\n"
     ]
    },
    {
     "output_type": "stream",
     "name": "stderr",
     "text": [
      "I0829 22:03:09.655497  6600 tpu_estimator.py:2160] examples/sec: 0.482567\n"
     ]
    },
    {
     "output_type": "stream",
     "name": "stdout",
     "text": [
      "INFO:tensorflow:global_step/sec: 0.0328699\n"
     ]
    },
    {
     "output_type": "stream",
     "name": "stderr",
     "text": [
      "I0829 22:03:40.018494  6600 tpu_estimator.py:2159] global_step/sec: 0.0328699\n"
     ]
    },
    {
     "output_type": "stream",
     "name": "stdout",
     "text": [
      "INFO:tensorflow:examples/sec: 0.525918\n"
     ]
    },
    {
     "output_type": "stream",
     "name": "stderr",
     "text": [
      "I0829 22:03:40.112496  6600 tpu_estimator.py:2160] examples/sec: 0.525918\n"
     ]
    },
    {
     "output_type": "stream",
     "name": "stdout",
     "text": [
      "INFO:tensorflow:global_step/sec: 0.0325055\n"
     ]
    },
    {
     "output_type": "stream",
     "name": "stderr",
     "text": [
      "I0829 22:04:10.781496  6600 tpu_estimator.py:2159] global_step/sec: 0.0325055\n"
     ]
    },
    {
     "output_type": "stream",
     "name": "stdout",
     "text": [
      "INFO:tensorflow:examples/sec: 0.520088\n"
     ]
    },
    {
     "output_type": "stream",
     "name": "stderr",
     "text": [
      "I0829 22:04:10.873494  6600 tpu_estimator.py:2160] examples/sec: 0.520088\n"
     ]
    },
    {
     "output_type": "stream",
     "name": "stdout",
     "text": [
      "INFO:tensorflow:global_step/sec: 0.0337918\n"
     ]
    },
    {
     "output_type": "stream",
     "name": "stderr",
     "text": [
      "I0829 22:04:40.373492  6600 tpu_estimator.py:2159] global_step/sec: 0.0337918\n"
     ]
    },
    {
     "output_type": "stream",
     "name": "stdout",
     "text": [
      "INFO:tensorflow:examples/sec: 0.540668\n"
     ]
    },
    {
     "output_type": "stream",
     "name": "stderr",
     "text": [
      "I0829 22:04:40.459496  6600 tpu_estimator.py:2160] examples/sec: 0.540668\n"
     ]
    },
    {
     "output_type": "stream",
     "name": "stdout",
     "text": [
      "INFO:tensorflow:global_step/sec: 0.0338341\n"
     ]
    },
    {
     "output_type": "stream",
     "name": "stderr",
     "text": [
      "I0829 22:05:09.913492  6600 tpu_estimator.py:2159] global_step/sec: 0.0338341\n"
     ]
    },
    {
     "output_type": "stream",
     "name": "stdout",
     "text": [
      "INFO:tensorflow:examples/sec: 0.541345\n"
     ]
    },
    {
     "output_type": "stream",
     "name": "stderr",
     "text": [
      "I0829 22:05:09.955496  6600 tpu_estimator.py:2160] examples/sec: 0.541345\n"
     ]
    },
    {
     "output_type": "stream",
     "name": "stdout",
     "text": [
      "WARNING:tensorflow:It seems that global step (tf.train.get_global_step) has not been increased. Current value (could be stable): 182 vs previous value: 182. You could increase the global step by passing tf.train.get_global_step() to Optimizer.apply_gradients or Optimizer.minimize.\n"
     ]
    },
    {
     "output_type": "stream",
     "name": "stderr",
     "text": [
      "W0829 22:05:09.958497  6600 basic_session_run_hooks.py:724] It seems that global step (tf.train.get_global_step) has not been increased. Current value (could be stable): 182 vs previous value: 182. You could increase the global step by passing tf.train.get_global_step() to Optimizer.apply_gradients or Optimizer.minimize.\n"
     ]
    },
    {
     "output_type": "stream",
     "name": "stdout",
     "text": [
      "INFO:tensorflow:global_step/sec: 0.0336293\n"
     ]
    },
    {
     "output_type": "stream",
     "name": "stderr",
     "text": [
      "I0829 22:05:39.649492  6600 tpu_estimator.py:2159] global_step/sec: 0.0336293\n"
     ]
    },
    {
     "output_type": "stream",
     "name": "stdout",
     "text": [
      "INFO:tensorflow:examples/sec: 0.538068\n"
     ]
    },
    {
     "output_type": "stream",
     "name": "stderr",
     "text": [
      "I0829 22:05:39.679496  6600 tpu_estimator.py:2160] examples/sec: 0.538068\n"
     ]
    },
    {
     "output_type": "stream",
     "name": "stdout",
     "text": [
      "INFO:tensorflow:global_step/sec: 0.0331915\n"
     ]
    },
    {
     "output_type": "stream",
     "name": "stderr",
     "text": [
      "I0829 22:06:09.780495  6600 tpu_estimator.py:2159] global_step/sec: 0.0331915\n"
     ]
    },
    {
     "output_type": "stream",
     "name": "stdout",
     "text": [
      "INFO:tensorflow:examples/sec: 0.531065\n"
     ]
    },
    {
     "output_type": "stream",
     "name": "stderr",
     "text": [
      "I0829 22:06:09.821499  6600 tpu_estimator.py:2160] examples/sec: 0.531065\n"
     ]
    },
    {
     "output_type": "stream",
     "name": "stdout",
     "text": [
      "WARNING:tensorflow:It seems that global step (tf.train.get_global_step) has not been increased. Current value (could be stable): 184 vs previous value: 184. You could increase the global step by passing tf.train.get_global_step() to Optimizer.apply_gradients or Optimizer.minimize.\n"
     ]
    },
    {
     "output_type": "stream",
     "name": "stderr",
     "text": [
      "W0829 22:06:09.825497  6600 basic_session_run_hooks.py:724] It seems that global step (tf.train.get_global_step) has not been increased. Current value (could be stable): 184 vs previous value: 184. You could increase the global step by passing tf.train.get_global_step() to Optimizer.apply_gradients or Optimizer.minimize.\n"
     ]
    },
    {
     "output_type": "stream",
     "name": "stdout",
     "text": [
      "INFO:tensorflow:global_step/sec: 0.032666\n"
     ]
    },
    {
     "output_type": "stream",
     "name": "stderr",
     "text": [
      "I0829 22:06:40.395493  6600 tpu_estimator.py:2159] global_step/sec: 0.032666\n"
     ]
    },
    {
     "output_type": "stream",
     "name": "stdout",
     "text": [
      "INFO:tensorflow:examples/sec: 0.522656\n"
     ]
    },
    {
     "output_type": "stream",
     "name": "stderr",
     "text": [
      "I0829 22:06:40.463495  6600 tpu_estimator.py:2160] examples/sec: 0.522656\n"
     ]
    },
    {
     "output_type": "stream",
     "name": "stdout",
     "text": [
      "INFO:tensorflow:global_step/sec: 0.0336802\n"
     ]
    },
    {
     "output_type": "stream",
     "name": "stderr",
     "text": [
      "I0829 22:07:10.083495  6600 tpu_estimator.py:2159] global_step/sec: 0.0336802\n"
     ]
    },
    {
     "output_type": "stream",
     "name": "stdout",
     "text": [
      "INFO:tensorflow:examples/sec: 0.538884\n"
     ]
    },
    {
     "output_type": "stream",
     "name": "stderr",
     "text": [
      "I0829 22:07:10.139498  6600 tpu_estimator.py:2160] examples/sec: 0.538884\n"
     ]
    },
    {
     "output_type": "stream",
     "name": "stdout",
     "text": [
      "INFO:tensorflow:global_step/sec: 0.0331334\n"
     ]
    },
    {
     "output_type": "stream",
     "name": "stderr",
     "text": [
      "I0829 22:07:40.279494  6600 tpu_estimator.py:2159] global_step/sec: 0.0331334\n"
     ]
    },
    {
     "output_type": "stream",
     "name": "stdout",
     "text": [
      "INFO:tensorflow:examples/sec: 0.530135\n"
     ]
    },
    {
     "output_type": "stream",
     "name": "stderr",
     "text": [
      "I0829 22:07:40.375495  6600 tpu_estimator.py:2160] examples/sec: 0.530135\n"
     ]
    },
    {
     "output_type": "stream",
     "name": "stdout",
     "text": [
      "INFO:tensorflow:global_step/sec: 0.033195\n"
     ]
    },
    {
     "output_type": "stream",
     "name": "stderr",
     "text": [
      "I0829 22:08:10.387492  6600 tpu_estimator.py:2159] global_step/sec: 0.033195\n"
     ]
    },
    {
     "output_type": "stream",
     "name": "stdout",
     "text": [
      "INFO:tensorflow:examples/sec: 0.53112\n"
     ]
    },
    {
     "output_type": "stream",
     "name": "stderr",
     "text": [
      "I0829 22:08:10.414495  6600 tpu_estimator.py:2160] examples/sec: 0.53112\n"
     ]
    },
    {
     "output_type": "stream",
     "name": "stdout",
     "text": [
      "INFO:tensorflow:global_step/sec: 0.034046\n"
     ]
    },
    {
     "output_type": "stream",
     "name": "stderr",
     "text": [
      "I0829 22:08:39.750495  6600 tpu_estimator.py:2159] global_step/sec: 0.034046\n"
     ]
    },
    {
     "output_type": "stream",
     "name": "stdout",
     "text": [
      "INFO:tensorflow:examples/sec: 0.544736\n"
     ]
    },
    {
     "output_type": "stream",
     "name": "stderr",
     "text": [
      "I0829 22:08:39.763495  6600 tpu_estimator.py:2160] examples/sec: 0.544736\n"
     ]
    },
    {
     "output_type": "stream",
     "name": "stdout",
     "text": [
      "INFO:tensorflow:global_step/sec: 0.0337257\n"
     ]
    },
    {
     "output_type": "stream",
     "name": "stderr",
     "text": [
      "I0829 22:09:09.410496  6600 tpu_estimator.py:2159] global_step/sec: 0.0337257\n"
     ]
    },
    {
     "output_type": "stream",
     "name": "stdout",
     "text": [
      "INFO:tensorflow:examples/sec: 0.539611\n"
     ]
    },
    {
     "output_type": "stream",
     "name": "stderr",
     "text": [
      "I0829 22:09:09.443500  6600 tpu_estimator.py:2160] examples/sec: 0.539611\n"
     ]
    },
    {
     "output_type": "stream",
     "name": "stdout",
     "text": [
      "INFO:tensorflow:global_step/sec: 0.0343324\n"
     ]
    },
    {
     "output_type": "stream",
     "name": "stderr",
     "text": [
      "I0829 22:09:38.559494  6600 tpu_estimator.py:2159] global_step/sec: 0.0343324\n"
     ]
    },
    {
     "output_type": "stream",
     "name": "stdout",
     "text": [
      "INFO:tensorflow:examples/sec: 0.549319\n"
     ]
    },
    {
     "output_type": "stream",
     "name": "stderr",
     "text": [
      "I0829 22:09:38.667495  6600 tpu_estimator.py:2160] examples/sec: 0.549319\n"
     ]
    },
    {
     "output_type": "stream",
     "name": "stdout",
     "text": [
      "INFO:tensorflow:global_step/sec: 0.0319295\n"
     ]
    },
    {
     "output_type": "stream",
     "name": "stderr",
     "text": [
      "I0829 22:10:09.857501  6600 tpu_estimator.py:2159] global_step/sec: 0.0319295\n"
     ]
    },
    {
     "output_type": "stream",
     "name": "stdout",
     "text": [
      "INFO:tensorflow:examples/sec: 0.510872\n"
     ]
    },
    {
     "output_type": "stream",
     "name": "stderr",
     "text": [
      "I0829 22:10:09.886504  6600 tpu_estimator.py:2160] examples/sec: 0.510872\n"
     ]
    },
    {
     "output_type": "stream",
     "name": "stdout",
     "text": [
      "INFO:tensorflow:global_step/sec: 0.0329804\n"
     ]
    },
    {
     "output_type": "stream",
     "name": "stderr",
     "text": [
      "I0829 22:10:40.192500  6600 tpu_estimator.py:2159] global_step/sec: 0.0329804\n"
     ]
    },
    {
     "output_type": "stream",
     "name": "stdout",
     "text": [
      "INFO:tensorflow:examples/sec: 0.527687\n"
     ]
    },
    {
     "output_type": "stream",
     "name": "stderr",
     "text": [
      "I0829 22:10:40.285503  6600 tpu_estimator.py:2160] examples/sec: 0.527687\n"
     ]
    },
    {
     "output_type": "stream",
     "name": "stdout",
     "text": [
      "INFO:tensorflow:global_step/sec: 0.0338203\n"
     ]
    },
    {
     "output_type": "stream",
     "name": "stderr",
     "text": [
      "I0829 22:11:09.758504  6600 tpu_estimator.py:2159] global_step/sec: 0.0338203\n"
     ]
    },
    {
     "output_type": "stream",
     "name": "stdout",
     "text": [
      "INFO:tensorflow:examples/sec: 0.541126\n"
     ]
    },
    {
     "output_type": "stream",
     "name": "stderr",
     "text": [
      "I0829 22:11:09.837502  6600 tpu_estimator.py:2160] examples/sec: 0.541126\n"
     ]
    },
    {
     "output_type": "stream",
     "name": "stdout",
     "text": [
      "INFO:tensorflow:global_step/sec: 0.036245\n"
     ]
    },
    {
     "output_type": "stream",
     "name": "stderr",
     "text": [
      "I0829 22:11:37.338502  6600 tpu_estimator.py:2159] global_step/sec: 0.036245\n"
     ]
    },
    {
     "output_type": "stream",
     "name": "stdout",
     "text": [
      "INFO:tensorflow:examples/sec: 0.57992\n"
     ]
    },
    {
     "output_type": "stream",
     "name": "stderr",
     "text": [
      "I0829 22:11:37.376504  6600 tpu_estimator.py:2160] examples/sec: 0.57992\n"
     ]
    },
    {
     "output_type": "stream",
     "name": "stdout",
     "text": [
      "INFO:tensorflow:global_step/sec: 0.0343359\n"
     ]
    },
    {
     "output_type": "stream",
     "name": "stderr",
     "text": [
      "I0829 22:12:06.463505  6600 tpu_estimator.py:2159] global_step/sec: 0.0343359\n"
     ]
    },
    {
     "output_type": "stream",
     "name": "stdout",
     "text": [
      "INFO:tensorflow:examples/sec: 0.549375\n"
     ]
    },
    {
     "output_type": "stream",
     "name": "stderr",
     "text": [
      "I0829 22:12:06.520506  6600 tpu_estimator.py:2160] examples/sec: 0.549375\n"
     ]
    },
    {
     "output_type": "stream",
     "name": "stdout",
     "text": [
      "INFO:tensorflow:global_step/sec: 0.0331587\n"
     ]
    },
    {
     "output_type": "stream",
     "name": "stderr",
     "text": [
      "I0829 22:12:36.619504  6600 tpu_estimator.py:2159] global_step/sec: 0.0331587\n"
     ]
    },
    {
     "output_type": "stream",
     "name": "stdout",
     "text": [
      "INFO:tensorflow:examples/sec: 0.530539\n"
     ]
    },
    {
     "output_type": "stream",
     "name": "stderr",
     "text": [
      "I0829 22:12:36.651507  6600 tpu_estimator.py:2160] examples/sec: 0.530539\n"
     ]
    },
    {
     "output_type": "stream",
     "name": "stdout",
     "text": [
      "INFO:tensorflow:global_step/sec: 0.0329891\n"
     ]
    },
    {
     "output_type": "stream",
     "name": "stderr",
     "text": [
      "I0829 22:13:06.931509  6600 tpu_estimator.py:2159] global_step/sec: 0.0329891\n"
     ]
    },
    {
     "output_type": "stream",
     "name": "stdout",
     "text": [
      "INFO:tensorflow:examples/sec: 0.527826\n"
     ]
    },
    {
     "output_type": "stream",
     "name": "stderr",
     "text": [
      "I0829 22:13:06.967505  6600 tpu_estimator.py:2160] examples/sec: 0.527826\n"
     ]
    },
    {
     "output_type": "stream",
     "name": "stdout",
     "text": [
      "INFO:tensorflow:global_step/sec: 0.0338192\n"
     ]
    },
    {
     "output_type": "stream",
     "name": "stderr",
     "text": [
      "I0829 22:13:36.512503  6600 tpu_estimator.py:2159] global_step/sec: 0.0338192\n"
     ]
    },
    {
     "output_type": "stream",
     "name": "stdout",
     "text": [
      "INFO:tensorflow:examples/sec: 0.541107\n"
     ]
    },
    {
     "output_type": "stream",
     "name": "stderr",
     "text": [
      "I0829 22:13:36.596503  6600 tpu_estimator.py:2160] examples/sec: 0.541107\n"
     ]
    },
    {
     "output_type": "stream",
     "name": "stdout",
     "text": [
      "INFO:tensorflow:global_step/sec: 0.0327853\n"
     ]
    },
    {
     "output_type": "stream",
     "name": "stderr",
     "text": [
      "I0829 22:14:07.014998  6600 tpu_estimator.py:2159] global_step/sec: 0.0327853\n"
     ]
    },
    {
     "output_type": "stream",
     "name": "stdout",
     "text": [
      "INFO:tensorflow:examples/sec: 0.524564\n"
     ]
    },
    {
     "output_type": "stream",
     "name": "stderr",
     "text": [
      "I0829 22:14:07.111001  6600 tpu_estimator.py:2160] examples/sec: 0.524564\n"
     ]
    },
    {
     "output_type": "stream",
     "name": "stdout",
     "text": [
      "INFO:tensorflow:global_step/sec: 0.0337447\n"
     ]
    },
    {
     "output_type": "stream",
     "name": "stderr",
     "text": [
      "I0829 22:14:36.636324  6600 tpu_estimator.py:2159] global_step/sec: 0.0337447\n"
     ]
    },
    {
     "output_type": "stream",
     "name": "stdout",
     "text": [
      "INFO:tensorflow:examples/sec: 0.539914\n"
     ]
    },
    {
     "output_type": "stream",
     "name": "stderr",
     "text": [
      "I0829 22:14:36.666323  6600 tpu_estimator.py:2160] examples/sec: 0.539914\n"
     ]
    },
    {
     "output_type": "stream",
     "name": "stdout",
     "text": [
      "INFO:tensorflow:global_step/sec: 0.034009\n"
     ]
    },
    {
     "output_type": "stream",
     "name": "stderr",
     "text": [
      "I0829 22:15:06.063321  6600 tpu_estimator.py:2159] global_step/sec: 0.034009\n"
     ]
    },
    {
     "output_type": "stream",
     "name": "stdout",
     "text": [
      "INFO:tensorflow:examples/sec: 0.544144\n"
     ]
    },
    {
     "output_type": "stream",
     "name": "stderr",
     "text": [
      "I0829 22:15:06.188324  6600 tpu_estimator.py:2160] examples/sec: 0.544144\n"
     ]
    },
    {
     "output_type": "stream",
     "name": "stdout",
     "text": [
      "INFO:tensorflow:global_step/sec: 0.0337826\n"
     ]
    },
    {
     "output_type": "stream",
     "name": "stderr",
     "text": [
      "I0829 22:15:35.658322  6600 tpu_estimator.py:2159] global_step/sec: 0.0337826\n"
     ]
    },
    {
     "output_type": "stream",
     "name": "stdout",
     "text": [
      "INFO:tensorflow:examples/sec: 0.540522\n"
     ]
    },
    {
     "output_type": "stream",
     "name": "stderr",
     "text": [
      "I0829 22:15:35.743324  6600 tpu_estimator.py:2160] examples/sec: 0.540522\n"
     ]
    },
    {
     "output_type": "stream",
     "name": "stdout",
     "text": [
      "INFO:tensorflow:global_step/sec: 0.0329979\n"
     ]
    },
    {
     "output_type": "stream",
     "name": "stderr",
     "text": [
      "I0829 22:16:05.945320  6600 tpu_estimator.py:2159] global_step/sec: 0.0329979\n"
     ]
    },
    {
     "output_type": "stream",
     "name": "stdout",
     "text": [
      "INFO:tensorflow:examples/sec: 0.527966\n"
     ]
    },
    {
     "output_type": "stream",
     "name": "stderr",
     "text": [
      "I0829 22:16:05.974324  6600 tpu_estimator.py:2160] examples/sec: 0.527966\n"
     ]
    },
    {
     "output_type": "stream",
     "name": "stdout",
     "text": [
      "INFO:tensorflow:global_step/sec: 0.0331235\n"
     ]
    },
    {
     "output_type": "stream",
     "name": "stderr",
     "text": [
      "I0829 22:16:36.134321  6600 tpu_estimator.py:2159] global_step/sec: 0.0331235\n"
     ]
    },
    {
     "output_type": "stream",
     "name": "stdout",
     "text": [
      "INFO:tensorflow:examples/sec: 0.529977\n"
     ]
    },
    {
     "output_type": "stream",
     "name": "stderr",
     "text": [
      "I0829 22:16:36.171324  6600 tpu_estimator.py:2160] examples/sec: 0.529977\n"
     ]
    },
    {
     "output_type": "stream",
     "name": "stdout",
     "text": [
      "INFO:tensorflow:global_step/sec: 0.0338593\n"
     ]
    },
    {
     "output_type": "stream",
     "name": "stderr",
     "text": [
      "I0829 22:17:05.669321  6600 tpu_estimator.py:2159] global_step/sec: 0.0338593\n"
     ]
    },
    {
     "output_type": "stream",
     "name": "stdout",
     "text": [
      "INFO:tensorflow:examples/sec: 0.541749\n"
     ]
    },
    {
     "output_type": "stream",
     "name": "stderr",
     "text": [
      "I0829 22:17:05.701323  6600 tpu_estimator.py:2160] examples/sec: 0.541749\n"
     ]
    },
    {
     "output_type": "stream",
     "name": "stdout",
     "text": [
      "INFO:tensorflow:global_step/sec: 0.0313778\n"
     ]
    },
    {
     "output_type": "stream",
     "name": "stderr",
     "text": [
      "I0829 22:17:37.541025  6600 tpu_estimator.py:2159] global_step/sec: 0.0313778\n"
     ]
    },
    {
     "output_type": "stream",
     "name": "stdout",
     "text": [
      "INFO:tensorflow:examples/sec: 0.502044\n"
     ]
    },
    {
     "output_type": "stream",
     "name": "stderr",
     "text": [
      "I0829 22:17:37.575024  6600 tpu_estimator.py:2160] examples/sec: 0.502044\n"
     ]
    },
    {
     "output_type": "stream",
     "name": "stdout",
     "text": [
      "INFO:tensorflow:global_step/sec: 0.0309876\n"
     ]
    },
    {
     "output_type": "stream",
     "name": "stderr",
     "text": [
      "I0829 22:18:09.830021  6600 tpu_estimator.py:2159] global_step/sec: 0.0309876\n"
     ]
    },
    {
     "output_type": "stream",
     "name": "stdout",
     "text": [
      "INFO:tensorflow:examples/sec: 0.495801\n"
     ]
    },
    {
     "output_type": "stream",
     "name": "stderr",
     "text": [
      "I0829 22:18:09.938025  6600 tpu_estimator.py:2160] examples/sec: 0.495801\n"
     ]
    },
    {
     "output_type": "stream",
     "name": "stdout",
     "text": [
      "INFO:tensorflow:global_step/sec: 0.0284083\n"
     ]
    },
    {
     "output_type": "stream",
     "name": "stderr",
     "text": [
      "I0829 22:18:45.037024  6600 tpu_estimator.py:2159] global_step/sec: 0.0284083\n"
     ]
    },
    {
     "output_type": "stream",
     "name": "stdout",
     "text": [
      "INFO:tensorflow:examples/sec: 0.454533\n"
     ]
    },
    {
     "output_type": "stream",
     "name": "stderr",
     "text": [
      "I0829 22:18:45.188023  6600 tpu_estimator.py:2160] examples/sec: 0.454533\n"
     ]
    },
    {
     "output_type": "stream",
     "name": "stdout",
     "text": [
      "INFO:tensorflow:global_step/sec: 0.0321161\n"
     ]
    },
    {
     "output_type": "stream",
     "name": "stderr",
     "text": [
      "I0829 22:19:16.164022  6600 tpu_estimator.py:2159] global_step/sec: 0.0321161\n"
     ]
    },
    {
     "output_type": "stream",
     "name": "stdout",
     "text": [
      "INFO:tensorflow:examples/sec: 0.513858\n"
     ]
    },
    {
     "output_type": "stream",
     "name": "stderr",
     "text": [
      "I0829 22:19:16.244024  6600 tpu_estimator.py:2160] examples/sec: 0.513858\n"
     ]
    },
    {
     "output_type": "stream",
     "name": "stdout",
     "text": [
      "INFO:tensorflow:global_step/sec: 0.0330622\n"
     ]
    },
    {
     "output_type": "stream",
     "name": "stderr",
     "text": [
      "I0829 22:19:46.411022  6600 tpu_estimator.py:2159] global_step/sec: 0.0330622\n"
     ]
    },
    {
     "output_type": "stream",
     "name": "stdout",
     "text": [
      "INFO:tensorflow:examples/sec: 0.528996\n"
     ]
    },
    {
     "output_type": "stream",
     "name": "stderr",
     "text": [
      "I0829 22:19:46.502023  6600 tpu_estimator.py:2160] examples/sec: 0.528996\n"
     ]
    },
    {
     "output_type": "stream",
     "name": "stdout",
     "text": [
      "INFO:tensorflow:global_step/sec: 0.0325584\n"
     ]
    },
    {
     "output_type": "stream",
     "name": "stderr",
     "text": [
      "I0829 22:20:17.124019  6600 tpu_estimator.py:2159] global_step/sec: 0.0325584\n"
     ]
    },
    {
     "output_type": "stream",
     "name": "stdout",
     "text": [
      "INFO:tensorflow:examples/sec: 0.520935\n"
     ]
    },
    {
     "output_type": "stream",
     "name": "stderr",
     "text": [
      "I0829 22:20:17.263027  6600 tpu_estimator.py:2160] examples/sec: 0.520935\n"
     ]
    },
    {
     "output_type": "stream",
     "name": "stdout",
     "text": [
      "INFO:tensorflow:global_step/sec: 0.0327126\n"
     ]
    },
    {
     "output_type": "stream",
     "name": "stderr",
     "text": [
      "I0829 22:20:47.699263  6600 tpu_estimator.py:2159] global_step/sec: 0.0327126\n"
     ]
    },
    {
     "output_type": "stream",
     "name": "stdout",
     "text": [
      "INFO:tensorflow:examples/sec: 0.523402\n"
     ]
    },
    {
     "output_type": "stream",
     "name": "stderr",
     "text": [
      "I0829 22:20:47.825266  6600 tpu_estimator.py:2160] examples/sec: 0.523402\n"
     ]
    },
    {
     "output_type": "stream",
     "name": "stdout",
     "text": [
      "INFO:tensorflow:global_step/sec: 0.0335323\n"
     ]
    },
    {
     "output_type": "stream",
     "name": "stderr",
     "text": [
      "I0829 22:21:17.502264  6600 tpu_estimator.py:2159] global_step/sec: 0.0335323\n"
     ]
    },
    {
     "output_type": "stream",
     "name": "stdout",
     "text": [
      "INFO:tensorflow:examples/sec: 0.536517\n"
     ]
    },
    {
     "output_type": "stream",
     "name": "stderr",
     "text": [
      "I0829 22:21:17.543268  6600 tpu_estimator.py:2160] examples/sec: 0.536517\n"
     ]
    },
    {
     "output_type": "stream",
     "name": "stdout",
     "text": [
      "INFO:tensorflow:global_step/sec: 0.0331576\n"
     ]
    },
    {
     "output_type": "stream",
     "name": "stderr",
     "text": [
      "I0829 22:21:47.688264  6600 tpu_estimator.py:2159] global_step/sec: 0.0331576\n"
     ]
    },
    {
     "output_type": "stream",
     "name": "stdout",
     "text": [
      "INFO:tensorflow:examples/sec: 0.530522\n"
     ]
    },
    {
     "output_type": "stream",
     "name": "stderr",
     "text": [
      "I0829 22:21:47.774264  6600 tpu_estimator.py:2160] examples/sec: 0.530522\n"
     ]
    },
    {
     "output_type": "stream",
     "name": "stdout",
     "text": [
      "INFO:tensorflow:global_step/sec: 0.0331246\n"
     ]
    },
    {
     "output_type": "stream",
     "name": "stderr",
     "text": [
      "I0829 22:22:17.863259  6600 tpu_estimator.py:2159] global_step/sec: 0.0331246\n"
     ]
    },
    {
     "output_type": "stream",
     "name": "stdout",
     "text": [
      "INFO:tensorflow:examples/sec: 0.529994\n"
     ]
    },
    {
     "output_type": "stream",
     "name": "stderr",
     "text": [
      "I0829 22:22:17.952265  6600 tpu_estimator.py:2160] examples/sec: 0.529994\n"
     ]
    },
    {
     "output_type": "stream",
     "name": "stdout",
     "text": [
      "INFO:tensorflow:global_step/sec: 0.0334739\n"
     ]
    },
    {
     "output_type": "stream",
     "name": "stderr",
     "text": [
      "I0829 22:22:47.725265  6600 tpu_estimator.py:2159] global_step/sec: 0.0334739\n"
     ]
    },
    {
     "output_type": "stream",
     "name": "stdout",
     "text": [
      "INFO:tensorflow:examples/sec: 0.535583\n"
     ]
    },
    {
     "output_type": "stream",
     "name": "stderr",
     "text": [
      "I0829 22:22:47.772265  6600 tpu_estimator.py:2160] examples/sec: 0.535583\n"
     ]
    },
    {
     "output_type": "stream",
     "name": "stdout",
     "text": [
      "INFO:tensorflow:global_step/sec: 0.034125\n"
     ]
    },
    {
     "output_type": "stream",
     "name": "stderr",
     "text": [
      "I0829 22:23:17.030265  6600 tpu_estimator.py:2159] global_step/sec: 0.034125\n"
     ]
    },
    {
     "output_type": "stream",
     "name": "stdout",
     "text": [
      "INFO:tensorflow:examples/sec: 0.546001\n"
     ]
    },
    {
     "output_type": "stream",
     "name": "stderr",
     "text": [
      "I0829 22:23:17.067264  6600 tpu_estimator.py:2160] examples/sec: 0.546001\n"
     ]
    },
    {
     "output_type": "stream",
     "name": "stdout",
     "text": [
      "INFO:tensorflow:global_step/sec: 0.0349834\n"
     ]
    },
    {
     "output_type": "stream",
     "name": "stderr",
     "text": [
      "I0829 22:23:45.632267  6600 tpu_estimator.py:2159] global_step/sec: 0.0349834\n"
     ]
    },
    {
     "output_type": "stream",
     "name": "stdout",
     "text": [
      "INFO:tensorflow:examples/sec: 0.559734\n"
     ]
    },
    {
     "output_type": "stream",
     "name": "stderr",
     "text": [
      "I0829 22:23:45.769266  6600 tpu_estimator.py:2160] examples/sec: 0.559734\n"
     ]
    },
    {
     "output_type": "stream",
     "name": "stdout",
     "text": [
      "INFO:tensorflow:global_step/sec: 0.0344839\n"
     ]
    },
    {
     "output_type": "stream",
     "name": "stderr",
     "text": [
      "I0829 22:24:14.612264  6600 tpu_estimator.py:2159] global_step/sec: 0.0344839\n"
     ]
    },
    {
     "output_type": "stream",
     "name": "stdout",
     "text": [
      "INFO:tensorflow:examples/sec: 0.551743\n"
     ]
    },
    {
     "output_type": "stream",
     "name": "stderr",
     "text": [
      "I0829 22:24:14.644268  6600 tpu_estimator.py:2160] examples/sec: 0.551743\n"
     ]
    },
    {
     "output_type": "stream",
     "name": "stdout",
     "text": [
      "INFO:tensorflow:global_step/sec: 0.0338501\n"
     ]
    },
    {
     "output_type": "stream",
     "name": "stderr",
     "text": [
      "I0829 22:24:44.186265  6600 tpu_estimator.py:2159] global_step/sec: 0.0338501\n"
     ]
    },
    {
     "output_type": "stream",
     "name": "stdout",
     "text": [
      "INFO:tensorflow:examples/sec: 0.541602\n"
     ]
    },
    {
     "output_type": "stream",
     "name": "stderr",
     "text": [
      "I0829 22:24:44.280264  6600 tpu_estimator.py:2160] examples/sec: 0.541602\n"
     ]
    },
    {
     "output_type": "stream",
     "name": "stdout",
     "text": [
      "INFO:tensorflow:global_step/sec: 0.0319816\n"
     ]
    },
    {
     "output_type": "stream",
     "name": "stderr",
     "text": [
      "I0829 22:25:15.423265  6600 tpu_estimator.py:2159] global_step/sec: 0.0319816\n"
     ]
    },
    {
     "output_type": "stream",
     "name": "stdout",
     "text": [
      "INFO:tensorflow:examples/sec: 0.511705\n"
     ]
    },
    {
     "output_type": "stream",
     "name": "stderr",
     "text": [
      "I0829 22:25:15.475268  6600 tpu_estimator.py:2160] examples/sec: 0.511705\n"
     ]
    },
    {
     "output_type": "stream",
     "name": "stdout",
     "text": [
      "INFO:tensorflow:global_step/sec: 0.0330415\n"
     ]
    },
    {
     "output_type": "stream",
     "name": "stderr",
     "text": [
      "I0829 22:25:45.684264  6600 tpu_estimator.py:2159] global_step/sec: 0.0330415\n"
     ]
    },
    {
     "output_type": "stream",
     "name": "stdout",
     "text": [
      "INFO:tensorflow:examples/sec: 0.528664\n"
     ]
    },
    {
     "output_type": "stream",
     "name": "stderr",
     "text": [
      "I0829 22:25:45.712265  6600 tpu_estimator.py:2160] examples/sec: 0.528664\n"
     ]
    },
    {
     "output_type": "stream",
     "name": "stdout",
     "text": [
      "INFO:tensorflow:global_step/sec: 0.0324998\n"
     ]
    },
    {
     "output_type": "stream",
     "name": "stderr",
     "text": [
      "I0829 22:26:16.469677  6600 tpu_estimator.py:2159] global_step/sec: 0.0324998\n"
     ]
    },
    {
     "output_type": "stream",
     "name": "stdout",
     "text": [
      "INFO:tensorflow:examples/sec: 0.519997\n"
     ]
    },
    {
     "output_type": "stream",
     "name": "stderr",
     "text": [
      "I0829 22:26:16.560678  6600 tpu_estimator.py:2160] examples/sec: 0.519997\n"
     ]
    },
    {
     "output_type": "stream",
     "name": "stdout",
     "text": [
      "INFO:tensorflow:global_step/sec: 0.0345427\n"
     ]
    },
    {
     "output_type": "stream",
     "name": "stderr",
     "text": [
      "I0829 22:26:45.405351  6600 tpu_estimator.py:2159] global_step/sec: 0.0345427\n"
     ]
    },
    {
     "output_type": "stream",
     "name": "stdout",
     "text": [
      "INFO:tensorflow:examples/sec: 0.552683\n"
     ]
    },
    {
     "output_type": "stream",
     "name": "stderr",
     "text": [
      "I0829 22:26:45.434350  6600 tpu_estimator.py:2160] examples/sec: 0.552683\n"
     ]
    },
    {
     "output_type": "stream",
     "name": "stdout",
     "text": [
      "INFO:tensorflow:global_step/sec: 0.0342085\n"
     ]
    },
    {
     "output_type": "stream",
     "name": "stderr",
     "text": [
      "I0829 22:27:14.640868  6600 tpu_estimator.py:2159] global_step/sec: 0.0342085\n"
     ]
    },
    {
     "output_type": "stream",
     "name": "stdout",
     "text": [
      "INFO:tensorflow:examples/sec: 0.547336\n"
     ]
    },
    {
     "output_type": "stream",
     "name": "stderr",
     "text": [
      "I0829 22:27:14.678869  6600 tpu_estimator.py:2160] examples/sec: 0.547336\n"
     ]
    },
    {
     "output_type": "stream",
     "name": "stdout",
     "text": [
      "INFO:tensorflow:global_step/sec: 0.0340576\n"
     ]
    },
    {
     "output_type": "stream",
     "name": "stderr",
     "text": [
      "I0829 22:27:44.011869  6600 tpu_estimator.py:2159] global_step/sec: 0.0340576\n"
     ]
    },
    {
     "output_type": "stream",
     "name": "stdout",
     "text": [
      "INFO:tensorflow:examples/sec: 0.544922\n"
     ]
    },
    {
     "output_type": "stream",
     "name": "stderr",
     "text": [
      "I0829 22:27:44.121872  6600 tpu_estimator.py:2160] examples/sec: 0.544922\n"
     ]
    },
    {
     "output_type": "stream",
     "name": "stdout",
     "text": [
      "INFO:tensorflow:global_step/sec: 0.0336168\n"
     ]
    },
    {
     "output_type": "stream",
     "name": "stderr",
     "text": [
      "I0829 22:28:13.761871  6600 tpu_estimator.py:2159] global_step/sec: 0.0336168\n"
     ]
    },
    {
     "output_type": "stream",
     "name": "stdout",
     "text": [
      "INFO:tensorflow:examples/sec: 0.537869\n"
     ]
    },
    {
     "output_type": "stream",
     "name": "stderr",
     "text": [
      "I0829 22:28:13.856872  6600 tpu_estimator.py:2160] examples/sec: 0.537869\n"
     ]
    },
    {
     "output_type": "stream",
     "name": "stdout",
     "text": [
      "INFO:tensorflow:global_step/sec: 0.0316644\n"
     ]
    },
    {
     "output_type": "stream",
     "name": "stderr",
     "text": [
      "I0829 22:28:45.329073  6600 tpu_estimator.py:2159] global_step/sec: 0.0316644\n"
     ]
    },
    {
     "output_type": "stream",
     "name": "stdout",
     "text": [
      "INFO:tensorflow:examples/sec: 0.506631\n"
     ]
    },
    {
     "output_type": "stream",
     "name": "stderr",
     "text": [
      "I0829 22:28:45.365074  6600 tpu_estimator.py:2160] examples/sec: 0.506631\n"
     ]
    },
    {
     "output_type": "stream",
     "name": "stdout",
     "text": [
      "INFO:tensorflow:global_step/sec: 0.034146\n"
     ]
    },
    {
     "output_type": "stream",
     "name": "stderr",
     "text": [
      "I0829 22:29:14.615075  6600 tpu_estimator.py:2159] global_step/sec: 0.034146\n"
     ]
    },
    {
     "output_type": "stream",
     "name": "stdout",
     "text": [
      "INFO:tensorflow:examples/sec: 0.546336\n"
     ]
    },
    {
     "output_type": "stream",
     "name": "stderr",
     "text": [
      "I0829 22:29:14.674073  6600 tpu_estimator.py:2160] examples/sec: 0.546336\n"
     ]
    },
    {
     "output_type": "stream",
     "name": "stdout",
     "text": [
      "INFO:tensorflow:global_step/sec: 0.0339052\n"
     ]
    },
    {
     "output_type": "stream",
     "name": "stderr",
     "text": [
      "I0829 22:29:44.121075  6600 tpu_estimator.py:2159] global_step/sec: 0.0339052\n"
     ]
    },
    {
     "output_type": "stream",
     "name": "stdout",
     "text": [
      "INFO:tensorflow:examples/sec: 0.542483\n"
     ]
    },
    {
     "output_type": "stream",
     "name": "stderr",
     "text": [
      "I0829 22:29:44.223077  6600 tpu_estimator.py:2160] examples/sec: 0.542483\n"
     ]
    },
    {
     "output_type": "stream",
     "name": "stdout",
     "text": [
      "INFO:tensorflow:global_step/sec: 0.0333912\n"
     ]
    },
    {
     "output_type": "stream",
     "name": "stderr",
     "text": [
      "I0829 22:30:14.068072  6600 tpu_estimator.py:2159] global_step/sec: 0.0333912\n"
     ]
    },
    {
     "output_type": "stream",
     "name": "stdout",
     "text": [
      "INFO:tensorflow:examples/sec: 0.534259\n"
     ]
    },
    {
     "output_type": "stream",
     "name": "stderr",
     "text": [
      "I0829 22:30:14.181074  6600 tpu_estimator.py:2160] examples/sec: 0.534259\n"
     ]
    },
    {
     "output_type": "stream",
     "name": "stdout",
     "text": [
      "INFO:tensorflow:global_step/sec: 0.0331027\n"
     ]
    },
    {
     "output_type": "stream",
     "name": "stderr",
     "text": [
      "I0829 22:30:44.279073  6600 tpu_estimator.py:2159] global_step/sec: 0.0331027\n"
     ]
    },
    {
     "output_type": "stream",
     "name": "stdout",
     "text": [
      "INFO:tensorflow:examples/sec: 0.529643\n"
     ]
    },
    {
     "output_type": "stream",
     "name": "stderr",
     "text": [
      "I0829 22:30:44.369074  6600 tpu_estimator.py:2160] examples/sec: 0.529643\n"
     ]
    },
    {
     "output_type": "stream",
     "name": "stdout",
     "text": [
      "INFO:tensorflow:global_step/sec: 0.0347258\n"
     ]
    },
    {
     "output_type": "stream",
     "name": "stderr",
     "text": [
      "I0829 22:31:13.061074  6600 tpu_estimator.py:2159] global_step/sec: 0.0347258\n"
     ]
    },
    {
     "output_type": "stream",
     "name": "stdout",
     "text": [
      "INFO:tensorflow:examples/sec: 0.555613\n"
     ]
    },
    {
     "output_type": "stream",
     "name": "stderr",
     "text": [
      "I0829 22:31:13.090075  6600 tpu_estimator.py:2160] examples/sec: 0.555613\n"
     ]
    },
    {
     "output_type": "stream",
     "name": "stdout",
     "text": [
      "INFO:tensorflow:global_step/sec: 0.033279\n"
     ]
    },
    {
     "output_type": "stream",
     "name": "stderr",
     "text": [
      "I0829 22:31:43.138072  6600 tpu_estimator.py:2159] global_step/sec: 0.033279\n"
     ]
    },
    {
     "output_type": "stream",
     "name": "stdout",
     "text": [
      "INFO:tensorflow:examples/sec: 0.532464\n"
     ]
    },
    {
     "output_type": "stream",
     "name": "stderr",
     "text": [
      "I0829 22:31:43.288075  6600 tpu_estimator.py:2160] examples/sec: 0.532464\n"
     ]
    },
    {
     "output_type": "stream",
     "name": "stdout",
     "text": [
      "INFO:tensorflow:global_step/sec: 0.0338524\n"
     ]
    },
    {
     "output_type": "stream",
     "name": "stderr",
     "text": [
      "I0829 22:32:12.663072  6600 tpu_estimator.py:2159] global_step/sec: 0.0338524\n"
     ]
    },
    {
     "output_type": "stream",
     "name": "stdout",
     "text": [
      "INFO:tensorflow:examples/sec: 0.541638\n"
     ]
    },
    {
     "output_type": "stream",
     "name": "stderr",
     "text": [
      "I0829 22:32:12.757076  6600 tpu_estimator.py:2160] examples/sec: 0.541638\n"
     ]
    },
    {
     "output_type": "stream",
     "name": "stdout",
     "text": [
      "INFO:tensorflow:global_step/sec: 0.0339894\n"
     ]
    },
    {
     "output_type": "stream",
     "name": "stderr",
     "text": [
      "I0829 22:32:42.071047  6600 tpu_estimator.py:2159] global_step/sec: 0.0339894\n"
     ]
    },
    {
     "output_type": "stream",
     "name": "stdout",
     "text": [
      "INFO:tensorflow:examples/sec: 0.54383\n"
     ]
    },
    {
     "output_type": "stream",
     "name": "stderr",
     "text": [
      "I0829 22:32:42.102048  6600 tpu_estimator.py:2160] examples/sec: 0.54383\n"
     ]
    },
    {
     "output_type": "stream",
     "name": "stdout",
     "text": [
      "INFO:tensorflow:global_step/sec: 0.0330022\n"
     ]
    },
    {
     "output_type": "stream",
     "name": "stderr",
     "text": [
      "I0829 22:33:12.389046  6600 tpu_estimator.py:2159] global_step/sec: 0.0330022\n"
     ]
    },
    {
     "output_type": "stream",
     "name": "stdout",
     "text": [
      "INFO:tensorflow:examples/sec: 0.528035\n"
     ]
    },
    {
     "output_type": "stream",
     "name": "stderr",
     "text": [
      "I0829 22:33:12.479050  6600 tpu_estimator.py:2160] examples/sec: 0.528035\n"
     ]
    },
    {
     "output_type": "stream",
     "name": "stdout",
     "text": [
      "INFO:tensorflow:global_step/sec: 0.0342853\n"
     ]
    },
    {
     "output_type": "stream",
     "name": "stderr",
     "text": [
      "I0829 22:33:41.553045  6600 tpu_estimator.py:2159] global_step/sec: 0.0342853\n"
     ]
    },
    {
     "output_type": "stream",
     "name": "stdout",
     "text": [
      "INFO:tensorflow:examples/sec: 0.548565\n"
     ]
    },
    {
     "output_type": "stream",
     "name": "stderr",
     "text": [
      "I0829 22:33:41.644047  6600 tpu_estimator.py:2160] examples/sec: 0.548565\n"
     ]
    },
    {
     "output_type": "stream",
     "name": "stdout",
     "text": [
      "INFO:tensorflow:global_step/sec: 0.033753\n"
     ]
    },
    {
     "output_type": "stream",
     "name": "stderr",
     "text": [
      "I0829 22:34:11.181044  6600 tpu_estimator.py:2159] global_step/sec: 0.033753\n"
     ]
    },
    {
     "output_type": "stream",
     "name": "stdout",
     "text": [
      "INFO:tensorflow:examples/sec: 0.540048\n"
     ]
    },
    {
     "output_type": "stream",
     "name": "stderr",
     "text": [
      "I0829 22:34:11.274047  6600 tpu_estimator.py:2160] examples/sec: 0.540048\n"
     ]
    },
    {
     "output_type": "stream",
     "name": "stdout",
     "text": [
      "INFO:tensorflow:global_step/sec: 0.0332745\n"
     ]
    },
    {
     "output_type": "stream",
     "name": "stderr",
     "text": [
      "I0829 22:34:41.218045  6600 tpu_estimator.py:2159] global_step/sec: 0.0332745\n"
     ]
    },
    {
     "output_type": "stream",
     "name": "stdout",
     "text": [
      "INFO:tensorflow:examples/sec: 0.532393\n"
     ]
    },
    {
     "output_type": "stream",
     "name": "stderr",
     "text": [
      "I0829 22:34:41.260047  6600 tpu_estimator.py:2160] examples/sec: 0.532393\n"
     ]
    },
    {
     "output_type": "stream",
     "name": "stdout",
     "text": [
      "INFO:tensorflow:global_step/sec: 0.0345352\n"
     ]
    },
    {
     "output_type": "stream",
     "name": "stderr",
     "text": [
      "I0829 22:35:10.178045  6600 tpu_estimator.py:2159] global_step/sec: 0.0345352\n"
     ]
    },
    {
     "output_type": "stream",
     "name": "stdout",
     "text": [
      "INFO:tensorflow:examples/sec: 0.552562\n"
     ]
    },
    {
     "output_type": "stream",
     "name": "stderr",
     "text": [
      "I0829 22:35:10.227047  6600 tpu_estimator.py:2160] examples/sec: 0.552562\n"
     ]
    },
    {
     "output_type": "stream",
     "name": "stdout",
     "text": [
      "INFO:tensorflow:global_step/sec: 0.0327673\n"
     ]
    },
    {
     "output_type": "stream",
     "name": "stderr",
     "text": [
      "I0829 22:35:40.693281  6600 tpu_estimator.py:2159] global_step/sec: 0.0327673\n"
     ]
    },
    {
     "output_type": "stream",
     "name": "stdout",
     "text": [
      "INFO:tensorflow:examples/sec: 0.524277\n"
     ]
    },
    {
     "output_type": "stream",
     "name": "stderr",
     "text": [
      "I0829 22:35:40.729284  6600 tpu_estimator.py:2160] examples/sec: 0.524277\n"
     ]
    },
    {
     "output_type": "stream",
     "name": "stdout",
     "text": [
      "INFO:tensorflow:global_step/sec: 0.0332392\n"
     ]
    },
    {
     "output_type": "stream",
     "name": "stderr",
     "text": [
      "I0829 22:36:10.795281  6600 tpu_estimator.py:2159] global_step/sec: 0.0332392\n"
     ]
    },
    {
     "output_type": "stream",
     "name": "stdout",
     "text": [
      "INFO:tensorflow:examples/sec: 0.531826\n"
     ]
    },
    {
     "output_type": "stream",
     "name": "stderr",
     "text": [
      "I0829 22:36:10.900285  6600 tpu_estimator.py:2160] examples/sec: 0.531826\n"
     ]
    },
    {
     "output_type": "stream",
     "name": "stdout",
     "text": [
      "INFO:tensorflow:global_step/sec: 0.0308824\n"
     ]
    },
    {
     "output_type": "stream",
     "name": "stderr",
     "text": [
      "I0829 22:36:43.155206  6600 tpu_estimator.py:2159] global_step/sec: 0.0308824\n"
     ]
    },
    {
     "output_type": "stream",
     "name": "stdout",
     "text": [
      "INFO:tensorflow:examples/sec: 0.494118\n"
     ]
    },
    {
     "output_type": "stream",
     "name": "stderr",
     "text": [
      "I0829 22:36:43.237208  6600 tpu_estimator.py:2160] examples/sec: 0.494118\n"
     ]
    },
    {
     "output_type": "stream",
     "name": "stdout",
     "text": [
      "INFO:tensorflow:global_step/sec: 0.0314192\n"
     ]
    },
    {
     "output_type": "stream",
     "name": "stderr",
     "text": [
      "I0829 22:37:14.984917  6600 tpu_estimator.py:2159] global_step/sec: 0.0314192\n"
     ]
    },
    {
     "output_type": "stream",
     "name": "stdout",
     "text": [
      "INFO:tensorflow:examples/sec: 0.502707\n"
     ]
    },
    {
     "output_type": "stream",
     "name": "stderr",
     "text": [
      "I0829 22:37:15.013913  6600 tpu_estimator.py:2160] examples/sec: 0.502707\n"
     ]
    },
    {
     "output_type": "stream",
     "name": "stdout",
     "text": [
      "INFO:tensorflow:global_step/sec: 0.0339674\n"
     ]
    },
    {
     "output_type": "stream",
     "name": "stderr",
     "text": [
      "I0829 22:37:44.442914  6600 tpu_estimator.py:2159] global_step/sec: 0.0339674\n"
     ]
    },
    {
     "output_type": "stream",
     "name": "stdout",
     "text": [
      "INFO:tensorflow:examples/sec: 0.543478\n"
     ]
    },
    {
     "output_type": "stream",
     "name": "stderr",
     "text": [
      "I0829 22:37:44.538916  6600 tpu_estimator.py:2160] examples/sec: 0.543478\n"
     ]
    },
    {
     "output_type": "stream",
     "name": "stdout",
     "text": [
      "INFO:tensorflow:global_step/sec: 0.0330655\n"
     ]
    },
    {
     "output_type": "stream",
     "name": "stderr",
     "text": [
      "I0829 22:38:14.684914  6600 tpu_estimator.py:2159] global_step/sec: 0.0330655\n"
     ]
    },
    {
     "output_type": "stream",
     "name": "stdout",
     "text": [
      "INFO:tensorflow:examples/sec: 0.529048\n"
     ]
    },
    {
     "output_type": "stream",
     "name": "stderr",
     "text": [
      "I0829 22:38:14.775915  6600 tpu_estimator.py:2160] examples/sec: 0.529048\n"
     ]
    },
    {
     "output_type": "stream",
     "name": "stdout",
     "text": [
      "INFO:tensorflow:global_step/sec: 0.0315246\n"
     ]
    },
    {
     "output_type": "stream",
     "name": "stderr",
     "text": [
      "I0829 22:38:46.378157  6600 tpu_estimator.py:2159] global_step/sec: 0.0315246\n"
     ]
    },
    {
     "output_type": "stream",
     "name": "stdout",
     "text": [
      "INFO:tensorflow:examples/sec: 0.504394\n"
     ]
    },
    {
     "output_type": "stream",
     "name": "stderr",
     "text": [
      "I0829 22:38:46.398160  6600 tpu_estimator.py:2160] examples/sec: 0.504394\n"
     ]
    },
    {
     "output_type": "stream",
     "name": "stdout",
     "text": [
      "INFO:tensorflow:global_step/sec: 0.0343124\n"
     ]
    },
    {
     "output_type": "stream",
     "name": "stderr",
     "text": [
      "I0829 22:39:15.536156  6600 tpu_estimator.py:2159] global_step/sec: 0.0343124\n"
     ]
    },
    {
     "output_type": "stream",
     "name": "stdout",
     "text": [
      "INFO:tensorflow:examples/sec: 0.548998\n"
     ]
    },
    {
     "output_type": "stream",
     "name": "stderr",
     "text": [
      "I0829 22:39:15.569158  6600 tpu_estimator.py:2160] examples/sec: 0.548998\n"
     ]
    },
    {
     "output_type": "stream",
     "name": "stdout",
     "text": [
      "INFO:tensorflow:global_step/sec: 0.0332912\n"
     ]
    },
    {
     "output_type": "stream",
     "name": "stderr",
     "text": [
      "I0829 22:39:45.597156  6600 tpu_estimator.py:2159] global_step/sec: 0.0332912\n"
     ]
    },
    {
     "output_type": "stream",
     "name": "stdout",
     "text": [
      "INFO:tensorflow:examples/sec: 0.532659\n"
     ]
    },
    {
     "output_type": "stream",
     "name": "stderr",
     "text": [
      "I0829 22:39:45.715161  6600 tpu_estimator.py:2160] examples/sec: 0.532659\n"
     ]
    },
    {
     "output_type": "stream",
     "name": "stdout",
     "text": [
      "INFO:tensorflow:global_step/sec: 0.0338593\n"
     ]
    },
    {
     "output_type": "stream",
     "name": "stderr",
     "text": [
      "I0829 22:40:15.120154  6600 tpu_estimator.py:2159] global_step/sec: 0.0338593\n"
     ]
    },
    {
     "output_type": "stream",
     "name": "stdout",
     "text": [
      "INFO:tensorflow:examples/sec: 0.541749\n"
     ]
    },
    {
     "output_type": "stream",
     "name": "stderr",
     "text": [
      "I0829 22:40:15.208157  6600 tpu_estimator.py:2160] examples/sec: 0.541749\n"
     ]
    },
    {
     "output_type": "stream",
     "name": "stdout",
     "text": [
      "INFO:tensorflow:global_step/sec: 0.0314144\n"
     ]
    },
    {
     "output_type": "stream",
     "name": "stderr",
     "text": [
      "I0829 22:40:46.940740  6600 tpu_estimator.py:2159] global_step/sec: 0.0314144\n"
     ]
    },
    {
     "output_type": "stream",
     "name": "stdout",
     "text": [
      "INFO:tensorflow:examples/sec: 0.50263\n"
     ]
    },
    {
     "output_type": "stream",
     "name": "stderr",
     "text": [
      "I0829 22:40:46.980742  6600 tpu_estimator.py:2160] examples/sec: 0.50263\n"
     ]
    },
    {
     "output_type": "stream",
     "name": "stdout",
     "text": [
      "INFO:tensorflow:global_step/sec: 0.0334471\n"
     ]
    },
    {
     "output_type": "stream",
     "name": "stderr",
     "text": [
      "I0829 22:41:16.849746  6600 tpu_estimator.py:2159] global_step/sec: 0.0334471\n"
     ]
    },
    {
     "output_type": "stream",
     "name": "stdout",
     "text": [
      "INFO:tensorflow:examples/sec: 0.535153\n"
     ]
    },
    {
     "output_type": "stream",
     "name": "stderr",
     "text": [
      "I0829 22:41:16.934736  6600 tpu_estimator.py:2160] examples/sec: 0.535153\n"
     ]
    },
    {
     "output_type": "stream",
     "name": "stdout",
     "text": [
      "INFO:tensorflow:global_step/sec: 0.0331884\n"
     ]
    },
    {
     "output_type": "stream",
     "name": "stderr",
     "text": [
      "I0829 22:41:46.985736  6600 tpu_estimator.py:2159] global_step/sec: 0.0331884\n"
     ]
    },
    {
     "output_type": "stream",
     "name": "stdout",
     "text": [
      "INFO:tensorflow:examples/sec: 0.531015\n"
     ]
    },
    {
     "output_type": "stream",
     "name": "stderr",
     "text": [
      "I0829 22:41:47.086743  6600 tpu_estimator.py:2160] examples/sec: 0.531015\n"
     ]
    },
    {
     "output_type": "stream",
     "name": "stdout",
     "text": [
      "INFO:tensorflow:global_step/sec: 0.0328052\n"
     ]
    },
    {
     "output_type": "stream",
     "name": "stderr",
     "text": [
      "I0829 22:42:17.469733  6600 tpu_estimator.py:2159] global_step/sec: 0.0328052\n"
     ]
    },
    {
     "output_type": "stream",
     "name": "stdout",
     "text": [
      "INFO:tensorflow:examples/sec: 0.524883\n"
     ]
    },
    {
     "output_type": "stream",
     "name": "stderr",
     "text": [
      "I0829 22:42:17.551736  6600 tpu_estimator.py:2160] examples/sec: 0.524883\n"
     ]
    },
    {
     "output_type": "stream",
     "name": "stdout",
     "text": [
      "INFO:tensorflow:global_step/sec: 0.0336293\n"
     ]
    },
    {
     "output_type": "stream",
     "name": "stderr",
     "text": [
      "I0829 22:42:47.195735  6600 tpu_estimator.py:2159] global_step/sec: 0.0336293\n"
     ]
    },
    {
     "output_type": "stream",
     "name": "stdout",
     "text": [
      "INFO:tensorflow:examples/sec: 0.538068\n"
     ]
    },
    {
     "output_type": "stream",
     "name": "stderr",
     "text": [
      "I0829 22:42:47.284735  6600 tpu_estimator.py:2160] examples/sec: 0.538068\n"
     ]
    },
    {
     "output_type": "stream",
     "name": "stdout",
     "text": [
      "INFO:tensorflow:global_step/sec: 0.0338822\n"
     ]
    },
    {
     "output_type": "stream",
     "name": "stderr",
     "text": [
      "I0829 22:43:16.702736  6600 tpu_estimator.py:2159] global_step/sec: 0.0338822\n"
     ]
    },
    {
     "output_type": "stream",
     "name": "stdout",
     "text": [
      "INFO:tensorflow:examples/sec: 0.542116\n"
     ]
    },
    {
     "output_type": "stream",
     "name": "stderr",
     "text": [
      "I0829 22:43:16.735738  6600 tpu_estimator.py:2160] examples/sec: 0.542116\n"
     ]
    },
    {
     "output_type": "stream",
     "name": "stdout",
     "text": [
      "INFO:tensorflow:global_step/sec: 0.0328256\n"
     ]
    },
    {
     "output_type": "stream",
     "name": "stderr",
     "text": [
      "I0829 22:43:47.165734  6600 tpu_estimator.py:2159] global_step/sec: 0.0328256\n"
     ]
    },
    {
     "output_type": "stream",
     "name": "stdout",
     "text": [
      "INFO:tensorflow:examples/sec: 0.52521\n"
     ]
    },
    {
     "output_type": "stream",
     "name": "stderr",
     "text": [
      "I0829 22:43:47.195739  6600 tpu_estimator.py:2160] examples/sec: 0.52521\n"
     ]
    },
    {
     "output_type": "stream",
     "name": "stdout",
     "text": [
      "INFO:tensorflow:global_step/sec: 0.0341728\n"
     ]
    },
    {
     "output_type": "stream",
     "name": "stderr",
     "text": [
      "I0829 22:44:16.428734  6600 tpu_estimator.py:2159] global_step/sec: 0.0341728\n"
     ]
    },
    {
     "output_type": "stream",
     "name": "stdout",
     "text": [
      "INFO:tensorflow:examples/sec: 0.546766\n"
     ]
    },
    {
     "output_type": "stream",
     "name": "stderr",
     "text": [
      "I0829 22:44:16.460735  6600 tpu_estimator.py:2160] examples/sec: 0.546766\n"
     ]
    },
    {
     "output_type": "stream",
     "name": "stdout",
     "text": [
      "INFO:tensorflow:global_step/sec: 0.0332834\n"
     ]
    },
    {
     "output_type": "stream",
     "name": "stderr",
     "text": [
      "I0829 22:44:46.486733  6600 tpu_estimator.py:2159] global_step/sec: 0.0332834\n"
     ]
    },
    {
     "output_type": "stream",
     "name": "stdout",
     "text": [
      "INFO:tensorflow:examples/sec: 0.532535\n"
     ]
    },
    {
     "output_type": "stream",
     "name": "stderr",
     "text": [
      "I0829 22:44:46.570735  6600 tpu_estimator.py:2160] examples/sec: 0.532535\n"
     ]
    },
    {
     "output_type": "stream",
     "name": "stdout",
     "text": [
      "INFO:tensorflow:global_step/sec: 0.0317995\n"
     ]
    },
    {
     "output_type": "stream",
     "name": "stderr",
     "text": [
      "I0829 22:45:17.934734  6600 tpu_estimator.py:2159] global_step/sec: 0.0317995\n"
     ]
    },
    {
     "output_type": "stream",
     "name": "stdout",
     "text": [
      "INFO:tensorflow:examples/sec: 0.508793\n"
     ]
    },
    {
     "output_type": "stream",
     "name": "stderr",
     "text": [
      "I0829 22:45:18.038736  6600 tpu_estimator.py:2160] examples/sec: 0.508793\n"
     ]
    },
    {
     "output_type": "stream",
     "name": "stdout",
     "text": [
      "INFO:tensorflow:global_step/sec: 0.0327307\n"
     ]
    },
    {
     "output_type": "stream",
     "name": "stderr",
     "text": [
      "I0829 22:45:48.476125  6600 tpu_estimator.py:2159] global_step/sec: 0.0327307\n"
     ]
    },
    {
     "output_type": "stream",
     "name": "stdout",
     "text": [
      "INFO:tensorflow:examples/sec: 0.523691\n"
     ]
    },
    {
     "output_type": "stream",
     "name": "stderr",
     "text": [
      "I0829 22:45:48.515128  6600 tpu_estimator.py:2160] examples/sec: 0.523691\n"
     ]
    },
    {
     "output_type": "stream",
     "name": "stdout",
     "text": [
      "INFO:tensorflow:global_step/sec: 0.0327697\n"
     ]
    },
    {
     "output_type": "stream",
     "name": "stderr",
     "text": [
      "I0829 22:46:19.003131  6600 tpu_estimator.py:2159] global_step/sec: 0.0327697\n"
     ]
    },
    {
     "output_type": "stream",
     "name": "stdout",
     "text": [
      "INFO:tensorflow:examples/sec: 0.524315\n"
     ]
    },
    {
     "output_type": "stream",
     "name": "stderr",
     "text": [
      "I0829 22:46:19.098126  6600 tpu_estimator.py:2160] examples/sec: 0.524315\n"
     ]
    },
    {
     "output_type": "stream",
     "name": "stdout",
     "text": [
      "INFO:tensorflow:global_step/sec: 0.0334784\n"
     ]
    },
    {
     "output_type": "stream",
     "name": "stderr",
     "text": [
      "I0829 22:46:48.875128  6600 tpu_estimator.py:2159] global_step/sec: 0.0334784\n"
     ]
    },
    {
     "output_type": "stream",
     "name": "stdout",
     "text": [
      "INFO:tensorflow:examples/sec: 0.535655\n"
     ]
    },
    {
     "output_type": "stream",
     "name": "stderr",
     "text": [
      "I0829 22:46:48.974127  6600 tpu_estimator.py:2160] examples/sec: 0.535655\n"
     ]
    },
    {
     "output_type": "stream",
     "name": "stdout",
     "text": [
      "INFO:tensorflow:global_step/sec: 0.0318664\n"
     ]
    },
    {
     "output_type": "stream",
     "name": "stderr",
     "text": [
      "I0829 22:47:20.254123  6600 tpu_estimator.py:2159] global_step/sec: 0.0318664\n"
     ]
    },
    {
     "output_type": "stream",
     "name": "stdout",
     "text": [
      "INFO:tensorflow:examples/sec: 0.509863\n"
     ]
    },
    {
     "output_type": "stream",
     "name": "stderr",
     "text": [
      "I0829 22:47:20.353125  6600 tpu_estimator.py:2160] examples/sec: 0.509863\n"
     ]
    },
    {
     "output_type": "stream",
     "name": "stdout",
     "text": [
      "INFO:tensorflow:global_step/sec: 0.0330186\n"
     ]
    },
    {
     "output_type": "stream",
     "name": "stderr",
     "text": [
      "I0829 22:47:50.540125  6600 tpu_estimator.py:2159] global_step/sec: 0.0330186\n"
     ]
    },
    {
     "output_type": "stream",
     "name": "stdout",
     "text": [
      "INFO:tensorflow:examples/sec: 0.528297\n"
     ]
    },
    {
     "output_type": "stream",
     "name": "stderr",
     "text": [
      "I0829 22:47:50.637127  6600 tpu_estimator.py:2160] examples/sec: 0.528297\n"
     ]
    },
    {
     "output_type": "stream",
     "name": "stdout",
     "text": [
      "INFO:tensorflow:global_step/sec: 0.0341064\n"
     ]
    },
    {
     "output_type": "stream",
     "name": "stderr",
     "text": [
      "I0829 22:48:19.862125  6600 tpu_estimator.py:2159] global_step/sec: 0.0341064\n"
     ]
    },
    {
     "output_type": "stream",
     "name": "stdout",
     "text": [
      "INFO:tensorflow:examples/sec: 0.545703\n"
     ]
    },
    {
     "output_type": "stream",
     "name": "stderr",
     "text": [
      "I0829 22:48:19.961128  6600 tpu_estimator.py:2160] examples/sec: 0.545703\n"
     ]
    },
    {
     "output_type": "stream",
     "name": "stdout",
     "text": [
      "INFO:tensorflow:global_step/sec: 0.0311081\n"
     ]
    },
    {
     "output_type": "stream",
     "name": "stderr",
     "text": [
      "I0829 22:48:52.009145  6600 tpu_estimator.py:2159] global_step/sec: 0.0311081\n"
     ]
    },
    {
     "output_type": "stream",
     "name": "stdout",
     "text": [
      "INFO:tensorflow:examples/sec: 0.497729\n"
     ]
    },
    {
     "output_type": "stream",
     "name": "stderr",
     "text": [
      "I0829 22:48:52.105145  6600 tpu_estimator.py:2160] examples/sec: 0.497729\n"
     ]
    },
    {
     "output_type": "stream",
     "name": "stdout",
     "text": [
      "INFO:tensorflow:global_step/sec: 0.0331325\n"
     ]
    },
    {
     "output_type": "stream",
     "name": "stderr",
     "text": [
      "I0829 22:49:22.173959  6600 tpu_estimator.py:2159] global_step/sec: 0.0331325\n"
     ]
    },
    {
     "output_type": "stream",
     "name": "stdout",
     "text": [
      "INFO:tensorflow:examples/sec: 0.530121\n"
     ]
    },
    {
     "output_type": "stream",
     "name": "stderr",
     "text": [
      "I0829 22:49:22.211959  6600 tpu_estimator.py:2160] examples/sec: 0.530121\n"
     ]
    },
    {
     "output_type": "stream",
     "name": "stdout",
     "text": [
      "INFO:tensorflow:global_step/sec: 0.033106\n"
     ]
    },
    {
     "output_type": "stream",
     "name": "stderr",
     "text": [
      "I0829 22:49:52.392958  6600 tpu_estimator.py:2159] global_step/sec: 0.033106\n"
     ]
    },
    {
     "output_type": "stream",
     "name": "stdout",
     "text": [
      "INFO:tensorflow:examples/sec: 0.529696\n"
     ]
    },
    {
     "output_type": "stream",
     "name": "stderr",
     "text": [
      "I0829 22:49:52.487957  6600 tpu_estimator.py:2160] examples/sec: 0.529696\n"
     ]
    },
    {
     "output_type": "stream",
     "name": "stdout",
     "text": [
      "INFO:tensorflow:global_step/sec: 0.0326846\n"
     ]
    },
    {
     "output_type": "stream",
     "name": "stderr",
     "text": [
      "I0829 22:50:22.978440  6600 tpu_estimator.py:2159] global_step/sec: 0.0326846\n"
     ]
    },
    {
     "output_type": "stream",
     "name": "stdout",
     "text": [
      "INFO:tensorflow:examples/sec: 0.522953\n"
     ]
    },
    {
     "output_type": "stream",
     "name": "stderr",
     "text": [
      "I0829 22:50:23.019440  6600 tpu_estimator.py:2160] examples/sec: 0.522953\n"
     ]
    },
    {
     "output_type": "stream",
     "name": "stdout",
     "text": [
      "INFO:tensorflow:global_step/sec: 0.0320544\n"
     ]
    },
    {
     "output_type": "stream",
     "name": "stderr",
     "text": [
      "I0829 22:50:54.176444  6600 tpu_estimator.py:2159] global_step/sec: 0.0320544\n"
     ]
    },
    {
     "output_type": "stream",
     "name": "stdout",
     "text": [
      "INFO:tensorflow:examples/sec: 0.51287\n"
     ]
    },
    {
     "output_type": "stream",
     "name": "stderr",
     "text": [
      "I0829 22:50:54.223442  6600 tpu_estimator.py:2160] examples/sec: 0.51287\n"
     ]
    },
    {
     "output_type": "stream",
     "name": "stdout",
     "text": [
      "INFO:tensorflow:global_step/sec: 0.031727\n"
     ]
    },
    {
     "output_type": "stream",
     "name": "stderr",
     "text": [
      "I0829 22:51:25.713294  6600 tpu_estimator.py:2159] global_step/sec: 0.031727\n"
     ]
    },
    {
     "output_type": "stream",
     "name": "stdout",
     "text": [
      "INFO:tensorflow:examples/sec: 0.507633\n"
     ]
    },
    {
     "output_type": "stream",
     "name": "stderr",
     "text": [
      "I0829 22:51:25.840292  6600 tpu_estimator.py:2160] examples/sec: 0.507633\n"
     ]
    },
    {
     "output_type": "stream",
     "name": "stdout",
     "text": [
      "INFO:tensorflow:global_step/sec: 0.0328364\n"
     ]
    },
    {
     "output_type": "stream",
     "name": "stderr",
     "text": [
      "I0829 22:51:56.162292  6600 tpu_estimator.py:2159] global_step/sec: 0.0328364\n"
     ]
    },
    {
     "output_type": "stream",
     "name": "stdout",
     "text": [
      "INFO:tensorflow:examples/sec: 0.525383\n"
     ]
    },
    {
     "output_type": "stream",
     "name": "stderr",
     "text": [
      "I0829 22:51:56.286292  6600 tpu_estimator.py:2160] examples/sec: 0.525383\n"
     ]
    },
    {
     "output_type": "stream",
     "name": "stdout",
     "text": [
      "INFO:tensorflow:global_step/sec: 0.0341472\n"
     ]
    },
    {
     "output_type": "stream",
     "name": "stderr",
     "text": [
      "I0829 22:52:25.429290  6600 tpu_estimator.py:2159] global_step/sec: 0.0341472\n"
     ]
    },
    {
     "output_type": "stream",
     "name": "stdout",
     "text": [
      "INFO:tensorflow:examples/sec: 0.546355\n"
     ]
    },
    {
     "output_type": "stream",
     "name": "stderr",
     "text": [
      "I0829 22:52:25.459292  6600 tpu_estimator.py:2160] examples/sec: 0.546355\n"
     ]
    },
    {
     "output_type": "stream",
     "name": "stdout",
     "text": [
      "INFO:tensorflow:global_step/sec: 0.0338146\n"
     ]
    },
    {
     "output_type": "stream",
     "name": "stderr",
     "text": [
      "I0829 22:52:55.018289  6600 tpu_estimator.py:2159] global_step/sec: 0.0338146\n"
     ]
    },
    {
     "output_type": "stream",
     "name": "stdout",
     "text": [
      "INFO:tensorflow:examples/sec: 0.541034\n"
     ]
    },
    {
     "output_type": "stream",
     "name": "stderr",
     "text": [
      "I0829 22:52:55.112292  6600 tpu_estimator.py:2160] examples/sec: 0.541034\n"
     ]
    },
    {
     "output_type": "stream",
     "name": "stdout",
     "text": [
      "INFO:tensorflow:global_step/sec: 0.0314663\n"
     ]
    },
    {
     "output_type": "stream",
     "name": "stderr",
     "text": [
      "I0829 22:53:26.784288  6600 tpu_estimator.py:2159] global_step/sec: 0.0314663\n"
     ]
    },
    {
     "output_type": "stream",
     "name": "stdout",
     "text": [
      "INFO:tensorflow:examples/sec: 0.503461\n"
     ]
    },
    {
     "output_type": "stream",
     "name": "stderr",
     "text": [
      "I0829 22:53:26.831290  6600 tpu_estimator.py:2160] examples/sec: 0.503461\n"
     ]
    },
    {
     "output_type": "stream",
     "name": "stdout",
     "text": [
      "INFO:tensorflow:global_step/sec: 0.0340657\n"
     ]
    },
    {
     "output_type": "stream",
     "name": "stderr",
     "text": [
      "I0829 22:53:56.155290  6600 tpu_estimator.py:2159] global_step/sec: 0.0340657\n"
     ]
    },
    {
     "output_type": "stream",
     "name": "stdout",
     "text": [
      "INFO:tensorflow:examples/sec: 0.545052\n"
     ]
    },
    {
     "output_type": "stream",
     "name": "stderr",
     "text": [
      "I0829 22:53:56.255292  6600 tpu_estimator.py:2160] examples/sec: 0.545052\n"
     ]
    },
    {
     "output_type": "stream",
     "name": "stdout",
     "text": [
      "INFO:tensorflow:global_step/sec: 0.0334269\n"
     ]
    },
    {
     "output_type": "stream",
     "name": "stderr",
     "text": [
      "I0829 22:54:26.043297  6600 tpu_estimator.py:2159] global_step/sec: 0.0334269\n"
     ]
    },
    {
     "output_type": "stream",
     "name": "stdout",
     "text": [
      "INFO:tensorflow:examples/sec: 0.534831\n"
     ]
    },
    {
     "output_type": "stream",
     "name": "stderr",
     "text": [
      "I0829 22:54:26.060292  6600 tpu_estimator.py:2160] examples/sec: 0.534831\n"
     ]
    },
    {
     "output_type": "stream",
     "name": "stdout",
     "text": [
      "INFO:tensorflow:global_step/sec: 0.0330349\n"
     ]
    },
    {
     "output_type": "stream",
     "name": "stderr",
     "text": [
      "I0829 22:54:56.339290  6600 tpu_estimator.py:2159] global_step/sec: 0.0330349\n"
     ]
    },
    {
     "output_type": "stream",
     "name": "stdout",
     "text": [
      "INFO:tensorflow:examples/sec: 0.528559\n"
     ]
    },
    {
     "output_type": "stream",
     "name": "stderr",
     "text": [
      "I0829 22:54:56.435293  6600 tpu_estimator.py:2160] examples/sec: 0.528559\n"
     ]
    },
    {
     "output_type": "stream",
     "name": "stdout",
     "text": [
      "INFO:tensorflow:global_step/sec: 0.0322633\n"
     ]
    },
    {
     "output_type": "stream",
     "name": "stderr",
     "text": [
      "I0829 22:55:27.335292  6600 tpu_estimator.py:2159] global_step/sec: 0.0322633\n"
     ]
    },
    {
     "output_type": "stream",
     "name": "stdout",
     "text": [
      "INFO:tensorflow:examples/sec: 0.516212\n"
     ]
    },
    {
     "output_type": "stream",
     "name": "stderr",
     "text": [
      "I0829 22:55:27.433295  6600 tpu_estimator.py:2160] examples/sec: 0.516212\n"
     ]
    },
    {
     "output_type": "stream",
     "name": "stdout",
     "text": [
      "INFO:tensorflow:global_step/sec: 0.0336338\n"
     ]
    },
    {
     "output_type": "stream",
     "name": "stderr",
     "text": [
      "I0829 22:55:57.052290  6600 tpu_estimator.py:2159] global_step/sec: 0.0336338\n"
     ]
    },
    {
     "output_type": "stream",
     "name": "stdout",
     "text": [
      "INFO:tensorflow:examples/sec: 0.538141\n"
     ]
    },
    {
     "output_type": "stream",
     "name": "stderr",
     "text": [
      "I0829 22:55:57.082292  6600 tpu_estimator.py:2160] examples/sec: 0.538141\n"
     ]
    },
    {
     "output_type": "stream",
     "name": "stdout",
     "text": [
      "INFO:tensorflow:global_step/sec: 0.0334325\n"
     ]
    },
    {
     "output_type": "stream",
     "name": "stderr",
     "text": [
      "I0829 22:56:26.968289  6600 tpu_estimator.py:2159] global_step/sec: 0.0334325\n"
     ]
    },
    {
     "output_type": "stream",
     "name": "stdout",
     "text": [
      "INFO:tensorflow:examples/sec: 0.53492\n"
     ]
    },
    {
     "output_type": "stream",
     "name": "stderr",
     "text": [
      "I0829 22:56:27.017291  6600 tpu_estimator.py:2160] examples/sec: 0.53492\n"
     ]
    },
    {
     "output_type": "stream",
     "name": "stdout",
     "text": [
      "INFO:tensorflow:global_step/sec: 0.0344602\n"
     ]
    },
    {
     "output_type": "stream",
     "name": "stderr",
     "text": [
      "I0829 22:56:55.985289  6600 tpu_estimator.py:2159] global_step/sec: 0.0344602\n"
     ]
    },
    {
     "output_type": "stream",
     "name": "stdout",
     "text": [
      "INFO:tensorflow:examples/sec: 0.551363\n"
     ]
    },
    {
     "output_type": "stream",
     "name": "stderr",
     "text": [
      "I0829 22:56:56.024292  6600 tpu_estimator.py:2160] examples/sec: 0.551363\n"
     ]
    },
    {
     "output_type": "stream",
     "name": "stdout",
     "text": [
      "INFO:tensorflow:global_step/sec: 0.0345256\n"
     ]
    },
    {
     "output_type": "stream",
     "name": "stderr",
     "text": [
      "I0829 22:57:24.969293  6600 tpu_estimator.py:2159] global_step/sec: 0.0345256\n"
     ]
    },
    {
     "output_type": "stream",
     "name": "stdout",
     "text": [
      "INFO:tensorflow:examples/sec: 0.55241\n"
     ]
    },
    {
     "output_type": "stream",
     "name": "stderr",
     "text": [
      "I0829 22:57:25.065291  6600 tpu_estimator.py:2160] examples/sec: 0.55241\n"
     ]
    },
    {
     "output_type": "stream",
     "name": "stdout",
     "text": [
      "INFO:tensorflow:global_step/sec: 0.0328581\n"
     ]
    },
    {
     "output_type": "stream",
     "name": "stderr",
     "text": [
      "I0829 22:57:55.380199  6600 tpu_estimator.py:2159] global_step/sec: 0.0328581\n"
     ]
    },
    {
     "output_type": "stream",
     "name": "stdout",
     "text": [
      "INFO:tensorflow:examples/sec: 0.525729\n"
     ]
    },
    {
     "output_type": "stream",
     "name": "stderr",
     "text": [
      "I0829 22:57:55.418196  6600 tpu_estimator.py:2160] examples/sec: 0.525729\n"
     ]
    },
    {
     "output_type": "stream",
     "name": "stdout",
     "text": [
      "INFO:tensorflow:global_step/sec: 0.0333289\n"
     ]
    },
    {
     "output_type": "stream",
     "name": "stderr",
     "text": [
      "I0829 22:58:25.401199  6600 tpu_estimator.py:2159] global_step/sec: 0.0333289\n"
     ]
    },
    {
     "output_type": "stream",
     "name": "stdout",
     "text": [
      "INFO:tensorflow:examples/sec: 0.533262\n"
     ]
    },
    {
     "output_type": "stream",
     "name": "stderr",
     "text": [
      "I0829 22:58:25.501198  6600 tpu_estimator.py:2160] examples/sec: 0.533262\n"
     ]
    },
    {
     "output_type": "stream",
     "name": "stdout",
     "text": [
      "INFO:tensorflow:global_step/sec: 0.0324149\n"
     ]
    },
    {
     "output_type": "stream",
     "name": "stderr",
     "text": [
      "I0829 22:58:56.261197  6600 tpu_estimator.py:2159] global_step/sec: 0.0324149\n"
     ]
    },
    {
     "output_type": "stream",
     "name": "stdout",
     "text": [
      "INFO:tensorflow:examples/sec: 0.518639\n"
     ]
    },
    {
     "output_type": "stream",
     "name": "stderr",
     "text": [
      "I0829 22:58:56.372195  6600 tpu_estimator.py:2160] examples/sec: 0.518639\n"
     ]
    },
    {
     "output_type": "stream",
     "name": "stdout",
     "text": [
      "INFO:tensorflow:global_step/sec: 0.031547\n"
     ]
    },
    {
     "output_type": "stream",
     "name": "stderr",
     "text": [
      "I0829 22:59:27.945884  6600 tpu_estimator.py:2159] global_step/sec: 0.031547\n"
     ]
    },
    {
     "output_type": "stream",
     "name": "stdout",
     "text": [
      "INFO:tensorflow:examples/sec: 0.504753\n"
     ]
    },
    {
     "output_type": "stream",
     "name": "stderr",
     "text": [
      "I0829 22:59:28.035884  6600 tpu_estimator.py:2160] examples/sec: 0.504753\n"
     ]
    },
    {
     "output_type": "stream",
     "name": "stdout",
     "text": [
      "INFO:tensorflow:global_step/sec: 0.0339694\n"
     ]
    },
    {
     "output_type": "stream",
     "name": "stderr",
     "text": [
      "I0829 22:59:57.371176  6600 tpu_estimator.py:2159] global_step/sec: 0.0339694\n"
     ]
    },
    {
     "output_type": "stream",
     "name": "stdout",
     "text": [
      "INFO:tensorflow:examples/sec: 0.54351\n"
     ]
    },
    {
     "output_type": "stream",
     "name": "stderr",
     "text": [
      "I0829 22:59:57.417182  6600 tpu_estimator.py:2160] examples/sec: 0.54351\n"
     ]
    },
    {
     "output_type": "stream",
     "name": "stdout",
     "text": [
      "INFO:tensorflow:global_step/sec: 0.0338192\n"
     ]
    },
    {
     "output_type": "stream",
     "name": "stderr",
     "text": [
      "I0829 23:00:26.956179  6600 tpu_estimator.py:2159] global_step/sec: 0.0338192\n"
     ]
    },
    {
     "output_type": "stream",
     "name": "stdout",
     "text": [
      "INFO:tensorflow:examples/sec: 0.541107\n"
     ]
    },
    {
     "output_type": "stream",
     "name": "stderr",
     "text": [
      "I0829 23:00:27.054181  6600 tpu_estimator.py:2160] examples/sec: 0.541107\n"
     ]
    },
    {
     "output_type": "stream",
     "name": "stdout",
     "text": [
      "INFO:tensorflow:global_step/sec: 0.0334773\n"
     ]
    },
    {
     "output_type": "stream",
     "name": "stderr",
     "text": [
      "I0829 23:00:56.811177  6600 tpu_estimator.py:2159] global_step/sec: 0.0334773\n"
     ]
    },
    {
     "output_type": "stream",
     "name": "stdout",
     "text": [
      "INFO:tensorflow:examples/sec: 0.535637\n"
     ]
    },
    {
     "output_type": "stream",
     "name": "stderr",
     "text": [
      "I0829 23:00:56.850176  6600 tpu_estimator.py:2160] examples/sec: 0.535637\n"
     ]
    },
    {
     "output_type": "stream",
     "name": "stdout",
     "text": [
      "INFO:tensorflow:global_step/sec: 0.0334336\n"
     ]
    },
    {
     "output_type": "stream",
     "name": "stderr",
     "text": [
      "I0829 23:01:26.726177  6600 tpu_estimator.py:2159] global_step/sec: 0.0334336\n"
     ]
    },
    {
     "output_type": "stream",
     "name": "stdout",
     "text": [
      "INFO:tensorflow:examples/sec: 0.534938\n"
     ]
    },
    {
     "output_type": "stream",
     "name": "stderr",
     "text": [
      "I0829 23:01:26.766178  6600 tpu_estimator.py:2160] examples/sec: 0.534938\n"
     ]
    },
    {
     "output_type": "stream",
     "name": "stdout",
     "text": [
      "INFO:tensorflow:global_step/sec: 0.0339501\n"
     ]
    },
    {
     "output_type": "stream",
     "name": "stderr",
     "text": [
      "I0829 23:01:56.176178  6600 tpu_estimator.py:2159] global_step/sec: 0.0339501\n"
     ]
    },
    {
     "output_type": "stream",
     "name": "stdout",
     "text": [
      "INFO:tensorflow:examples/sec: 0.543202\n"
     ]
    },
    {
     "output_type": "stream",
     "name": "stderr",
     "text": [
      "I0829 23:01:56.207180  6600 tpu_estimator.py:2160] examples/sec: 0.543202\n"
     ]
    },
    {
     "output_type": "stream",
     "name": "stdout",
     "text": [
      "INFO:tensorflow:global_step/sec: 0.0332923\n"
     ]
    },
    {
     "output_type": "stream",
     "name": "stderr",
     "text": [
      "I0829 23:02:26.229178  6600 tpu_estimator.py:2159] global_step/sec: 0.0332923\n"
     ]
    },
    {
     "output_type": "stream",
     "name": "stdout",
     "text": [
      "INFO:tensorflow:examples/sec: 0.532676\n"
     ]
    },
    {
     "output_type": "stream",
     "name": "stderr",
     "text": [
      "I0829 23:02:26.329179  6600 tpu_estimator.py:2160] examples/sec: 0.532676\n"
     ]
    },
    {
     "output_type": "stream",
     "name": "stdout",
     "text": [
      "INFO:tensorflow:global_step/sec: 0.0326328\n"
     ]
    },
    {
     "output_type": "stream",
     "name": "stderr",
     "text": [
      "I0829 23:02:56.908178  6600 tpu_estimator.py:2159] global_step/sec: 0.0326328\n"
     ]
    },
    {
     "output_type": "stream",
     "name": "stdout",
     "text": [
      "INFO:tensorflow:examples/sec: 0.522125\n"
     ]
    },
    {
     "output_type": "stream",
     "name": "stderr",
     "text": [
      "I0829 23:02:57.020178  6600 tpu_estimator.py:2160] examples/sec: 0.522125\n"
     ]
    },
    {
     "output_type": "stream",
     "name": "stdout",
     "text": [
      "INFO:tensorflow:global_step/sec: 0.0332867\n"
     ]
    },
    {
     "output_type": "stream",
     "name": "stderr",
     "text": [
      "I0829 23:03:26.914177  6600 tpu_estimator.py:2159] global_step/sec: 0.0332867\n"
     ]
    },
    {
     "output_type": "stream",
     "name": "stdout",
     "text": [
      "INFO:tensorflow:examples/sec: 0.532588\n"
     ]
    },
    {
     "output_type": "stream",
     "name": "stderr",
     "text": [
      "I0829 23:03:27.011179  6600 tpu_estimator.py:2160] examples/sec: 0.532588\n"
     ]
    },
    {
     "output_type": "stream",
     "name": "stdout",
     "text": [
      "INFO:tensorflow:global_step/sec: 0.0335199\n"
     ]
    },
    {
     "output_type": "stream",
     "name": "stderr",
     "text": [
      "I0829 23:03:56.748178  6600 tpu_estimator.py:2159] global_step/sec: 0.0335199\n"
     ]
    },
    {
     "output_type": "stream",
     "name": "stdout",
     "text": [
      "INFO:tensorflow:examples/sec: 0.536319\n"
     ]
    },
    {
     "output_type": "stream",
     "name": "stderr",
     "text": [
      "I0829 23:03:56.837176  6600 tpu_estimator.py:2160] examples/sec: 0.536319\n"
     ]
    },
    {
     "output_type": "stream",
     "name": "stdout",
     "text": [
      "INFO:tensorflow:global_step/sec: 0.0318467\n"
     ]
    },
    {
     "output_type": "stream",
     "name": "stderr",
     "text": [
      "I0829 23:04:28.138585  6600 tpu_estimator.py:2159] global_step/sec: 0.0318467\n"
     ]
    },
    {
     "output_type": "stream",
     "name": "stdout",
     "text": [
      "INFO:tensorflow:examples/sec: 0.509548\n"
     ]
    },
    {
     "output_type": "stream",
     "name": "stderr",
     "text": [
      "I0829 23:04:28.190585  6600 tpu_estimator.py:2160] examples/sec: 0.509548\n"
     ]
    },
    {
     "output_type": "stream",
     "name": "stdout",
     "text": [
      "INFO:tensorflow:global_step/sec: 0.031568\n"
     ]
    },
    {
     "output_type": "stream",
     "name": "stderr",
     "text": [
      "I0829 23:04:59.834125  6600 tpu_estimator.py:2159] global_step/sec: 0.031568\n"
     ]
    },
    {
     "output_type": "stream",
     "name": "stdout",
     "text": [
      "INFO:tensorflow:examples/sec: 0.505087\n"
     ]
    },
    {
     "output_type": "stream",
     "name": "stderr",
     "text": [
      "I0829 23:04:59.945148  6600 tpu_estimator.py:2160] examples/sec: 0.505087\n"
     ]
    },
    {
     "output_type": "stream",
     "name": "stdout",
     "text": [
      "INFO:tensorflow:global_step/sec: 0.033694\n"
     ]
    },
    {
     "output_type": "stream",
     "name": "stderr",
     "text": [
      "I0829 23:05:29.490128  6600 tpu_estimator.py:2159] global_step/sec: 0.033694\n"
     ]
    },
    {
     "output_type": "stream",
     "name": "stdout",
     "text": [
      "INFO:tensorflow:examples/sec: 0.539104\n"
     ]
    },
    {
     "output_type": "stream",
     "name": "stderr",
     "text": [
      "I0829 23:05:29.521123  6600 tpu_estimator.py:2160] examples/sec: 0.539104\n"
     ]
    },
    {
     "output_type": "stream",
     "name": "stdout",
     "text": [
      "INFO:tensorflow:global_step/sec: 0.0322292\n"
     ]
    },
    {
     "output_type": "stream",
     "name": "stderr",
     "text": [
      "I0829 23:06:00.562875  6600 tpu_estimator.py:2159] global_step/sec: 0.0322292\n"
     ]
    },
    {
     "output_type": "stream",
     "name": "stdout",
     "text": [
      "INFO:tensorflow:examples/sec: 0.515667\n"
     ]
    },
    {
     "output_type": "stream",
     "name": "stderr",
     "text": [
      "I0829 23:06:00.711879  6600 tpu_estimator.py:2160] examples/sec: 0.515667\n"
     ]
    },
    {
     "output_type": "stream",
     "name": "stdout",
     "text": [
      "INFO:tensorflow:global_step/sec: 0.0281374\n"
     ]
    },
    {
     "output_type": "stream",
     "name": "stderr",
     "text": [
      "I0829 23:06:36.071774  6600 tpu_estimator.py:2159] global_step/sec: 0.0281374\n"
     ]
    },
    {
     "output_type": "stream",
     "name": "stdout",
     "text": [
      "INFO:tensorflow:examples/sec: 0.450198\n"
     ]
    },
    {
     "output_type": "stream",
     "name": "stderr",
     "text": [
      "I0829 23:06:36.175774  6600 tpu_estimator.py:2160] examples/sec: 0.450198\n"
     ]
    },
    {
     "output_type": "stream",
     "name": "stdout",
     "text": [
      "INFO:tensorflow:global_step/sec: 0.0323572\n"
     ]
    },
    {
     "output_type": "stream",
     "name": "stderr",
     "text": [
      "I0829 23:07:07.009773  6600 tpu_estimator.py:2159] global_step/sec: 0.0323572\n"
     ]
    },
    {
     "output_type": "stream",
     "name": "stdout",
     "text": [
      "INFO:tensorflow:examples/sec: 0.517716\n"
     ]
    },
    {
     "output_type": "stream",
     "name": "stderr",
     "text": [
      "I0829 23:07:07.164774  6600 tpu_estimator.py:2160] examples/sec: 0.517716\n"
     ]
    },
    {
     "output_type": "stream",
     "name": "stdout",
     "text": [
      "INFO:tensorflow:global_step/sec: 0.0334247\n"
     ]
    },
    {
     "output_type": "stream",
     "name": "stderr",
     "text": [
      "I0829 23:07:36.893773  6600 tpu_estimator.py:2159] global_step/sec: 0.0334247\n"
     ]
    },
    {
     "output_type": "stream",
     "name": "stdout",
     "text": [
      "INFO:tensorflow:examples/sec: 0.534795\n"
     ]
    },
    {
     "output_type": "stream",
     "name": "stderr",
     "text": [
      "I0829 23:07:36.992774  6600 tpu_estimator.py:2160] examples/sec: 0.534795\n"
     ]
    },
    {
     "output_type": "stream",
     "name": "stdout",
     "text": [
      "INFO:tensorflow:global_step/sec: 0.0321166\n"
     ]
    },
    {
     "output_type": "stream",
     "name": "stderr",
     "text": [
      "I0829 23:08:08.036291  6600 tpu_estimator.py:2159] global_step/sec: 0.0321166\n"
     ]
    },
    {
     "output_type": "stream",
     "name": "stdout",
     "text": [
      "INFO:tensorflow:examples/sec: 0.513866\n"
     ]
    },
    {
     "output_type": "stream",
     "name": "stderr",
     "text": [
      "I0829 23:08:08.136292  6600 tpu_estimator.py:2160] examples/sec: 0.513866\n"
     ]
    },
    {
     "output_type": "stream",
     "name": "stdout",
     "text": [
      "INFO:tensorflow:global_step/sec: 0.0314489\n"
     ]
    },
    {
     "output_type": "stream",
     "name": "stderr",
     "text": [
      "I0829 23:08:39.812864  6600 tpu_estimator.py:2159] global_step/sec: 0.0314489\n"
     ]
    },
    {
     "output_type": "stream",
     "name": "stdout",
     "text": [
      "INFO:tensorflow:examples/sec: 0.503183\n"
     ]
    },
    {
     "output_type": "stream",
     "name": "stderr",
     "text": [
      "I0829 23:08:39.854867  6600 tpu_estimator.py:2160] examples/sec: 0.503183\n"
     ]
    },
    {
     "output_type": "stream",
     "name": "stdout",
     "text": [
      "INFO:tensorflow:global_step/sec: 0.033227\n"
     ]
    },
    {
     "output_type": "stream",
     "name": "stderr",
     "text": [
      "I0829 23:09:09.925863  6600 tpu_estimator.py:2159] global_step/sec: 0.033227\n"
     ]
    },
    {
     "output_type": "stream",
     "name": "stdout",
     "text": [
      "INFO:tensorflow:examples/sec: 0.531632\n"
     ]
    },
    {
     "output_type": "stream",
     "name": "stderr",
     "text": [
      "I0829 23:09:10.015865  6600 tpu_estimator.py:2160] examples/sec: 0.531632\n"
     ]
    },
    {
     "output_type": "stream",
     "name": "stdout",
     "text": [
      "INFO:tensorflow:global_step/sec: 0.0326354\n"
     ]
    },
    {
     "output_type": "stream",
     "name": "stderr",
     "text": [
      "I0829 23:09:40.556420  6600 tpu_estimator.py:2159] global_step/sec: 0.0326354\n"
     ]
    },
    {
     "output_type": "stream",
     "name": "stdout",
     "text": [
      "INFO:tensorflow:examples/sec: 0.522166\n"
     ]
    },
    {
     "output_type": "stream",
     "name": "stderr",
     "text": [
      "I0829 23:09:40.638447  6600 tpu_estimator.py:2160] examples/sec: 0.522166\n"
     ]
    },
    {
     "output_type": "stream",
     "name": "stdout",
     "text": [
      "INFO:tensorflow:global_step/sec: 0.0335155\n"
     ]
    },
    {
     "output_type": "stream",
     "name": "stderr",
     "text": [
      "I0829 23:10:10.406422  6600 tpu_estimator.py:2159] global_step/sec: 0.0335155\n"
     ]
    },
    {
     "output_type": "stream",
     "name": "stdout",
     "text": [
      "INFO:tensorflow:examples/sec: 0.536247\n"
     ]
    },
    {
     "output_type": "stream",
     "name": "stderr",
     "text": [
      "I0829 23:10:10.516422  6600 tpu_estimator.py:2160] examples/sec: 0.536247\n"
     ]
    },
    {
     "output_type": "stream",
     "name": "stdout",
     "text": [
      "INFO:tensorflow:global_step/sec: 0.0338078\n"
     ]
    },
    {
     "output_type": "stream",
     "name": "stderr",
     "text": [
      "I0829 23:10:39.981420  6600 tpu_estimator.py:2159] global_step/sec: 0.0338078\n"
     ]
    },
    {
     "output_type": "stream",
     "name": "stdout",
     "text": [
      "INFO:tensorflow:examples/sec: 0.540924\n"
     ]
    },
    {
     "output_type": "stream",
     "name": "stderr",
     "text": [
      "I0829 23:10:40.077422  6600 tpu_estimator.py:2160] examples/sec: 0.540924\n"
     ]
    },
    {
     "output_type": "stream",
     "name": "stdout",
     "text": [
      "INFO:tensorflow:global_step/sec: 0.0335076\n"
     ]
    },
    {
     "output_type": "stream",
     "name": "stderr",
     "text": [
      "I0829 23:11:09.831418  6600 tpu_estimator.py:2159] global_step/sec: 0.0335076\n"
     ]
    },
    {
     "output_type": "stream",
     "name": "stdout",
     "text": [
      "INFO:tensorflow:examples/sec: 0.536121\n"
     ]
    },
    {
     "output_type": "stream",
     "name": "stderr",
     "text": [
      "I0829 23:11:09.924421  6600 tpu_estimator.py:2160] examples/sec: 0.536121\n"
     ]
    },
    {
     "output_type": "stream",
     "name": "stdout",
     "text": [
      "INFO:tensorflow:global_step/sec: 0.0338123\n"
     ]
    },
    {
     "output_type": "stream",
     "name": "stderr",
     "text": [
      "I0829 23:11:39.405419  6600 tpu_estimator.py:2159] global_step/sec: 0.0338123\n"
     ]
    },
    {
     "output_type": "stream",
     "name": "stdout",
     "text": [
      "INFO:tensorflow:examples/sec: 0.540997\n"
     ]
    },
    {
     "output_type": "stream",
     "name": "stderr",
     "text": [
      "I0829 23:11:39.483420  6600 tpu_estimator.py:2160] examples/sec: 0.540997\n"
     ]
    },
    {
     "output_type": "stream",
     "name": "stdout",
     "text": [
      "INFO:tensorflow:global_step/sec: 0.032077\n"
     ]
    },
    {
     "output_type": "stream",
     "name": "stderr",
     "text": [
      "I0829 23:12:10.560419  6600 tpu_estimator.py:2159] global_step/sec: 0.032077\n"
     ]
    },
    {
     "output_type": "stream",
     "name": "stdout",
     "text": [
      "INFO:tensorflow:examples/sec: 0.513232\n"
     ]
    },
    {
     "output_type": "stream",
     "name": "stderr",
     "text": [
      "I0829 23:12:10.593422  6600 tpu_estimator.py:2160] examples/sec: 0.513232\n"
     ]
    },
    {
     "output_type": "stream",
     "name": "stdout",
     "text": [
      "INFO:tensorflow:global_step/sec: 0.0343454\n"
     ]
    },
    {
     "output_type": "stream",
     "name": "stderr",
     "text": [
      "I0829 23:12:39.701419  6600 tpu_estimator.py:2159] global_step/sec: 0.0343454\n"
     ]
    },
    {
     "output_type": "stream",
     "name": "stdout",
     "text": [
      "INFO:tensorflow:examples/sec: 0.549526\n"
     ]
    },
    {
     "output_type": "stream",
     "name": "stderr",
     "text": [
      "I0829 23:12:39.794418  6600 tpu_estimator.py:2160] examples/sec: 0.549526\n"
     ]
    },
    {
     "output_type": "stream",
     "name": "stdout",
     "text": [
      "INFO:tensorflow:global_step/sec: 0.0333456\n"
     ]
    },
    {
     "output_type": "stream",
     "name": "stderr",
     "text": [
      "I0829 23:13:09.665419  6600 tpu_estimator.py:2159] global_step/sec: 0.0333456\n"
     ]
    },
    {
     "output_type": "stream",
     "name": "stdout",
     "text": [
      "INFO:tensorflow:examples/sec: 0.533529\n"
     ]
    },
    {
     "output_type": "stream",
     "name": "stderr",
     "text": [
      "I0829 23:13:09.706419  6600 tpu_estimator.py:2160] examples/sec: 0.533529\n"
     ]
    },
    {
     "output_type": "stream",
     "name": "stdout",
     "text": [
      "INFO:tensorflow:global_step/sec: 0.0341099\n"
     ]
    },
    {
     "output_type": "stream",
     "name": "stderr",
     "text": [
      "I0829 23:13:39.008420  6600 tpu_estimator.py:2159] global_step/sec: 0.0341099\n"
     ]
    },
    {
     "output_type": "stream",
     "name": "stdout",
     "text": [
      "INFO:tensorflow:examples/sec: 0.545758\n"
     ]
    },
    {
     "output_type": "stream",
     "name": "stderr",
     "text": [
      "I0829 23:13:39.109421  6600 tpu_estimator.py:2160] examples/sec: 0.545758\n"
     ]
    },
    {
     "output_type": "stream",
     "name": "stdout",
     "text": [
      "INFO:tensorflow:global_step/sec: 0.0318635\n"
     ]
    },
    {
     "output_type": "stream",
     "name": "stderr",
     "text": [
      "I0829 23:14:10.383280  6600 tpu_estimator.py:2159] global_step/sec: 0.0318635\n"
     ]
    },
    {
     "output_type": "stream",
     "name": "stdout",
     "text": [
      "INFO:tensorflow:examples/sec: 0.509816\n"
     ]
    },
    {
     "output_type": "stream",
     "name": "stderr",
     "text": [
      "I0829 23:14:10.472282  6600 tpu_estimator.py:2160] examples/sec: 0.509816\n"
     ]
    },
    {
     "output_type": "stream",
     "name": "stdout",
     "text": [
      "INFO:tensorflow:global_step/sec: 0.0334986\n"
     ]
    },
    {
     "output_type": "stream",
     "name": "stderr",
     "text": [
      "I0829 23:14:40.234281  6600 tpu_estimator.py:2159] global_step/sec: 0.0334986\n"
     ]
    },
    {
     "output_type": "stream",
     "name": "stdout",
     "text": [
      "INFO:tensorflow:examples/sec: 0.535978\n"
     ]
    },
    {
     "output_type": "stream",
     "name": "stderr",
     "text": [
      "I0829 23:14:40.353281  6600 tpu_estimator.py:2160] examples/sec: 0.535978\n"
     ]
    },
    {
     "output_type": "stream",
     "name": "stdout",
     "text": [
      "INFO:tensorflow:global_step/sec: 0.0337541\n"
     ]
    },
    {
     "output_type": "stream",
     "name": "stderr",
     "text": [
      "I0829 23:15:09.860280  6600 tpu_estimator.py:2159] global_step/sec: 0.0337541\n"
     ]
    },
    {
     "output_type": "stream",
     "name": "stdout",
     "text": [
      "INFO:tensorflow:examples/sec: 0.540066\n"
     ]
    },
    {
     "output_type": "stream",
     "name": "stderr",
     "text": [
      "I0829 23:15:09.966281  6600 tpu_estimator.py:2160] examples/sec: 0.540066\n"
     ]
    },
    {
     "output_type": "stream",
     "name": "stdout",
     "text": [
      "INFO:tensorflow:global_step/sec: 0.0329983\n"
     ]
    },
    {
     "output_type": "stream",
     "name": "stderr",
     "text": [
      "I0829 23:15:40.150860  6600 tpu_estimator.py:2159] global_step/sec: 0.0329983\n"
     ]
    },
    {
     "output_type": "stream",
     "name": "stdout",
     "text": [
      "INFO:tensorflow:examples/sec: 0.527973\n"
     ]
    },
    {
     "output_type": "stream",
     "name": "stderr",
     "text": [
      "I0829 23:15:40.183863  6600 tpu_estimator.py:2160] examples/sec: 0.527973\n"
     ]
    },
    {
     "output_type": "stream",
     "name": "stdout",
     "text": [
      "INFO:tensorflow:global_step/sec: 0.0306249\n"
     ]
    },
    {
     "output_type": "stream",
     "name": "stderr",
     "text": [
      "I0829 23:16:12.801977  6600 tpu_estimator.py:2159] global_step/sec: 0.0306249\n"
     ]
    },
    {
     "output_type": "stream",
     "name": "stdout",
     "text": [
      "INFO:tensorflow:examples/sec: 0.489999\n"
     ]
    },
    {
     "output_type": "stream",
     "name": "stderr",
     "text": [
      "I0829 23:16:12.833977  6600 tpu_estimator.py:2160] examples/sec: 0.489999\n"
     ]
    },
    {
     "output_type": "stream",
     "name": "stdout",
     "text": [
      "INFO:tensorflow:global_step/sec: 0.0346536\n"
     ]
    },
    {
     "output_type": "stream",
     "name": "stderr",
     "text": [
      "I0829 23:16:41.661976  6600 tpu_estimator.py:2159] global_step/sec: 0.0346536\n"
     ]
    },
    {
     "output_type": "stream",
     "name": "stdout",
     "text": [
      "INFO:tensorflow:examples/sec: 0.554458\n"
     ]
    },
    {
     "output_type": "stream",
     "name": "stderr",
     "text": [
      "I0829 23:16:41.695979  6600 tpu_estimator.py:2160] examples/sec: 0.554458\n"
     ]
    },
    {
     "output_type": "stream",
     "name": "stdout",
     "text": [
      "INFO:tensorflow:global_step/sec: 0.0314651\n"
     ]
    },
    {
     "output_type": "stream",
     "name": "stderr",
     "text": [
      "I0829 23:17:13.457198  6600 tpu_estimator.py:2159] global_step/sec: 0.0314651\n"
     ]
    },
    {
     "output_type": "stream",
     "name": "stdout",
     "text": [
      "INFO:tensorflow:examples/sec: 0.503442\n"
     ]
    },
    {
     "output_type": "stream",
     "name": "stderr",
     "text": [
      "I0829 23:17:13.566198  6600 tpu_estimator.py:2160] examples/sec: 0.503442\n"
     ]
    },
    {
     "output_type": "stream",
     "name": "stdout",
     "text": [
      "INFO:tensorflow:global_step/sec: 0.032059\n"
     ]
    },
    {
     "output_type": "stream",
     "name": "stderr",
     "text": [
      "I0829 23:17:44.633662  6600 tpu_estimator.py:2159] global_step/sec: 0.032059\n"
     ]
    },
    {
     "output_type": "stream",
     "name": "stdout",
     "text": [
      "INFO:tensorflow:examples/sec: 0.512944\n"
     ]
    },
    {
     "output_type": "stream",
     "name": "stderr",
     "text": [
      "I0829 23:17:44.663661  6600 tpu_estimator.py:2160] examples/sec: 0.512944\n"
     ]
    },
    {
     "output_type": "stream",
     "name": "stdout",
     "text": [
      "INFO:tensorflow:global_step/sec: 0.0323075\n"
     ]
    },
    {
     "output_type": "stream",
     "name": "stderr",
     "text": [
      "I0829 23:18:15.607192  6600 tpu_estimator.py:2159] global_step/sec: 0.0323075\n"
     ]
    },
    {
     "output_type": "stream",
     "name": "stdout",
     "text": [
      "INFO:tensorflow:examples/sec: 0.516921\n"
     ]
    },
    {
     "output_type": "stream",
     "name": "stderr",
     "text": [
      "I0829 23:18:15.708195  6600 tpu_estimator.py:2160] examples/sec: 0.516921\n"
     ]
    },
    {
     "output_type": "stream",
     "name": "stdout",
     "text": [
      "INFO:tensorflow:global_step/sec: 0.0329957\n"
     ]
    },
    {
     "output_type": "stream",
     "name": "stderr",
     "text": [
      "I0829 23:18:45.907190  6600 tpu_estimator.py:2159] global_step/sec: 0.0329957\n"
     ]
    },
    {
     "output_type": "stream",
     "name": "stdout",
     "text": [
      "INFO:tensorflow:examples/sec: 0.527931\n"
     ]
    },
    {
     "output_type": "stream",
     "name": "stderr",
     "text": [
      "I0829 23:18:46.003193  6600 tpu_estimator.py:2160] examples/sec: 0.527931\n"
     ]
    },
    {
     "output_type": "stream",
     "name": "stdout",
     "text": [
      "INFO:tensorflow:global_step/sec: 0.0334303\n"
     ]
    },
    {
     "output_type": "stream",
     "name": "stderr",
     "text": [
      "I0829 23:19:15.818195  6600 tpu_estimator.py:2159] global_step/sec: 0.0334303\n"
     ]
    },
    {
     "output_type": "stream",
     "name": "stdout",
     "text": [
      "INFO:tensorflow:examples/sec: 0.534885\n"
     ]
    },
    {
     "output_type": "stream",
     "name": "stderr",
     "text": [
      "I0829 23:19:15.913198  6600 tpu_estimator.py:2160] examples/sec: 0.534885\n"
     ]
    },
    {
     "output_type": "stream",
     "name": "stdout",
     "text": [
      "INFO:tensorflow:global_step/sec: 0.0338627\n"
     ]
    },
    {
     "output_type": "stream",
     "name": "stderr",
     "text": [
      "I0829 23:19:45.351194  6600 tpu_estimator.py:2159] global_step/sec: 0.0338627\n"
     ]
    },
    {
     "output_type": "stream",
     "name": "stdout",
     "text": [
      "INFO:tensorflow:examples/sec: 0.541804\n"
     ]
    },
    {
     "output_type": "stream",
     "name": "stderr",
     "text": [
      "I0829 23:19:45.439192  6600 tpu_estimator.py:2160] examples/sec: 0.541804\n"
     ]
    },
    {
     "output_type": "stream",
     "name": "stdout",
     "text": [
      "INFO:tensorflow:global_step/sec: 0.033389\n"
     ]
    },
    {
     "output_type": "stream",
     "name": "stderr",
     "text": [
      "I0829 23:20:15.302193  6600 tpu_estimator.py:2159] global_step/sec: 0.033389\n"
     ]
    },
    {
     "output_type": "stream",
     "name": "stdout",
     "text": [
      "INFO:tensorflow:examples/sec: 0.534224\n"
     ]
    },
    {
     "output_type": "stream",
     "name": "stderr",
     "text": [
      "I0829 23:20:15.390192  6600 tpu_estimator.py:2160] examples/sec: 0.534224\n"
     ]
    },
    {
     "output_type": "stream",
     "name": "stdout",
     "text": [
      "INFO:tensorflow:global_step/sec: 0.0329207\n"
     ]
    },
    {
     "output_type": "stream",
     "name": "stderr",
     "text": [
      "I0829 23:20:45.678193  6600 tpu_estimator.py:2159] global_step/sec: 0.0329207\n"
     ]
    },
    {
     "output_type": "stream",
     "name": "stdout",
     "text": [
      "INFO:tensorflow:examples/sec: 0.526732\n"
     ]
    },
    {
     "output_type": "stream",
     "name": "stderr",
     "text": [
      "I0829 23:20:45.777194  6600 tpu_estimator.py:2160] examples/sec: 0.526732\n"
     ]
    },
    {
     "output_type": "stream",
     "name": "stdout",
     "text": [
      "INFO:tensorflow:global_step/sec: 0.0317188\n"
     ]
    },
    {
     "output_type": "stream",
     "name": "stderr",
     "text": [
      "I0829 23:21:17.204190  6600 tpu_estimator.py:2159] global_step/sec: 0.0317188\n"
     ]
    },
    {
     "output_type": "stream",
     "name": "stdout",
     "text": [
      "INFO:tensorflow:examples/sec: 0.507502\n"
     ]
    },
    {
     "output_type": "stream",
     "name": "stderr",
     "text": [
      "I0829 23:21:17.308191  6600 tpu_estimator.py:2160] examples/sec: 0.507502\n"
     ]
    },
    {
     "output_type": "stream",
     "name": "stdout",
     "text": [
      "INFO:tensorflow:global_step/sec: 0.032652\n"
     ]
    },
    {
     "output_type": "stream",
     "name": "stderr",
     "text": [
      "I0829 23:21:47.832190  6600 tpu_estimator.py:2159] global_step/sec: 0.032652\n"
     ]
    },
    {
     "output_type": "stream",
     "name": "stdout",
     "text": [
      "INFO:tensorflow:examples/sec: 0.522432\n"
     ]
    },
    {
     "output_type": "stream",
     "name": "stderr",
     "text": [
      "I0829 23:21:47.922193  6600 tpu_estimator.py:2160] examples/sec: 0.522432\n"
     ]
    },
    {
     "output_type": "stream",
     "name": "stdout",
     "text": [
      "INFO:tensorflow:global_step/sec: 0.0343891\n"
     ]
    },
    {
     "output_type": "stream",
     "name": "stderr",
     "text": [
      "I0829 23:22:16.888193  6600 tpu_estimator.py:2159] global_step/sec: 0.0343891\n"
     ]
    },
    {
     "output_type": "stream",
     "name": "stdout",
     "text": [
      "INFO:tensorflow:examples/sec: 0.550225\n"
     ]
    },
    {
     "output_type": "stream",
     "name": "stderr",
     "text": [
      "I0829 23:22:16.909192  6600 tpu_estimator.py:2160] examples/sec: 0.550225\n"
     ]
    },
    {
     "output_type": "stream",
     "name": "stdout",
     "text": [
      "INFO:tensorflow:global_step/sec: 0.0340832\n"
     ]
    },
    {
     "output_type": "stream",
     "name": "stderr",
     "text": [
      "I0829 23:22:46.249194  6600 tpu_estimator.py:2159] global_step/sec: 0.0340832\n"
     ]
    },
    {
     "output_type": "stream",
     "name": "stdout",
     "text": [
      "INFO:tensorflow:examples/sec: 0.545331\n"
     ]
    },
    {
     "output_type": "stream",
     "name": "stderr",
     "text": [
      "I0829 23:22:46.339198  6600 tpu_estimator.py:2160] examples/sec: 0.545331\n"
     ]
    },
    {
     "output_type": "stream",
     "name": "stdout",
     "text": [
      "INFO:tensorflow:global_step/sec: 0.0328607\n"
     ]
    },
    {
     "output_type": "stream",
     "name": "stderr",
     "text": [
      "I0829 23:23:16.667703  6600 tpu_estimator.py:2159] global_step/sec: 0.0328607\n"
     ]
    },
    {
     "output_type": "stream",
     "name": "stdout",
     "text": [
      "INFO:tensorflow:examples/sec: 0.525771\n"
     ]
    },
    {
     "output_type": "stream",
     "name": "stderr",
     "text": [
      "I0829 23:23:16.698704  6600 tpu_estimator.py:2160] examples/sec: 0.525771\n"
     ]
    },
    {
     "output_type": "stream",
     "name": "stdout",
     "text": [
      "INFO:tensorflow:global_step/sec: 0.0342959\n"
     ]
    },
    {
     "output_type": "stream",
     "name": "stderr",
     "text": [
      "I0829 23:23:45.824705  6600 tpu_estimator.py:2159] global_step/sec: 0.0342959\n"
     ]
    },
    {
     "output_type": "stream",
     "name": "stdout",
     "text": [
      "INFO:tensorflow:examples/sec: 0.548734\n"
     ]
    },
    {
     "output_type": "stream",
     "name": "stderr",
     "text": [
      "I0829 23:23:45.865705  6600 tpu_estimator.py:2160] examples/sec: 0.548734\n"
     ]
    },
    {
     "output_type": "stream",
     "name": "stdout",
     "text": [
      "INFO:tensorflow:global_step/sec: 0.0334616\n"
     ]
    },
    {
     "output_type": "stream",
     "name": "stderr",
     "text": [
      "I0829 23:24:15.722704  6600 tpu_estimator.py:2159] global_step/sec: 0.0334616\n"
     ]
    },
    {
     "output_type": "stream",
     "name": "stdout",
     "text": [
      "INFO:tensorflow:examples/sec: 0.535386\n"
     ]
    },
    {
     "output_type": "stream",
     "name": "stderr",
     "text": [
      "I0829 23:24:15.819704  6600 tpu_estimator.py:2160] examples/sec: 0.535386\n"
     ]
    },
    {
     "output_type": "stream",
     "name": "stdout",
     "text": [
      "INFO:tensorflow:global_step/sec: 0.0318309\n"
     ]
    },
    {
     "output_type": "stream",
     "name": "stderr",
     "text": [
      "I0829 23:24:47.173702  6600 tpu_estimator.py:2159] global_step/sec: 0.0318309\n"
     ]
    },
    {
     "output_type": "stream",
     "name": "stdout",
     "text": [
      "INFO:tensorflow:examples/sec: 0.509295\n"
     ]
    },
    {
     "output_type": "stream",
     "name": "stderr",
     "text": [
      "I0829 23:24:47.384702  6600 tpu_estimator.py:2160] examples/sec: 0.509295\n"
     ]
    },
    {
     "output_type": "stream",
     "name": "stdout",
     "text": [
      "INFO:tensorflow:global_step/sec: 0.0325998\n"
     ]
    },
    {
     "output_type": "stream",
     "name": "stderr",
     "text": [
      "I0829 23:25:17.800702  6600 tpu_estimator.py:2159] global_step/sec: 0.0325998\n"
     ]
    },
    {
     "output_type": "stream",
     "name": "stdout",
     "text": [
      "INFO:tensorflow:examples/sec: 0.521597\n"
     ]
    },
    {
     "output_type": "stream",
     "name": "stderr",
     "text": [
      "I0829 23:25:17.828704  6600 tpu_estimator.py:2160] examples/sec: 0.521597\n"
     ]
    },
    {
     "output_type": "stream",
     "name": "stdout",
     "text": [
      "INFO:tensorflow:global_step/sec: 0.0330852\n"
     ]
    },
    {
     "output_type": "stream",
     "name": "stderr",
     "text": [
      "I0829 23:25:48.039705  6600 tpu_estimator.py:2159] global_step/sec: 0.0330852\n"
     ]
    },
    {
     "output_type": "stream",
     "name": "stdout",
     "text": [
      "INFO:tensorflow:examples/sec: 0.529363\n"
     ]
    },
    {
     "output_type": "stream",
     "name": "stderr",
     "text": [
      "I0829 23:25:48.136704  6600 tpu_estimator.py:2160] examples/sec: 0.529363\n"
     ]
    },
    {
     "output_type": "stream",
     "name": "stdout",
     "text": [
      "INFO:tensorflow:global_step/sec: 0.0326861\n"
     ]
    },
    {
     "output_type": "stream",
     "name": "stderr",
     "text": [
      "I0829 23:26:18.628705  6600 tpu_estimator.py:2159] global_step/sec: 0.0326861\n"
     ]
    },
    {
     "output_type": "stream",
     "name": "stdout",
     "text": [
      "INFO:tensorflow:examples/sec: 0.522978\n"
     ]
    },
    {
     "output_type": "stream",
     "name": "stderr",
     "text": [
      "I0829 23:26:18.713705  6600 tpu_estimator.py:2160] examples/sec: 0.522978\n"
     ]
    },
    {
     "output_type": "stream",
     "name": "stdout",
     "text": [
      "INFO:tensorflow:global_step/sec: 0.0345054\n"
     ]
    },
    {
     "output_type": "stream",
     "name": "stderr",
     "text": [
      "I0829 23:26:47.590703  6600 tpu_estimator.py:2159] global_step/sec: 0.0345054\n"
     ]
    },
    {
     "output_type": "stream",
     "name": "stdout",
     "text": [
      "INFO:tensorflow:examples/sec: 0.552086\n"
     ]
    },
    {
     "output_type": "stream",
     "name": "stderr",
     "text": [
      "I0829 23:26:47.616705  6600 tpu_estimator.py:2160] examples/sec: 0.552086\n"
     ]
    },
    {
     "output_type": "stream",
     "name": "stdout",
     "text": [
      "INFO:tensorflow:global_step/sec: 0.0340356\n"
     ]
    },
    {
     "output_type": "stream",
     "name": "stderr",
     "text": [
      "I0829 23:27:16.997704  6600 tpu_estimator.py:2159] global_step/sec: 0.0340356\n"
     ]
    },
    {
     "output_type": "stream",
     "name": "stdout",
     "text": [
      "INFO:tensorflow:examples/sec: 0.54457\n"
     ]
    },
    {
     "output_type": "stream",
     "name": "stderr",
     "text": [
      "I0829 23:27:17.089706  6600 tpu_estimator.py:2160] examples/sec: 0.54457\n"
     ]
    },
    {
     "output_type": "stream",
     "name": "stdout",
     "text": [
      "INFO:tensorflow:global_step/sec: 0.0316746\n"
     ]
    },
    {
     "output_type": "stream",
     "name": "stderr",
     "text": [
      "I0829 23:27:48.553707  6600 tpu_estimator.py:2159] global_step/sec: 0.0316746\n"
     ]
    },
    {
     "output_type": "stream",
     "name": "stdout",
     "text": [
      "INFO:tensorflow:examples/sec: 0.506794\n"
     ]
    },
    {
     "output_type": "stream",
     "name": "stderr",
     "text": [
      "I0829 23:27:48.590706  6600 tpu_estimator.py:2160] examples/sec: 0.506794\n"
     ]
    },
    {
     "output_type": "stream",
     "name": "stdout",
     "text": [
      "INFO:tensorflow:global_step/sec: 0.0325998\n"
     ]
    },
    {
     "output_type": "stream",
     "name": "stderr",
     "text": [
      "I0829 23:28:19.241704  6600 tpu_estimator.py:2159] global_step/sec: 0.0325998\n"
     ]
    },
    {
     "output_type": "stream",
     "name": "stdout",
     "text": [
      "INFO:tensorflow:examples/sec: 0.521597\n"
     ]
    },
    {
     "output_type": "stream",
     "name": "stderr",
     "text": [
      "I0829 23:28:19.328704  6600 tpu_estimator.py:2160] examples/sec: 0.521597\n"
     ]
    },
    {
     "output_type": "stream",
     "name": "stdout",
     "text": [
      "INFO:tensorflow:global_step/sec: 0.0333056\n"
     ]
    },
    {
     "output_type": "stream",
     "name": "stderr",
     "text": [
      "I0829 23:28:49.251703  6600 tpu_estimator.py:2159] global_step/sec: 0.0333056\n"
     ]
    },
    {
     "output_type": "stream",
     "name": "stdout",
     "text": [
      "INFO:tensorflow:examples/sec: 0.532889\n"
     ]
    },
    {
     "output_type": "stream",
     "name": "stderr",
     "text": [
      "I0829 23:28:49.280704  6600 tpu_estimator.py:2160] examples/sec: 0.532889\n"
     ]
    },
    {
     "output_type": "stream",
     "name": "stdout",
     "text": [
      "INFO:tensorflow:global_step/sec: 0.0337633\n"
     ]
    },
    {
     "output_type": "stream",
     "name": "stderr",
     "text": [
      "I0829 23:29:18.870704  6600 tpu_estimator.py:2159] global_step/sec: 0.0337633\n"
     ]
    },
    {
     "output_type": "stream",
     "name": "stdout",
     "text": [
      "INFO:tensorflow:examples/sec: 0.540212\n"
     ]
    },
    {
     "output_type": "stream",
     "name": "stderr",
     "text": [
      "I0829 23:29:18.901705  6600 tpu_estimator.py:2160] examples/sec: 0.540212\n"
     ]
    },
    {
     "output_type": "stream",
     "name": "stdout",
     "text": [
      "INFO:tensorflow:global_step/sec: 0.0337541\n"
     ]
    },
    {
     "output_type": "stream",
     "name": "stderr",
     "text": [
      "I0829 23:29:48.510707  6600 tpu_estimator.py:2159] global_step/sec: 0.0337541\n"
     ]
    },
    {
     "output_type": "stream",
     "name": "stdout",
     "text": [
      "INFO:tensorflow:examples/sec: 0.540066\n"
     ]
    },
    {
     "output_type": "stream",
     "name": "stderr",
     "text": [
      "I0829 23:29:48.609704  6600 tpu_estimator.py:2160] examples/sec: 0.540066\n"
     ]
    },
    {
     "output_type": "stream",
     "name": "stdout",
     "text": [
      "INFO:tensorflow:global_step/sec: 0.0328297\n"
     ]
    },
    {
     "output_type": "stream",
     "name": "stderr",
     "text": [
      "I0829 23:30:18.956971  6600 tpu_estimator.py:2159] global_step/sec: 0.0328297\n"
     ]
    },
    {
     "output_type": "stream",
     "name": "stdout",
     "text": [
      "INFO:tensorflow:examples/sec: 0.525274\n"
     ]
    },
    {
     "output_type": "stream",
     "name": "stderr",
     "text": [
      "I0829 23:30:18.998976  6600 tpu_estimator.py:2160] examples/sec: 0.525274\n"
     ]
    },
    {
     "output_type": "stream",
     "name": "stdout",
     "text": [
      "INFO:tensorflow:global_step/sec: 0.0346045\n"
     ]
    },
    {
     "output_type": "stream",
     "name": "stderr",
     "text": [
      "I0829 23:30:47.867972  6600 tpu_estimator.py:2159] global_step/sec: 0.0346045\n"
     ]
    },
    {
     "output_type": "stream",
     "name": "stdout",
     "text": [
      "INFO:tensorflow:examples/sec: 0.553671\n"
     ]
    },
    {
     "output_type": "stream",
     "name": "stderr",
     "text": [
      "I0829 23:30:47.950977  6600 tpu_estimator.py:2160] examples/sec: 0.553671\n"
     ]
    },
    {
     "output_type": "stream",
     "name": "stdout",
     "text": [
      "INFO:tensorflow:global_step/sec: 0.032786\n"
     ]
    },
    {
     "output_type": "stream",
     "name": "stderr",
     "text": [
      "I0829 23:31:18.368819  6600 tpu_estimator.py:2159] global_step/sec: 0.032786\n"
     ]
    },
    {
     "output_type": "stream",
     "name": "stdout",
     "text": [
      "INFO:tensorflow:examples/sec: 0.524576\n"
     ]
    },
    {
     "output_type": "stream",
     "name": "stderr",
     "text": [
      "I0829 23:31:18.448821  6600 tpu_estimator.py:2160] examples/sec: 0.524576\n"
     ]
    },
    {
     "output_type": "stream",
     "name": "stdout",
     "text": [
      "INFO:tensorflow:global_step/sec: 0.0317214\n"
     ]
    },
    {
     "output_type": "stream",
     "name": "stderr",
     "text": [
      "I0829 23:31:49.881242  6600 tpu_estimator.py:2159] global_step/sec: 0.0317214\n"
     ]
    },
    {
     "output_type": "stream",
     "name": "stdout",
     "text": [
      "INFO:tensorflow:examples/sec: 0.507543\n"
     ]
    },
    {
     "output_type": "stream",
     "name": "stderr",
     "text": [
      "I0829 23:31:49.915246  6600 tpu_estimator.py:2160] examples/sec: 0.507543\n"
     ]
    },
    {
     "output_type": "stream",
     "name": "stdout",
     "text": [
      "INFO:tensorflow:global_step/sec: 0.0313568\n"
     ]
    },
    {
     "output_type": "stream",
     "name": "stderr",
     "text": [
      "I0829 23:32:21.802248  6600 tpu_estimator.py:2159] global_step/sec: 0.0313568\n"
     ]
    },
    {
     "output_type": "stream",
     "name": "stdout",
     "text": [
      "INFO:tensorflow:examples/sec: 0.501709\n"
     ]
    },
    {
     "output_type": "stream",
     "name": "stderr",
     "text": [
      "I0829 23:32:21.960243  6600 tpu_estimator.py:2160] examples/sec: 0.501709\n"
     ]
    },
    {
     "output_type": "stream",
     "name": "stdout",
     "text": [
      "INFO:tensorflow:global_step/sec: 0.0333067\n"
     ]
    },
    {
     "output_type": "stream",
     "name": "stderr",
     "text": [
      "I0829 23:32:51.811244  6600 tpu_estimator.py:2159] global_step/sec: 0.0333067\n"
     ]
    },
    {
     "output_type": "stream",
     "name": "stdout",
     "text": [
      "INFO:tensorflow:examples/sec: 0.532907\n"
     ]
    },
    {
     "output_type": "stream",
     "name": "stderr",
     "text": [
      "I0829 23:32:51.903244  6600 tpu_estimator.py:2160] examples/sec: 0.532907\n"
     ]
    },
    {
     "output_type": "stream",
     "name": "stdout",
     "text": [
      "INFO:tensorflow:global_step/sec: 0.0335098\n"
     ]
    },
    {
     "output_type": "stream",
     "name": "stderr",
     "text": [
      "I0829 23:33:21.651242  6600 tpu_estimator.py:2159] global_step/sec: 0.0335098\n"
     ]
    },
    {
     "output_type": "stream",
     "name": "stdout",
     "text": [
      "INFO:tensorflow:examples/sec: 0.536157\n"
     ]
    },
    {
     "output_type": "stream",
     "name": "stderr",
     "text": [
      "I0829 23:33:21.746245  6600 tpu_estimator.py:2160] examples/sec: 0.536157\n"
     ]
    },
    {
     "output_type": "stream",
     "name": "stdout",
     "text": [
      "INFO:tensorflow:global_step/sec: 0.0324675\n"
     ]
    },
    {
     "output_type": "stream",
     "name": "stderr",
     "text": [
      "I0829 23:33:52.455242  6600 tpu_estimator.py:2159] global_step/sec: 0.0324675\n"
     ]
    },
    {
     "output_type": "stream",
     "name": "stdout",
     "text": [
      "INFO:tensorflow:examples/sec: 0.519481\n"
     ]
    },
    {
     "output_type": "stream",
     "name": "stderr",
     "text": [
      "I0829 23:33:52.539246  6600 tpu_estimator.py:2160] examples/sec: 0.519481\n"
     ]
    },
    {
     "output_type": "stream",
     "name": "stdout",
     "text": [
      "INFO:tensorflow:global_step/sec: 0.0319939\n"
     ]
    },
    {
     "output_type": "stream",
     "name": "stderr",
     "text": [
      "I0829 23:34:23.740245  6600 tpu_estimator.py:2159] global_step/sec: 0.0319939\n"
     ]
    },
    {
     "output_type": "stream",
     "name": "stdout",
     "text": [
      "INFO:tensorflow:examples/sec: 0.511902\n"
     ]
    },
    {
     "output_type": "stream",
     "name": "stderr",
     "text": [
      "I0829 23:34:23.874245  6600 tpu_estimator.py:2160] examples/sec: 0.511902\n"
     ]
    },
    {
     "output_type": "stream",
     "name": "stdout",
     "text": [
      "INFO:tensorflow:global_step/sec: 0.0330863\n"
     ]
    },
    {
     "output_type": "stream",
     "name": "stderr",
     "text": [
      "I0829 23:34:53.932261  6600 tpu_estimator.py:2159] global_step/sec: 0.0330863\n"
     ]
    },
    {
     "output_type": "stream",
     "name": "stdout",
     "text": [
      "INFO:tensorflow:examples/sec: 0.529381\n"
     ]
    },
    {
     "output_type": "stream",
     "name": "stderr",
     "text": [
      "I0829 23:34:54.026248  6600 tpu_estimator.py:2160] examples/sec: 0.529381\n"
     ]
    },
    {
     "output_type": "stream",
     "name": "stdout",
     "text": [
      "INFO:tensorflow:global_step/sec: 0.0325521\n"
     ]
    },
    {
     "output_type": "stream",
     "name": "stderr",
     "text": [
      "I0829 23:35:24.658244  6600 tpu_estimator.py:2159] global_step/sec: 0.0325521\n"
     ]
    },
    {
     "output_type": "stream",
     "name": "stdout",
     "text": [
      "INFO:tensorflow:examples/sec: 0.520833\n"
     ]
    },
    {
     "output_type": "stream",
     "name": "stderr",
     "text": [
      "I0829 23:35:24.765245  6600 tpu_estimator.py:2160] examples/sec: 0.520833\n"
     ]
    },
    {
     "output_type": "stream",
     "name": "stdout",
     "text": [
      "INFO:tensorflow:global_step/sec: 0.0332372\n"
     ]
    },
    {
     "output_type": "stream",
     "name": "stderr",
     "text": [
      "I0829 23:35:54.729031  6600 tpu_estimator.py:2159] global_step/sec: 0.0332372\n"
     ]
    },
    {
     "output_type": "stream",
     "name": "stdout",
     "text": [
      "INFO:tensorflow:examples/sec: 0.531795\n"
     ]
    },
    {
     "output_type": "stream",
     "name": "stderr",
     "text": [
      "I0829 23:35:54.798032  6600 tpu_estimator.py:2160] examples/sec: 0.531795\n"
     ]
    },
    {
     "output_type": "stream",
     "name": "stdout",
     "text": [
      "INFO:tensorflow:global_step/sec: 0.0322466\n"
     ]
    },
    {
     "output_type": "stream",
     "name": "stderr",
     "text": [
      "I0829 23:36:25.758031  6600 tpu_estimator.py:2159] global_step/sec: 0.0322466\n"
     ]
    },
    {
     "output_type": "stream",
     "name": "stdout",
     "text": [
      "INFO:tensorflow:examples/sec: 0.515946\n"
     ]
    },
    {
     "output_type": "stream",
     "name": "stderr",
     "text": [
      "I0829 23:36:25.877032  6600 tpu_estimator.py:2160] examples/sec: 0.515946\n"
     ]
    },
    {
     "output_type": "stream",
     "name": "stdout",
     "text": [
      "INFO:tensorflow:global_step/sec: 0.0326653\n"
     ]
    },
    {
     "output_type": "stream",
     "name": "stderr",
     "text": [
      "I0829 23:36:56.387546  6600 tpu_estimator.py:2159] global_step/sec: 0.0326653\n"
     ]
    },
    {
     "output_type": "stream",
     "name": "stdout",
     "text": [
      "INFO:tensorflow:examples/sec: 0.522645\n"
     ]
    },
    {
     "output_type": "stream",
     "name": "stderr",
     "text": [
      "I0829 23:36:56.519545  6600 tpu_estimator.py:2160] examples/sec: 0.522645\n"
     ]
    },
    {
     "output_type": "stream",
     "name": "stdout",
     "text": [
      "INFO:tensorflow:global_step/sec: 0.0332834\n"
     ]
    },
    {
     "output_type": "stream",
     "name": "stderr",
     "text": [
      "I0829 23:37:26.414545  6600 tpu_estimator.py:2159] global_step/sec: 0.0332834\n"
     ]
    },
    {
     "output_type": "stream",
     "name": "stdout",
     "text": [
      "INFO:tensorflow:examples/sec: 0.532535\n"
     ]
    },
    {
     "output_type": "stream",
     "name": "stderr",
     "text": [
      "I0829 23:37:26.514546  6600 tpu_estimator.py:2160] examples/sec: 0.532535\n"
     ]
    },
    {
     "output_type": "stream",
     "name": "stdout",
     "text": [
      "INFO:tensorflow:global_step/sec: 0.0345973\n"
     ]
    },
    {
     "output_type": "stream",
     "name": "stderr",
     "text": [
      "I0829 23:37:55.298545  6600 tpu_estimator.py:2159] global_step/sec: 0.0345973\n"
     ]
    },
    {
     "output_type": "stream",
     "name": "stdout",
     "text": [
      "INFO:tensorflow:examples/sec: 0.553557\n"
     ]
    },
    {
     "output_type": "stream",
     "name": "stderr",
     "text": [
      "I0829 23:37:55.331547  6600 tpu_estimator.py:2160] examples/sec: 0.553557\n"
     ]
    },
    {
     "output_type": "stream",
     "name": "stdout",
     "text": [
      "INFO:tensorflow:global_step/sec: 0.0357692\n"
     ]
    },
    {
     "output_type": "stream",
     "name": "stderr",
     "text": [
      "I0829 23:38:23.254548  6600 tpu_estimator.py:2159] global_step/sec: 0.0357692\n"
     ]
    },
    {
     "output_type": "stream",
     "name": "stdout",
     "text": [
      "INFO:tensorflow:examples/sec: 0.572307\n"
     ]
    },
    {
     "output_type": "stream",
     "name": "stderr",
     "text": [
      "I0829 23:38:23.285547  6600 tpu_estimator.py:2160] examples/sec: 0.572307\n"
     ]
    },
    {
     "output_type": "stream",
     "name": "stdout",
     "text": [
      "INFO:tensorflow:global_step/sec: 0.033484\n"
     ]
    },
    {
     "output_type": "stream",
     "name": "stderr",
     "text": [
      "I0829 23:38:53.133547  6600 tpu_estimator.py:2159] global_step/sec: 0.033484\n"
     ]
    },
    {
     "output_type": "stream",
     "name": "stdout",
     "text": [
      "INFO:tensorflow:examples/sec: 0.535744\n"
     ]
    },
    {
     "output_type": "stream",
     "name": "stderr",
     "text": [
      "I0829 23:38:53.286547  6600 tpu_estimator.py:2160] examples/sec: 0.535744\n"
     ]
    },
    {
     "output_type": "stream",
     "name": "stdout",
     "text": [
      "INFO:tensorflow:global_step/sec: 0.0339651\n"
     ]
    },
    {
     "output_type": "stream",
     "name": "stderr",
     "text": [
      "I0829 23:39:22.576546  6600 tpu_estimator.py:2159] global_step/sec: 0.0339651\n"
     ]
    },
    {
     "output_type": "stream",
     "name": "stdout",
     "text": [
      "INFO:tensorflow:examples/sec: 0.543441\n"
     ]
    },
    {
     "output_type": "stream",
     "name": "stderr",
     "text": [
      "I0829 23:39:22.667546  6600 tpu_estimator.py:2160] examples/sec: 0.543441\n"
     ]
    },
    {
     "output_type": "stream",
     "name": "stdout",
     "text": [
      "INFO:tensorflow:global_step/sec: 0.0331834\n"
     ]
    },
    {
     "output_type": "stream",
     "name": "stderr",
     "text": [
      "I0829 23:39:52.697129  6600 tpu_estimator.py:2159] global_step/sec: 0.0331834\n"
     ]
    },
    {
     "output_type": "stream",
     "name": "stdout",
     "text": [
      "INFO:tensorflow:examples/sec: 0.530934\n"
     ]
    },
    {
     "output_type": "stream",
     "name": "stderr",
     "text": [
      "I0829 23:39:52.728128  6600 tpu_estimator.py:2160] examples/sec: 0.530934\n"
     ]
    },
    {
     "output_type": "stream",
     "name": "stdout",
     "text": [
      "INFO:tensorflow:global_step/sec: 0.0341297\n"
     ]
    },
    {
     "output_type": "stream",
     "name": "stderr",
     "text": [
      "I0829 23:40:21.997129  6600 tpu_estimator.py:2159] global_step/sec: 0.0341297\n"
     ]
    },
    {
     "output_type": "stream",
     "name": "stdout",
     "text": [
      "INFO:tensorflow:examples/sec: 0.546075\n"
     ]
    },
    {
     "output_type": "stream",
     "name": "stderr",
     "text": [
      "I0829 23:40:22.029131  6600 tpu_estimator.py:2160] examples/sec: 0.546075\n"
     ]
    },
    {
     "output_type": "stream",
     "name": "stdout",
     "text": [
      "INFO:tensorflow:global_step/sec: 0.0332514\n"
     ]
    },
    {
     "output_type": "stream",
     "name": "stderr",
     "text": [
      "I0829 23:40:52.074010  6600 tpu_estimator.py:2159] global_step/sec: 0.0332514\n"
     ]
    },
    {
     "output_type": "stream",
     "name": "stdout",
     "text": [
      "INFO:tensorflow:examples/sec: 0.532023\n"
     ]
    },
    {
     "output_type": "stream",
     "name": "stderr",
     "text": [
      "I0829 23:40:52.109011  6600 tpu_estimator.py:2160] examples/sec: 0.532023\n"
     ]
    },
    {
     "output_type": "stream",
     "name": "stdout",
     "text": [
      "INFO:tensorflow:global_step/sec: 0.0334717\n"
     ]
    },
    {
     "output_type": "stream",
     "name": "stderr",
     "text": [
      "I0829 23:41:21.960013  6600 tpu_estimator.py:2159] global_step/sec: 0.0334717\n"
     ]
    },
    {
     "output_type": "stream",
     "name": "stdout",
     "text": [
      "INFO:tensorflow:examples/sec: 0.535547\n"
     ]
    },
    {
     "output_type": "stream",
     "name": "stderr",
     "text": [
      "I0829 23:41:22.054009  6600 tpu_estimator.py:2160] examples/sec: 0.535547\n"
     ]
    },
    {
     "output_type": "stream",
     "name": "stdout",
     "text": [
      "INFO:tensorflow:global_step/sec: 0.0324446\n"
     ]
    },
    {
     "output_type": "stream",
     "name": "stderr",
     "text": [
      "I0829 23:41:52.784758  6600 tpu_estimator.py:2159] global_step/sec: 0.0324446\n"
     ]
    },
    {
     "output_type": "stream",
     "name": "stdout",
     "text": [
      "INFO:tensorflow:examples/sec: 0.519114\n"
     ]
    },
    {
     "output_type": "stream",
     "name": "stderr",
     "text": [
      "I0829 23:41:52.880758  6600 tpu_estimator.py:2160] examples/sec: 0.519114\n"
     ]
    },
    {
     "output_type": "stream",
     "name": "stdout",
     "text": [
      "INFO:tensorflow:global_step/sec: 0.0339155\n"
     ]
    },
    {
     "output_type": "stream",
     "name": "stderr",
     "text": [
      "I0829 23:42:22.265758  6600 tpu_estimator.py:2159] global_step/sec: 0.0339155\n"
     ]
    },
    {
     "output_type": "stream",
     "name": "stdout",
     "text": [
      "INFO:tensorflow:examples/sec: 0.542649\n"
     ]
    },
    {
     "output_type": "stream",
     "name": "stderr",
     "text": [
      "I0829 23:42:22.404757  6600 tpu_estimator.py:2160] examples/sec: 0.542649\n"
     ]
    },
    {
     "output_type": "stream",
     "name": "stdout",
     "text": [
      "INFO:tensorflow:global_step/sec: 0.0343619\n"
     ]
    },
    {
     "output_type": "stream",
     "name": "stderr",
     "text": [
      "I0829 23:42:51.373757  6600 tpu_estimator.py:2159] global_step/sec: 0.0343619\n"
     ]
    },
    {
     "output_type": "stream",
     "name": "stdout",
     "text": [
      "INFO:tensorflow:examples/sec: 0.54979\n"
     ]
    },
    {
     "output_type": "stream",
     "name": "stderr",
     "text": [
      "I0829 23:42:51.465757  6600 tpu_estimator.py:2160] examples/sec: 0.54979\n"
     ]
    },
    {
     "output_type": "stream",
     "name": "stdout",
     "text": [
      "INFO:tensorflow:global_step/sec: 0.034059\n"
     ]
    },
    {
     "output_type": "stream",
     "name": "stderr",
     "text": [
      "I0829 23:43:20.717610  6600 tpu_estimator.py:2159] global_step/sec: 0.034059\n"
     ]
    },
    {
     "output_type": "stream",
     "name": "stdout",
     "text": [
      "INFO:tensorflow:examples/sec: 0.544943\n"
     ]
    },
    {
     "output_type": "stream",
     "name": "stderr",
     "text": [
      "I0829 23:43:20.751610  6600 tpu_estimator.py:2160] examples/sec: 0.544943\n"
     ]
    },
    {
     "output_type": "stream",
     "name": "stdout",
     "text": [
      "INFO:tensorflow:global_step/sec: 0.0340936\n"
     ]
    },
    {
     "output_type": "stream",
     "name": "stderr",
     "text": [
      "I0829 23:43:50.060608  6600 tpu_estimator.py:2159] global_step/sec: 0.0340936\n"
     ]
    },
    {
     "output_type": "stream",
     "name": "stdout",
     "text": [
      "INFO:tensorflow:examples/sec: 0.545498\n"
     ]
    },
    {
     "output_type": "stream",
     "name": "stderr",
     "text": [
      "I0829 23:43:50.162615  6600 tpu_estimator.py:2160] examples/sec: 0.545498\n"
     ]
    },
    {
     "output_type": "stream",
     "name": "stdout",
     "text": [
      "INFO:tensorflow:global_step/sec: 0.0349577\n"
     ]
    },
    {
     "output_type": "stream",
     "name": "stderr",
     "text": [
      "I0829 23:44:18.669610  6600 tpu_estimator.py:2159] global_step/sec: 0.0349577\n"
     ]
    },
    {
     "output_type": "stream",
     "name": "stdout",
     "text": [
      "INFO:tensorflow:examples/sec: 0.559323\n"
     ]
    },
    {
     "output_type": "stream",
     "name": "stderr",
     "text": [
      "I0829 23:44:18.765607  6600 tpu_estimator.py:2160] examples/sec: 0.559323\n"
     ]
    },
    {
     "output_type": "stream",
     "name": "stdout",
     "text": [
      "INFO:tensorflow:global_step/sec: 0.0337064\n"
     ]
    },
    {
     "output_type": "stream",
     "name": "stderr",
     "text": [
      "I0829 23:44:48.336609  6600 tpu_estimator.py:2159] global_step/sec: 0.0337064\n"
     ]
    },
    {
     "output_type": "stream",
     "name": "stdout",
     "text": [
      "INFO:tensorflow:examples/sec: 0.539302\n"
     ]
    },
    {
     "output_type": "stream",
     "name": "stderr",
     "text": [
      "I0829 23:44:48.437610  6600 tpu_estimator.py:2160] examples/sec: 0.539302\n"
     ]
    },
    {
     "output_type": "stream",
     "name": "stdout",
     "text": [
      "INFO:tensorflow:global_step/sec: 0.0330239\n"
     ]
    },
    {
     "output_type": "stream",
     "name": "stderr",
     "text": [
      "I0829 23:45:18.618751  6600 tpu_estimator.py:2159] global_step/sec: 0.0330239\n"
     ]
    },
    {
     "output_type": "stream",
     "name": "stdout",
     "text": [
      "INFO:tensorflow:examples/sec: 0.528382\n"
     ]
    },
    {
     "output_type": "stream",
     "name": "stderr",
     "text": [
      "I0829 23:45:18.707754  6600 tpu_estimator.py:2160] examples/sec: 0.528382\n"
     ]
    },
    {
     "output_type": "stream",
     "name": "stdout",
     "text": [
      "INFO:tensorflow:global_step/sec: 0.0349138\n"
     ]
    },
    {
     "output_type": "stream",
     "name": "stderr",
     "text": [
      "I0829 23:45:47.256752  6600 tpu_estimator.py:2159] global_step/sec: 0.0349138\n"
     ]
    },
    {
     "output_type": "stream",
     "name": "stdout",
     "text": [
      "INFO:tensorflow:examples/sec: 0.55862\n"
     ]
    },
    {
     "output_type": "stream",
     "name": "stderr",
     "text": [
      "I0829 23:45:47.346753  6600 tpu_estimator.py:2160] examples/sec: 0.55862\n"
     ]
    },
    {
     "output_type": "stream",
     "name": "stdout",
     "text": [
      "INFO:tensorflow:global_step/sec: 0.0342185\n"
     ]
    },
    {
     "output_type": "stream",
     "name": "stderr",
     "text": [
      "I0829 23:46:16.483754  6600 tpu_estimator.py:2159] global_step/sec: 0.0342185\n"
     ]
    },
    {
     "output_type": "stream",
     "name": "stdout",
     "text": [
      "INFO:tensorflow:examples/sec: 0.547495\n"
     ]
    },
    {
     "output_type": "stream",
     "name": "stderr",
     "text": [
      "I0829 23:46:16.579752  6600 tpu_estimator.py:2160] examples/sec: 0.547495\n"
     ]
    },
    {
     "output_type": "stream",
     "name": "stdout",
     "text": [
      "INFO:tensorflow:global_step/sec: 0.033769\n"
     ]
    },
    {
     "output_type": "stream",
     "name": "stderr",
     "text": [
      "I0829 23:46:46.094749  6600 tpu_estimator.py:2159] global_step/sec: 0.033769\n"
     ]
    },
    {
     "output_type": "stream",
     "name": "stdout",
     "text": [
      "INFO:tensorflow:examples/sec: 0.540303\n"
     ]
    },
    {
     "output_type": "stream",
     "name": "stderr",
     "text": [
      "I0829 23:46:46.185752  6600 tpu_estimator.py:2160] examples/sec: 0.540303\n"
     ]
    },
    {
     "output_type": "stream",
     "name": "stdout",
     "text": [
      "INFO:tensorflow:global_step/sec: 0.0328515\n"
     ]
    },
    {
     "output_type": "stream",
     "name": "stderr",
     "text": [
      "I0829 23:47:16.525751  6600 tpu_estimator.py:2159] global_step/sec: 0.0328515\n"
     ]
    },
    {
     "output_type": "stream",
     "name": "stdout",
     "text": [
      "INFO:tensorflow:examples/sec: 0.525624\n"
     ]
    },
    {
     "output_type": "stream",
     "name": "stderr",
     "text": [
      "I0829 23:47:16.568750  6600 tpu_estimator.py:2160] examples/sec: 0.525624\n"
     ]
    },
    {
     "output_type": "stream",
     "name": "stdout",
     "text": [
      "INFO:tensorflow:global_step/sec: 0.0335999\n"
     ]
    },
    {
     "output_type": "stream",
     "name": "stderr",
     "text": [
      "I0829 23:47:46.284751  6600 tpu_estimator.py:2159] global_step/sec: 0.0335999\n"
     ]
    },
    {
     "output_type": "stream",
     "name": "stdout",
     "text": [
      "INFO:tensorflow:examples/sec: 0.537598\n"
     ]
    },
    {
     "output_type": "stream",
     "name": "stderr",
     "text": [
      "I0829 23:47:46.322753  6600 tpu_estimator.py:2160] examples/sec: 0.537598\n"
     ]
    },
    {
     "output_type": "stream",
     "name": "stdout",
     "text": [
      "INFO:tensorflow:global_step/sec: 0.0316781\n"
     ]
    },
    {
     "output_type": "stream",
     "name": "stderr",
     "text": [
      "I0829 23:48:17.854333  6600 tpu_estimator.py:2159] global_step/sec: 0.0316781\n"
     ]
    },
    {
     "output_type": "stream",
     "name": "stdout",
     "text": [
      "INFO:tensorflow:examples/sec: 0.506849\n"
     ]
    },
    {
     "output_type": "stream",
     "name": "stderr",
     "text": [
      "I0829 23:48:17.902333  6600 tpu_estimator.py:2160] examples/sec: 0.506849\n"
     ]
    },
    {
     "output_type": "stream",
     "name": "stdout",
     "text": [
      "INFO:tensorflow:global_step/sec: 0.0321326\n"
     ]
    },
    {
     "output_type": "stream",
     "name": "stderr",
     "text": [
      "I0829 23:48:48.990336  6600 tpu_estimator.py:2159] global_step/sec: 0.0321326\n"
     ]
    },
    {
     "output_type": "stream",
     "name": "stdout",
     "text": [
      "INFO:tensorflow:examples/sec: 0.514122\n"
     ]
    },
    {
     "output_type": "stream",
     "name": "stderr",
     "text": [
      "I0829 23:48:49.101336  6600 tpu_estimator.py:2160] examples/sec: 0.514122\n"
     ]
    },
    {
     "output_type": "stream",
     "name": "stdout",
     "text": [
      "INFO:tensorflow:global_step/sec: 0.0339466\n"
     ]
    },
    {
     "output_type": "stream",
     "name": "stderr",
     "text": [
      "I0829 23:49:18.444331  6600 tpu_estimator.py:2159] global_step/sec: 0.0339466\n"
     ]
    },
    {
     "output_type": "stream",
     "name": "stdout",
     "text": [
      "INFO:tensorflow:examples/sec: 0.543146\n"
     ]
    },
    {
     "output_type": "stream",
     "name": "stderr",
     "text": [
      "I0829 23:49:18.539333  6600 tpu_estimator.py:2160] examples/sec: 0.543146\n"
     ]
    },
    {
     "output_type": "stream",
     "name": "stdout",
     "text": [
      "INFO:tensorflow:global_step/sec: 0.0348639\n"
     ]
    },
    {
     "output_type": "stream",
     "name": "stderr",
     "text": [
      "I0829 23:49:47.113340  6600 tpu_estimator.py:2159] global_step/sec: 0.0348639\n"
     ]
    },
    {
     "output_type": "stream",
     "name": "stdout",
     "text": [
      "INFO:tensorflow:examples/sec: 0.557822\n"
     ]
    },
    {
     "output_type": "stream",
     "name": "stderr",
     "text": [
      "I0829 23:49:47.142331  6600 tpu_estimator.py:2160] examples/sec: 0.557822\n"
     ]
    },
    {
     "output_type": "stream",
     "name": "stdout",
     "text": [
      "INFO:tensorflow:global_step/sec: 0.0313191\n"
     ]
    },
    {
     "output_type": "stream",
     "name": "stderr",
     "text": [
      "I0829 23:50:19.042701  6600 tpu_estimator.py:2159] global_step/sec: 0.0313191\n"
     ]
    },
    {
     "output_type": "stream",
     "name": "stdout",
     "text": [
      "INFO:tensorflow:examples/sec: 0.501106\n"
     ]
    },
    {
     "output_type": "stream",
     "name": "stderr",
     "text": [
      "I0829 23:50:19.085701  6600 tpu_estimator.py:2160] examples/sec: 0.501106\n"
     ]
    },
    {
     "output_type": "stream",
     "name": "stdout",
     "text": [
      "INFO:tensorflow:global_step/sec: 0.0339167\n"
     ]
    },
    {
     "output_type": "stream",
     "name": "stderr",
     "text": [
      "I0829 23:50:48.549700  6600 tpu_estimator.py:2159] global_step/sec: 0.0339167\n"
     ]
    },
    {
     "output_type": "stream",
     "name": "stdout",
     "text": [
      "INFO:tensorflow:examples/sec: 0.542667\n"
     ]
    },
    {
     "output_type": "stream",
     "name": "stderr",
     "text": [
      "I0829 23:50:48.663704  6600 tpu_estimator.py:2160] examples/sec: 0.542667\n"
     ]
    },
    {
     "output_type": "stream",
     "name": "stdout",
     "text": [
      "INFO:tensorflow:global_step/sec: 0.0324395\n"
     ]
    },
    {
     "output_type": "stream",
     "name": "stderr",
     "text": [
      "I0829 23:51:19.353359  6600 tpu_estimator.py:2159] global_step/sec: 0.0324395\n"
     ]
    },
    {
     "output_type": "stream",
     "name": "stdout",
     "text": [
      "INFO:tensorflow:examples/sec: 0.519031\n"
     ]
    },
    {
     "output_type": "stream",
     "name": "stderr",
     "text": [
      "I0829 23:51:19.384362  6600 tpu_estimator.py:2160] examples/sec: 0.519031\n"
     ]
    },
    {
     "output_type": "stream",
     "name": "stdout",
     "text": [
      "INFO:tensorflow:global_step/sec: 0.0331796\n"
     ]
    },
    {
     "output_type": "stream",
     "name": "stderr",
     "text": [
      "I0829 23:51:49.517360  6600 tpu_estimator.py:2159] global_step/sec: 0.0331796\n"
     ]
    },
    {
     "output_type": "stream",
     "name": "stdout",
     "text": [
      "INFO:tensorflow:examples/sec: 0.530874\n"
     ]
    },
    {
     "output_type": "stream",
     "name": "stderr",
     "text": [
      "I0829 23:51:49.601363  6600 tpu_estimator.py:2160] examples/sec: 0.530874\n"
     ]
    },
    {
     "output_type": "stream",
     "name": "stdout",
     "text": [
      "INFO:tensorflow:global_step/sec: 0.0330276\n"
     ]
    },
    {
     "output_type": "stream",
     "name": "stderr",
     "text": [
      "I0829 23:52:19.768046  6600 tpu_estimator.py:2159] global_step/sec: 0.0330276\n"
     ]
    },
    {
     "output_type": "stream",
     "name": "stdout",
     "text": [
      "INFO:tensorflow:examples/sec: 0.528442\n"
     ]
    },
    {
     "output_type": "stream",
     "name": "stderr",
     "text": [
      "I0829 23:52:19.811052  6600 tpu_estimator.py:2160] examples/sec: 0.528442\n"
     ]
    },
    {
     "output_type": "stream",
     "name": "stdout",
     "text": [
      "INFO:tensorflow:global_step/sec: 0.0329196\n"
     ]
    },
    {
     "output_type": "stream",
     "name": "stderr",
     "text": [
      "I0829 23:52:50.147101  6600 tpu_estimator.py:2159] global_step/sec: 0.0329196\n"
     ]
    },
    {
     "output_type": "stream",
     "name": "stdout",
     "text": [
      "INFO:tensorflow:examples/sec: 0.526713\n"
     ]
    },
    {
     "output_type": "stream",
     "name": "stderr",
     "text": [
      "I0829 23:52:50.179102  6600 tpu_estimator.py:2160] examples/sec: 0.526713\n"
     ]
    },
    {
     "output_type": "stream",
     "name": "stdout",
     "text": [
      "INFO:tensorflow:global_step/sec: 0.0335694\n"
     ]
    },
    {
     "output_type": "stream",
     "name": "stderr",
     "text": [
      "I0829 23:53:19.954104  6600 tpu_estimator.py:2159] global_step/sec: 0.0335694\n"
     ]
    },
    {
     "output_type": "stream",
     "name": "stdout",
     "text": [
      "INFO:tensorflow:examples/sec: 0.537111\n"
     ]
    },
    {
     "output_type": "stream",
     "name": "stderr",
     "text": [
      "I0829 23:53:20.052101  6600 tpu_estimator.py:2160] examples/sec: 0.537111\n"
     ]
    },
    {
     "output_type": "stream",
     "name": "stdout",
     "text": [
      "INFO:tensorflow:global_step/sec: 0.0345447\n"
     ]
    },
    {
     "output_type": "stream",
     "name": "stderr",
     "text": [
      "I0829 23:53:48.900099  6600 tpu_estimator.py:2159] global_step/sec: 0.0345447\n"
     ]
    },
    {
     "output_type": "stream",
     "name": "stdout",
     "text": [
      "INFO:tensorflow:examples/sec: 0.552715\n"
     ]
    },
    {
     "output_type": "stream",
     "name": "stderr",
     "text": [
      "I0829 23:53:48.990101  6600 tpu_estimator.py:2160] examples/sec: 0.552715\n"
     ]
    },
    {
     "output_type": "stream",
     "name": "stdout",
     "text": [
      "INFO:tensorflow:global_step/sec: 0.0327051\n"
     ]
    },
    {
     "output_type": "stream",
     "name": "stderr",
     "text": [
      "I0829 23:54:19.462382  6600 tpu_estimator.py:2159] global_step/sec: 0.0327051\n"
     ]
    },
    {
     "output_type": "stream",
     "name": "stdout",
     "text": [
      "INFO:tensorflow:examples/sec: 0.523281\n"
     ]
    },
    {
     "output_type": "stream",
     "name": "stderr",
     "text": [
      "I0829 23:54:19.492386  6600 tpu_estimator.py:2160] examples/sec: 0.523281\n"
     ]
    },
    {
     "output_type": "stream",
     "name": "stdout",
     "text": [
      "INFO:tensorflow:global_step/sec: 0.0315577\n"
     ]
    },
    {
     "output_type": "stream",
     "name": "stderr",
     "text": [
      "I0829 23:54:51.147383  6600 tpu_estimator.py:2159] global_step/sec: 0.0315577\n"
     ]
    },
    {
     "output_type": "stream",
     "name": "stdout",
     "text": [
      "INFO:tensorflow:examples/sec: 0.504923\n"
     ]
    },
    {
     "output_type": "stream",
     "name": "stderr",
     "text": [
      "I0829 23:54:51.189383  6600 tpu_estimator.py:2160] examples/sec: 0.504923\n"
     ]
    },
    {
     "output_type": "stream",
     "name": "stdout",
     "text": [
      "INFO:tensorflow:global_step/sec: 0.0335638\n"
     ]
    },
    {
     "output_type": "stream",
     "name": "stderr",
     "text": [
      "I0829 23:55:20.952383  6600 tpu_estimator.py:2159] global_step/sec: 0.0335638\n"
     ]
    },
    {
     "output_type": "stream",
     "name": "stdout",
     "text": [
      "INFO:tensorflow:examples/sec: 0.537021\n"
     ]
    },
    {
     "output_type": "stream",
     "name": "stderr",
     "text": [
      "I0829 23:55:21.032386  6600 tpu_estimator.py:2160] examples/sec: 0.537021\n"
     ]
    },
    {
     "output_type": "stream",
     "name": "stdout",
     "text": [
      "INFO:tensorflow:global_step/sec: 0.0337154\n"
     ]
    },
    {
     "output_type": "stream",
     "name": "stderr",
     "text": [
      "I0829 23:55:50.602383  6600 tpu_estimator.py:2159] global_step/sec: 0.0337154\n"
     ]
    },
    {
     "output_type": "stream",
     "name": "stdout",
     "text": [
      "INFO:tensorflow:examples/sec: 0.539447\n"
     ]
    },
    {
     "output_type": "stream",
     "name": "stderr",
     "text": [
      "I0829 23:55:50.632384  6600 tpu_estimator.py:2160] examples/sec: 0.539447\n"
     ]
    },
    {
     "output_type": "stream",
     "name": "stdout",
     "text": [
      "INFO:tensorflow:global_step/sec: 0.0323342\n"
     ]
    },
    {
     "output_type": "stream",
     "name": "stderr",
     "text": [
      "I0829 23:56:21.544384  6600 tpu_estimator.py:2159] global_step/sec: 0.0323342\n"
     ]
    },
    {
     "output_type": "stream",
     "name": "stdout",
     "text": [
      "INFO:tensorflow:examples/sec: 0.517347\n"
     ]
    },
    {
     "output_type": "stream",
     "name": "stderr",
     "text": [
      "I0829 23:56:21.640386  6600 tpu_estimator.py:2160] examples/sec: 0.517347\n"
     ]
    },
    {
     "output_type": "stream",
     "name": "stdout",
     "text": [
      "INFO:tensorflow:global_step/sec: 0.032975\n"
     ]
    },
    {
     "output_type": "stream",
     "name": "stderr",
     "text": [
      "I0829 23:56:51.858384  6600 tpu_estimator.py:2159] global_step/sec: 0.032975\n"
     ]
    },
    {
     "output_type": "stream",
     "name": "stdout",
     "text": [
      "INFO:tensorflow:examples/sec: 0.5276\n"
     ]
    },
    {
     "output_type": "stream",
     "name": "stderr",
     "text": [
      "I0829 23:56:51.902384  6600 tpu_estimator.py:2160] examples/sec: 0.5276\n"
     ]
    },
    {
     "output_type": "stream",
     "name": "stdout",
     "text": [
      "INFO:tensorflow:global_step/sec: 0.033418\n"
     ]
    },
    {
     "output_type": "stream",
     "name": "stderr",
     "text": [
      "I0829 23:57:21.811383  6600 tpu_estimator.py:2159] global_step/sec: 0.033418\n"
     ]
    },
    {
     "output_type": "stream",
     "name": "stdout",
     "text": [
      "INFO:tensorflow:examples/sec: 0.534688\n"
     ]
    },
    {
     "output_type": "stream",
     "name": "stderr",
     "text": [
      "I0829 23:57:21.888384  6600 tpu_estimator.py:2160] examples/sec: 0.534688\n"
     ]
    },
    {
     "output_type": "stream",
     "name": "stdout",
     "text": [
      "INFO:tensorflow:global_step/sec: 0.0333\n"
     ]
    },
    {
     "output_type": "stream",
     "name": "stderr",
     "text": [
      "I0829 23:57:51.829383  6600 tpu_estimator.py:2159] global_step/sec: 0.0333\n"
     ]
    },
    {
     "output_type": "stream",
     "name": "stdout",
     "text": [
      "INFO:tensorflow:examples/sec: 0.532801\n"
     ]
    },
    {
     "output_type": "stream",
     "name": "stderr",
     "text": [
      "I0829 23:57:51.926386  6600 tpu_estimator.py:2160] examples/sec: 0.532801\n"
     ]
    },
    {
     "output_type": "stream",
     "name": "stdout",
     "text": [
      "INFO:tensorflow:global_step/sec: 0.0331159\n"
     ]
    },
    {
     "output_type": "stream",
     "name": "stderr",
     "text": [
      "I0829 23:58:22.022385  6600 tpu_estimator.py:2159] global_step/sec: 0.0331159\n"
     ]
    },
    {
     "output_type": "stream",
     "name": "stdout",
     "text": [
      "INFO:tensorflow:examples/sec: 0.529854\n"
     ]
    },
    {
     "output_type": "stream",
     "name": "stderr",
     "text": [
      "I0829 23:58:22.137383  6600 tpu_estimator.py:2160] examples/sec: 0.529854\n"
     ]
    },
    {
     "output_type": "stream",
     "name": "stdout",
     "text": [
      "INFO:tensorflow:global_step/sec: 0.0320124\n"
     ]
    },
    {
     "output_type": "stream",
     "name": "stderr",
     "text": [
      "I0829 23:58:53.243319  6600 tpu_estimator.py:2159] global_step/sec: 0.0320124\n"
     ]
    },
    {
     "output_type": "stream",
     "name": "stdout",
     "text": [
      "INFO:tensorflow:examples/sec: 0.512198\n"
     ]
    },
    {
     "output_type": "stream",
     "name": "stderr",
     "text": [
      "I0829 23:58:53.285321  6600 tpu_estimator.py:2160] examples/sec: 0.512198\n"
     ]
    },
    {
     "output_type": "stream",
     "name": "stdout",
     "text": [
      "INFO:tensorflow:global_step/sec: 0.033526\n"
     ]
    },
    {
     "output_type": "stream",
     "name": "stderr",
     "text": [
      "I0829 23:59:23.085912  6600 tpu_estimator.py:2159] global_step/sec: 0.033526\n"
     ]
    },
    {
     "output_type": "stream",
     "name": "stdout",
     "text": [
      "INFO:tensorflow:examples/sec: 0.536416\n"
     ]
    },
    {
     "output_type": "stream",
     "name": "stderr",
     "text": [
      "I0829 23:59:23.179913  6600 tpu_estimator.py:2160] examples/sec: 0.536416\n"
     ]
    },
    {
     "output_type": "stream",
     "name": "stdout",
     "text": [
      "INFO:tensorflow:global_step/sec: 0.032885\n"
     ]
    },
    {
     "output_type": "stream",
     "name": "stderr",
     "text": [
      "I0829 23:59:53.495915  6600 tpu_estimator.py:2159] global_step/sec: 0.032885\n"
     ]
    },
    {
     "output_type": "stream",
     "name": "stdout",
     "text": [
      "INFO:tensorflow:examples/sec: 0.52616\n"
     ]
    },
    {
     "output_type": "stream",
     "name": "stderr",
     "text": [
      "I0829 23:59:53.589910  6600 tpu_estimator.py:2160] examples/sec: 0.52616\n"
     ]
    },
    {
     "output_type": "stream",
     "name": "stdout",
     "text": [
      "INFO:tensorflow:global_step/sec: 0.0307872\n"
     ]
    },
    {
     "output_type": "stream",
     "name": "stderr",
     "text": [
      "I0830 00:00:25.975894  6600 tpu_estimator.py:2159] global_step/sec: 0.0307872\n"
     ]
    },
    {
     "output_type": "stream",
     "name": "stdout",
     "text": [
      "INFO:tensorflow:examples/sec: 0.492596\n"
     ]
    },
    {
     "output_type": "stream",
     "name": "stderr",
     "text": [
      "I0830 00:00:26.067895  6600 tpu_estimator.py:2160] examples/sec: 0.492596\n"
     ]
    },
    {
     "output_type": "stream",
     "name": "stdout",
     "text": [
      "INFO:tensorflow:global_step/sec: 0.0328472\n"
     ]
    },
    {
     "output_type": "stream",
     "name": "stderr",
     "text": [
      "I0830 00:00:56.412894  6600 tpu_estimator.py:2159] global_step/sec: 0.0328472\n"
     ]
    },
    {
     "output_type": "stream",
     "name": "stdout",
     "text": [
      "INFO:tensorflow:examples/sec: 0.525555\n"
     ]
    },
    {
     "output_type": "stream",
     "name": "stderr",
     "text": [
      "I0830 00:00:56.468898  6600 tpu_estimator.py:2160] examples/sec: 0.525555\n"
     ]
    },
    {
     "output_type": "stream",
     "name": "stdout",
     "text": [
      "INFO:tensorflow:global_step/sec: 0.0329088\n"
     ]
    },
    {
     "output_type": "stream",
     "name": "stderr",
     "text": [
      "I0830 00:01:26.799896  6600 tpu_estimator.py:2159] global_step/sec: 0.0329088\n"
     ]
    },
    {
     "output_type": "stream",
     "name": "stdout",
     "text": [
      "INFO:tensorflow:examples/sec: 0.526541\n"
     ]
    },
    {
     "output_type": "stream",
     "name": "stderr",
     "text": [
      "I0830 00:01:26.853895  6600 tpu_estimator.py:2160] examples/sec: 0.526541\n"
     ]
    },
    {
     "output_type": "stream",
     "name": "stdout",
     "text": [
      "INFO:tensorflow:global_step/sec: 0.0339282\n"
     ]
    },
    {
     "output_type": "stream",
     "name": "stderr",
     "text": [
      "I0830 00:01:56.280894  6600 tpu_estimator.py:2159] global_step/sec: 0.0339282\n"
     ]
    },
    {
     "output_type": "stream",
     "name": "stdout",
     "text": [
      "INFO:tensorflow:examples/sec: 0.542851\n"
     ]
    },
    {
     "output_type": "stream",
     "name": "stderr",
     "text": [
      "I0830 00:01:56.372899  6600 tpu_estimator.py:2160] examples/sec: 0.542851\n"
     ]
    },
    {
     "output_type": "stream",
     "name": "stdout",
     "text": [
      "INFO:tensorflow:global_step/sec: 0.0323981\n"
     ]
    },
    {
     "output_type": "stream",
     "name": "stderr",
     "text": [
      "I0830 00:02:27.147891  6600 tpu_estimator.py:2159] global_step/sec: 0.0323981\n"
     ]
    },
    {
     "output_type": "stream",
     "name": "stdout",
     "text": [
      "INFO:tensorflow:examples/sec: 0.51837\n"
     ]
    },
    {
     "output_type": "stream",
     "name": "stderr",
     "text": [
      "I0830 00:02:27.238892  6600 tpu_estimator.py:2160] examples/sec: 0.51837\n"
     ]
    },
    {
     "output_type": "stream",
     "name": "stdout",
     "text": [
      "INFO:tensorflow:global_step/sec: 0.0343773\n"
     ]
    },
    {
     "output_type": "stream",
     "name": "stderr",
     "text": [
      "I0830 00:02:56.222895  6600 tpu_estimator.py:2159] global_step/sec: 0.0343773\n"
     ]
    },
    {
     "output_type": "stream",
     "name": "stdout",
     "text": [
      "INFO:tensorflow:examples/sec: 0.550036\n"
     ]
    },
    {
     "output_type": "stream",
     "name": "stderr",
     "text": [
      "I0830 00:02:56.252897  6600 tpu_estimator.py:2160] examples/sec: 0.550036\n"
     ]
    },
    {
     "output_type": "stream",
     "name": "stdout",
     "text": [
      "INFO:tensorflow:global_step/sec: 0.0332912\n"
     ]
    },
    {
     "output_type": "stream",
     "name": "stderr",
     "text": [
      "I0830 00:03:26.276896  6600 tpu_estimator.py:2159] global_step/sec: 0.0332912\n"
     ]
    },
    {
     "output_type": "stream",
     "name": "stdout",
     "text": [
      "INFO:tensorflow:examples/sec: 0.532659\n"
     ]
    },
    {
     "output_type": "stream",
     "name": "stderr",
     "text": [
      "I0830 00:03:26.406898  6600 tpu_estimator.py:2160] examples/sec: 0.532659\n"
     ]
    },
    {
     "output_type": "stream",
     "name": "stdout",
     "text": [
      "INFO:tensorflow:global_step/sec: 0.0325202\n"
     ]
    },
    {
     "output_type": "stream",
     "name": "stderr",
     "text": [
      "I0830 00:03:57.036972  6600 tpu_estimator.py:2159] global_step/sec: 0.0325202\n"
     ]
    },
    {
     "output_type": "stream",
     "name": "stdout",
     "text": [
      "INFO:tensorflow:examples/sec: 0.520324\n"
     ]
    },
    {
     "output_type": "stream",
     "name": "stderr",
     "text": [
      "I0830 00:03:57.149972  6600 tpu_estimator.py:2160] examples/sec: 0.520324\n"
     ]
    },
    {
     "output_type": "stream",
     "name": "stdout",
     "text": [
      "INFO:tensorflow:global_step/sec: 0.033162\n"
     ]
    },
    {
     "output_type": "stream",
     "name": "stderr",
     "text": [
      "I0830 00:04:27.178971  6600 tpu_estimator.py:2159] global_step/sec: 0.033162\n"
     ]
    },
    {
     "output_type": "stream",
     "name": "stdout",
     "text": [
      "INFO:tensorflow:examples/sec: 0.530592\n"
     ]
    },
    {
     "output_type": "stream",
     "name": "stderr",
     "text": [
      "I0830 00:04:27.271974  6600 tpu_estimator.py:2160] examples/sec: 0.530592\n"
     ]
    },
    {
     "output_type": "stream",
     "name": "stdout",
     "text": [
      "INFO:tensorflow:global_step/sec: 0.0311125\n"
     ]
    },
    {
     "output_type": "stream",
     "name": "stderr",
     "text": [
      "I0830 00:04:59.321368  6600 tpu_estimator.py:2159] global_step/sec: 0.0311125\n"
     ]
    },
    {
     "output_type": "stream",
     "name": "stdout",
     "text": [
      "INFO:tensorflow:examples/sec: 0.4978\n"
     ]
    },
    {
     "output_type": "stream",
     "name": "stderr",
     "text": [
      "I0830 00:04:59.416372  6600 tpu_estimator.py:2160] examples/sec: 0.4978\n"
     ]
    },
    {
     "output_type": "stream",
     "name": "stdout",
     "text": [
      "INFO:tensorflow:global_step/sec: 0.0327182\n"
     ]
    },
    {
     "output_type": "stream",
     "name": "stderr",
     "text": [
      "I0830 00:05:29.882371  6600 tpu_estimator.py:2159] global_step/sec: 0.0327182\n"
     ]
    },
    {
     "output_type": "stream",
     "name": "stdout",
     "text": [
      "INFO:tensorflow:examples/sec: 0.523492\n"
     ]
    },
    {
     "output_type": "stream",
     "name": "stderr",
     "text": [
      "I0830 00:05:29.979370  6600 tpu_estimator.py:2160] examples/sec: 0.523492\n"
     ]
    },
    {
     "output_type": "stream",
     "name": "stdout",
     "text": [
      "INFO:tensorflow:global_step/sec: 0.033493\n"
     ]
    },
    {
     "output_type": "stream",
     "name": "stderr",
     "text": [
      "I0830 00:05:59.739370  6600 tpu_estimator.py:2159] global_step/sec: 0.033493\n"
     ]
    },
    {
     "output_type": "stream",
     "name": "stdout",
     "text": [
      "INFO:tensorflow:examples/sec: 0.535888\n"
     ]
    },
    {
     "output_type": "stream",
     "name": "stderr",
     "text": [
      "I0830 00:05:59.824371  6600 tpu_estimator.py:2160] examples/sec: 0.535888\n"
     ]
    },
    {
     "output_type": "stream",
     "name": "stdout",
     "text": [
      "INFO:tensorflow:global_step/sec: 0.0336666\n"
     ]
    },
    {
     "output_type": "stream",
     "name": "stderr",
     "text": [
      "I0830 00:06:29.430370  6600 tpu_estimator.py:2159] global_step/sec: 0.0336666\n"
     ]
    },
    {
     "output_type": "stream",
     "name": "stdout",
     "text": [
      "INFO:tensorflow:examples/sec: 0.538666\n"
     ]
    },
    {
     "output_type": "stream",
     "name": "stderr",
     "text": [
      "I0830 00:06:29.459371  6600 tpu_estimator.py:2160] examples/sec: 0.538666\n"
     ]
    },
    {
     "output_type": "stream",
     "name": "stdout",
     "text": [
      "INFO:tensorflow:global_step/sec: 0.0324242\n"
     ]
    },
    {
     "output_type": "stream",
     "name": "stderr",
     "text": [
      "I0830 00:07:00.271514  6600 tpu_estimator.py:2159] global_step/sec: 0.0324242\n"
     ]
    },
    {
     "output_type": "stream",
     "name": "stdout",
     "text": [
      "INFO:tensorflow:examples/sec: 0.518788\n"
     ]
    },
    {
     "output_type": "stream",
     "name": "stderr",
     "text": [
      "I0830 00:07:00.301514  6600 tpu_estimator.py:2160] examples/sec: 0.518788\n"
     ]
    },
    {
     "output_type": "stream",
     "name": "stdout",
     "text": [
      "INFO:tensorflow:global_step/sec: 0.0332088\n"
     ]
    },
    {
     "output_type": "stream",
     "name": "stderr",
     "text": [
      "I0830 00:07:30.399998  6600 tpu_estimator.py:2159] global_step/sec: 0.0332088\n"
     ]
    },
    {
     "output_type": "stream",
     "name": "stdout",
     "text": [
      "INFO:tensorflow:examples/sec: 0.531341\n"
     ]
    },
    {
     "output_type": "stream",
     "name": "stderr",
     "text": [
      "I0830 00:07:30.501999  6600 tpu_estimator.py:2160] examples/sec: 0.531341\n"
     ]
    },
    {
     "output_type": "stream",
     "name": "stdout",
     "text": [
      "INFO:tensorflow:global_step/sec: 0.0333023\n"
     ]
    },
    {
     "output_type": "stream",
     "name": "stderr",
     "text": [
      "I0830 00:08:00.424997  6600 tpu_estimator.py:2159] global_step/sec: 0.0333023\n"
     ]
    },
    {
     "output_type": "stream",
     "name": "stdout",
     "text": [
      "INFO:tensorflow:examples/sec: 0.532836\n"
     ]
    },
    {
     "output_type": "stream",
     "name": "stderr",
     "text": [
      "I0830 00:08:00.500997  6600 tpu_estimator.py:2160] examples/sec: 0.532836\n"
     ]
    },
    {
     "output_type": "stream",
     "name": "stdout",
     "text": [
      "INFO:tensorflow:global_step/sec: 0.0332779\n"
     ]
    },
    {
     "output_type": "stream",
     "name": "stderr",
     "text": [
      "I0830 00:08:30.462000  6600 tpu_estimator.py:2159] global_step/sec: 0.0332779\n"
     ]
    },
    {
     "output_type": "stream",
     "name": "stdout",
     "text": [
      "INFO:tensorflow:examples/sec: 0.532446\n"
     ]
    },
    {
     "output_type": "stream",
     "name": "stderr",
     "text": [
      "I0830 00:08:30.494998  6600 tpu_estimator.py:2160] examples/sec: 0.532446\n"
     ]
    },
    {
     "output_type": "stream",
     "name": "stdout",
     "text": [
      "INFO:tensorflow:global_step/sec: 0.03444\n"
     ]
    },
    {
     "output_type": "stream",
     "name": "stderr",
     "text": [
      "I0830 00:08:59.497996  6600 tpu_estimator.py:2159] global_step/sec: 0.03444\n"
     ]
    },
    {
     "output_type": "stream",
     "name": "stdout",
     "text": [
      "INFO:tensorflow:examples/sec: 0.55104\n"
     ]
    },
    {
     "output_type": "stream",
     "name": "stderr",
     "text": [
      "I0830 00:08:59.527997  6600 tpu_estimator.py:2160] examples/sec: 0.55104\n"
     ]
    },
    {
     "output_type": "stream",
     "name": "stdout",
     "text": [
      "INFO:tensorflow:global_step/sec: 0.0328818\n"
     ]
    },
    {
     "output_type": "stream",
     "name": "stderr",
     "text": [
      "I0830 00:09:29.932000  6600 tpu_estimator.py:2159] global_step/sec: 0.0328818\n"
     ]
    },
    {
     "output_type": "stream",
     "name": "stdout",
     "text": [
      "INFO:tensorflow:examples/sec: 0.526108\n"
     ]
    },
    {
     "output_type": "stream",
     "name": "stderr",
     "text": [
      "I0830 00:09:30.054000  6600 tpu_estimator.py:2160] examples/sec: 0.526108\n"
     ]
    },
    {
     "output_type": "stream",
     "name": "stdout",
     "text": [
      "INFO:tensorflow:global_step/sec: 0.0341134\n"
     ]
    },
    {
     "output_type": "stream",
     "name": "stderr",
     "text": [
      "I0830 00:09:59.229997  6600 tpu_estimator.py:2159] global_step/sec: 0.0341134\n"
     ]
    },
    {
     "output_type": "stream",
     "name": "stdout",
     "text": [
      "INFO:tensorflow:examples/sec: 0.545814\n"
     ]
    },
    {
     "output_type": "stream",
     "name": "stderr",
     "text": [
      "I0830 00:09:59.314999  6600 tpu_estimator.py:2160] examples/sec: 0.545814\n"
     ]
    },
    {
     "output_type": "stream",
     "name": "stdout",
     "text": [
      "INFO:tensorflow:global_step/sec: 0.0341752\n"
     ]
    },
    {
     "output_type": "stream",
     "name": "stderr",
     "text": [
      "I0830 00:10:28.484997  6600 tpu_estimator.py:2159] global_step/sec: 0.0341752\n"
     ]
    },
    {
     "output_type": "stream",
     "name": "stdout",
     "text": [
      "INFO:tensorflow:examples/sec: 0.546803\n"
     ]
    },
    {
     "output_type": "stream",
     "name": "stderr",
     "text": [
      "I0830 00:10:28.514998  6600 tpu_estimator.py:2160] examples/sec: 0.546803\n"
     ]
    },
    {
     "output_type": "stream",
     "name": "stdout",
     "text": [
      "INFO:tensorflow:global_step/sec: 0.0332292\n"
     ]
    },
    {
     "output_type": "stream",
     "name": "stderr",
     "text": [
      "I0830 00:10:58.592998  6600 tpu_estimator.py:2159] global_step/sec: 0.0332292\n"
     ]
    },
    {
     "output_type": "stream",
     "name": "stdout",
     "text": [
      "INFO:tensorflow:examples/sec: 0.531667\n"
     ]
    },
    {
     "output_type": "stream",
     "name": "stderr",
     "text": [
      "I0830 00:10:58.686000  6600 tpu_estimator.py:2160] examples/sec: 0.531667\n"
     ]
    },
    {
     "output_type": "stream",
     "name": "stdout",
     "text": [
      "INFO:tensorflow:global_step/sec: 0.0335008\n"
     ]
    },
    {
     "output_type": "stream",
     "name": "stderr",
     "text": [
      "I0830 00:11:28.444997  6600 tpu_estimator.py:2159] global_step/sec: 0.0335008\n"
     ]
    },
    {
     "output_type": "stream",
     "name": "stdout",
     "text": [
      "INFO:tensorflow:examples/sec: 0.536013\n"
     ]
    },
    {
     "output_type": "stream",
     "name": "stderr",
     "text": [
      "I0830 00:11:28.546002  6600 tpu_estimator.py:2160] examples/sec: 0.536013\n"
     ]
    },
    {
     "output_type": "stream",
     "name": "stdout",
     "text": [
      "INFO:tensorflow:global_step/sec: 0.0335368\n"
     ]
    },
    {
     "output_type": "stream",
     "name": "stderr",
     "text": [
      "I0830 00:11:58.275999  6600 tpu_estimator.py:2159] global_step/sec: 0.0335368\n"
     ]
    },
    {
     "output_type": "stream",
     "name": "stdout",
     "text": [
      "INFO:tensorflow:examples/sec: 0.536589\n"
     ]
    },
    {
     "output_type": "stream",
     "name": "stderr",
     "text": [
      "I0830 00:11:58.373001  6600 tpu_estimator.py:2160] examples/sec: 0.536589\n"
     ]
    },
    {
     "output_type": "stream",
     "name": "stdout",
     "text": [
      "INFO:tensorflow:global_step/sec: 0.0315806\n"
     ]
    },
    {
     "output_type": "stream",
     "name": "stderr",
     "text": [
      "I0830 00:12:29.910995  6600 tpu_estimator.py:2159] global_step/sec: 0.0315806\n"
     ]
    },
    {
     "output_type": "stream",
     "name": "stdout",
     "text": [
      "INFO:tensorflow:examples/sec: 0.50529\n"
     ]
    },
    {
     "output_type": "stream",
     "name": "stderr",
     "text": [
      "I0830 00:12:29.957001  6600 tpu_estimator.py:2160] examples/sec: 0.50529\n"
     ]
    },
    {
     "output_type": "stream",
     "name": "stdout",
     "text": [
      "INFO:tensorflow:global_step/sec: 0.0321585\n"
     ]
    },
    {
     "output_type": "stream",
     "name": "stderr",
     "text": [
      "I0830 00:13:01.007997  6600 tpu_estimator.py:2159] global_step/sec: 0.0321585\n"
     ]
    },
    {
     "output_type": "stream",
     "name": "stdout",
     "text": [
      "INFO:tensorflow:examples/sec: 0.514536\n"
     ]
    },
    {
     "output_type": "stream",
     "name": "stderr",
     "text": [
      "I0830 00:13:01.038000  6600 tpu_estimator.py:2160] examples/sec: 0.514536\n"
     ]
    },
    {
     "output_type": "stream",
     "name": "stdout",
     "text": [
      "INFO:tensorflow:global_step/sec: 0.0335514\n"
     ]
    },
    {
     "output_type": "stream",
     "name": "stderr",
     "text": [
      "I0830 00:13:30.814998  6600 tpu_estimator.py:2159] global_step/sec: 0.0335514\n"
     ]
    },
    {
     "output_type": "stream",
     "name": "stdout",
     "text": [
      "INFO:tensorflow:examples/sec: 0.536823\n"
     ]
    },
    {
     "output_type": "stream",
     "name": "stderr",
     "text": [
      "I0830 00:13:30.853997  6600 tpu_estimator.py:2160] examples/sec: 0.536823\n"
     ]
    },
    {
     "output_type": "stream",
     "name": "stdout",
     "text": [
      "INFO:tensorflow:global_step/sec: 0.0334448\n"
     ]
    },
    {
     "output_type": "stream",
     "name": "stderr",
     "text": [
      "I0830 00:14:00.729998  6600 tpu_estimator.py:2159] global_step/sec: 0.0334448\n"
     ]
    },
    {
     "output_type": "stream",
     "name": "stdout",
     "text": [
      "INFO:tensorflow:examples/sec: 0.535117\n"
     ]
    },
    {
     "output_type": "stream",
     "name": "stderr",
     "text": [
      "I0830 00:14:00.823998  6600 tpu_estimator.py:2160] examples/sec: 0.535117\n"
     ]
    },
    {
     "output_type": "stream",
     "name": "stdout",
     "text": [
      "INFO:tensorflow:global_step/sec: 0.0347645\n"
     ]
    },
    {
     "output_type": "stream",
     "name": "stderr",
     "text": [
      "I0830 00:14:29.478998  6600 tpu_estimator.py:2159] global_step/sec: 0.0347645\n"
     ]
    },
    {
     "output_type": "stream",
     "name": "stdout",
     "text": [
      "INFO:tensorflow:examples/sec: 0.556232\n"
     ]
    },
    {
     "output_type": "stream",
     "name": "stderr",
     "text": [
      "I0830 00:14:29.510999  6600 tpu_estimator.py:2160] examples/sec: 0.556232\n"
     ]
    },
    {
     "output_type": "stream",
     "name": "stdout",
     "text": [
      "INFO:tensorflow:global_step/sec: 0.0337507\n"
     ]
    },
    {
     "output_type": "stream",
     "name": "stderr",
     "text": [
      "I0830 00:14:59.122999  6600 tpu_estimator.py:2159] global_step/sec: 0.0337507\n"
     ]
    },
    {
     "output_type": "stream",
     "name": "stdout",
     "text": [
      "INFO:tensorflow:examples/sec: 0.540011\n"
     ]
    },
    {
     "output_type": "stream",
     "name": "stderr",
     "text": [
      "I0830 00:14:59.235001  6600 tpu_estimator.py:2160] examples/sec: 0.540011\n"
     ]
    },
    {
     "output_type": "stream",
     "name": "stdout",
     "text": [
      "INFO:tensorflow:global_step/sec: 0.0337564\n"
     ]
    },
    {
     "output_type": "stream",
     "name": "stderr",
     "text": [
      "I0830 00:15:28.733997  6600 tpu_estimator.py:2159] global_step/sec: 0.0337564\n"
     ]
    },
    {
     "output_type": "stream",
     "name": "stdout",
     "text": [
      "INFO:tensorflow:examples/sec: 0.540103\n"
     ]
    },
    {
     "output_type": "stream",
     "name": "stderr",
     "text": [
      "I0830 00:15:28.774999  6600 tpu_estimator.py:2160] examples/sec: 0.540103\n"
     ]
    },
    {
     "output_type": "stream",
     "name": "stdout",
     "text": [
      "INFO:tensorflow:global_step/sec: 0.0325977\n"
     ]
    },
    {
     "output_type": "stream",
     "name": "stderr",
     "text": [
      "I0830 00:15:59.408998  6600 tpu_estimator.py:2159] global_step/sec: 0.0325977\n"
     ]
    },
    {
     "output_type": "stream",
     "name": "stdout",
     "text": [
      "INFO:tensorflow:examples/sec: 0.521563\n"
     ]
    },
    {
     "output_type": "stream",
     "name": "stderr",
     "text": [
      "I0830 00:15:59.440999  6600 tpu_estimator.py:2160] examples/sec: 0.521563\n"
     ]
    },
    {
     "output_type": "stream",
     "name": "stdout",
     "text": [
      "INFO:tensorflow:global_step/sec: 0.0334415\n"
     ]
    },
    {
     "output_type": "stream",
     "name": "stderr",
     "text": [
      "I0830 00:16:29.306998  6600 tpu_estimator.py:2159] global_step/sec: 0.0334415\n"
     ]
    },
    {
     "output_type": "stream",
     "name": "stdout",
     "text": [
      "INFO:tensorflow:examples/sec: 0.535063\n"
     ]
    },
    {
     "output_type": "stream",
     "name": "stderr",
     "text": [
      "I0830 00:16:29.391999  6600 tpu_estimator.py:2160] examples/sec: 0.535063\n"
     ]
    },
    {
     "output_type": "stream",
     "name": "stdout",
     "text": [
      "INFO:tensorflow:global_step/sec: 0.0320657\n"
     ]
    },
    {
     "output_type": "stream",
     "name": "stderr",
     "text": [
      "I0830 00:17:00.495998  6600 tpu_estimator.py:2159] global_step/sec: 0.0320657\n"
     ]
    },
    {
     "output_type": "stream",
     "name": "stdout",
     "text": [
      "INFO:tensorflow:examples/sec: 0.513051\n"
     ]
    },
    {
     "output_type": "stream",
     "name": "stderr",
     "text": [
      "I0830 00:17:00.533999  6600 tpu_estimator.py:2160] examples/sec: 0.513051\n"
     ]
    },
    {
     "output_type": "stream",
     "name": "stdout",
     "text": [
      "INFO:tensorflow:global_step/sec: 0.0335064\n"
     ]
    },
    {
     "output_type": "stream",
     "name": "stderr",
     "text": [
      "I0830 00:17:30.356000  6600 tpu_estimator.py:2159] global_step/sec: 0.0335064\n"
     ]
    },
    {
     "output_type": "stream",
     "name": "stdout",
     "text": [
      "INFO:tensorflow:examples/sec: 0.536103\n"
     ]
    },
    {
     "output_type": "stream",
     "name": "stderr",
     "text": [
      "I0830 00:17:30.440997  6600 tpu_estimator.py:2160] examples/sec: 0.536103\n"
     ]
    },
    {
     "output_type": "stream",
     "name": "stdout",
     "text": [
      "INFO:tensorflow:global_step/sec: 0.0333233\n"
     ]
    },
    {
     "output_type": "stream",
     "name": "stderr",
     "text": [
      "I0830 00:18:00.351001  6600 tpu_estimator.py:2159] global_step/sec: 0.0333233\n"
     ]
    },
    {
     "output_type": "stream",
     "name": "stdout",
     "text": [
      "INFO:tensorflow:examples/sec: 0.533173\n"
     ]
    },
    {
     "output_type": "stream",
     "name": "stderr",
     "text": [
      "I0830 00:18:00.382999  6600 tpu_estimator.py:2160] examples/sec: 0.533173\n"
     ]
    },
    {
     "output_type": "stream",
     "name": "stdout",
     "text": [
      "INFO:tensorflow:global_step/sec: 0.0329229\n"
     ]
    },
    {
     "output_type": "stream",
     "name": "stderr",
     "text": [
      "I0830 00:18:30.743000  6600 tpu_estimator.py:2159] global_step/sec: 0.0329229\n"
     ]
    },
    {
     "output_type": "stream",
     "name": "stdout",
     "text": [
      "INFO:tensorflow:examples/sec: 0.526766\n"
     ]
    },
    {
     "output_type": "stream",
     "name": "stderr",
     "text": [
      "I0830 00:18:30.847001  6600 tpu_estimator.py:2160] examples/sec: 0.526766\n"
     ]
    },
    {
     "output_type": "stream",
     "name": "stdout",
     "text": [
      "INFO:tensorflow:global_step/sec: 0.0329348\n"
     ]
    },
    {
     "output_type": "stream",
     "name": "stderr",
     "text": [
      "I0830 00:19:01.110997  6600 tpu_estimator.py:2159] global_step/sec: 0.0329348\n"
     ]
    },
    {
     "output_type": "stream",
     "name": "stdout",
     "text": [
      "INFO:tensorflow:examples/sec: 0.526957\n"
     ]
    },
    {
     "output_type": "stream",
     "name": "stderr",
     "text": [
      "I0830 00:19:01.240998  6600 tpu_estimator.py:2160] examples/sec: 0.526957\n"
     ]
    },
    {
     "output_type": "stream",
     "name": "stdout",
     "text": [
      "INFO:tensorflow:global_step/sec: 0.0325045\n"
     ]
    },
    {
     "output_type": "stream",
     "name": "stderr",
     "text": [
      "I0830 00:19:31.870998  6600 tpu_estimator.py:2159] global_step/sec: 0.0325045\n"
     ]
    },
    {
     "output_type": "stream",
     "name": "stdout",
     "text": [
      "INFO:tensorflow:examples/sec: 0.520071\n"
     ]
    },
    {
     "output_type": "stream",
     "name": "stderr",
     "text": [
      "I0830 00:19:31.963999  6600 tpu_estimator.py:2160] examples/sec: 0.520071\n"
     ]
    },
    {
     "output_type": "stream",
     "name": "stdout",
     "text": [
      "INFO:tensorflow:global_step/sec: 0.0326664\n"
     ]
    },
    {
     "output_type": "stream",
     "name": "stderr",
     "text": [
      "I0830 00:20:02.482492  6600 tpu_estimator.py:2159] global_step/sec: 0.0326664\n"
     ]
    },
    {
     "output_type": "stream",
     "name": "stdout",
     "text": [
      "INFO:tensorflow:examples/sec: 0.522662\n"
     ]
    },
    {
     "output_type": "stream",
     "name": "stderr",
     "text": [
      "I0830 00:20:02.582489  6600 tpu_estimator.py:2160] examples/sec: 0.522662\n"
     ]
    },
    {
     "output_type": "stream",
     "name": "stdout",
     "text": [
      "INFO:tensorflow:global_step/sec: 0.0346224\n"
     ]
    },
    {
     "output_type": "stream",
     "name": "stderr",
     "text": [
      "I0830 00:20:31.361490  6600 tpu_estimator.py:2159] global_step/sec: 0.0346224\n"
     ]
    },
    {
     "output_type": "stream",
     "name": "stdout",
     "text": [
      "INFO:tensorflow:examples/sec: 0.553959\n"
     ]
    },
    {
     "output_type": "stream",
     "name": "stderr",
     "text": [
      "I0830 00:20:31.437490  6600 tpu_estimator.py:2160] examples/sec: 0.553959\n"
     ]
    },
    {
     "output_type": "stream",
     "name": "stdout",
     "text": [
      "INFO:tensorflow:global_step/sec: 0.0338776\n"
     ]
    },
    {
     "output_type": "stream",
     "name": "stderr",
     "text": [
      "I0830 00:21:00.881487  6600 tpu_estimator.py:2159] global_step/sec: 0.0338776\n"
     ]
    },
    {
     "output_type": "stream",
     "name": "stdout",
     "text": [
      "INFO:tensorflow:examples/sec: 0.542042\n"
     ]
    },
    {
     "output_type": "stream",
     "name": "stderr",
     "text": [
      "I0830 00:21:00.984491  6600 tpu_estimator.py:2160] examples/sec: 0.542042\n"
     ]
    },
    {
     "output_type": "stream",
     "name": "stdout",
     "text": [
      "INFO:tensorflow:global_step/sec: 0.03204\n"
     ]
    },
    {
     "output_type": "stream",
     "name": "stderr",
     "text": [
      "I0830 00:21:32.080489  6600 tpu_estimator.py:2159] global_step/sec: 0.03204\n"
     ]
    },
    {
     "output_type": "stream",
     "name": "stdout",
     "text": [
      "INFO:tensorflow:examples/sec: 0.51264\n"
     ]
    },
    {
     "output_type": "stream",
     "name": "stderr",
     "text": [
      "I0830 00:21:32.138492  6600 tpu_estimator.py:2160] examples/sec: 0.51264\n"
     ]
    },
    {
     "output_type": "stream",
     "name": "stdout",
     "text": [
      "INFO:tensorflow:global_step/sec: 0.0331532\n"
     ]
    },
    {
     "output_type": "stream",
     "name": "stderr",
     "text": [
      "I0830 00:22:02.254491  6600 tpu_estimator.py:2159] global_step/sec: 0.0331532\n"
     ]
    },
    {
     "output_type": "stream",
     "name": "stdout",
     "text": [
      "INFO:tensorflow:examples/sec: 0.530451\n"
     ]
    },
    {
     "output_type": "stream",
     "name": "stderr",
     "text": [
      "I0830 00:22:02.348490  6600 tpu_estimator.py:2160] examples/sec: 0.530451\n"
     ]
    },
    {
     "output_type": "stream",
     "name": "stdout",
     "text": [
      "INFO:tensorflow:global_step/sec: 0.0337598\n"
     ]
    },
    {
     "output_type": "stream",
     "name": "stderr",
     "text": [
      "I0830 00:22:31.876488  6600 tpu_estimator.py:2159] global_step/sec: 0.0337598\n"
     ]
    },
    {
     "output_type": "stream",
     "name": "stdout",
     "text": [
      "INFO:tensorflow:examples/sec: 0.540157\n"
     ]
    },
    {
     "output_type": "stream",
     "name": "stderr",
     "text": [
      "I0830 00:22:31.972491  6600 tpu_estimator.py:2160] examples/sec: 0.540157\n"
     ]
    },
    {
     "output_type": "stream",
     "name": "stdout",
     "text": [
      "INFO:tensorflow:global_step/sec: 0.0321089\n"
     ]
    },
    {
     "output_type": "stream",
     "name": "stderr",
     "text": [
      "I0830 00:23:03.004491  6600 tpu_estimator.py:2159] global_step/sec: 0.0321089\n"
     ]
    },
    {
     "output_type": "stream",
     "name": "stdout",
     "text": [
      "INFO:tensorflow:examples/sec: 0.513743\n"
     ]
    },
    {
     "output_type": "stream",
     "name": "stderr",
     "text": [
      "I0830 00:23:03.031489  6600 tpu_estimator.py:2160] examples/sec: 0.513743\n"
     ]
    },
    {
     "output_type": "stream",
     "name": "stdout",
     "text": [
      "INFO:tensorflow:global_step/sec: 0.0343454\n"
     ]
    },
    {
     "output_type": "stream",
     "name": "stderr",
     "text": [
      "I0830 00:23:32.134487  6600 tpu_estimator.py:2159] global_step/sec: 0.0343454\n"
     ]
    },
    {
     "output_type": "stream",
     "name": "stdout",
     "text": [
      "INFO:tensorflow:examples/sec: 0.549526\n"
     ]
    },
    {
     "output_type": "stream",
     "name": "stderr",
     "text": [
      "I0830 00:23:32.234489  6600 tpu_estimator.py:2160] examples/sec: 0.549526\n"
     ]
    },
    {
     "output_type": "stream",
     "name": "stdout",
     "text": [
      "INFO:tensorflow:global_step/sec: 0.0205073\n"
     ]
    },
    {
     "output_type": "stream",
     "name": "stderr",
     "text": [
      "I0830 00:24:20.898694  6600 tpu_estimator.py:2159] global_step/sec: 0.0205073\n"
     ]
    },
    {
     "output_type": "stream",
     "name": "stdout",
     "text": [
      "INFO:tensorflow:examples/sec: 0.328116\n"
     ]
    },
    {
     "output_type": "stream",
     "name": "stderr",
     "text": [
      "I0830 00:24:21.040691  6600 tpu_estimator.py:2160] examples/sec: 0.328116\n"
     ]
    },
    {
     "output_type": "stream",
     "name": "stdout",
     "text": [
      "INFO:tensorflow:global_step/sec: 0.0278922\n"
     ]
    },
    {
     "output_type": "stream",
     "name": "stderr",
     "text": [
      "I0830 00:24:56.767009  6600 tpu_estimator.py:2159] global_step/sec: 0.0278922\n"
     ]
    },
    {
     "output_type": "stream",
     "name": "stdout",
     "text": [
      "INFO:tensorflow:examples/sec: 0.446275\n"
     ]
    },
    {
     "output_type": "stream",
     "name": "stderr",
     "text": [
      "I0830 00:24:56.918009  6600 tpu_estimator.py:2160] examples/sec: 0.446275\n"
     ]
    },
    {
     "output_type": "stream",
     "name": "stdout",
     "text": [
      "INFO:tensorflow:global_step/sec: 0.0307969\n"
     ]
    },
    {
     "output_type": "stream",
     "name": "stderr",
     "text": [
      "I0830 00:25:29.231834  6600 tpu_estimator.py:2159] global_step/sec: 0.0307969\n"
     ]
    },
    {
     "output_type": "stream",
     "name": "stdout",
     "text": [
      "INFO:tensorflow:examples/sec: 0.49275\n"
     ]
    },
    {
     "output_type": "stream",
     "name": "stderr",
     "text": [
      "I0830 00:25:29.314829  6600 tpu_estimator.py:2160] examples/sec: 0.49275\n"
     ]
    },
    {
     "output_type": "stream",
     "name": "stdout",
     "text": [
      "INFO:tensorflow:global_step/sec: 0.0269988\n"
     ]
    },
    {
     "output_type": "stream",
     "name": "stderr",
     "text": [
      "I0830 00:26:06.248546  6600 tpu_estimator.py:2159] global_step/sec: 0.0269988\n"
     ]
    },
    {
     "output_type": "stream",
     "name": "stdout",
     "text": [
      "INFO:tensorflow:examples/sec: 0.43198\n"
     ]
    },
    {
     "output_type": "stream",
     "name": "stderr",
     "text": [
      "I0830 00:26:06.359546  6600 tpu_estimator.py:2160] examples/sec: 0.43198\n"
     ]
    },
    {
     "output_type": "stream",
     "name": "stdout",
     "text": [
      "INFO:tensorflow:global_step/sec: 0.0301218\n"
     ]
    },
    {
     "output_type": "stream",
     "name": "stderr",
     "text": [
      "I0830 00:26:39.460052  6600 tpu_estimator.py:2159] global_step/sec: 0.0301218\n"
     ]
    },
    {
     "output_type": "stream",
     "name": "stdout",
     "text": [
      "INFO:tensorflow:examples/sec: 0.481949\n"
     ]
    },
    {
     "output_type": "stream",
     "name": "stderr",
     "text": [
      "I0830 00:26:39.561053  6600 tpu_estimator.py:2160] examples/sec: 0.481949\n"
     ]
    },
    {
     "output_type": "stream",
     "name": "stdout",
     "text": [
      "INFO:tensorflow:global_step/sec: 0.0329142\n"
     ]
    },
    {
     "output_type": "stream",
     "name": "stderr",
     "text": [
      "I0830 00:27:09.846055  6600 tpu_estimator.py:2159] global_step/sec: 0.0329142\n"
     ]
    },
    {
     "output_type": "stream",
     "name": "stdout",
     "text": [
      "INFO:tensorflow:examples/sec: 0.526628\n"
     ]
    },
    {
     "output_type": "stream",
     "name": "stderr",
     "text": [
      "I0830 00:27:09.950051  6600 tpu_estimator.py:2160] examples/sec: 0.526628\n"
     ]
    },
    {
     "output_type": "stream",
     "name": "stdout",
     "text": [
      "INFO:tensorflow:global_step/sec: 0.0330458\n"
     ]
    },
    {
     "output_type": "stream",
     "name": "stderr",
     "text": [
      "I0830 00:27:40.112054  6600 tpu_estimator.py:2159] global_step/sec: 0.0330458\n"
     ]
    },
    {
     "output_type": "stream",
     "name": "stdout",
     "text": [
      "INFO:tensorflow:examples/sec: 0.528733\n"
     ]
    },
    {
     "output_type": "stream",
     "name": "stderr",
     "text": [
      "I0830 00:27:40.234054  6600 tpu_estimator.py:2160] examples/sec: 0.528733\n"
     ]
    },
    {
     "output_type": "stream",
     "name": "stdout",
     "text": [
      "INFO:tensorflow:global_step/sec: 0.0294397\n"
     ]
    },
    {
     "output_type": "stream",
     "name": "stderr",
     "text": [
      "I0830 00:28:14.074787  6600 tpu_estimator.py:2159] global_step/sec: 0.0294397\n"
     ]
    },
    {
     "output_type": "stream",
     "name": "stdout",
     "text": [
      "INFO:tensorflow:examples/sec: 0.471035\n"
     ]
    },
    {
     "output_type": "stream",
     "name": "stderr",
     "text": [
      "I0830 00:28:14.255785  6600 tpu_estimator.py:2160] examples/sec: 0.471035\n"
     ]
    },
    {
     "output_type": "stream",
     "name": "stdout",
     "text": [
      "INFO:tensorflow:global_step/sec: 0.0280401\n"
     ]
    },
    {
     "output_type": "stream",
     "name": "stderr",
     "text": [
      "I0830 00:28:49.746968  6600 tpu_estimator.py:2159] global_step/sec: 0.0280401\n"
     ]
    },
    {
     "output_type": "stream",
     "name": "stdout",
     "text": [
      "INFO:tensorflow:examples/sec: 0.448642\n"
     ]
    },
    {
     "output_type": "stream",
     "name": "stderr",
     "text": [
      "I0830 00:28:49.891972  6600 tpu_estimator.py:2160] examples/sec: 0.448642\n"
     ]
    },
    {
     "output_type": "stream",
     "name": "stdout",
     "text": [
      "INFO:tensorflow:global_step/sec: 0.0312731\n"
     ]
    },
    {
     "output_type": "stream",
     "name": "stderr",
     "text": [
      "I0830 00:29:21.697374  6600 tpu_estimator.py:2159] global_step/sec: 0.0312731\n"
     ]
    },
    {
     "output_type": "stream",
     "name": "stdout",
     "text": [
      "INFO:tensorflow:examples/sec: 0.500369\n"
     ]
    },
    {
     "output_type": "stream",
     "name": "stderr",
     "text": [
      "I0830 00:29:21.743374  6600 tpu_estimator.py:2160] examples/sec: 0.500369\n"
     ]
    },
    {
     "output_type": "stream",
     "name": "stdout",
     "text": [
      "INFO:tensorflow:global_step/sec: 0.0341308\n"
     ]
    },
    {
     "output_type": "stream",
     "name": "stderr",
     "text": [
      "I0830 00:29:51.004385  6600 tpu_estimator.py:2159] global_step/sec: 0.0341308\n"
     ]
    },
    {
     "output_type": "stream",
     "name": "stdout",
     "text": [
      "INFO:tensorflow:examples/sec: 0.546093\n"
     ]
    },
    {
     "output_type": "stream",
     "name": "stderr",
     "text": [
      "I0830 00:29:51.076383  6600 tpu_estimator.py:2160] examples/sec: 0.546093\n"
     ]
    },
    {
     "output_type": "stream",
     "name": "stdout",
     "text": [
      "INFO:tensorflow:global_step/sec: 0.0311711\n"
     ]
    },
    {
     "output_type": "stream",
     "name": "stderr",
     "text": [
      "I0830 00:30:23.096366  6600 tpu_estimator.py:2159] global_step/sec: 0.0311711\n"
     ]
    },
    {
     "output_type": "stream",
     "name": "stdout",
     "text": [
      "INFO:tensorflow:examples/sec: 0.498738\n"
     ]
    },
    {
     "output_type": "stream",
     "name": "stderr",
     "text": [
      "I0830 00:30:23.302364  6600 tpu_estimator.py:2160] examples/sec: 0.498738\n"
     ]
    },
    {
     "output_type": "stream",
     "name": "stdout",
     "text": [
      "INFO:tensorflow:global_step/sec: 0.0331027\n"
     ]
    },
    {
     "output_type": "stream",
     "name": "stderr",
     "text": [
      "I0830 00:30:53.302366  6600 tpu_estimator.py:2159] global_step/sec: 0.0331027\n"
     ]
    },
    {
     "output_type": "stream",
     "name": "stdout",
     "text": [
      "INFO:tensorflow:examples/sec: 0.529643\n"
     ]
    },
    {
     "output_type": "stream",
     "name": "stderr",
     "text": [
      "I0830 00:30:53.401365  6600 tpu_estimator.py:2160] examples/sec: 0.529643\n"
     ]
    },
    {
     "output_type": "stream",
     "name": "stdout",
     "text": [
      "INFO:tensorflow:global_step/sec: 0.0335034\n"
     ]
    },
    {
     "output_type": "stream",
     "name": "stderr",
     "text": [
      "I0830 00:31:23.132119  6600 tpu_estimator.py:2159] global_step/sec: 0.0335034\n"
     ]
    },
    {
     "output_type": "stream",
     "name": "stdout",
     "text": [
      "INFO:tensorflow:examples/sec: 0.536054\n"
     ]
    },
    {
     "output_type": "stream",
     "name": "stderr",
     "text": [
      "I0830 00:31:23.161121  6600 tpu_estimator.py:2160] examples/sec: 0.536054\n"
     ]
    },
    {
     "output_type": "stream",
     "name": "stdout",
     "text": [
      "INFO:tensorflow:global_step/sec: 0.032691\n"
     ]
    },
    {
     "output_type": "stream",
     "name": "stderr",
     "text": [
      "I0830 00:31:53.722603  6600 tpu_estimator.py:2159] global_step/sec: 0.032691\n"
     ]
    },
    {
     "output_type": "stream",
     "name": "stdout",
     "text": [
      "INFO:tensorflow:examples/sec: 0.523056\n"
     ]
    },
    {
     "output_type": "stream",
     "name": "stderr",
     "text": [
      "I0830 00:31:53.755606  6600 tpu_estimator.py:2160] examples/sec: 0.523056\n"
     ]
    },
    {
     "output_type": "stream",
     "name": "stdout",
     "text": [
      "INFO:tensorflow:global_step/sec: 0.0333029\n"
     ]
    },
    {
     "output_type": "stream",
     "name": "stderr",
     "text": [
      "I0830 00:32:23.770036  6600 tpu_estimator.py:2159] global_step/sec: 0.0333029\n"
     ]
    },
    {
     "output_type": "stream",
     "name": "stdout",
     "text": [
      "INFO:tensorflow:examples/sec: 0.532846\n"
     ]
    },
    {
     "output_type": "stream",
     "name": "stderr",
     "text": [
      "I0830 00:32:23.958038  6600 tpu_estimator.py:2160] examples/sec: 0.532846\n"
     ]
    },
    {
     "output_type": "stream",
     "name": "stdout",
     "text": [
      "INFO:tensorflow:global_step/sec: 0.033216\n"
     ]
    },
    {
     "output_type": "stream",
     "name": "stderr",
     "text": [
      "I0830 00:32:53.858039  6600 tpu_estimator.py:2159] global_step/sec: 0.033216\n"
     ]
    },
    {
     "output_type": "stream",
     "name": "stdout",
     "text": [
      "INFO:tensorflow:examples/sec: 0.531456\n"
     ]
    },
    {
     "output_type": "stream",
     "name": "stderr",
     "text": [
      "I0830 00:32:53.900038  6600 tpu_estimator.py:2160] examples/sec: 0.531456\n"
     ]
    },
    {
     "output_type": "stream",
     "name": "stdout",
     "text": [
      "INFO:tensorflow:global_step/sec: 0.0270493\n"
     ]
    },
    {
     "output_type": "stream",
     "name": "stderr",
     "text": [
      "I0830 00:33:30.850602  6600 tpu_estimator.py:2159] global_step/sec: 0.0270493\n"
     ]
    },
    {
     "output_type": "stream",
     "name": "stdout",
     "text": [
      "INFO:tensorflow:examples/sec: 0.432788\n"
     ]
    },
    {
     "output_type": "stream",
     "name": "stderr",
     "text": [
      "I0830 00:33:31.235601  6600 tpu_estimator.py:2160] examples/sec: 0.432788\n"
     ]
    },
    {
     "output_type": "stream",
     "name": "stdout",
     "text": [
      "INFO:tensorflow:global_step/sec: 0.0315232\n"
     ]
    },
    {
     "output_type": "stream",
     "name": "stderr",
     "text": [
      "I0830 00:34:02.561274  6600 tpu_estimator.py:2159] global_step/sec: 0.0315232\n"
     ]
    },
    {
     "output_type": "stream",
     "name": "stdout",
     "text": [
      "INFO:tensorflow:examples/sec: 0.504371\n"
     ]
    },
    {
     "output_type": "stream",
     "name": "stderr",
     "text": [
      "I0830 00:34:02.654276  6600 tpu_estimator.py:2160] examples/sec: 0.504371\n"
     ]
    },
    {
     "output_type": "stream",
     "name": "stdout",
     "text": [
      "INFO:tensorflow:global_step/sec: 0.0267658\n"
     ]
    },
    {
     "output_type": "stream",
     "name": "stderr",
     "text": [
      "I0830 00:34:39.929415  6600 tpu_estimator.py:2159] global_step/sec: 0.0267658\n"
     ]
    },
    {
     "output_type": "stream",
     "name": "stdout",
     "text": [
      "INFO:tensorflow:examples/sec: 0.428252\n"
     ]
    },
    {
     "output_type": "stream",
     "name": "stderr",
     "text": [
      "I0830 00:34:40.298416  6600 tpu_estimator.py:2160] examples/sec: 0.428252\n"
     ]
    },
    {
     "output_type": "stream",
     "name": "stdout",
     "text": [
      "INFO:tensorflow:global_step/sec: 0.0325119\n"
     ]
    },
    {
     "output_type": "stream",
     "name": "stderr",
     "text": [
      "I0830 00:35:10.667413  6600 tpu_estimator.py:2159] global_step/sec: 0.0325119\n"
     ]
    },
    {
     "output_type": "stream",
     "name": "stdout",
     "text": [
      "INFO:tensorflow:examples/sec: 0.52019\n"
     ]
    },
    {
     "output_type": "stream",
     "name": "stderr",
     "text": [
      "I0830 00:35:10.702418  6600 tpu_estimator.py:2160] examples/sec: 0.52019\n"
     ]
    },
    {
     "output_type": "stream",
     "name": "stdout",
     "text": [
      "INFO:tensorflow:global_step/sec: 0.0316498\n"
     ]
    },
    {
     "output_type": "stream",
     "name": "stderr",
     "text": [
      "I0830 00:35:42.275146  6600 tpu_estimator.py:2159] global_step/sec: 0.0316498\n"
     ]
    },
    {
     "output_type": "stream",
     "name": "stdout",
     "text": [
      "INFO:tensorflow:examples/sec: 0.506398\n"
     ]
    },
    {
     "output_type": "stream",
     "name": "stderr",
     "text": [
      "I0830 00:35:42.355147  6600 tpu_estimator.py:2160] examples/sec: 0.506398\n"
     ]
    },
    {
     "output_type": "stream",
     "name": "stdout",
     "text": [
      "INFO:tensorflow:global_step/sec: 0.0328885\n"
     ]
    },
    {
     "output_type": "stream",
     "name": "stderr",
     "text": [
      "I0830 00:36:12.681926  6600 tpu_estimator.py:2159] global_step/sec: 0.0328885\n"
     ]
    },
    {
     "output_type": "stream",
     "name": "stdout",
     "text": [
      "INFO:tensorflow:examples/sec: 0.526216\n"
     ]
    },
    {
     "output_type": "stream",
     "name": "stderr",
     "text": [
      "I0830 00:36:12.769928  6600 tpu_estimator.py:2160] examples/sec: 0.526216\n"
     ]
    },
    {
     "output_type": "stream",
     "name": "stdout",
     "text": [
      "INFO:tensorflow:global_step/sec: 0.0326457\n"
     ]
    },
    {
     "output_type": "stream",
     "name": "stderr",
     "text": [
      "I0830 00:36:43.321821  6600 tpu_estimator.py:2159] global_step/sec: 0.0326457\n"
     ]
    },
    {
     "output_type": "stream",
     "name": "stdout",
     "text": [
      "INFO:tensorflow:examples/sec: 0.522331\n"
     ]
    },
    {
     "output_type": "stream",
     "name": "stderr",
     "text": [
      "I0830 00:36:43.508821  6600 tpu_estimator.py:2160] examples/sec: 0.522331\n"
     ]
    },
    {
     "output_type": "stream",
     "name": "stdout",
     "text": [
      "INFO:tensorflow:global_step/sec: 0.0314982\n"
     ]
    },
    {
     "output_type": "stream",
     "name": "stderr",
     "text": [
      "I0830 00:37:15.051640  6600 tpu_estimator.py:2159] global_step/sec: 0.0314982\n"
     ]
    },
    {
     "output_type": "stream",
     "name": "stdout",
     "text": [
      "INFO:tensorflow:examples/sec: 0.503972\n"
     ]
    },
    {
     "output_type": "stream",
     "name": "stderr",
     "text": [
      "I0830 00:37:15.094640  6600 tpu_estimator.py:2160] examples/sec: 0.503972\n"
     ]
    },
    {
     "output_type": "stream",
     "name": "stdout",
     "text": [
      "INFO:tensorflow:global_step/sec: 0.0331443\n"
     ]
    },
    {
     "output_type": "stream",
     "name": "stderr",
     "text": [
      "I0830 00:37:45.219728  6600 tpu_estimator.py:2159] global_step/sec: 0.0331443\n"
     ]
    },
    {
     "output_type": "stream",
     "name": "stdout",
     "text": [
      "INFO:tensorflow:examples/sec: 0.530309\n"
     ]
    },
    {
     "output_type": "stream",
     "name": "stderr",
     "text": [
      "I0830 00:37:45.263723  6600 tpu_estimator.py:2160] examples/sec: 0.530309\n"
     ]
    },
    {
     "output_type": "stream",
     "name": "stdout",
     "text": [
      "INFO:tensorflow:global_step/sec: 0.0341978\n"
     ]
    },
    {
     "output_type": "stream",
     "name": "stderr",
     "text": [
      "I0830 00:38:14.478389  6600 tpu_estimator.py:2159] global_step/sec: 0.0341978\n"
     ]
    },
    {
     "output_type": "stream",
     "name": "stdout",
     "text": [
      "INFO:tensorflow:examples/sec: 0.547164\n"
     ]
    },
    {
     "output_type": "stream",
     "name": "stderr",
     "text": [
      "I0830 00:38:14.581391  6600 tpu_estimator.py:2160] examples/sec: 0.547164\n"
     ]
    },
    {
     "output_type": "stream",
     "name": "stdout",
     "text": [
      "INFO:tensorflow:global_step/sec: 0.0316909\n"
     ]
    },
    {
     "output_type": "stream",
     "name": "stderr",
     "text": [
      "I0830 00:38:46.018153  6600 tpu_estimator.py:2159] global_step/sec: 0.0316909\n"
     ]
    },
    {
     "output_type": "stream",
     "name": "stdout",
     "text": [
      "INFO:tensorflow:examples/sec: 0.507055\n"
     ]
    },
    {
     "output_type": "stream",
     "name": "stderr",
     "text": [
      "I0830 00:38:46.150152  6600 tpu_estimator.py:2160] examples/sec: 0.507055\n"
     ]
    },
    {
     "output_type": "stream",
     "name": "stdout",
     "text": [
      "INFO:tensorflow:global_step/sec: 0.0262944\n"
     ]
    },
    {
     "output_type": "stream",
     "name": "stderr",
     "text": [
      "I0830 00:39:24.060092  6600 tpu_estimator.py:2159] global_step/sec: 0.0262944\n"
     ]
    },
    {
     "output_type": "stream",
     "name": "stdout",
     "text": [
      "INFO:tensorflow:examples/sec: 0.42071\n"
     ]
    },
    {
     "output_type": "stream",
     "name": "stderr",
     "text": [
      "I0830 00:39:24.162093  6600 tpu_estimator.py:2160] examples/sec: 0.42071\n"
     ]
    },
    {
     "output_type": "stream",
     "name": "stdout",
     "text": [
      "INFO:tensorflow:global_step/sec: 0.0331052\n"
     ]
    },
    {
     "output_type": "stream",
     "name": "stderr",
     "text": [
      "I0830 00:39:54.273784  6600 tpu_estimator.py:2159] global_step/sec: 0.0331052\n"
     ]
    },
    {
     "output_type": "stream",
     "name": "stdout",
     "text": [
      "INFO:tensorflow:examples/sec: 0.529684\n"
     ]
    },
    {
     "output_type": "stream",
     "name": "stderr",
     "text": [
      "I0830 00:39:54.361784  6600 tpu_estimator.py:2160] examples/sec: 0.529684\n"
     ]
    },
    {
     "output_type": "stream",
     "name": "stdout",
     "text": [
      "INFO:tensorflow:global_step/sec: 0.0304272\n"
     ]
    },
    {
     "output_type": "stream",
     "name": "stderr",
     "text": [
      "I0830 00:40:27.134150  6600 tpu_estimator.py:2159] global_step/sec: 0.0304272\n"
     ]
    },
    {
     "output_type": "stream",
     "name": "stdout",
     "text": [
      "INFO:tensorflow:examples/sec: 0.486835\n"
     ]
    },
    {
     "output_type": "stream",
     "name": "stderr",
     "text": [
      "I0830 00:40:27.224155  6600 tpu_estimator.py:2160] examples/sec: 0.486835\n"
     ]
    },
    {
     "output_type": "stream",
     "name": "stdout",
     "text": [
      "INFO:tensorflow:global_step/sec: 0.0323339\n"
     ]
    },
    {
     "output_type": "stream",
     "name": "stderr",
     "text": [
      "I0830 00:40:58.046471  6600 tpu_estimator.py:2159] global_step/sec: 0.0323339\n"
     ]
    },
    {
     "output_type": "stream",
     "name": "stdout",
     "text": [
      "INFO:tensorflow:examples/sec: 0.517342\n"
     ]
    },
    {
     "output_type": "stream",
     "name": "stderr",
     "text": [
      "I0830 00:40:58.177469  6600 tpu_estimator.py:2160] examples/sec: 0.517342\n"
     ]
    },
    {
     "output_type": "stream",
     "name": "stdout",
     "text": [
      "INFO:tensorflow:global_step/sec: 0.032828\n"
     ]
    },
    {
     "output_type": "stream",
     "name": "stderr",
     "text": [
      "I0830 00:41:28.523226  6600 tpu_estimator.py:2159] global_step/sec: 0.032828\n"
     ]
    },
    {
     "output_type": "stream",
     "name": "stdout",
     "text": [
      "INFO:tensorflow:examples/sec: 0.525249\n"
     ]
    },
    {
     "output_type": "stream",
     "name": "stderr",
     "text": [
      "I0830 00:41:28.618226  6600 tpu_estimator.py:2160] examples/sec: 0.525249\n"
     ]
    },
    {
     "output_type": "stream",
     "name": "stdout",
     "text": [
      "INFO:tensorflow:global_step/sec: 0.0319913\n"
     ]
    },
    {
     "output_type": "stream",
     "name": "stderr",
     "text": [
      "I0830 00:41:59.787717  6600 tpu_estimator.py:2159] global_step/sec: 0.0319913\n"
     ]
    },
    {
     "output_type": "stream",
     "name": "stdout",
     "text": [
      "INFO:tensorflow:examples/sec: 0.511861\n"
     ]
    },
    {
     "output_type": "stream",
     "name": "stderr",
     "text": [
      "I0830 00:41:59.892717  6600 tpu_estimator.py:2160] examples/sec: 0.511861\n"
     ]
    },
    {
     "output_type": "stream",
     "name": "stdout",
     "text": [
      "INFO:tensorflow:global_step/sec: 0.0306309\n"
     ]
    },
    {
     "output_type": "stream",
     "name": "stderr",
     "text": [
      "I0830 00:42:32.441467  6600 tpu_estimator.py:2159] global_step/sec: 0.0306309\n"
     ]
    },
    {
     "output_type": "stream",
     "name": "stdout",
     "text": [
      "INFO:tensorflow:examples/sec: 0.490095\n"
     ]
    },
    {
     "output_type": "stream",
     "name": "stderr",
     "text": [
      "I0830 00:42:32.593469  6600 tpu_estimator.py:2160] examples/sec: 0.490095\n"
     ]
    },
    {
     "output_type": "stream",
     "name": "stdout",
     "text": [
      "INFO:tensorflow:global_step/sec: 0.033071\n"
     ]
    },
    {
     "output_type": "stream",
     "name": "stderr",
     "text": [
      "I0830 00:43:02.663466  6600 tpu_estimator.py:2159] global_step/sec: 0.033071\n"
     ]
    },
    {
     "output_type": "stream",
     "name": "stdout",
     "text": [
      "INFO:tensorflow:examples/sec: 0.529136\n"
     ]
    },
    {
     "output_type": "stream",
     "name": "stderr",
     "text": [
      "I0830 00:43:02.828469  6600 tpu_estimator.py:2160] examples/sec: 0.529136\n"
     ]
    },
    {
     "output_type": "stream",
     "name": "stdout",
     "text": [
      "INFO:tensorflow:global_step/sec: 0.0303493\n"
     ]
    },
    {
     "output_type": "stream",
     "name": "stderr",
     "text": [
      "I0830 00:43:35.615117  6600 tpu_estimator.py:2159] global_step/sec: 0.0303493\n"
     ]
    },
    {
     "output_type": "stream",
     "name": "stdout",
     "text": [
      "INFO:tensorflow:examples/sec: 0.485589\n"
     ]
    },
    {
     "output_type": "stream",
     "name": "stderr",
     "text": [
      "I0830 00:43:35.709117  6600 tpu_estimator.py:2160] examples/sec: 0.485589\n"
     ]
    },
    {
     "output_type": "stream",
     "name": "stdout",
     "text": [
      "INFO:tensorflow:global_step/sec: 0.0333156\n"
     ]
    },
    {
     "output_type": "stream",
     "name": "stderr",
     "text": [
      "I0830 00:44:05.640120  6600 tpu_estimator.py:2159] global_step/sec: 0.0333156\n"
     ]
    },
    {
     "output_type": "stream",
     "name": "stdout",
     "text": [
      "INFO:tensorflow:examples/sec: 0.533049\n"
     ]
    },
    {
     "output_type": "stream",
     "name": "stderr",
     "text": [
      "I0830 00:44:05.757120  6600 tpu_estimator.py:2160] examples/sec: 0.533049\n"
     ]
    },
    {
     "output_type": "stream",
     "name": "stdout",
     "text": [
      "INFO:tensorflow:global_step/sec: 0.0328235\n"
     ]
    },
    {
     "output_type": "stream",
     "name": "stderr",
     "text": [
      "I0830 00:44:36.150113  6600 tpu_estimator.py:2159] global_step/sec: 0.0328235\n"
     ]
    },
    {
     "output_type": "stream",
     "name": "stdout",
     "text": [
      "INFO:tensorflow:examples/sec: 0.525176\n"
     ]
    },
    {
     "output_type": "stream",
     "name": "stderr",
     "text": [
      "I0830 00:44:36.249118  6600 tpu_estimator.py:2160] examples/sec: 0.525176\n"
     ]
    },
    {
     "output_type": "stream",
     "name": "stdout",
     "text": [
      "INFO:tensorflow:global_step/sec: 0.0300328\n"
     ]
    },
    {
     "output_type": "stream",
     "name": "stderr",
     "text": [
      "I0830 00:45:09.393095  6600 tpu_estimator.py:2159] global_step/sec: 0.0300328\n"
     ]
    },
    {
     "output_type": "stream",
     "name": "stdout",
     "text": [
      "INFO:tensorflow:examples/sec: 0.480524\n"
     ]
    },
    {
     "output_type": "stream",
     "name": "stderr",
     "text": [
      "I0830 00:45:09.556089  6600 tpu_estimator.py:2160] examples/sec: 0.480524\n"
     ]
    },
    {
     "output_type": "stream",
     "name": "stdout",
     "text": [
      "INFO:tensorflow:global_step/sec: 0.0326579\n"
     ]
    },
    {
     "output_type": "stream",
     "name": "stderr",
     "text": [
      "I0830 00:45:40.018585  6600 tpu_estimator.py:2159] global_step/sec: 0.0326579\n"
     ]
    },
    {
     "output_type": "stream",
     "name": "stdout",
     "text": [
      "INFO:tensorflow:examples/sec: 0.522526\n"
     ]
    },
    {
     "output_type": "stream",
     "name": "stderr",
     "text": [
      "I0830 00:45:40.141587  6600 tpu_estimator.py:2160] examples/sec: 0.522526\n"
     ]
    },
    {
     "output_type": "stream",
     "name": "stdout",
     "text": [
      "INFO:tensorflow:global_step/sec: 0.0326097\n"
     ]
    },
    {
     "output_type": "stream",
     "name": "stderr",
     "text": [
      "I0830 00:46:10.694290  6600 tpu_estimator.py:2159] global_step/sec: 0.0326097\n"
     ]
    },
    {
     "output_type": "stream",
     "name": "stdout",
     "text": [
      "INFO:tensorflow:examples/sec: 0.521756\n"
     ]
    },
    {
     "output_type": "stream",
     "name": "stderr",
     "text": [
      "I0830 00:46:10.781291  6600 tpu_estimator.py:2160] examples/sec: 0.521756\n"
     ]
    },
    {
     "output_type": "stream",
     "name": "stdout",
     "text": [
      "INFO:tensorflow:global_step/sec: 0.0333613\n"
     ]
    },
    {
     "output_type": "stream",
     "name": "stderr",
     "text": [
      "I0830 00:46:40.652137  6600 tpu_estimator.py:2159] global_step/sec: 0.0333613\n"
     ]
    },
    {
     "output_type": "stream",
     "name": "stdout",
     "text": [
      "INFO:tensorflow:examples/sec: 0.533781\n"
     ]
    },
    {
     "output_type": "stream",
     "name": "stderr",
     "text": [
      "I0830 00:46:40.738137  6600 tpu_estimator.py:2160] examples/sec: 0.533781\n"
     ]
    },
    {
     "output_type": "stream",
     "name": "stdout",
     "text": [
      "INFO:tensorflow:global_step/sec: 0.0341834\n"
     ]
    },
    {
     "output_type": "stream",
     "name": "stderr",
     "text": [
      "I0830 00:47:09.895136  6600 tpu_estimator.py:2159] global_step/sec: 0.0341834\n"
     ]
    },
    {
     "output_type": "stream",
     "name": "stdout",
     "text": [
      "INFO:tensorflow:examples/sec: 0.546934\n"
     ]
    },
    {
     "output_type": "stream",
     "name": "stderr",
     "text": [
      "I0830 00:47:10.009138  6600 tpu_estimator.py:2160] examples/sec: 0.546934\n"
     ]
    },
    {
     "output_type": "stream",
     "name": "stdout",
     "text": [
      "INFO:tensorflow:global_step/sec: 0.0275975\n"
     ]
    },
    {
     "output_type": "stream",
     "name": "stderr",
     "text": [
      "I0830 00:47:46.140343  6600 tpu_estimator.py:2159] global_step/sec: 0.0275975\n"
     ]
    },
    {
     "output_type": "stream",
     "name": "stdout",
     "text": [
      "INFO:tensorflow:examples/sec: 0.44156\n"
     ]
    },
    {
     "output_type": "stream",
     "name": "stderr",
     "text": [
      "I0830 00:47:46.270342  6600 tpu_estimator.py:2160] examples/sec: 0.44156\n"
     ]
    },
    {
     "output_type": "stream",
     "name": "stdout",
     "text": [
      "INFO:tensorflow:global_step/sec: 0.0274386\n"
     ]
    },
    {
     "output_type": "stream",
     "name": "stderr",
     "text": [
      "I0830 00:48:22.575367  6600 tpu_estimator.py:2159] global_step/sec: 0.0274386\n"
     ]
    },
    {
     "output_type": "stream",
     "name": "stdout",
     "text": [
      "INFO:tensorflow:examples/sec: 0.439017\n"
     ]
    },
    {
     "output_type": "stream",
     "name": "stderr",
     "text": [
      "I0830 00:48:22.611368  6600 tpu_estimator.py:2160] examples/sec: 0.439017\n"
     ]
    },
    {
     "output_type": "stream",
     "name": "stdout",
     "text": [
      "INFO:tensorflow:global_step/sec: 0.0274106\n"
     ]
    },
    {
     "output_type": "stream",
     "name": "stderr",
     "text": [
      "I0830 00:48:59.142588  6600 tpu_estimator.py:2159] global_step/sec: 0.0274106\n"
     ]
    },
    {
     "output_type": "stream",
     "name": "stdout",
     "text": [
      "INFO:tensorflow:examples/sec: 0.43857\n"
     ]
    },
    {
     "output_type": "stream",
     "name": "stderr",
     "text": [
      "I0830 00:48:59.237594  6600 tpu_estimator.py:2160] examples/sec: 0.43857\n"
     ]
    },
    {
     "output_type": "stream",
     "name": "stdout",
     "text": [
      "INFO:tensorflow:global_step/sec: 0.0292954\n"
     ]
    },
    {
     "output_type": "stream",
     "name": "stderr",
     "text": [
      "I0830 00:49:33.217589  6600 tpu_estimator.py:2159] global_step/sec: 0.0292954\n"
     ]
    },
    {
     "output_type": "stream",
     "name": "stdout",
     "text": [
      "INFO:tensorflow:examples/sec: 0.468727\n"
     ]
    },
    {
     "output_type": "stream",
     "name": "stderr",
     "text": [
      "I0830 00:49:33.425589  6600 tpu_estimator.py:2160] examples/sec: 0.468727\n"
     ]
    },
    {
     "output_type": "stream",
     "name": "stdout",
     "text": [
      "INFO:tensorflow:global_step/sec: 0.0310747\n"
     ]
    },
    {
     "output_type": "stream",
     "name": "stderr",
     "text": [
      "I0830 00:50:05.393081  6600 tpu_estimator.py:2159] global_step/sec: 0.0310747\n"
     ]
    },
    {
     "output_type": "stream",
     "name": "stdout",
     "text": [
      "INFO:tensorflow:examples/sec: 0.497196\n"
     ]
    },
    {
     "output_type": "stream",
     "name": "stderr",
     "text": [
      "I0830 00:50:05.498081  6600 tpu_estimator.py:2160] examples/sec: 0.497196\n"
     ]
    },
    {
     "output_type": "stream",
     "name": "stdout",
     "text": [
      "INFO:tensorflow:global_step/sec: 0.0287134\n"
     ]
    },
    {
     "output_type": "stream",
     "name": "stderr",
     "text": [
      "I0830 00:50:40.223075  6600 tpu_estimator.py:2159] global_step/sec: 0.0287134\n"
     ]
    },
    {
     "output_type": "stream",
     "name": "stdout",
     "text": [
      "INFO:tensorflow:examples/sec: 0.459414\n"
     ]
    },
    {
     "output_type": "stream",
     "name": "stderr",
     "text": [
      "I0830 00:50:40.351077  6600 tpu_estimator.py:2160] examples/sec: 0.459414\n"
     ]
    },
    {
     "output_type": "stream",
     "name": "stdout",
     "text": [
      "INFO:tensorflow:global_step/sec: 0.0291307\n"
     ]
    },
    {
     "output_type": "stream",
     "name": "stderr",
     "text": [
      "I0830 00:51:14.559162  6600 tpu_estimator.py:2159] global_step/sec: 0.0291307\n"
     ]
    },
    {
     "output_type": "stream",
     "name": "stdout",
     "text": [
      "INFO:tensorflow:examples/sec: 0.466091\n"
     ]
    },
    {
     "output_type": "stream",
     "name": "stderr",
     "text": [
      "I0830 00:51:14.685166  6600 tpu_estimator.py:2160] examples/sec: 0.466091\n"
     ]
    },
    {
     "output_type": "stream",
     "name": "stdout",
     "text": [
      "INFO:tensorflow:global_step/sec: 0.0303605\n"
     ]
    },
    {
     "output_type": "stream",
     "name": "stderr",
     "text": [
      "I0830 00:51:47.524702  6600 tpu_estimator.py:2159] global_step/sec: 0.0303605\n"
     ]
    },
    {
     "output_type": "stream",
     "name": "stdout",
     "text": [
      "INFO:tensorflow:examples/sec: 0.485768\n"
     ]
    },
    {
     "output_type": "stream",
     "name": "stderr",
     "text": [
      "I0830 00:51:47.763705  6600 tpu_estimator.py:2160] examples/sec: 0.485768\n"
     ]
    },
    {
     "output_type": "stream",
     "name": "stdout",
     "text": [
      "INFO:tensorflow:global_step/sec: 0.028556\n"
     ]
    },
    {
     "output_type": "stream",
     "name": "stderr",
     "text": [
      "I0830 00:52:22.484565  6600 tpu_estimator.py:2159] global_step/sec: 0.028556\n"
     ]
    },
    {
     "output_type": "stream",
     "name": "stdout",
     "text": [
      "INFO:tensorflow:examples/sec: 0.456897\n"
     ]
    },
    {
     "output_type": "stream",
     "name": "stderr",
     "text": [
      "I0830 00:52:22.516566  6600 tpu_estimator.py:2160] examples/sec: 0.456897\n"
     ]
    },
    {
     "output_type": "stream",
     "name": "stdout",
     "text": [
      "INFO:tensorflow:global_step/sec: 0.0324995\n"
     ]
    },
    {
     "output_type": "stream",
     "name": "stderr",
     "text": [
      "I0830 00:52:53.278254  6600 tpu_estimator.py:2159] global_step/sec: 0.0324995\n"
     ]
    },
    {
     "output_type": "stream",
     "name": "stdout",
     "text": [
      "INFO:tensorflow:examples/sec: 0.519992\n"
     ]
    },
    {
     "output_type": "stream",
     "name": "stderr",
     "text": [
      "I0830 00:52:53.391252  6600 tpu_estimator.py:2160] examples/sec: 0.519992\n"
     ]
    },
    {
     "output_type": "stream",
     "name": "stdout",
     "text": [
      "INFO:tensorflow:global_step/sec: 0.0322059\n"
     ]
    },
    {
     "output_type": "stream",
     "name": "stderr",
     "text": [
      "I0830 00:53:24.323485  6600 tpu_estimator.py:2159] global_step/sec: 0.0322059\n"
     ]
    },
    {
     "output_type": "stream",
     "name": "stdout",
     "text": [
      "INFO:tensorflow:examples/sec: 0.515294\n"
     ]
    },
    {
     "output_type": "stream",
     "name": "stderr",
     "text": [
      "I0830 00:53:24.555486  6600 tpu_estimator.py:2160] examples/sec: 0.515294\n"
     ]
    },
    {
     "output_type": "stream",
     "name": "stdout",
     "text": [
      "INFO:tensorflow:global_step/sec: 0.0329725\n"
     ]
    },
    {
     "output_type": "stream",
     "name": "stderr",
     "text": [
      "I0830 00:53:54.632779  6600 tpu_estimator.py:2159] global_step/sec: 0.0329725\n"
     ]
    },
    {
     "output_type": "stream",
     "name": "stdout",
     "text": [
      "INFO:tensorflow:examples/sec: 0.52756\n"
     ]
    },
    {
     "output_type": "stream",
     "name": "stderr",
     "text": [
      "I0830 00:53:54.834783  6600 tpu_estimator.py:2160] examples/sec: 0.52756\n"
     ]
    },
    {
     "output_type": "stream",
     "name": "stdout",
     "text": [
      "INFO:tensorflow:global_step/sec: 0.0323773\n"
     ]
    },
    {
     "output_type": "stream",
     "name": "stderr",
     "text": [
      "I0830 00:54:25.539571  6600 tpu_estimator.py:2159] global_step/sec: 0.0323773\n"
     ]
    },
    {
     "output_type": "stream",
     "name": "stdout",
     "text": [
      "INFO:tensorflow:examples/sec: 0.518038\n"
     ]
    },
    {
     "output_type": "stream",
     "name": "stderr",
     "text": [
      "I0830 00:54:25.655570  6600 tpu_estimator.py:2160] examples/sec: 0.518038\n"
     ]
    },
    {
     "output_type": "stream",
     "name": "stdout",
     "text": [
      "INFO:tensorflow:global_step/sec: 0.0308679\n"
     ]
    },
    {
     "output_type": "stream",
     "name": "stderr",
     "text": [
      "I0830 00:54:57.913719  6600 tpu_estimator.py:2159] global_step/sec: 0.0308679\n"
     ]
    },
    {
     "output_type": "stream",
     "name": "stdout",
     "text": [
      "INFO:tensorflow:examples/sec: 0.493886\n"
     ]
    },
    {
     "output_type": "stream",
     "name": "stderr",
     "text": [
      "I0830 00:54:57.990722  6600 tpu_estimator.py:2160] examples/sec: 0.493886\n"
     ]
    },
    {
     "output_type": "stream",
     "name": "stdout",
     "text": [
      "INFO:tensorflow:global_step/sec: 0.0328929\n"
     ]
    },
    {
     "output_type": "stream",
     "name": "stderr",
     "text": [
      "I0830 00:55:28.316411  6600 tpu_estimator.py:2159] global_step/sec: 0.0328929\n"
     ]
    },
    {
     "output_type": "stream",
     "name": "stdout",
     "text": [
      "INFO:tensorflow:examples/sec: 0.526287\n"
     ]
    },
    {
     "output_type": "stream",
     "name": "stderr",
     "text": [
      "I0830 00:55:28.351413  6600 tpu_estimator.py:2160] examples/sec: 0.526287\n"
     ]
    },
    {
     "output_type": "stream",
     "name": "stdout",
     "text": [
      "INFO:tensorflow:global_step/sec: 0.0336266\n"
     ]
    },
    {
     "output_type": "stream",
     "name": "stderr",
     "text": [
      "I0830 00:55:58.074729  6600 tpu_estimator.py:2159] global_step/sec: 0.0336266\n"
     ]
    },
    {
     "output_type": "stream",
     "name": "stdout",
     "text": [
      "INFO:tensorflow:examples/sec: 0.538026\n"
     ]
    },
    {
     "output_type": "stream",
     "name": "stderr",
     "text": [
      "I0830 00:55:58.296730  6600 tpu_estimator.py:2160] examples/sec: 0.538026\n"
     ]
    },
    {
     "output_type": "stream",
     "name": "stdout",
     "text": [
      "INFO:tensorflow:global_step/sec: 0.0334146\n"
     ]
    },
    {
     "output_type": "stream",
     "name": "stderr",
     "text": [
      "I0830 00:56:28.003729  6600 tpu_estimator.py:2159] global_step/sec: 0.0334146\n"
     ]
    },
    {
     "output_type": "stream",
     "name": "stdout",
     "text": [
      "INFO:tensorflow:examples/sec: 0.534634\n"
     ]
    },
    {
     "output_type": "stream",
     "name": "stderr",
     "text": [
      "I0830 00:56:28.118731  6600 tpu_estimator.py:2160] examples/sec: 0.534634\n"
     ]
    },
    {
     "output_type": "stream",
     "name": "stdout",
     "text": [
      "INFO:tensorflow:global_step/sec: 0.0319075\n"
     ]
    },
    {
     "output_type": "stream",
     "name": "stderr",
     "text": [
      "I0830 00:56:59.427284  6600 tpu_estimator.py:2159] global_step/sec: 0.0319075\n"
     ]
    },
    {
     "output_type": "stream",
     "name": "stdout",
     "text": [
      "INFO:tensorflow:examples/sec: 0.510521\n"
     ]
    },
    {
     "output_type": "stream",
     "name": "stderr",
     "text": [
      "I0830 00:56:59.558283  6600 tpu_estimator.py:2160] examples/sec: 0.510521\n"
     ]
    },
    {
     "output_type": "stream",
     "name": "stdout",
     "text": [
      "INFO:tensorflow:global_step/sec: 0.0303644\n"
     ]
    },
    {
     "output_type": "stream",
     "name": "stderr",
     "text": [
      "I0830 00:57:32.287616  6600 tpu_estimator.py:2159] global_step/sec: 0.0303644\n"
     ]
    },
    {
     "output_type": "stream",
     "name": "stdout",
     "text": [
      "INFO:tensorflow:examples/sec: 0.48583\n"
     ]
    },
    {
     "output_type": "stream",
     "name": "stderr",
     "text": [
      "I0830 00:57:32.535617  6600 tpu_estimator.py:2160] examples/sec: 0.48583\n"
     ]
    },
    {
     "output_type": "stream",
     "name": "stdout",
     "text": [
      "INFO:tensorflow:global_step/sec: 0.0318441\n"
     ]
    },
    {
     "output_type": "stream",
     "name": "stderr",
     "text": [
      "I0830 00:58:03.665591  6600 tpu_estimator.py:2159] global_step/sec: 0.0318441\n"
     ]
    },
    {
     "output_type": "stream",
     "name": "stdout",
     "text": [
      "INFO:tensorflow:examples/sec: 0.509506\n"
     ]
    },
    {
     "output_type": "stream",
     "name": "stderr",
     "text": [
      "I0830 00:58:03.837591  6600 tpu_estimator.py:2160] examples/sec: 0.509506\n"
     ]
    },
    {
     "output_type": "stream",
     "name": "stdout",
     "text": [
      "INFO:tensorflow:global_step/sec: 0.0274716\n"
     ]
    },
    {
     "output_type": "stream",
     "name": "stderr",
     "text": [
      "I0830 00:58:40.060773  6600 tpu_estimator.py:2159] global_step/sec: 0.0274716\n"
     ]
    },
    {
     "output_type": "stream",
     "name": "stdout",
     "text": [
      "INFO:tensorflow:examples/sec: 0.439546\n"
     ]
    },
    {
     "output_type": "stream",
     "name": "stderr",
     "text": [
      "I0830 00:58:40.103777  6600 tpu_estimator.py:2160] examples/sec: 0.439546\n"
     ]
    },
    {
     "output_type": "stream",
     "name": "stdout",
     "text": [
      "INFO:tensorflow:global_step/sec: 0.034046\n"
     ]
    },
    {
     "output_type": "stream",
     "name": "stderr",
     "text": [
      "I0830 00:59:09.486775  6600 tpu_estimator.py:2159] global_step/sec: 0.034046\n"
     ]
    },
    {
     "output_type": "stream",
     "name": "stdout",
     "text": [
      "INFO:tensorflow:examples/sec: 0.544736\n"
     ]
    },
    {
     "output_type": "stream",
     "name": "stderr",
     "text": [
      "I0830 00:59:09.631774  6600 tpu_estimator.py:2160] examples/sec: 0.544736\n"
     ]
    },
    {
     "output_type": "stream",
     "name": "stdout",
     "text": [
      "INFO:tensorflow:global_step/sec: 0.0328668\n"
     ]
    },
    {
     "output_type": "stream",
     "name": "stderr",
     "text": [
      "I0830 00:59:39.884615  6600 tpu_estimator.py:2159] global_step/sec: 0.0328668\n"
     ]
    },
    {
     "output_type": "stream",
     "name": "stdout",
     "text": [
      "INFO:tensorflow:examples/sec: 0.525869\n"
     ]
    },
    {
     "output_type": "stream",
     "name": "stderr",
     "text": [
      "I0830 00:59:40.015615  6600 tpu_estimator.py:2160] examples/sec: 0.525869\n"
     ]
    },
    {
     "output_type": "stream",
     "name": "stdout",
     "text": [
      "INFO:tensorflow:global_step/sec: 0.0339639\n"
     ]
    },
    {
     "output_type": "stream",
     "name": "stderr",
     "text": [
      "I0830 01:00:09.306618  6600 tpu_estimator.py:2159] global_step/sec: 0.0339639\n"
     ]
    },
    {
     "output_type": "stream",
     "name": "stdout",
     "text": [
      "INFO:tensorflow:examples/sec: 0.543423\n"
     ]
    },
    {
     "output_type": "stream",
     "name": "stderr",
     "text": [
      "I0830 01:00:09.489615  6600 tpu_estimator.py:2160] examples/sec: 0.543423\n"
     ]
    },
    {
     "output_type": "stream",
     "name": "stdout",
     "text": [
      "INFO:tensorflow:global_step/sec: 0.0329099\n"
     ]
    },
    {
     "output_type": "stream",
     "name": "stderr",
     "text": [
      "I0830 01:00:39.753614  6600 tpu_estimator.py:2159] global_step/sec: 0.0329099\n"
     ]
    },
    {
     "output_type": "stream",
     "name": "stdout",
     "text": [
      "INFO:tensorflow:examples/sec: 0.526558\n"
     ]
    },
    {
     "output_type": "stream",
     "name": "stderr",
     "text": [
      "I0830 01:00:39.870617  6600 tpu_estimator.py:2160] examples/sec: 0.526558\n"
     ]
    },
    {
     "output_type": "stream",
     "name": "stdout",
     "text": [
      "INFO:tensorflow:global_step/sec: 0.0320815\n"
     ]
    },
    {
     "output_type": "stream",
     "name": "stderr",
     "text": [
      "I0830 01:01:10.859201  6600 tpu_estimator.py:2159] global_step/sec: 0.0320815\n"
     ]
    },
    {
     "output_type": "stream",
     "name": "stdout",
     "text": [
      "INFO:tensorflow:examples/sec: 0.513304\n"
     ]
    },
    {
     "output_type": "stream",
     "name": "stderr",
     "text": [
      "I0830 01:01:10.901202  6600 tpu_estimator.py:2160] examples/sec: 0.513304\n"
     ]
    },
    {
     "output_type": "stream",
     "name": "stdout",
     "text": [
      "INFO:tensorflow:global_step/sec: 0.0317108\n"
     ]
    },
    {
     "output_type": "stream",
     "name": "stderr",
     "text": [
      "I0830 01:01:42.411202  6600 tpu_estimator.py:2159] global_step/sec: 0.0317108\n"
     ]
    },
    {
     "output_type": "stream",
     "name": "stdout",
     "text": [
      "INFO:tensorflow:examples/sec: 0.507373\n"
     ]
    },
    {
     "output_type": "stream",
     "name": "stderr",
     "text": [
      "I0830 01:01:42.525206  6600 tpu_estimator.py:2160] examples/sec: 0.507373\n"
     ]
    },
    {
     "output_type": "stream",
     "name": "stdout",
     "text": [
      "INFO:tensorflow:global_step/sec: 0.0319146\n"
     ]
    },
    {
     "output_type": "stream",
     "name": "stderr",
     "text": [
      "I0830 01:02:13.744847  6600 tpu_estimator.py:2159] global_step/sec: 0.0319146\n"
     ]
    },
    {
     "output_type": "stream",
     "name": "stdout",
     "text": [
      "INFO:tensorflow:examples/sec: 0.510633\n"
     ]
    },
    {
     "output_type": "stream",
     "name": "stderr",
     "text": [
      "I0830 01:02:13.942849  6600 tpu_estimator.py:2160] examples/sec: 0.510633\n"
     ]
    },
    {
     "output_type": "stream",
     "name": "stdout",
     "text": [
      "INFO:tensorflow:global_step/sec: 0.0324278\n"
     ]
    },
    {
     "output_type": "stream",
     "name": "stderr",
     "text": [
      "I0830 01:02:44.585566  6600 tpu_estimator.py:2159] global_step/sec: 0.0324278\n"
     ]
    },
    {
     "output_type": "stream",
     "name": "stdout",
     "text": [
      "INFO:tensorflow:examples/sec: 0.518845\n"
     ]
    },
    {
     "output_type": "stream",
     "name": "stderr",
     "text": [
      "I0830 01:02:44.712569  6600 tpu_estimator.py:2160] examples/sec: 0.518845\n"
     ]
    },
    {
     "output_type": "stream",
     "name": "stdout",
     "text": [
      "INFO:tensorflow:global_step/sec: 0.0327729\n"
     ]
    },
    {
     "output_type": "stream",
     "name": "stderr",
     "text": [
      "I0830 01:03:15.078566  6600 tpu_estimator.py:2159] global_step/sec: 0.0327729\n"
     ]
    },
    {
     "output_type": "stream",
     "name": "stdout",
     "text": [
      "INFO:tensorflow:examples/sec: 0.524367\n"
     ]
    },
    {
     "output_type": "stream",
     "name": "stderr",
     "text": [
      "I0830 01:03:15.155565  6600 tpu_estimator.py:2160] examples/sec: 0.524367\n"
     ]
    },
    {
     "output_type": "stream",
     "name": "stdout",
     "text": [
      "INFO:tensorflow:global_step/sec: 0.0325142\n"
     ]
    },
    {
     "output_type": "stream",
     "name": "stderr",
     "text": [
      "I0830 01:03:45.837373  6600 tpu_estimator.py:2159] global_step/sec: 0.0325142\n"
     ]
    },
    {
     "output_type": "stream",
     "name": "stdout",
     "text": [
      "INFO:tensorflow:examples/sec: 0.520227\n"
     ]
    },
    {
     "output_type": "stream",
     "name": "stderr",
     "text": [
      "I0830 01:03:45.911375  6600 tpu_estimator.py:2160] examples/sec: 0.520227\n"
     ]
    },
    {
     "output_type": "stream",
     "name": "stdout",
     "text": [
      "INFO:tensorflow:global_step/sec: 0.0341847\n"
     ]
    },
    {
     "output_type": "stream",
     "name": "stderr",
     "text": [
      "I0830 01:04:15.083197  6600 tpu_estimator.py:2159] global_step/sec: 0.0341847\n"
     ]
    },
    {
     "output_type": "stream",
     "name": "stdout",
     "text": [
      "INFO:tensorflow:examples/sec: 0.546956\n"
     ]
    },
    {
     "output_type": "stream",
     "name": "stderr",
     "text": [
      "I0830 01:04:15.217200  6600 tpu_estimator.py:2160] examples/sec: 0.546956\n"
     ]
    },
    {
     "output_type": "stream",
     "name": "stdout",
     "text": [
      "INFO:tensorflow:global_step/sec: 0.0335356\n"
     ]
    },
    {
     "output_type": "stream",
     "name": "stderr",
     "text": [
      "I0830 01:04:44.915262  6600 tpu_estimator.py:2159] global_step/sec: 0.0335356\n"
     ]
    },
    {
     "output_type": "stream",
     "name": "stdout",
     "text": [
      "INFO:tensorflow:examples/sec: 0.536569\n"
     ]
    },
    {
     "output_type": "stream",
     "name": "stderr",
     "text": [
      "I0830 01:04:45.015265  6600 tpu_estimator.py:2160] examples/sec: 0.536569\n"
     ]
    },
    {
     "output_type": "stream",
     "name": "stdout",
     "text": [
      "INFO:tensorflow:global_step/sec: 0.0337029\n"
     ]
    },
    {
     "output_type": "stream",
     "name": "stderr",
     "text": [
      "I0830 01:05:14.596263  6600 tpu_estimator.py:2159] global_step/sec: 0.0337029\n"
     ]
    },
    {
     "output_type": "stream",
     "name": "stdout",
     "text": [
      "INFO:tensorflow:examples/sec: 0.539247\n"
     ]
    },
    {
     "output_type": "stream",
     "name": "stderr",
     "text": [
      "I0830 01:05:14.728266  6600 tpu_estimator.py:2160] examples/sec: 0.539247\n"
     ]
    },
    {
     "output_type": "stream",
     "name": "stdout",
     "text": [
      "INFO:tensorflow:global_step/sec: 0.0325362\n"
     ]
    },
    {
     "output_type": "stream",
     "name": "stderr",
     "text": [
      "I0830 01:05:45.310217  6600 tpu_estimator.py:2159] global_step/sec: 0.0325362\n"
     ]
    },
    {
     "output_type": "stream",
     "name": "stdout",
     "text": [
      "INFO:tensorflow:examples/sec: 0.52058\n"
     ]
    },
    {
     "output_type": "stream",
     "name": "stderr",
     "text": [
      "I0830 01:05:45.345217  6600 tpu_estimator.py:2160] examples/sec: 0.52058\n"
     ]
    },
    {
     "output_type": "stream",
     "name": "stdout",
     "text": [
      "INFO:tensorflow:global_step/sec: 0.0337587\n"
     ]
    },
    {
     "output_type": "stream",
     "name": "stderr",
     "text": [
      "I0830 01:06:14.949216  6600 tpu_estimator.py:2159] global_step/sec: 0.0337587\n"
     ]
    },
    {
     "output_type": "stream",
     "name": "stdout",
     "text": [
      "INFO:tensorflow:examples/sec: 0.540139\n"
     ]
    },
    {
     "output_type": "stream",
     "name": "stderr",
     "text": [
      "I0830 01:06:15.058217  6600 tpu_estimator.py:2160] examples/sec: 0.540139\n"
     ]
    },
    {
     "output_type": "stream",
     "name": "stdout",
     "text": [
      "INFO:tensorflow:global_step/sec: 0.0331543\n"
     ]
    },
    {
     "output_type": "stream",
     "name": "stderr",
     "text": [
      "I0830 01:06:45.093214  6600 tpu_estimator.py:2159] global_step/sec: 0.0331543\n"
     ]
    },
    {
     "output_type": "stream",
     "name": "stdout",
     "text": [
      "INFO:tensorflow:examples/sec: 0.530469\n"
     ]
    },
    {
     "output_type": "stream",
     "name": "stderr",
     "text": [
      "I0830 01:06:45.140221  6600 tpu_estimator.py:2160] examples/sec: 0.530469\n"
     ]
    },
    {
     "output_type": "stream",
     "name": "stdout",
     "text": [
      "INFO:tensorflow:global_step/sec: 0.033428\n"
     ]
    },
    {
     "output_type": "stream",
     "name": "stderr",
     "text": [
      "I0830 01:07:15.033217  6600 tpu_estimator.py:2159] global_step/sec: 0.033428\n"
     ]
    },
    {
     "output_type": "stream",
     "name": "stdout",
     "text": [
      "INFO:tensorflow:examples/sec: 0.534849\n"
     ]
    },
    {
     "output_type": "stream",
     "name": "stderr",
     "text": [
      "I0830 01:07:15.160218  6600 tpu_estimator.py:2160] examples/sec: 0.534849\n"
     ]
    },
    {
     "output_type": "stream",
     "name": "stdout",
     "text": [
      "INFO:tensorflow:global_step/sec: 0.0319591\n"
     ]
    },
    {
     "output_type": "stream",
     "name": "stderr",
     "text": [
      "I0830 01:07:46.320216  6600 tpu_estimator.py:2159] global_step/sec: 0.0319591\n"
     ]
    },
    {
     "output_type": "stream",
     "name": "stdout",
     "text": [
      "INFO:tensorflow:examples/sec: 0.511346\n"
     ]
    },
    {
     "output_type": "stream",
     "name": "stderr",
     "text": [
      "I0830 01:07:46.435215  6600 tpu_estimator.py:2160] examples/sec: 0.511346\n"
     ]
    },
    {
     "output_type": "stream",
     "name": "stdout",
     "text": [
      "INFO:tensorflow:global_step/sec: 0.0338547\n"
     ]
    },
    {
     "output_type": "stream",
     "name": "stderr",
     "text": [
      "I0830 01:08:15.854216  6600 tpu_estimator.py:2159] global_step/sec: 0.0338547\n"
     ]
    },
    {
     "output_type": "stream",
     "name": "stdout",
     "text": [
      "INFO:tensorflow:examples/sec: 0.541675\n"
     ]
    },
    {
     "output_type": "stream",
     "name": "stderr",
     "text": [
      "I0830 01:08:15.910216  6600 tpu_estimator.py:2160] examples/sec: 0.541675\n"
     ]
    },
    {
     "output_type": "stream",
     "name": "stdout",
     "text": [
      "INFO:tensorflow:global_step/sec: 0.0348712\n"
     ]
    },
    {
     "output_type": "stream",
     "name": "stderr",
     "text": [
      "I0830 01:08:44.521219  6600 tpu_estimator.py:2159] global_step/sec: 0.0348712\n"
     ]
    },
    {
     "output_type": "stream",
     "name": "stdout",
     "text": [
      "INFO:tensorflow:examples/sec: 0.557938\n"
     ]
    },
    {
     "output_type": "stream",
     "name": "stderr",
     "text": [
      "I0830 01:08:44.561217  6600 tpu_estimator.py:2160] examples/sec: 0.557938\n"
     ]
    },
    {
     "output_type": "stream",
     "name": "stdout",
     "text": [
      "INFO:tensorflow:global_step/sec: 0.033071\n"
     ]
    },
    {
     "output_type": "stream",
     "name": "stderr",
     "text": [
      "I0830 01:09:14.750215  6600 tpu_estimator.py:2159] global_step/sec: 0.033071\n"
     ]
    },
    {
     "output_type": "stream",
     "name": "stdout",
     "text": [
      "INFO:tensorflow:examples/sec: 0.529136\n"
     ]
    },
    {
     "output_type": "stream",
     "name": "stderr",
     "text": [
      "I0830 01:09:14.859217  6600 tpu_estimator.py:2160] examples/sec: 0.529136\n"
     ]
    },
    {
     "output_type": "stream",
     "name": "stdout",
     "text": [
      "INFO:tensorflow:global_step/sec: 0.0326531\n"
     ]
    },
    {
     "output_type": "stream",
     "name": "stderr",
     "text": [
      "I0830 01:09:45.406216  6600 tpu_estimator.py:2159] global_step/sec: 0.0326531\n"
     ]
    },
    {
     "output_type": "stream",
     "name": "stdout",
     "text": [
      "INFO:tensorflow:examples/sec: 0.522449\n"
     ]
    },
    {
     "output_type": "stream",
     "name": "stderr",
     "text": [
      "I0830 01:09:45.573218  6600 tpu_estimator.py:2160] examples/sec: 0.522449\n"
     ]
    },
    {
     "output_type": "stream",
     "name": "stdout",
     "text": [
      "INFO:tensorflow:global_step/sec: 0.0332613\n"
     ]
    },
    {
     "output_type": "stream",
     "name": "stderr",
     "text": [
      "I0830 01:10:15.443217  6600 tpu_estimator.py:2159] global_step/sec: 0.0332613\n"
     ]
    },
    {
     "output_type": "stream",
     "name": "stdout",
     "text": [
      "INFO:tensorflow:examples/sec: 0.53218\n"
     ]
    },
    {
     "output_type": "stream",
     "name": "stderr",
     "text": [
      "I0830 01:10:15.487218  6600 tpu_estimator.py:2160] examples/sec: 0.53218\n"
     ]
    },
    {
     "output_type": "stream",
     "name": "stdout",
     "text": [
      "INFO:tensorflow:global_step/sec: 0.0339628\n"
     ]
    },
    {
     "output_type": "stream",
     "name": "stderr",
     "text": [
      "I0830 01:10:44.907217  6600 tpu_estimator.py:2159] global_step/sec: 0.0339628\n"
     ]
    },
    {
     "output_type": "stream",
     "name": "stdout",
     "text": [
      "INFO:tensorflow:examples/sec: 0.543404\n"
     ]
    },
    {
     "output_type": "stream",
     "name": "stderr",
     "text": [
      "I0830 01:10:45.035218  6600 tpu_estimator.py:2160] examples/sec: 0.543404\n"
     ]
    },
    {
     "output_type": "stream",
     "name": "stdout",
     "text": [
      "INFO:tensorflow:global_step/sec: 0.0327751\n"
     ]
    },
    {
     "output_type": "stream",
     "name": "stderr",
     "text": [
      "I0830 01:11:15.416217  6600 tpu_estimator.py:2159] global_step/sec: 0.0327751\n"
     ]
    },
    {
     "output_type": "stream",
     "name": "stdout",
     "text": [
      "INFO:tensorflow:examples/sec: 0.524401\n"
     ]
    },
    {
     "output_type": "stream",
     "name": "stderr",
     "text": [
      "I0830 01:11:15.558218  6600 tpu_estimator.py:2160] examples/sec: 0.524401\n"
     ]
    },
    {
     "output_type": "stream",
     "name": "stdout",
     "text": [
      "INFO:tensorflow:global_step/sec: 0.0327391\n"
     ]
    },
    {
     "output_type": "stream",
     "name": "stderr",
     "text": [
      "I0830 01:11:45.939756  6600 tpu_estimator.py:2159] global_step/sec: 0.0327391\n"
     ]
    },
    {
     "output_type": "stream",
     "name": "stdout",
     "text": [
      "INFO:tensorflow:examples/sec: 0.523825\n"
     ]
    },
    {
     "output_type": "stream",
     "name": "stderr",
     "text": [
      "I0830 01:11:45.970757  6600 tpu_estimator.py:2160] examples/sec: 0.523825\n"
     ]
    },
    {
     "output_type": "stream",
     "name": "stdout",
     "text": [
      "INFO:tensorflow:global_step/sec: 0.0342571\n"
     ]
    },
    {
     "output_type": "stream",
     "name": "stderr",
     "text": [
      "I0830 01:12:15.149757  6600 tpu_estimator.py:2159] global_step/sec: 0.0342571\n"
     ]
    },
    {
     "output_type": "stream",
     "name": "stdout",
     "text": [
      "INFO:tensorflow:examples/sec: 0.548114\n"
     ]
    },
    {
     "output_type": "stream",
     "name": "stderr",
     "text": [
      "I0830 01:12:15.256759  6600 tpu_estimator.py:2160] examples/sec: 0.548114\n"
     ]
    },
    {
     "output_type": "stream",
     "name": "stdout",
     "text": [
      "INFO:tensorflow:global_step/sec: 0.032722\n"
     ]
    },
    {
     "output_type": "stream",
     "name": "stderr",
     "text": [
      "I0830 01:12:45.691192  6600 tpu_estimator.py:2159] global_step/sec: 0.032722\n"
     ]
    },
    {
     "output_type": "stream",
     "name": "stdout",
     "text": [
      "INFO:tensorflow:examples/sec: 0.523553\n"
     ]
    },
    {
     "output_type": "stream",
     "name": "stderr",
     "text": [
      "I0830 01:12:45.722196  6600 tpu_estimator.py:2160] examples/sec: 0.523553\n"
     ]
    },
    {
     "output_type": "stream",
     "name": "stdout",
     "text": [
      "INFO:tensorflow:global_step/sec: 0.0319949\n"
     ]
    },
    {
     "output_type": "stream",
     "name": "stderr",
     "text": [
      "I0830 01:13:16.969196  6600 tpu_estimator.py:2159] global_step/sec: 0.0319949\n"
     ]
    },
    {
     "output_type": "stream",
     "name": "stdout",
     "text": [
      "INFO:tensorflow:examples/sec: 0.511918\n"
     ]
    },
    {
     "output_type": "stream",
     "name": "stderr",
     "text": [
      "I0830 01:13:17.113197  6600 tpu_estimator.py:2160] examples/sec: 0.511918\n"
     ]
    },
    {
     "output_type": "stream",
     "name": "stdout",
     "text": [
      "INFO:tensorflow:global_step/sec: 0.0318238\n"
     ]
    },
    {
     "output_type": "stream",
     "name": "stderr",
     "text": [
      "I0830 01:13:48.391194  6600 tpu_estimator.py:2159] global_step/sec: 0.0318238\n"
     ]
    },
    {
     "output_type": "stream",
     "name": "stdout",
     "text": [
      "INFO:tensorflow:examples/sec: 0.509181\n"
     ]
    },
    {
     "output_type": "stream",
     "name": "stderr",
     "text": [
      "I0830 01:13:48.509196  6600 tpu_estimator.py:2160] examples/sec: 0.509181\n"
     ]
    },
    {
     "output_type": "stream",
     "name": "stdout",
     "text": [
      "INFO:tensorflow:global_step/sec: 0.0334661\n"
     ]
    },
    {
     "output_type": "stream",
     "name": "stderr",
     "text": [
      "I0830 01:14:18.278198  6600 tpu_estimator.py:2159] global_step/sec: 0.0334661\n"
     ]
    },
    {
     "output_type": "stream",
     "name": "stdout",
     "text": [
      "INFO:tensorflow:examples/sec: 0.535457\n"
     ]
    },
    {
     "output_type": "stream",
     "name": "stderr",
     "text": [
      "I0830 01:14:18.398198  6600 tpu_estimator.py:2160] examples/sec: 0.535457\n"
     ]
    },
    {
     "output_type": "stream",
     "name": "stdout",
     "text": [
      "INFO:tensorflow:global_step/sec: 0.0339763\n"
     ]
    },
    {
     "output_type": "stream",
     "name": "stderr",
     "text": [
      "I0830 01:14:47.703507  6600 tpu_estimator.py:2159] global_step/sec: 0.0339763\n"
     ]
    },
    {
     "output_type": "stream",
     "name": "stdout",
     "text": [
      "INFO:tensorflow:examples/sec: 0.54362\n"
     ]
    },
    {
     "output_type": "stream",
     "name": "stderr",
     "text": [
      "I0830 01:14:47.823509  6600 tpu_estimator.py:2160] examples/sec: 0.54362\n"
     ]
    },
    {
     "output_type": "stream",
     "name": "stdout",
     "text": [
      "INFO:tensorflow:global_step/sec: 0.0326883\n"
     ]
    },
    {
     "output_type": "stream",
     "name": "stderr",
     "text": [
      "I0830 01:15:18.294507  6600 tpu_estimator.py:2159] global_step/sec: 0.0326883\n"
     ]
    },
    {
     "output_type": "stream",
     "name": "stdout",
     "text": [
      "INFO:tensorflow:examples/sec: 0.523013\n"
     ]
    },
    {
     "output_type": "stream",
     "name": "stderr",
     "text": [
      "I0830 01:15:18.429509  6600 tpu_estimator.py:2160] examples/sec: 0.523013\n"
     ]
    },
    {
     "output_type": "stream",
     "name": "stdout",
     "text": [
      "INFO:tensorflow:global_step/sec: 0.0339963\n"
     ]
    },
    {
     "output_type": "stream",
     "name": "stderr",
     "text": [
      "I0830 01:15:47.712508  6600 tpu_estimator.py:2159] global_step/sec: 0.0339963\n"
     ]
    },
    {
     "output_type": "stream",
     "name": "stdout",
     "text": [
      "INFO:tensorflow:examples/sec: 0.54394\n"
     ]
    },
    {
     "output_type": "stream",
     "name": "stderr",
     "text": [
      "I0830 01:15:47.829508  6600 tpu_estimator.py:2160] examples/sec: 0.54394\n"
     ]
    },
    {
     "output_type": "stream",
     "name": "stdout",
     "text": [
      "INFO:tensorflow:global_step/sec: 0.033484\n"
     ]
    },
    {
     "output_type": "stream",
     "name": "stderr",
     "text": [
      "I0830 01:16:17.578506  6600 tpu_estimator.py:2159] global_step/sec: 0.033484\n"
     ]
    },
    {
     "output_type": "stream",
     "name": "stdout",
     "text": [
      "INFO:tensorflow:examples/sec: 0.535744\n"
     ]
    },
    {
     "output_type": "stream",
     "name": "stderr",
     "text": [
      "I0830 01:16:17.702511  6600 tpu_estimator.py:2160] examples/sec: 0.535744\n"
     ]
    },
    {
     "output_type": "stream",
     "name": "stdout",
     "text": [
      "INFO:tensorflow:global_step/sec: 0.0325627\n"
     ]
    },
    {
     "output_type": "stream",
     "name": "stderr",
     "text": [
      "I0830 01:16:48.289506  6600 tpu_estimator.py:2159] global_step/sec: 0.0325627\n"
     ]
    },
    {
     "output_type": "stream",
     "name": "stdout",
     "text": [
      "INFO:tensorflow:examples/sec: 0.521003\n"
     ]
    },
    {
     "output_type": "stream",
     "name": "stderr",
     "text": [
      "I0830 01:16:48.415511  6600 tpu_estimator.py:2160] examples/sec: 0.521003\n"
     ]
    },
    {
     "output_type": "stream",
     "name": "stdout",
     "text": [
      "INFO:tensorflow:global_step/sec: 0.0332403\n"
     ]
    },
    {
     "output_type": "stream",
     "name": "stderr",
     "text": [
      "I0830 01:17:18.398507  6600 tpu_estimator.py:2159] global_step/sec: 0.0332403\n"
     ]
    },
    {
     "output_type": "stream",
     "name": "stdout",
     "text": [
      "INFO:tensorflow:examples/sec: 0.531844\n"
     ]
    },
    {
     "output_type": "stream",
     "name": "stderr",
     "text": [
      "I0830 01:17:18.510507  6600 tpu_estimator.py:2160] examples/sec: 0.531844\n"
     ]
    },
    {
     "output_type": "stream",
     "name": "stdout",
     "text": [
      "INFO:tensorflow:global_step/sec: 0.0335109\n"
     ]
    },
    {
     "output_type": "stream",
     "name": "stderr",
     "text": [
      "I0830 01:17:48.209509  6600 tpu_estimator.py:2159] global_step/sec: 0.0335109\n"
     ]
    },
    {
     "output_type": "stream",
     "name": "stdout",
     "text": [
      "INFO:tensorflow:examples/sec: 0.536175\n"
     ]
    },
    {
     "output_type": "stream",
     "name": "stderr",
     "text": [
      "I0830 01:17:48.331508  6600 tpu_estimator.py:2160] examples/sec: 0.536175\n"
     ]
    },
    {
     "output_type": "stream",
     "name": "stdout",
     "text": [
      "INFO:tensorflow:global_step/sec: 0.0314604\n"
     ]
    },
    {
     "output_type": "stream",
     "name": "stderr",
     "text": [
      "I0830 01:18:19.997508  6600 tpu_estimator.py:2159] global_step/sec: 0.0314604\n"
     ]
    },
    {
     "output_type": "stream",
     "name": "stdout",
     "text": [
      "INFO:tensorflow:examples/sec: 0.503366\n"
     ]
    },
    {
     "output_type": "stream",
     "name": "stderr",
     "text": [
      "I0830 01:18:20.118511  6600 tpu_estimator.py:2160] examples/sec: 0.503366\n"
     ]
    },
    {
     "output_type": "stream",
     "name": "stdout",
     "text": [
      "INFO:tensorflow:global_step/sec: 0.0332071\n"
     ]
    },
    {
     "output_type": "stream",
     "name": "stderr",
     "text": [
      "I0830 01:18:50.123507  6600 tpu_estimator.py:2159] global_step/sec: 0.0332071\n"
     ]
    },
    {
     "output_type": "stream",
     "name": "stdout",
     "text": [
      "INFO:tensorflow:examples/sec: 0.531314\n"
     ]
    },
    {
     "output_type": "stream",
     "name": "stderr",
     "text": [
      "I0830 01:18:50.307507  6600 tpu_estimator.py:2160] examples/sec: 0.531314\n"
     ]
    },
    {
     "output_type": "stream",
     "name": "stdout",
     "text": [
      "INFO:tensorflow:global_step/sec: 0.0329598\n"
     ]
    },
    {
     "output_type": "stream",
     "name": "stderr",
     "text": [
      "I0830 01:19:20.452506  6600 tpu_estimator.py:2159] global_step/sec: 0.0329598\n"
     ]
    },
    {
     "output_type": "stream",
     "name": "stdout",
     "text": [
      "INFO:tensorflow:examples/sec: 0.527357\n"
     ]
    },
    {
     "output_type": "stream",
     "name": "stderr",
     "text": [
      "I0830 01:19:20.591507  6600 tpu_estimator.py:2160] examples/sec: 0.527357\n"
     ]
    },
    {
     "output_type": "stream",
     "name": "stdout",
     "text": [
      "INFO:tensorflow:global_step/sec: 0.0332281\n"
     ]
    },
    {
     "output_type": "stream",
     "name": "stderr",
     "text": [
      "I0830 01:19:50.543510  6600 tpu_estimator.py:2159] global_step/sec: 0.0332281\n"
     ]
    },
    {
     "output_type": "stream",
     "name": "stdout",
     "text": [
      "INFO:tensorflow:examples/sec: 0.53165\n"
     ]
    },
    {
     "output_type": "stream",
     "name": "stderr",
     "text": [
      "I0830 01:19:50.657511  6600 tpu_estimator.py:2160] examples/sec: 0.53165\n"
     ]
    },
    {
     "output_type": "stream",
     "name": "stdout",
     "text": [
      "INFO:tensorflow:global_step/sec: 0.0332823\n"
     ]
    },
    {
     "output_type": "stream",
     "name": "stderr",
     "text": [
      "I0830 01:20:20.590508  6600 tpu_estimator.py:2159] global_step/sec: 0.0332823\n"
     ]
    },
    {
     "output_type": "stream",
     "name": "stdout",
     "text": [
      "INFO:tensorflow:examples/sec: 0.532517\n"
     ]
    },
    {
     "output_type": "stream",
     "name": "stderr",
     "text": [
      "I0830 01:20:20.708507  6600 tpu_estimator.py:2160] examples/sec: 0.532517\n"
     ]
    },
    {
     "output_type": "stream",
     "name": "stdout",
     "text": [
      "INFO:tensorflow:global_step/sec: 0.0330613\n"
     ]
    },
    {
     "output_type": "stream",
     "name": "stderr",
     "text": [
      "I0830 01:20:50.830312  6600 tpu_estimator.py:2159] global_step/sec: 0.0330613\n"
     ]
    },
    {
     "output_type": "stream",
     "name": "stdout",
     "text": [
      "INFO:tensorflow:examples/sec: 0.528982\n"
     ]
    },
    {
     "output_type": "stream",
     "name": "stderr",
     "text": [
      "I0830 01:20:50.895311  6600 tpu_estimator.py:2160] examples/sec: 0.528982\n"
     ]
    },
    {
     "output_type": "stream",
     "name": "stdout",
     "text": [
      "INFO:tensorflow:global_step/sec: 0.0334068\n"
     ]
    },
    {
     "output_type": "stream",
     "name": "stderr",
     "text": [
      "I0830 01:21:20.772309  6600 tpu_estimator.py:2159] global_step/sec: 0.0334068\n"
     ]
    },
    {
     "output_type": "stream",
     "name": "stdout",
     "text": [
      "INFO:tensorflow:examples/sec: 0.534509\n"
     ]
    },
    {
     "output_type": "stream",
     "name": "stderr",
     "text": [
      "I0830 01:21:20.895312  6600 tpu_estimator.py:2160] examples/sec: 0.534509\n"
     ]
    },
    {
     "output_type": "stream",
     "name": "stdout",
     "text": [
      "INFO:tensorflow:global_step/sec: 0.0311636\n"
     ]
    },
    {
     "output_type": "stream",
     "name": "stderr",
     "text": [
      "I0830 01:21:52.840991  6600 tpu_estimator.py:2159] global_step/sec: 0.0311636\n"
     ]
    },
    {
     "output_type": "stream",
     "name": "stdout",
     "text": [
      "INFO:tensorflow:examples/sec: 0.498618\n"
     ]
    },
    {
     "output_type": "stream",
     "name": "stderr",
     "text": [
      "I0830 01:21:52.871994  6600 tpu_estimator.py:2160] examples/sec: 0.498618\n"
     ]
    },
    {
     "output_type": "stream",
     "name": "stdout",
     "text": [
      "INFO:tensorflow:global_step/sec: 0.0325163\n"
     ]
    },
    {
     "output_type": "stream",
     "name": "stderr",
     "text": [
      "I0830 01:22:23.593806  6600 tpu_estimator.py:2159] global_step/sec: 0.0325163\n"
     ]
    },
    {
     "output_type": "stream",
     "name": "stdout",
     "text": [
      "INFO:tensorflow:examples/sec: 0.520261\n"
     ]
    },
    {
     "output_type": "stream",
     "name": "stderr",
     "text": [
      "I0830 01:22:23.626811  6600 tpu_estimator.py:2160] examples/sec: 0.520261\n"
     ]
    },
    {
     "output_type": "stream",
     "name": "stdout",
     "text": [
      "INFO:tensorflow:global_step/sec: 0.0335863\n"
     ]
    },
    {
     "output_type": "stream",
     "name": "stderr",
     "text": [
      "I0830 01:22:53.368808  6600 tpu_estimator.py:2159] global_step/sec: 0.0335863\n"
     ]
    },
    {
     "output_type": "stream",
     "name": "stdout",
     "text": [
      "INFO:tensorflow:examples/sec: 0.537382\n"
     ]
    },
    {
     "output_type": "stream",
     "name": "stderr",
     "text": [
      "I0830 01:22:53.402809  6600 tpu_estimator.py:2160] examples/sec: 0.537382\n"
     ]
    },
    {
     "output_type": "stream",
     "name": "stdout",
     "text": [
      "INFO:tensorflow:global_step/sec: 0.0331422\n"
     ]
    },
    {
     "output_type": "stream",
     "name": "stderr",
     "text": [
      "I0830 01:23:23.566809  6600 tpu_estimator.py:2159] global_step/sec: 0.0331422\n"
     ]
    },
    {
     "output_type": "stream",
     "name": "stdout",
     "text": [
      "INFO:tensorflow:examples/sec: 0.530275\n"
     ]
    },
    {
     "output_type": "stream",
     "name": "stderr",
     "text": [
      "I0830 01:23:23.702808  6600 tpu_estimator.py:2160] examples/sec: 0.530275\n"
     ]
    },
    {
     "output_type": "stream",
     "name": "stdout",
     "text": [
      "INFO:tensorflow:global_step/sec: 0.033987\n"
     ]
    },
    {
     "output_type": "stream",
     "name": "stderr",
     "text": [
      "I0830 01:23:52.967807  6600 tpu_estimator.py:2159] global_step/sec: 0.033987\n"
     ]
    },
    {
     "output_type": "stream",
     "name": "stdout",
     "text": [
      "INFO:tensorflow:examples/sec: 0.543792\n"
     ]
    },
    {
     "output_type": "stream",
     "name": "stderr",
     "text": [
      "I0830 01:23:53.003809  6600 tpu_estimator.py:2160] examples/sec: 0.543792\n"
     ]
    },
    {
     "output_type": "stream",
     "name": "stdout",
     "text": [
      "INFO:tensorflow:global_step/sec: 0.0344554\n"
     ]
    },
    {
     "output_type": "stream",
     "name": "stderr",
     "text": [
      "I0830 01:24:21.987808  6600 tpu_estimator.py:2159] global_step/sec: 0.0344554\n"
     ]
    },
    {
     "output_type": "stream",
     "name": "stdout",
     "text": [
      "INFO:tensorflow:examples/sec: 0.551287\n"
     ]
    },
    {
     "output_type": "stream",
     "name": "stderr",
     "text": [
      "I0830 01:24:22.019810  6600 tpu_estimator.py:2160] examples/sec: 0.551287\n"
     ]
    },
    {
     "output_type": "stream",
     "name": "stdout",
     "text": [
      "INFO:tensorflow:global_step/sec: 0.0328246\n"
     ]
    },
    {
     "output_type": "stream",
     "name": "stderr",
     "text": [
      "I0830 01:24:52.480809  6600 tpu_estimator.py:2159] global_step/sec: 0.0328246\n"
     ]
    },
    {
     "output_type": "stream",
     "name": "stdout",
     "text": [
      "INFO:tensorflow:examples/sec: 0.525193\n"
     ]
    },
    {
     "output_type": "stream",
     "name": "stderr",
     "text": [
      "I0830 01:24:52.612808  6600 tpu_estimator.py:2160] examples/sec: 0.525193\n"
     ]
    },
    {
     "output_type": "stream",
     "name": "stdout",
     "text": [
      "INFO:tensorflow:global_step/sec: 0.0334314\n"
     ]
    },
    {
     "output_type": "stream",
     "name": "stderr",
     "text": [
      "I0830 01:25:22.386809  6600 tpu_estimator.py:2159] global_step/sec: 0.0334314\n"
     ]
    },
    {
     "output_type": "stream",
     "name": "stdout",
     "text": [
      "INFO:tensorflow:examples/sec: 0.534902\n"
     ]
    },
    {
     "output_type": "stream",
     "name": "stderr",
     "text": [
      "I0830 01:25:22.511808  6600 tpu_estimator.py:2160] examples/sec: 0.534902\n"
     ]
    },
    {
     "output_type": "stream",
     "name": "stdout",
     "text": [
      "INFO:tensorflow:global_step/sec: 0.0340602\n"
     ]
    },
    {
     "output_type": "stream",
     "name": "stderr",
     "text": [
      "I0830 01:25:51.745576  6600 tpu_estimator.py:2159] global_step/sec: 0.0340602\n"
     ]
    },
    {
     "output_type": "stream",
     "name": "stdout",
     "text": [
      "INFO:tensorflow:examples/sec: 0.544963\n"
     ]
    },
    {
     "output_type": "stream",
     "name": "stderr",
     "text": [
      "I0830 01:25:51.881578  6600 tpu_estimator.py:2160] examples/sec: 0.544963\n"
     ]
    },
    {
     "output_type": "stream",
     "name": "stdout",
     "text": [
      "INFO:tensorflow:global_step/sec: 0.0331675\n"
     ]
    },
    {
     "output_type": "stream",
     "name": "stderr",
     "text": [
      "I0830 01:26:21.894577  6600 tpu_estimator.py:2159] global_step/sec: 0.0331675\n"
     ]
    },
    {
     "output_type": "stream",
     "name": "stdout",
     "text": [
      "INFO:tensorflow:examples/sec: 0.53068\n"
     ]
    },
    {
     "output_type": "stream",
     "name": "stderr",
     "text": [
      "I0830 01:26:22.019582  6600 tpu_estimator.py:2160] examples/sec: 0.53068\n"
     ]
    },
    {
     "output_type": "stream",
     "name": "stdout",
     "text": [
      "INFO:tensorflow:global_step/sec: 0.0341169\n"
     ]
    },
    {
     "output_type": "stream",
     "name": "stderr",
     "text": [
      "I0830 01:26:51.204578  6600 tpu_estimator.py:2159] global_step/sec: 0.0341169\n"
     ]
    },
    {
     "output_type": "stream",
     "name": "stdout",
     "text": [
      "INFO:tensorflow:examples/sec: 0.54587\n"
     ]
    },
    {
     "output_type": "stream",
     "name": "stderr",
     "text": [
      "I0830 01:26:51.323579  6600 tpu_estimator.py:2160] examples/sec: 0.54587\n"
     ]
    },
    {
     "output_type": "stream",
     "name": "stdout",
     "text": [
      "INFO:tensorflow:global_step/sec: 0.0341239\n"
     ]
    },
    {
     "output_type": "stream",
     "name": "stderr",
     "text": [
      "I0830 01:27:20.507576  6600 tpu_estimator.py:2159] global_step/sec: 0.0341239\n"
     ]
    },
    {
     "output_type": "stream",
     "name": "stdout",
     "text": [
      "INFO:tensorflow:examples/sec: 0.545982\n"
     ]
    },
    {
     "output_type": "stream",
     "name": "stderr",
     "text": [
      "I0830 01:27:20.612577  6600 tpu_estimator.py:2160] examples/sec: 0.545982\n"
     ]
    },
    {
     "output_type": "stream",
     "name": "stdout",
     "text": [
      "INFO:tensorflow:global_step/sec: 0.0334051\n"
     ]
    },
    {
     "output_type": "stream",
     "name": "stderr",
     "text": [
      "I0830 01:27:50.426166  6600 tpu_estimator.py:2159] global_step/sec: 0.0334051\n"
     ]
    },
    {
     "output_type": "stream",
     "name": "stdout",
     "text": [
      "INFO:tensorflow:examples/sec: 0.534481\n"
     ]
    },
    {
     "output_type": "stream",
     "name": "stderr",
     "text": [
      "I0830 01:27:50.457167  6600 tpu_estimator.py:2160] examples/sec: 0.534481\n"
     ]
    },
    {
     "output_type": "stream",
     "name": "stdout",
     "text": [
      "INFO:tensorflow:global_step/sec: 0.0339593\n"
     ]
    },
    {
     "output_type": "stream",
     "name": "stderr",
     "text": [
      "I0830 01:28:19.894167  6600 tpu_estimator.py:2159] global_step/sec: 0.0339593\n"
     ]
    },
    {
     "output_type": "stream",
     "name": "stdout",
     "text": [
      "INFO:tensorflow:examples/sec: 0.543349\n"
     ]
    },
    {
     "output_type": "stream",
     "name": "stderr",
     "text": [
      "I0830 01:28:20.026168  6600 tpu_estimator.py:2160] examples/sec: 0.543349\n"
     ]
    },
    {
     "output_type": "stream",
     "name": "stdout",
     "text": [
      "INFO:tensorflow:global_step/sec: 0.0315209\n"
     ]
    },
    {
     "output_type": "stream",
     "name": "stderr",
     "text": [
      "I0830 01:28:51.599176  6600 tpu_estimator.py:2159] global_step/sec: 0.0315209\n"
     ]
    },
    {
     "output_type": "stream",
     "name": "stdout",
     "text": [
      "INFO:tensorflow:examples/sec: 0.504334\n"
     ]
    },
    {
     "output_type": "stream",
     "name": "stderr",
     "text": [
      "I0830 01:28:51.630178  6600 tpu_estimator.py:2160] examples/sec: 0.504334\n"
     ]
    },
    {
     "output_type": "stream",
     "name": "stdout",
     "text": [
      "INFO:tensorflow:global_step/sec: 0.0341192\n"
     ]
    },
    {
     "output_type": "stream",
     "name": "stderr",
     "text": [
      "I0830 01:29:20.926179  6600 tpu_estimator.py:2159] global_step/sec: 0.0341192\n"
     ]
    },
    {
     "output_type": "stream",
     "name": "stdout",
     "text": [
      "INFO:tensorflow:examples/sec: 0.545907\n"
     ]
    },
    {
     "output_type": "stream",
     "name": "stderr",
     "text": [
      "I0830 01:29:21.046177  6600 tpu_estimator.py:2160] examples/sec: 0.545907\n"
     ]
    },
    {
     "output_type": "stream",
     "name": "stdout",
     "text": [
      "INFO:tensorflow:Saving checkpoints for 584 into ./output/result_dir\\model.ckpt.\n"
     ]
    },
    {
     "output_type": "stream",
     "name": "stderr",
     "text": [
      "I0830 01:29:21.064180  6600 basic_session_run_hooks.py:606] Saving checkpoints for 584 into ./output/result_dir\\model.ckpt.\n"
     ]
    },
    {
     "output_type": "stream",
     "name": "stdout",
     "text": [
      "INFO:tensorflow:Loss for final step: 2.3083134.\n"
     ]
    },
    {
     "output_type": "stream",
     "name": "stderr",
     "text": [
      "I0830 01:29:35.929718  6600 estimator.py:368] Loss for final step: 2.3083134.\n"
     ]
    },
    {
     "output_type": "stream",
     "name": "stdout",
     "text": [
      "INFO:tensorflow:training_loop marked as finished\n"
     ]
    },
    {
     "output_type": "stream",
     "name": "stderr",
     "text": [
      "I0830 01:29:35.995722  6600 error_handling.py:96] training_loop marked as finished\n",
      "I0830 01:29:36.153719  6600 bert_pos.py:334] Writing example 0 of 2\n",
      "I0830 01:29:36.258718  6600 bert_pos.py:311] *** Example ***\n",
      "I0830 01:29:36.261719  6600 bert_pos.py:312] guid: dev-0\n",
      "I0830 01:29:36.263720  6600 bert_pos.py:314] tokens: U ##k ##wen ##ge ##za , um ##the ##th ##o we ##nzi ##we may ##ela ##na nok ##wak ##hi ##wa kwam ##ako ##mid ##i wa ##ma ##wad ##i , njen ##gem ##ikh ##ak ##ha eye ##le ##lis ##ako ef ##aka ab ##aja ##mel ##i bak ##amas ##ipa ##la nebo ##mp ##hak ##ath ##i uk ##oba ##na bak ##ham ##bis ##e ii ##nding ##o zom ##pha ##kat ##hi neem ##pha ##kami ##so ba ##zis ##e ku ##m ##kha ##nd ##lu .\n",
      "I0830 01:29:36.266722  6600 bert_pos.py:315] input_ids: 101 158 10174 19584 10525 10637 117 10293 26900 11143 10133 11951 66395 12577 11387 15108 10219 41376 57482 11924 11037 16418 20293 59881 10116 11471 10369 87051 10116 117 63662 20531 76993 10710 10921 32684 10284 12536 20293 56331 18529 11357 17754 19390 10116 36786 74347 60287 10330 13428 18573 46704 44196 10116 16803 45717 10219 36786 13196 24345 10112 59139 61029 10133 28731 37590 14735 11924 60242 37590 27980 11669 15688 62123 10112 15694 10147 77639 11534 11435 119 0 0 0 0 0 0 0 0 0 0 0 0 0 0 0 0 0 0 0 0 0 0 0 0\n",
      "I0830 01:29:36.268718  6600 bert_pos.py:316] input_mask: 1 1 1 1 1 1 1 1 1 1 1 1 1 1 1 1 1 1 1 1 1 1 1 1 1 1 1 1 1 1 1 1 1 1 1 1 1 1 1 1 1 1 1 1 1 1 1 1 1 1 1 1 1 1 1 1 1 1 1 1 1 1 1 1 1 1 1 1 1 1 1 1 1 1 1 1 1 1 1 1 1 0 0 0 0 0 0 0 0 0 0 0 0 0 0 0 0 0 0 0 0 0 0 0 0\n",
      "I0830 01:29:36.269719  6600 bert_pos.py:317] segment_ids: 0 0 0 0 0 0 0 0 0 0 0 0 0 0 0 0 0 0 0 0 0 0 0 0 0 0 0 0 0 0 0 0 0 0 0 0 0 0 0 0 0 0 0 0 0 0 0 0 0 0 0 0 0 0 0 0 0 0 0 0 0 0 0 0 0 0 0 0 0 0 0 0 0 0 0 0 0 0 0 0 0 0 0 0 0 0 0 0 0 0 0 0 0 0 0 0 0 0 0 0 0 0 0 0 0\n",
      "I0830 01:29:36.270721  6600 bert_pos.py:318] label_ids: 18 16 17 17 17 17 14 10 17 17 17 16 17 17 10 17 17 3 17 17 17 12 17 17 17 12 17 17 17 14 3 17 17 17 17 15 17 17 17 15 17 10 17 17 17 12 17 17 17 3 17 17 17 17 5 17 17 16 17 17 17 10 17 17 12 17 17 17 3 17 17 17 16 17 17 10 17 17 17 17 14 0 0 0 0 0 0 0 0 0 0 0 0 0 0 0 0 0 0 0 0 0 0 0 0\n",
      "I0830 01:29:36.300721  6600 bert_pos.py:311] *** Example ***\n",
      "I0830 01:29:36.301718  6600 bert_pos.py:312] guid: dev-1\n",
      "I0830 01:29:36.303721  6600 bert_pos.py:314] tokens: Ik ##am ##bis ##o ek ##abi ##li yok ##uja ##mele ##ka ku ##ma ##wad ##i nok ##uja ##mele ##ka ng ##ok ##we ##eng ##ceny ##e it ##j ##ho bona im ##ip ##hak ##ath ##i ik ##het ##he ab ##aja ##mel ##i bun ##q ##op ##ha ab ##azi ##phen ##dul ##ela ki ##bo , uk ##uk ##ham ##bis ##a nok ##ut ##j ##hej ##a im ##ibo ##n ##wa ##bo .\n",
      "I0830 01:29:36.304720  6600 bert_pos.py:315] input_ids: 101 74122 11008 24345 10133 16334 62229 10390 99886 25989 81612 10371 15694 10369 87051 10116 41376 25989 81612 10371 10743 11140 12577 23923 81003 10112 10271 10418 10758 45311 10211 17437 46704 44196 10116 47458 13358 11643 11357 17754 19390 10116 59230 11703 13362 10921 11357 28059 60383 42918 15108 10879 11790 117 16803 13013 13196 24345 10113 41376 11159 10418 67587 10113 10211 68514 10115 11037 11790 119 0 0 0 0 0 0 0 0 0 0 0 0 0 0 0 0 0 0 0 0 0 0 0 0 0 0 0 0 0 0 0 0 0 0 0\n",
      "I0830 01:29:36.305720  6600 bert_pos.py:316] input_mask: 1 1 1 1 1 1 1 1 1 1 1 1 1 1 1 1 1 1 1 1 1 1 1 1 1 1 1 1 1 1 1 1 1 1 1 1 1 1 1 1 1 1 1 1 1 1 1 1 1 1 1 1 1 1 1 1 1 1 1 1 1 1 1 1 1 1 1 1 1 1 0 0 0 0 0 0 0 0 0 0 0 0 0 0 0 0 0 0 0 0 0 0 0 0 0 0 0 0 0 0 0 0 0 0 0\n",
      "I0830 01:29:36.307880  6600 bert_pos.py:317] segment_ids: 0 0 0 0 0 0 0 0 0 0 0 0 0 0 0 0 0 0 0 0 0 0 0 0 0 0 0 0 0 0 0 0 0 0 0 0 0 0 0 0 0 0 0 0 0 0 0 0 0 0 0 0 0 0 0 0 0 0 0 0 0 0 0 0 0 0 0 0 0 0 0 0 0 0 0 0 0 0 0 0 0 0 0 0 0 0 0 0 0 0 0 0 0 0 0 0 0 0 0 0 0 0 0 0 0\n",
      "I0830 01:29:36.309723  6600 bert_pos.py:318] label_ids: 18 10 17 17 17 10 17 17 12 17 17 17 12 17 17 17 3 17 17 17 3 17 17 17 17 17 16 17 17 13 10 17 17 17 17 16 17 17 10 17 17 17 6 17 17 17 15 17 17 17 17 12 17 14 10 17 17 17 17 3 17 17 17 17 10 17 17 17 17 14 0 0 0 0 0 0 0 0 0 0 0 0 0 0 0 0 0 0 0 0 0 0 0 0 0 0 0 0 0 0 0 0 0 0 0\n",
      "I0830 01:29:36.313723  6600 bert_pos.py:642] ***** Running evaluation *****\n",
      "I0830 01:29:36.315719  6600 bert_pos.py:643]   Num examples = 2\n",
      "I0830 01:29:36.316720  6600 bert_pos.py:644]   Batch size = 8\n"
     ]
    },
    {
     "output_type": "stream",
     "name": "stdout",
     "text": [
      "INFO:tensorflow:Calling model_fn.\n"
     ]
    },
    {
     "output_type": "stream",
     "name": "stderr",
     "text": [
      "I0830 01:29:36.960719  6600 estimator.py:1145] Calling model_fn.\n"
     ]
    },
    {
     "output_type": "stream",
     "name": "stdout",
     "text": [
      "INFO:tensorflow:Running eval on CPU\n"
     ]
    },
    {
     "output_type": "stream",
     "name": "stderr",
     "text": [
      "I0830 01:29:36.970721  6600 tpu_estimator.py:2965] Running eval on CPU\n",
      "I0830 01:29:36.975720  6600 bert_pos.py:461] *** Features ***\n",
      "I0830 01:29:36.978721  6600 bert_pos.py:463]   name = input_ids, shape = (?, 105)\n",
      "I0830 01:29:36.979719  6600 bert_pos.py:463]   name = label_ids, shape = (?, 105)\n",
      "I0830 01:29:36.981721  6600 bert_pos.py:463]   name = mask, shape = (?, 105)\n",
      "I0830 01:29:36.982720  6600 bert_pos.py:463]   name = segment_ids, shape = (?, 105)\n"
     ]
    },
    {
     "output_type": "stream",
     "name": "stdout",
     "text": [
      "WARNING:tensorflow:Entity <bound method Dense.call of <tensorflow.python.layers.core.Dense object at 0x000001677F5DF788>> could not be transformed and will be executed as-is. Please report this to the AutgoGraph team. When filing the bug, set the verbosity to 10 (on Linux, `export AUTOGRAPH_VERBOSITY=10`) and attach the full output. Cause: converting <bound method Dense.call of <tensorflow.python.layers.core.Dense object at 0x000001677F5DF788>>: AttributeError: module 'gast' has no attribute 'Index'\n"
     ]
    },
    {
     "output_type": "stream",
     "name": "stderr",
     "text": [
      "W0830 01:29:48.243719  6600 ag_logging.py:145] Entity <bound method Dense.call of <tensorflow.python.layers.core.Dense object at 0x000001677F5DF788>> could not be transformed and will be executed as-is. Please report this to the AutgoGraph team. When filing the bug, set the verbosity to 10 (on Linux, `export AUTOGRAPH_VERBOSITY=10`) and attach the full output. Cause: converting <bound method Dense.call of <tensorflow.python.layers.core.Dense object at 0x000001677F5DF788>>: AttributeError: module 'gast' has no attribute 'Index'\n"
     ]
    },
    {
     "output_type": "stream",
     "name": "stdout",
     "text": [
      "WARNING: Entity <bound method Dense.call of <tensorflow.python.layers.core.Dense object at 0x000001677F5DF788>> could not be transformed and will be executed as-is. Please report this to the AutgoGraph team. When filing the bug, set the verbosity to 10 (on Linux, `export AUTOGRAPH_VERBOSITY=10`) and attach the full output. Cause: converting <bound method Dense.call of <tensorflow.python.layers.core.Dense object at 0x000001677F5DF788>>: AttributeError: module 'gast' has no attribute 'Index'\n"
     ]
    },
    {
     "output_type": "stream",
     "name": "stderr",
     "text": [
      "I0830 01:29:52.853724  6600 bert_pos.py:492] **** Trainable Variables ****\n",
      "I0830 01:29:52.855720  6600 bert_pos.py:498]   name = bert/embeddings/word_embeddings:0, shape = (119547, 768), *INIT_FROM_CKPT*\n",
      "I0830 01:29:52.857719  6600 bert_pos.py:498]   name = bert/embeddings/token_type_embeddings:0, shape = (2, 768), *INIT_FROM_CKPT*\n",
      "I0830 01:29:52.859720  6600 bert_pos.py:498]   name = bert/embeddings/position_embeddings:0, shape = (512, 768), *INIT_FROM_CKPT*\n",
      "I0830 01:29:52.860719  6600 bert_pos.py:498]   name = bert/embeddings/LayerNorm/beta:0, shape = (768,), *INIT_FROM_CKPT*\n",
      "I0830 01:29:52.862720  6600 bert_pos.py:498]   name = bert/embeddings/LayerNorm/gamma:0, shape = (768,), *INIT_FROM_CKPT*\n",
      "I0830 01:29:52.864720  6600 bert_pos.py:498]   name = bert/encoder/layer_0/attention/self/query/kernel:0, shape = (768, 768), *INIT_FROM_CKPT*\n",
      "I0830 01:29:52.865721  6600 bert_pos.py:498]   name = bert/encoder/layer_0/attention/self/query/bias:0, shape = (768,), *INIT_FROM_CKPT*\n",
      "I0830 01:29:52.867720  6600 bert_pos.py:498]   name = bert/encoder/layer_0/attention/self/key/kernel:0, shape = (768, 768), *INIT_FROM_CKPT*\n",
      "I0830 01:29:52.868723  6600 bert_pos.py:498]   name = bert/encoder/layer_0/attention/self/key/bias:0, shape = (768,), *INIT_FROM_CKPT*\n",
      "I0830 01:29:52.870722  6600 bert_pos.py:498]   name = bert/encoder/layer_0/attention/self/value/kernel:0, shape = (768, 768), *INIT_FROM_CKPT*\n",
      "I0830 01:29:52.871721  6600 bert_pos.py:498]   name = bert/encoder/layer_0/attention/self/value/bias:0, shape = (768,), *INIT_FROM_CKPT*\n",
      "I0830 01:29:52.873721  6600 bert_pos.py:498]   name = bert/encoder/layer_0/attention/output/dense/kernel:0, shape = (768, 768), *INIT_FROM_CKPT*\n",
      "I0830 01:29:52.874721  6600 bert_pos.py:498]   name = bert/encoder/layer_0/attention/output/dense/bias:0, shape = (768,), *INIT_FROM_CKPT*\n",
      "I0830 01:29:52.875721  6600 bert_pos.py:498]   name = bert/encoder/layer_0/attention/output/LayerNorm/beta:0, shape = (768,), *INIT_FROM_CKPT*\n",
      "I0830 01:29:52.877724  6600 bert_pos.py:498]   name = bert/encoder/layer_0/attention/output/LayerNorm/gamma:0, shape = (768,), *INIT_FROM_CKPT*\n",
      "I0830 01:29:52.879722  6600 bert_pos.py:498]   name = bert/encoder/layer_0/intermediate/dense/kernel:0, shape = (768, 3072), *INIT_FROM_CKPT*\n",
      "I0830 01:29:52.880720  6600 bert_pos.py:498]   name = bert/encoder/layer_0/intermediate/dense/bias:0, shape = (3072,), *INIT_FROM_CKPT*\n",
      "I0830 01:29:52.882720  6600 bert_pos.py:498]   name = bert/encoder/layer_0/output/dense/kernel:0, shape = (3072, 768), *INIT_FROM_CKPT*\n",
      "I0830 01:29:52.883719  6600 bert_pos.py:498]   name = bert/encoder/layer_0/output/dense/bias:0, shape = (768,), *INIT_FROM_CKPT*\n",
      "I0830 01:29:52.884721  6600 bert_pos.py:498]   name = bert/encoder/layer_0/output/LayerNorm/beta:0, shape = (768,), *INIT_FROM_CKPT*\n",
      "I0830 01:29:52.886720  6600 bert_pos.py:498]   name = bert/encoder/layer_0/output/LayerNorm/gamma:0, shape = (768,), *INIT_FROM_CKPT*\n",
      "I0830 01:29:52.887720  6600 bert_pos.py:498]   name = bert/encoder/layer_1/attention/self/query/kernel:0, shape = (768, 768), *INIT_FROM_CKPT*\n",
      "I0830 01:29:52.889720  6600 bert_pos.py:498]   name = bert/encoder/layer_1/attention/self/query/bias:0, shape = (768,), *INIT_FROM_CKPT*\n",
      "I0830 01:29:52.890721  6600 bert_pos.py:498]   name = bert/encoder/layer_1/attention/self/key/kernel:0, shape = (768, 768), *INIT_FROM_CKPT*\n",
      "I0830 01:29:52.891721  6600 bert_pos.py:498]   name = bert/encoder/layer_1/attention/self/key/bias:0, shape = (768,), *INIT_FROM_CKPT*\n",
      "I0830 01:29:52.894721  6600 bert_pos.py:498]   name = bert/encoder/layer_1/attention/self/value/kernel:0, shape = (768, 768), *INIT_FROM_CKPT*\n",
      "I0830 01:29:52.895728  6600 bert_pos.py:498]   name = bert/encoder/layer_1/attention/self/value/bias:0, shape = (768,), *INIT_FROM_CKPT*\n",
      "I0830 01:29:52.897722  6600 bert_pos.py:498]   name = bert/encoder/layer_1/attention/output/dense/kernel:0, shape = (768, 768), *INIT_FROM_CKPT*\n",
      "I0830 01:29:52.898722  6600 bert_pos.py:498]   name = bert/encoder/layer_1/attention/output/dense/bias:0, shape = (768,), *INIT_FROM_CKPT*\n",
      "I0830 01:29:52.899719  6600 bert_pos.py:498]   name = bert/encoder/layer_1/attention/output/LayerNorm/beta:0, shape = (768,), *INIT_FROM_CKPT*\n",
      "I0830 01:29:52.901720  6600 bert_pos.py:498]   name = bert/encoder/layer_1/attention/output/LayerNorm/gamma:0, shape = (768,), *INIT_FROM_CKPT*\n",
      "I0830 01:29:52.902719  6600 bert_pos.py:498]   name = bert/encoder/layer_1/intermediate/dense/kernel:0, shape = (768, 3072), *INIT_FROM_CKPT*\n",
      "I0830 01:29:52.903719  6600 bert_pos.py:498]   name = bert/encoder/layer_1/intermediate/dense/bias:0, shape = (3072,), *INIT_FROM_CKPT*\n",
      "I0830 01:29:52.904719  6600 bert_pos.py:498]   name = bert/encoder/layer_1/output/dense/kernel:0, shape = (3072, 768), *INIT_FROM_CKPT*\n",
      "I0830 01:29:52.906719  6600 bert_pos.py:498]   name = bert/encoder/layer_1/output/dense/bias:0, shape = (768,), *INIT_FROM_CKPT*\n",
      "I0830 01:29:52.907718  6600 bert_pos.py:498]   name = bert/encoder/layer_1/output/LayerNorm/beta:0, shape = (768,), *INIT_FROM_CKPT*\n",
      "I0830 01:29:52.910060  6600 bert_pos.py:498]   name = bert/encoder/layer_1/output/LayerNorm/gamma:0, shape = (768,), *INIT_FROM_CKPT*\n",
      "I0830 01:29:52.910719  6600 bert_pos.py:498]   name = bert/encoder/layer_2/attention/self/query/kernel:0, shape = (768, 768), *INIT_FROM_CKPT*\n",
      "I0830 01:29:52.912721  6600 bert_pos.py:498]   name = bert/encoder/layer_2/attention/self/query/bias:0, shape = (768,), *INIT_FROM_CKPT*\n",
      "I0830 01:29:52.913720  6600 bert_pos.py:498]   name = bert/encoder/layer_2/attention/self/key/kernel:0, shape = (768, 768), *INIT_FROM_CKPT*\n",
      "I0830 01:29:52.915721  6600 bert_pos.py:498]   name = bert/encoder/layer_2/attention/self/key/bias:0, shape = (768,), *INIT_FROM_CKPT*\n",
      "I0830 01:29:52.917719  6600 bert_pos.py:498]   name = bert/encoder/layer_2/attention/self/value/kernel:0, shape = (768, 768), *INIT_FROM_CKPT*\n",
      "I0830 01:29:52.918719  6600 bert_pos.py:498]   name = bert/encoder/layer_2/attention/self/value/bias:0, shape = (768,), *INIT_FROM_CKPT*\n",
      "I0830 01:29:52.920722  6600 bert_pos.py:498]   name = bert/encoder/layer_2/attention/output/dense/kernel:0, shape = (768, 768), *INIT_FROM_CKPT*\n",
      "I0830 01:29:52.925719  6600 bert_pos.py:498]   name = bert/encoder/layer_2/attention/output/dense/bias:0, shape = (768,), *INIT_FROM_CKPT*\n",
      "I0830 01:29:52.927720  6600 bert_pos.py:498]   name = bert/encoder/layer_2/attention/output/LayerNorm/beta:0, shape = (768,), *INIT_FROM_CKPT*\n",
      "I0830 01:29:52.928722  6600 bert_pos.py:498]   name = bert/encoder/layer_2/attention/output/LayerNorm/gamma:0, shape = (768,), *INIT_FROM_CKPT*\n",
      "I0830 01:29:52.930722  6600 bert_pos.py:498]   name = bert/encoder/layer_2/intermediate/dense/kernel:0, shape = (768, 3072), *INIT_FROM_CKPT*\n",
      "I0830 01:29:52.931721  6600 bert_pos.py:498]   name = bert/encoder/layer_2/intermediate/dense/bias:0, shape = (3072,), *INIT_FROM_CKPT*\n",
      "I0830 01:29:52.933720  6600 bert_pos.py:498]   name = bert/encoder/layer_2/output/dense/kernel:0, shape = (3072, 768), *INIT_FROM_CKPT*\n",
      "I0830 01:29:52.934720  6600 bert_pos.py:498]   name = bert/encoder/layer_2/output/dense/bias:0, shape = (768,), *INIT_FROM_CKPT*\n",
      "I0830 01:29:52.935720  6600 bert_pos.py:498]   name = bert/encoder/layer_2/output/LayerNorm/beta:0, shape = (768,), *INIT_FROM_CKPT*\n",
      "I0830 01:29:52.937720  6600 bert_pos.py:498]   name = bert/encoder/layer_2/output/LayerNorm/gamma:0, shape = (768,), *INIT_FROM_CKPT*\n",
      "I0830 01:29:52.938718  6600 bert_pos.py:498]   name = bert/encoder/layer_3/attention/self/query/kernel:0, shape = (768, 768), *INIT_FROM_CKPT*\n",
      "I0830 01:29:52.940718  6600 bert_pos.py:498]   name = bert/encoder/layer_3/attention/self/query/bias:0, shape = (768,), *INIT_FROM_CKPT*\n",
      "I0830 01:29:52.941720  6600 bert_pos.py:498]   name = bert/encoder/layer_3/attention/self/key/kernel:0, shape = (768, 768), *INIT_FROM_CKPT*\n",
      "I0830 01:29:52.943721  6600 bert_pos.py:498]   name = bert/encoder/layer_3/attention/self/key/bias:0, shape = (768,), *INIT_FROM_CKPT*\n",
      "I0830 01:29:52.944721  6600 bert_pos.py:498]   name = bert/encoder/layer_3/attention/self/value/kernel:0, shape = (768, 768), *INIT_FROM_CKPT*\n",
      "I0830 01:29:52.945721  6600 bert_pos.py:498]   name = bert/encoder/layer_3/attention/self/value/bias:0, shape = (768,), *INIT_FROM_CKPT*\n",
      "I0830 01:29:52.947722  6600 bert_pos.py:498]   name = bert/encoder/layer_3/attention/output/dense/kernel:0, shape = (768, 768), *INIT_FROM_CKPT*\n",
      "I0830 01:29:52.948720  6600 bert_pos.py:498]   name = bert/encoder/layer_3/attention/output/dense/bias:0, shape = (768,), *INIT_FROM_CKPT*\n",
      "I0830 01:29:52.949718  6600 bert_pos.py:498]   name = bert/encoder/layer_3/attention/output/LayerNorm/beta:0, shape = (768,), *INIT_FROM_CKPT*\n",
      "I0830 01:29:52.950721  6600 bert_pos.py:498]   name = bert/encoder/layer_3/attention/output/LayerNorm/gamma:0, shape = (768,), *INIT_FROM_CKPT*\n",
      "I0830 01:29:52.952719  6600 bert_pos.py:498]   name = bert/encoder/layer_3/intermediate/dense/kernel:0, shape = (768, 3072), *INIT_FROM_CKPT*\n",
      "I0830 01:29:52.953720  6600 bert_pos.py:498]   name = bert/encoder/layer_3/intermediate/dense/bias:0, shape = (3072,), *INIT_FROM_CKPT*\n",
      "I0830 01:29:52.954720  6600 bert_pos.py:498]   name = bert/encoder/layer_3/output/dense/kernel:0, shape = (3072, 768), *INIT_FROM_CKPT*\n",
      "I0830 01:29:52.956721  6600 bert_pos.py:498]   name = bert/encoder/layer_3/output/dense/bias:0, shape = (768,), *INIT_FROM_CKPT*\n",
      "I0830 01:29:52.958729  6600 bert_pos.py:498]   name = bert/encoder/layer_3/output/LayerNorm/beta:0, shape = (768,), *INIT_FROM_CKPT*\n",
      "I0830 01:29:52.960719  6600 bert_pos.py:498]   name = bert/encoder/layer_3/output/LayerNorm/gamma:0, shape = (768,), *INIT_FROM_CKPT*\n",
      "I0830 01:29:52.961720  6600 bert_pos.py:498]   name = bert/encoder/layer_4/attention/self/query/kernel:0, shape = (768, 768), *INIT_FROM_CKPT*\n",
      "I0830 01:29:52.962720  6600 bert_pos.py:498]   name = bert/encoder/layer_4/attention/self/query/bias:0, shape = (768,), *INIT_FROM_CKPT*\n",
      "I0830 01:29:52.964720  6600 bert_pos.py:498]   name = bert/encoder/layer_4/attention/self/key/kernel:0, shape = (768, 768), *INIT_FROM_CKPT*\n",
      "I0830 01:29:52.965718  6600 bert_pos.py:498]   name = bert/encoder/layer_4/attention/self/key/bias:0, shape = (768,), *INIT_FROM_CKPT*\n",
      "I0830 01:29:52.967721  6600 bert_pos.py:498]   name = bert/encoder/layer_4/attention/self/value/kernel:0, shape = (768, 768), *INIT_FROM_CKPT*\n",
      "I0830 01:29:52.968719  6600 bert_pos.py:498]   name = bert/encoder/layer_4/attention/self/value/bias:0, shape = (768,), *INIT_FROM_CKPT*\n",
      "I0830 01:29:52.969720  6600 bert_pos.py:498]   name = bert/encoder/layer_4/attention/output/dense/kernel:0, shape = (768, 768), *INIT_FROM_CKPT*\n",
      "I0830 01:29:52.971719  6600 bert_pos.py:498]   name = bert/encoder/layer_4/attention/output/dense/bias:0, shape = (768,), *INIT_FROM_CKPT*\n",
      "I0830 01:29:52.972720  6600 bert_pos.py:498]   name = bert/encoder/layer_4/attention/output/LayerNorm/beta:0, shape = (768,), *INIT_FROM_CKPT*\n",
      "I0830 01:29:52.974721  6600 bert_pos.py:498]   name = bert/encoder/layer_4/attention/output/LayerNorm/gamma:0, shape = (768,), *INIT_FROM_CKPT*\n",
      "I0830 01:29:52.975721  6600 bert_pos.py:498]   name = bert/encoder/layer_4/intermediate/dense/kernel:0, shape = (768, 3072), *INIT_FROM_CKPT*\n",
      "I0830 01:29:52.977720  6600 bert_pos.py:498]   name = bert/encoder/layer_4/intermediate/dense/bias:0, shape = (3072,), *INIT_FROM_CKPT*\n",
      "I0830 01:29:52.978722  6600 bert_pos.py:498]   name = bert/encoder/layer_4/output/dense/kernel:0, shape = (3072, 768), *INIT_FROM_CKPT*\n",
      "I0830 01:29:52.979722  6600 bert_pos.py:498]   name = bert/encoder/layer_4/output/dense/bias:0, shape = (768,), *INIT_FROM_CKPT*\n",
      "I0830 01:29:52.980719  6600 bert_pos.py:498]   name = bert/encoder/layer_4/output/LayerNorm/beta:0, shape = (768,), *INIT_FROM_CKPT*\n",
      "I0830 01:29:52.981722  6600 bert_pos.py:498]   name = bert/encoder/layer_4/output/LayerNorm/gamma:0, shape = (768,), *INIT_FROM_CKPT*\n",
      "I0830 01:29:52.983722  6600 bert_pos.py:498]   name = bert/encoder/layer_5/attention/self/query/kernel:0, shape = (768, 768), *INIT_FROM_CKPT*\n",
      "I0830 01:29:52.984718  6600 bert_pos.py:498]   name = bert/encoder/layer_5/attention/self/query/bias:0, shape = (768,), *INIT_FROM_CKPT*\n",
      "I0830 01:29:52.986720  6600 bert_pos.py:498]   name = bert/encoder/layer_5/attention/self/key/kernel:0, shape = (768, 768), *INIT_FROM_CKPT*\n",
      "I0830 01:29:52.988720  6600 bert_pos.py:498]   name = bert/encoder/layer_5/attention/self/key/bias:0, shape = (768,), *INIT_FROM_CKPT*\n",
      "I0830 01:29:52.990720  6600 bert_pos.py:498]   name = bert/encoder/layer_5/attention/self/value/kernel:0, shape = (768, 768), *INIT_FROM_CKPT*\n",
      "I0830 01:29:52.991719  6600 bert_pos.py:498]   name = bert/encoder/layer_5/attention/self/value/bias:0, shape = (768,), *INIT_FROM_CKPT*\n",
      "I0830 01:29:52.993719  6600 bert_pos.py:498]   name = bert/encoder/layer_5/attention/output/dense/kernel:0, shape = (768, 768), *INIT_FROM_CKPT*\n",
      "I0830 01:29:52.994720  6600 bert_pos.py:498]   name = bert/encoder/layer_5/attention/output/dense/bias:0, shape = (768,), *INIT_FROM_CKPT*\n",
      "I0830 01:29:52.996721  6600 bert_pos.py:498]   name = bert/encoder/layer_5/attention/output/LayerNorm/beta:0, shape = (768,), *INIT_FROM_CKPT*\n",
      "I0830 01:29:52.997720  6600 bert_pos.py:498]   name = bert/encoder/layer_5/attention/output/LayerNorm/gamma:0, shape = (768,), *INIT_FROM_CKPT*\n",
      "I0830 01:29:52.998718  6600 bert_pos.py:498]   name = bert/encoder/layer_5/intermediate/dense/kernel:0, shape = (768, 3072), *INIT_FROM_CKPT*\n",
      "I0830 01:29:52.999720  6600 bert_pos.py:498]   name = bert/encoder/layer_5/intermediate/dense/bias:0, shape = (3072,), *INIT_FROM_CKPT*\n",
      "I0830 01:29:53.001720  6600 bert_pos.py:498]   name = bert/encoder/layer_5/output/dense/kernel:0, shape = (3072, 768), *INIT_FROM_CKPT*\n",
      "I0830 01:29:53.002722  6600 bert_pos.py:498]   name = bert/encoder/layer_5/output/dense/bias:0, shape = (768,), *INIT_FROM_CKPT*\n",
      "I0830 01:29:53.004720  6600 bert_pos.py:498]   name = bert/encoder/layer_5/output/LayerNorm/beta:0, shape = (768,), *INIT_FROM_CKPT*\n",
      "I0830 01:29:53.005721  6600 bert_pos.py:498]   name = bert/encoder/layer_5/output/LayerNorm/gamma:0, shape = (768,), *INIT_FROM_CKPT*\n",
      "I0830 01:29:53.007721  6600 bert_pos.py:498]   name = bert/encoder/layer_6/attention/self/query/kernel:0, shape = (768, 768), *INIT_FROM_CKPT*\n",
      "I0830 01:29:53.008719  6600 bert_pos.py:498]   name = bert/encoder/layer_6/attention/self/query/bias:0, shape = (768,), *INIT_FROM_CKPT*\n",
      "I0830 01:29:53.010722  6600 bert_pos.py:498]   name = bert/encoder/layer_6/attention/self/key/kernel:0, shape = (768, 768), *INIT_FROM_CKPT*\n",
      "I0830 01:29:53.011722  6600 bert_pos.py:498]   name = bert/encoder/layer_6/attention/self/key/bias:0, shape = (768,), *INIT_FROM_CKPT*\n",
      "I0830 01:29:53.013722  6600 bert_pos.py:498]   name = bert/encoder/layer_6/attention/self/value/kernel:0, shape = (768, 768), *INIT_FROM_CKPT*\n",
      "I0830 01:29:53.014720  6600 bert_pos.py:498]   name = bert/encoder/layer_6/attention/self/value/bias:0, shape = (768,), *INIT_FROM_CKPT*\n",
      "I0830 01:29:53.016720  6600 bert_pos.py:498]   name = bert/encoder/layer_6/attention/output/dense/kernel:0, shape = (768, 768), *INIT_FROM_CKPT*\n",
      "I0830 01:29:53.017721  6600 bert_pos.py:498]   name = bert/encoder/layer_6/attention/output/dense/bias:0, shape = (768,), *INIT_FROM_CKPT*\n",
      "I0830 01:29:53.019955  6600 bert_pos.py:498]   name = bert/encoder/layer_6/attention/output/LayerNorm/beta:0, shape = (768,), *INIT_FROM_CKPT*\n",
      "I0830 01:29:53.020718  6600 bert_pos.py:498]   name = bert/encoder/layer_6/attention/output/LayerNorm/gamma:0, shape = (768,), *INIT_FROM_CKPT*\n",
      "I0830 01:29:53.022722  6600 bert_pos.py:498]   name = bert/encoder/layer_6/intermediate/dense/kernel:0, shape = (768, 3072), *INIT_FROM_CKPT*\n",
      "I0830 01:29:53.023721  6600 bert_pos.py:498]   name = bert/encoder/layer_6/intermediate/dense/bias:0, shape = (3072,), *INIT_FROM_CKPT*\n",
      "I0830 01:29:53.025722  6600 bert_pos.py:498]   name = bert/encoder/layer_6/output/dense/kernel:0, shape = (3072, 768), *INIT_FROM_CKPT*\n",
      "I0830 01:29:53.026719  6600 bert_pos.py:498]   name = bert/encoder/layer_6/output/dense/bias:0, shape = (768,), *INIT_FROM_CKPT*\n",
      "I0830 01:29:53.028718  6600 bert_pos.py:498]   name = bert/encoder/layer_6/output/LayerNorm/beta:0, shape = (768,), *INIT_FROM_CKPT*\n",
      "I0830 01:29:53.029719  6600 bert_pos.py:498]   name = bert/encoder/layer_6/output/LayerNorm/gamma:0, shape = (768,), *INIT_FROM_CKPT*\n",
      "I0830 01:29:53.031719  6600 bert_pos.py:498]   name = bert/encoder/layer_7/attention/self/query/kernel:0, shape = (768, 768), *INIT_FROM_CKPT*\n",
      "I0830 01:29:53.033720  6600 bert_pos.py:498]   name = bert/encoder/layer_7/attention/self/query/bias:0, shape = (768,), *INIT_FROM_CKPT*\n",
      "I0830 01:29:53.034721  6600 bert_pos.py:498]   name = bert/encoder/layer_7/attention/self/key/kernel:0, shape = (768, 768), *INIT_FROM_CKPT*\n",
      "I0830 01:29:53.037720  6600 bert_pos.py:498]   name = bert/encoder/layer_7/attention/self/key/bias:0, shape = (768,), *INIT_FROM_CKPT*\n",
      "I0830 01:29:53.039721  6600 bert_pos.py:498]   name = bert/encoder/layer_7/attention/self/value/kernel:0, shape = (768, 768), *INIT_FROM_CKPT*\n",
      "I0830 01:29:53.043721  6600 bert_pos.py:498]   name = bert/encoder/layer_7/attention/self/value/bias:0, shape = (768,), *INIT_FROM_CKPT*\n",
      "I0830 01:29:53.044720  6600 bert_pos.py:498]   name = bert/encoder/layer_7/attention/output/dense/kernel:0, shape = (768, 768), *INIT_FROM_CKPT*\n",
      "I0830 01:29:53.045719  6600 bert_pos.py:498]   name = bert/encoder/layer_7/attention/output/dense/bias:0, shape = (768,), *INIT_FROM_CKPT*\n",
      "I0830 01:29:53.048721  6600 bert_pos.py:498]   name = bert/encoder/layer_7/attention/output/LayerNorm/beta:0, shape = (768,), *INIT_FROM_CKPT*\n",
      "I0830 01:29:53.050721  6600 bert_pos.py:498]   name = bert/encoder/layer_7/attention/output/LayerNorm/gamma:0, shape = (768,), *INIT_FROM_CKPT*\n",
      "I0830 01:29:53.054721  6600 bert_pos.py:498]   name = bert/encoder/layer_7/intermediate/dense/kernel:0, shape = (768, 3072), *INIT_FROM_CKPT*\n",
      "I0830 01:29:53.055720  6600 bert_pos.py:498]   name = bert/encoder/layer_7/intermediate/dense/bias:0, shape = (3072,), *INIT_FROM_CKPT*\n",
      "I0830 01:29:53.056719  6600 bert_pos.py:498]   name = bert/encoder/layer_7/output/dense/kernel:0, shape = (3072, 768), *INIT_FROM_CKPT*\n",
      "I0830 01:29:53.058721  6600 bert_pos.py:498]   name = bert/encoder/layer_7/output/dense/bias:0, shape = (768,), *INIT_FROM_CKPT*\n",
      "I0830 01:29:53.059721  6600 bert_pos.py:498]   name = bert/encoder/layer_7/output/LayerNorm/beta:0, shape = (768,), *INIT_FROM_CKPT*\n",
      "I0830 01:29:53.060718  6600 bert_pos.py:498]   name = bert/encoder/layer_7/output/LayerNorm/gamma:0, shape = (768,), *INIT_FROM_CKPT*\n",
      "I0830 01:29:53.061720  6600 bert_pos.py:498]   name = bert/encoder/layer_8/attention/self/query/kernel:0, shape = (768, 768), *INIT_FROM_CKPT*\n",
      "I0830 01:29:53.063720  6600 bert_pos.py:498]   name = bert/encoder/layer_8/attention/self/query/bias:0, shape = (768,), *INIT_FROM_CKPT*\n",
      "I0830 01:29:53.064719  6600 bert_pos.py:498]   name = bert/encoder/layer_8/attention/self/key/kernel:0, shape = (768, 768), *INIT_FROM_CKPT*\n",
      "I0830 01:29:53.065720  6600 bert_pos.py:498]   name = bert/encoder/layer_8/attention/self/key/bias:0, shape = (768,), *INIT_FROM_CKPT*\n",
      "I0830 01:29:53.067720  6600 bert_pos.py:498]   name = bert/encoder/layer_8/attention/self/value/kernel:0, shape = (768, 768), *INIT_FROM_CKPT*\n",
      "I0830 01:29:53.068720  6600 bert_pos.py:498]   name = bert/encoder/layer_8/attention/self/value/bias:0, shape = (768,), *INIT_FROM_CKPT*\n",
      "I0830 01:29:53.070721  6600 bert_pos.py:498]   name = bert/encoder/layer_8/attention/output/dense/kernel:0, shape = (768, 768), *INIT_FROM_CKPT*\n",
      "I0830 01:29:53.071718  6600 bert_pos.py:498]   name = bert/encoder/layer_8/attention/output/dense/bias:0, shape = (768,), *INIT_FROM_CKPT*\n",
      "I0830 01:29:53.073720  6600 bert_pos.py:498]   name = bert/encoder/layer_8/attention/output/LayerNorm/beta:0, shape = (768,), *INIT_FROM_CKPT*\n",
      "I0830 01:29:53.074721  6600 bert_pos.py:498]   name = bert/encoder/layer_8/attention/output/LayerNorm/gamma:0, shape = (768,), *INIT_FROM_CKPT*\n",
      "I0830 01:29:53.075723  6600 bert_pos.py:498]   name = bert/encoder/layer_8/intermediate/dense/kernel:0, shape = (768, 3072), *INIT_FROM_CKPT*\n",
      "I0830 01:29:53.076720  6600 bert_pos.py:498]   name = bert/encoder/layer_8/intermediate/dense/bias:0, shape = (3072,), *INIT_FROM_CKPT*\n",
      "I0830 01:29:53.077721  6600 bert_pos.py:498]   name = bert/encoder/layer_8/output/dense/kernel:0, shape = (3072, 768), *INIT_FROM_CKPT*\n",
      "I0830 01:29:53.079722  6600 bert_pos.py:498]   name = bert/encoder/layer_8/output/dense/bias:0, shape = (768,), *INIT_FROM_CKPT*\n",
      "I0830 01:29:53.084722  6600 bert_pos.py:498]   name = bert/encoder/layer_8/output/LayerNorm/beta:0, shape = (768,), *INIT_FROM_CKPT*\n",
      "I0830 01:29:53.086723  6600 bert_pos.py:498]   name = bert/encoder/layer_8/output/LayerNorm/gamma:0, shape = (768,), *INIT_FROM_CKPT*\n",
      "I0830 01:29:53.087722  6600 bert_pos.py:498]   name = bert/encoder/layer_9/attention/self/query/kernel:0, shape = (768, 768), *INIT_FROM_CKPT*\n",
      "I0830 01:29:53.089721  6600 bert_pos.py:498]   name = bert/encoder/layer_9/attention/self/query/bias:0, shape = (768,), *INIT_FROM_CKPT*\n",
      "I0830 01:29:53.090719  6600 bert_pos.py:498]   name = bert/encoder/layer_9/attention/self/key/kernel:0, shape = (768, 768), *INIT_FROM_CKPT*\n",
      "I0830 01:29:53.091719  6600 bert_pos.py:498]   name = bert/encoder/layer_9/attention/self/key/bias:0, shape = (768,), *INIT_FROM_CKPT*\n",
      "I0830 01:29:53.092719  6600 bert_pos.py:498]   name = bert/encoder/layer_9/attention/self/value/kernel:0, shape = (768, 768), *INIT_FROM_CKPT*\n",
      "I0830 01:29:53.094721  6600 bert_pos.py:498]   name = bert/encoder/layer_9/attention/self/value/bias:0, shape = (768,), *INIT_FROM_CKPT*\n",
      "I0830 01:29:53.095720  6600 bert_pos.py:498]   name = bert/encoder/layer_9/attention/output/dense/kernel:0, shape = (768, 768), *INIT_FROM_CKPT*\n",
      "I0830 01:29:53.097720  6600 bert_pos.py:498]   name = bert/encoder/layer_9/attention/output/dense/bias:0, shape = (768,), *INIT_FROM_CKPT*\n",
      "I0830 01:29:53.098721  6600 bert_pos.py:498]   name = bert/encoder/layer_9/attention/output/LayerNorm/beta:0, shape = (768,), *INIT_FROM_CKPT*\n",
      "I0830 01:29:53.100722  6600 bert_pos.py:498]   name = bert/encoder/layer_9/attention/output/LayerNorm/gamma:0, shape = (768,), *INIT_FROM_CKPT*\n",
      "I0830 01:29:53.102722  6600 bert_pos.py:498]   name = bert/encoder/layer_9/intermediate/dense/kernel:0, shape = (768, 3072), *INIT_FROM_CKPT*\n",
      "I0830 01:29:53.103724  6600 bert_pos.py:498]   name = bert/encoder/layer_9/intermediate/dense/bias:0, shape = (3072,), *INIT_FROM_CKPT*\n",
      "I0830 01:29:53.105720  6600 bert_pos.py:498]   name = bert/encoder/layer_9/output/dense/kernel:0, shape = (3072, 768), *INIT_FROM_CKPT*\n",
      "I0830 01:29:53.106720  6600 bert_pos.py:498]   name = bert/encoder/layer_9/output/dense/bias:0, shape = (768,), *INIT_FROM_CKPT*\n",
      "I0830 01:29:53.108720  6600 bert_pos.py:498]   name = bert/encoder/layer_9/output/LayerNorm/beta:0, shape = (768,), *INIT_FROM_CKPT*\n",
      "I0830 01:29:53.109721  6600 bert_pos.py:498]   name = bert/encoder/layer_9/output/LayerNorm/gamma:0, shape = (768,), *INIT_FROM_CKPT*\n",
      "I0830 01:29:53.110721  6600 bert_pos.py:498]   name = bert/encoder/layer_10/attention/self/query/kernel:0, shape = (768, 768), *INIT_FROM_CKPT*\n",
      "I0830 01:29:53.112721  6600 bert_pos.py:498]   name = bert/encoder/layer_10/attention/self/query/bias:0, shape = (768,), *INIT_FROM_CKPT*\n",
      "I0830 01:29:53.113720  6600 bert_pos.py:498]   name = bert/encoder/layer_10/attention/self/key/kernel:0, shape = (768, 768), *INIT_FROM_CKPT*\n",
      "I0830 01:29:53.115722  6600 bert_pos.py:498]   name = bert/encoder/layer_10/attention/self/key/bias:0, shape = (768,), *INIT_FROM_CKPT*\n",
      "I0830 01:29:53.117723  6600 bert_pos.py:498]   name = bert/encoder/layer_10/attention/self/value/kernel:0, shape = (768, 768), *INIT_FROM_CKPT*\n",
      "I0830 01:29:53.118720  6600 bert_pos.py:498]   name = bert/encoder/layer_10/attention/self/value/bias:0, shape = (768,), *INIT_FROM_CKPT*\n",
      "I0830 01:29:53.120721  6600 bert_pos.py:498]   name = bert/encoder/layer_10/attention/output/dense/kernel:0, shape = (768, 768), *INIT_FROM_CKPT*\n",
      "I0830 01:29:53.121720  6600 bert_pos.py:498]   name = bert/encoder/layer_10/attention/output/dense/bias:0, shape = (768,), *INIT_FROM_CKPT*\n",
      "I0830 01:29:53.122721  6600 bert_pos.py:498]   name = bert/encoder/layer_10/attention/output/LayerNorm/beta:0, shape = (768,), *INIT_FROM_CKPT*\n",
      "I0830 01:29:53.123720  6600 bert_pos.py:498]   name = bert/encoder/layer_10/attention/output/LayerNorm/gamma:0, shape = (768,), *INIT_FROM_CKPT*\n",
      "I0830 01:29:53.125720  6600 bert_pos.py:498]   name = bert/encoder/layer_10/intermediate/dense/kernel:0, shape = (768, 3072), *INIT_FROM_CKPT*\n",
      "I0830 01:29:53.126720  6600 bert_pos.py:498]   name = bert/encoder/layer_10/intermediate/dense/bias:0, shape = (3072,), *INIT_FROM_CKPT*\n",
      "I0830 01:29:53.128720  6600 bert_pos.py:498]   name = bert/encoder/layer_10/output/dense/kernel:0, shape = (3072, 768), *INIT_FROM_CKPT*\n",
      "I0830 01:29:53.129719  6600 bert_pos.py:498]   name = bert/encoder/layer_10/output/dense/bias:0, shape = (768,), *INIT_FROM_CKPT*\n",
      "I0830 01:29:53.131721  6600 bert_pos.py:498]   name = bert/encoder/layer_10/output/LayerNorm/beta:0, shape = (768,), *INIT_FROM_CKPT*\n",
      "I0830 01:29:53.132719  6600 bert_pos.py:498]   name = bert/encoder/layer_10/output/LayerNorm/gamma:0, shape = (768,), *INIT_FROM_CKPT*\n",
      "I0830 01:29:53.134721  6600 bert_pos.py:498]   name = bert/encoder/layer_11/attention/self/query/kernel:0, shape = (768, 768), *INIT_FROM_CKPT*\n",
      "I0830 01:29:53.135720  6600 bert_pos.py:498]   name = bert/encoder/layer_11/attention/self/query/bias:0, shape = (768,), *INIT_FROM_CKPT*\n",
      "I0830 01:29:53.137722  6600 bert_pos.py:498]   name = bert/encoder/layer_11/attention/self/key/kernel:0, shape = (768, 768), *INIT_FROM_CKPT*\n",
      "I0830 01:29:53.138720  6600 bert_pos.py:498]   name = bert/encoder/layer_11/attention/self/key/bias:0, shape = (768,), *INIT_FROM_CKPT*\n",
      "I0830 01:29:53.139721  6600 bert_pos.py:498]   name = bert/encoder/layer_11/attention/self/value/kernel:0, shape = (768, 768), *INIT_FROM_CKPT*\n",
      "I0830 01:29:53.140723  6600 bert_pos.py:498]   name = bert/encoder/layer_11/attention/self/value/bias:0, shape = (768,), *INIT_FROM_CKPT*\n",
      "I0830 01:29:53.142722  6600 bert_pos.py:498]   name = bert/encoder/layer_11/attention/output/dense/kernel:0, shape = (768, 768), *INIT_FROM_CKPT*\n",
      "I0830 01:29:53.143719  6600 bert_pos.py:498]   name = bert/encoder/layer_11/attention/output/dense/bias:0, shape = (768,), *INIT_FROM_CKPT*\n",
      "I0830 01:29:53.145722  6600 bert_pos.py:498]   name = bert/encoder/layer_11/attention/output/LayerNorm/beta:0, shape = (768,), *INIT_FROM_CKPT*\n",
      "I0830 01:29:53.146720  6600 bert_pos.py:498]   name = bert/encoder/layer_11/attention/output/LayerNorm/gamma:0, shape = (768,), *INIT_FROM_CKPT*\n",
      "I0830 01:29:53.148720  6600 bert_pos.py:498]   name = bert/encoder/layer_11/intermediate/dense/kernel:0, shape = (768, 3072), *INIT_FROM_CKPT*\n",
      "I0830 01:29:53.150722  6600 bert_pos.py:498]   name = bert/encoder/layer_11/intermediate/dense/bias:0, shape = (3072,), *INIT_FROM_CKPT*\n",
      "I0830 01:29:53.151721  6600 bert_pos.py:498]   name = bert/encoder/layer_11/output/dense/kernel:0, shape = (3072, 768), *INIT_FROM_CKPT*\n",
      "I0830 01:29:53.153720  6600 bert_pos.py:498]   name = bert/encoder/layer_11/output/dense/bias:0, shape = (768,), *INIT_FROM_CKPT*\n",
      "I0830 01:29:53.154721  6600 bert_pos.py:498]   name = bert/encoder/layer_11/output/LayerNorm/beta:0, shape = (768,), *INIT_FROM_CKPT*\n",
      "I0830 01:29:53.155721  6600 bert_pos.py:498]   name = bert/encoder/layer_11/output/LayerNorm/gamma:0, shape = (768,), *INIT_FROM_CKPT*\n",
      "I0830 01:29:53.157723  6600 bert_pos.py:498]   name = bert/pooler/dense/kernel:0, shape = (768, 768), *INIT_FROM_CKPT*\n",
      "I0830 01:29:53.158720  6600 bert_pos.py:498]   name = bert/pooler/dense/bias:0, shape = (768,), *INIT_FROM_CKPT*\n",
      "I0830 01:29:53.160722  6600 bert_pos.py:498]   name = dense_1/kernel:0, shape = (768, 20)\n",
      "I0830 01:29:53.161720  6600 bert_pos.py:498]   name = dense_1/bias:0, shape = (20,)\n",
      "I0830 01:29:53.163721  6600 bert_pos.py:498]   name = crf_loss/transition:0, shape = (20, 20)\n"
     ]
    },
    {
     "output_type": "stream",
     "name": "stdout",
     "text": [
      "WARNING:tensorflow:From c:\\Users\\dell\\Desktop\\nlp\\pos-tagger-bert-tensorflow-master\\metrics.py:82: to_int64 (from tensorflow.python.ops.math_ops) is deprecated and will be removed in a future version.\n",
      "Instructions for updating:\n",
      "Use `tf.cast` instead.\n"
     ]
    },
    {
     "output_type": "stream",
     "name": "stderr",
     "text": [
      "W0830 01:29:53.187721  6600 deprecation.py:323] From c:\\Users\\dell\\Desktop\\nlp\\pos-tagger-bert-tensorflow-master\\metrics.py:82: to_int64 (from tensorflow.python.ops.math_ops) is deprecated and will be removed in a future version.\n",
      "Instructions for updating:\n",
      "Use `tf.cast` instead.\n"
     ]
    },
    {
     "output_type": "stream",
     "name": "stdout",
     "text": [
      "INFO:tensorflow:Done calling model_fn.\n"
     ]
    },
    {
     "output_type": "stream",
     "name": "stderr",
     "text": [
      "I0830 01:29:53.472719  6600 estimator.py:1147] Done calling model_fn.\n"
     ]
    },
    {
     "output_type": "stream",
     "name": "stdout",
     "text": [
      "INFO:tensorflow:Starting evaluation at 2021-08-30T01:29:53Z\n"
     ]
    },
    {
     "output_type": "stream",
     "name": "stderr",
     "text": [
      "I0830 01:29:53.522722  6600 evaluation.py:255] Starting evaluation at 2021-08-30T01:29:53Z\n"
     ]
    },
    {
     "output_type": "stream",
     "name": "stdout",
     "text": [
      "INFO:tensorflow:Graph was finalized.\n"
     ]
    },
    {
     "output_type": "stream",
     "name": "stderr",
     "text": [
      "I0830 01:29:54.968720  6600 monitored_session.py:240] Graph was finalized.\n"
     ]
    },
    {
     "output_type": "stream",
     "name": "stdout",
     "text": [
      "INFO:tensorflow:Restoring parameters from ./output/result_dir\\model.ckpt-584\n"
     ]
    },
    {
     "output_type": "stream",
     "name": "stderr",
     "text": [
      "I0830 01:29:54.982719  6600 saver.py:1280] Restoring parameters from ./output/result_dir\\model.ckpt-584\n"
     ]
    },
    {
     "output_type": "stream",
     "name": "stdout",
     "text": [
      "INFO:tensorflow:Running local_init_op.\n"
     ]
    },
    {
     "output_type": "stream",
     "name": "stderr",
     "text": [
      "I0830 01:29:57.687719  6600 session_manager.py:500] Running local_init_op.\n"
     ]
    },
    {
     "output_type": "stream",
     "name": "stdout",
     "text": [
      "INFO:tensorflow:Done running local_init_op.\n"
     ]
    },
    {
     "output_type": "stream",
     "name": "stderr",
     "text": [
      "I0830 01:29:57.985722  6600 session_manager.py:502] Done running local_init_op.\n"
     ]
    },
    {
     "output_type": "stream",
     "name": "stdout",
     "text": [
      "INFO:tensorflow:Finished evaluation at 2021-08-30-01:30:04\n"
     ]
    },
    {
     "output_type": "stream",
     "name": "stderr",
     "text": [
      "I0830 01:30:04.067723  6600 evaluation.py:275] Finished evaluation at 2021-08-30-01:30:04\n"
     ]
    },
    {
     "output_type": "stream",
     "name": "stdout",
     "text": [
      "INFO:tensorflow:Saving dict for global step 584: confusion_matrix = [[  0.   0.   0.   0.   0.   0.   0.   0.   0.   0.   0.   0.   0.   0.\n",
      "    0.   0.   0.   0.   0.   0.]\n",
      " [  0.   0.   0.   0.   0.   0.   0.   0.   0.   0.   0.   0.   0.   0.\n",
      "    0.   0.   0.   0.   0.   0.]\n",
      " [  0.   0.   0.   0.   0.   0.   0.   0.   0.   0.   0.   0.   0.   0.\n",
      "    0.   0.   0.   0.   0.   0.]\n",
      " [  0.   0.   0.   7.   0.   0.   0.   0.   0.   0.   0.   0.   0.   0.\n",
      "    0.   0.   0.   0.   0.   0.]\n",
      " [  0.   0.   0.   0.   0.   0.   0.   0.   0.   0.   0.   0.   0.   0.\n",
      "    0.   0.   0.   0.   0.   0.]\n",
      " [  0.   0.   0.   0.   0.   1.   0.   0.   0.   0.   0.   0.   0.   0.\n",
      "    0.   0.   0.   0.   0.   0.]\n",
      " [  0.   0.   0.   0.   0.   0.   1.   0.   0.   0.   0.   0.   0.   0.\n",
      "    0.   0.   0.   0.   0.   0.]\n",
      " [  0.   0.   0.   0.   0.   0.   0.   0.   0.   0.   0.   0.   0.   0.\n",
      "    0.   0.   0.   0.   0.   0.]\n",
      " [  0.   0.   0.   0.   0.   0.   0.   0.   0.   0.   0.   0.   0.   0.\n",
      "    0.   0.   0.   0.   0.   0.]\n",
      " [  0.   0.   0.   0.   0.   0.   0.   0.   0.   0.   0.   0.   0.   0.\n",
      "    0.   0.   0.   0.   0.   0.]\n",
      " [  0.   0.   0.   0.   0.   0.   0.   0.   0.   0.  10.   0.   0.   0.\n",
      "    0.   1.   0.   0.   0.   0.]\n",
      " [  0.   0.   0.   0.   0.   0.   0.   0.   0.   0.   0.   0.   0.   0.\n",
      "    0.   0.   0.   0.   0.   0.]\n",
      " [  0.   0.   0.   0.   0.   0.   0.   0.   0.   0.   1.   0.   5.   1.\n",
      "    0.   0.   0.   0.   0.   0.]\n",
      " [  0.   0.   0.   0.   0.   0.   0.   0.   0.   0.   0.   0.   0.   1.\n",
      "    0.   0.   0.   0.   0.   0.]\n",
      " [  0.   0.   0.   0.   0.   0.   0.   0.   0.   0.   0.   0.   0.   0.\n",
      "    5.   0.   0.   0.   0.   0.]\n",
      " [  0.   0.   0.   0.   0.   0.   0.   0.   0.   0.   0.   0.   0.   0.\n",
      "    0.   3.   0.   0.   0.   0.]\n",
      " [  0.   0.   0.   0.   0.   0.   0.   0.   0.   0.   1.   0.   0.   0.\n",
      "    0.   0.   5.   0.   0.   0.]\n",
      " [  0.   0.   0.   0.   0.   0.   0.   0.   0.   0.   0.   0.   0.   0.\n",
      "    0.   0.   0. 107.   0.   0.]\n",
      " [  0.   0.   0.   0.   0.   0.   0.   0.   0.   0.   0.   0.   0.   0.\n",
      "    0.   0.   0.   0.   2.   0.]\n",
      " [  0.   0.   0.   0.   0.   0.   0.   0.   0.   0.   0.   0.   0.   0.\n",
      "    0.   0.   0.   0.   0.   0.]], global_step = 584, loss = 4.2303467\n"
     ]
    },
    {
     "output_type": "stream",
     "name": "stderr",
     "text": [
      "I0830 01:30:04.084722  6600 estimator.py:2039] Saving dict for global step 584: confusion_matrix = [[  0.   0.   0.   0.   0.   0.   0.   0.   0.   0.   0.   0.   0.   0.\n",
      "    0.   0.   0.   0.   0.   0.]\n",
      " [  0.   0.   0.   0.   0.   0.   0.   0.   0.   0.   0.   0.   0.   0.\n",
      "    0.   0.   0.   0.   0.   0.]\n",
      " [  0.   0.   0.   0.   0.   0.   0.   0.   0.   0.   0.   0.   0.   0.\n",
      "    0.   0.   0.   0.   0.   0.]\n",
      " [  0.   0.   0.   7.   0.   0.   0.   0.   0.   0.   0.   0.   0.   0.\n",
      "    0.   0.   0.   0.   0.   0.]\n",
      " [  0.   0.   0.   0.   0.   0.   0.   0.   0.   0.   0.   0.   0.   0.\n",
      "    0.   0.   0.   0.   0.   0.]\n",
      " [  0.   0.   0.   0.   0.   1.   0.   0.   0.   0.   0.   0.   0.   0.\n",
      "    0.   0.   0.   0.   0.   0.]\n",
      " [  0.   0.   0.   0.   0.   0.   1.   0.   0.   0.   0.   0.   0.   0.\n",
      "    0.   0.   0.   0.   0.   0.]\n",
      " [  0.   0.   0.   0.   0.   0.   0.   0.   0.   0.   0.   0.   0.   0.\n",
      "    0.   0.   0.   0.   0.   0.]\n",
      " [  0.   0.   0.   0.   0.   0.   0.   0.   0.   0.   0.   0.   0.   0.\n",
      "    0.   0.   0.   0.   0.   0.]\n",
      " [  0.   0.   0.   0.   0.   0.   0.   0.   0.   0.   0.   0.   0.   0.\n",
      "    0.   0.   0.   0.   0.   0.]\n",
      " [  0.   0.   0.   0.   0.   0.   0.   0.   0.   0.  10.   0.   0.   0.\n",
      "    0.   1.   0.   0.   0.   0.]\n",
      " [  0.   0.   0.   0.   0.   0.   0.   0.   0.   0.   0.   0.   0.   0.\n",
      "    0.   0.   0.   0.   0.   0.]\n",
      " [  0.   0.   0.   0.   0.   0.   0.   0.   0.   0.   1.   0.   5.   1.\n",
      "    0.   0.   0.   0.   0.   0.]\n",
      " [  0.   0.   0.   0.   0.   0.   0.   0.   0.   0.   0.   0.   0.   1.\n",
      "    0.   0.   0.   0.   0.   0.]\n",
      " [  0.   0.   0.   0.   0.   0.   0.   0.   0.   0.   0.   0.   0.   0.\n",
      "    5.   0.   0.   0.   0.   0.]\n",
      " [  0.   0.   0.   0.   0.   0.   0.   0.   0.   0.   0.   0.   0.   0.\n",
      "    0.   3.   0.   0.   0.   0.]\n",
      " [  0.   0.   0.   0.   0.   0.   0.   0.   0.   0.   1.   0.   0.   0.\n",
      "    0.   0.   5.   0.   0.   0.]\n",
      " [  0.   0.   0.   0.   0.   0.   0.   0.   0.   0.   0.   0.   0.   0.\n",
      "    0.   0.   0. 107.   0.   0.]\n",
      " [  0.   0.   0.   0.   0.   0.   0.   0.   0.   0.   0.   0.   0.   0.\n",
      "    0.   0.   0.   0.   2.   0.]\n",
      " [  0.   0.   0.   0.   0.   0.   0.   0.   0.   0.   0.   0.   0.   0.\n",
      "    0.   0.   0.   0.   0.   0.]], global_step = 584, loss = 4.2303467\n"
     ]
    },
    {
     "output_type": "stream",
     "name": "stdout",
     "text": [
      "INFO:tensorflow:Summary for np.ndarray is not visible in Tensorboard by default. Consider using a Tensorboard plugin for visualization (see https://github.com/tensorflow/tensorboard-plugin-example/blob/master/README.md for more information).\n"
     ]
    },
    {
     "output_type": "stream",
     "name": "stderr",
     "text": [
      "I0830 01:30:06.785720  6600 estimator.py:2072] Summary for np.ndarray is not visible in Tensorboard by default. Consider using a Tensorboard plugin for visualization (see https://github.com/tensorflow/tensorboard-plugin-example/blob/master/README.md for more information).\n"
     ]
    },
    {
     "output_type": "stream",
     "name": "stdout",
     "text": [
      "INFO:tensorflow:Saving 'checkpoint_path' summary for global step 584: ./output/result_dir\\model.ckpt-584\n"
     ]
    },
    {
     "output_type": "stream",
     "name": "stderr",
     "text": [
      "I0830 01:30:06.797720  6600 estimator.py:2099] Saving 'checkpoint_path' summary for global step 584: ./output/result_dir\\model.ckpt-584\n"
     ]
    },
    {
     "output_type": "stream",
     "name": "stdout",
     "text": [
      "INFO:tensorflow:evaluation_loop marked as finished\n"
     ]
    },
    {
     "output_type": "stream",
     "name": "stderr",
     "text": [
      "I0830 01:30:06.802721  6600 error_handling.py:96] evaluation_loop marked as finished\n",
      "I0830 01:30:06.808719  6600 bert_pos.py:656] ***** Eval results *****\n",
      "I0830 01:30:06.814720  6600 bert_pos.py:659] ***********************************************\n",
      "I0830 01:30:06.815720  6600 bert_pos.py:660] ********************P = 0.530701754385767*********************\n",
      "I0830 01:30:06.817722  6600 bert_pos.py:661] ********************R = 0.5503531556160762*********************\n",
      "I0830 01:30:06.819725  6600 bert_pos.py:662] ********************F = 0.5334631044008281*********************\n",
      "I0830 01:30:06.820720  6600 bert_pos.py:663] ***********************************************\n"
     ]
    },
    {
     "output_type": "stream",
     "name": "stdout",
     "text": [
      "WARNING:tensorflow:From c:\\Users\\dell\\Desktop\\nlp\\pos-tagger-bert-tensorflow-master\\bert_pos.py:665: The name tf.gfile.GFile is deprecated. Please use tf.io.gfile.GFile instead.\n",
      "\n"
     ]
    },
    {
     "output_type": "stream",
     "name": "stderr",
     "text": [
      "W0830 01:30:06.822722  6600 deprecation_wrapper.py:119] From c:\\Users\\dell\\Desktop\\nlp\\pos-tagger-bert-tensorflow-master\\bert_pos.py:665: The name tf.gfile.GFile is deprecated. Please use tf.io.gfile.GFile instead.\n",
      "\n"
     ]
    },
    {
     "output_type": "stream",
     "name": "stdout",
     "text": [
      "WARNING:tensorflow:From c:\\Users\\dell\\Desktop\\nlp\\pos-tagger-bert-tensorflow-master\\bert_pos.py:666: The name tf.logging.info is deprecated. Please use tf.compat.v1.logging.info instead.\n",
      "\n"
     ]
    },
    {
     "output_type": "stream",
     "name": "stderr",
     "text": [
      "W0830 01:30:06.825719  6600 deprecation_wrapper.py:119] From c:\\Users\\dell\\Desktop\\nlp\\pos-tagger-bert-tensorflow-master\\bert_pos.py:666: The name tf.logging.info is deprecated. Please use tf.compat.v1.logging.info instead.\n",
      "\n"
     ]
    },
    {
     "output_type": "stream",
     "name": "stdout",
     "text": [
      "INFO:tensorflow:***** Eval results *****\n"
     ]
    },
    {
     "output_type": "stream",
     "name": "stderr",
     "text": [
      "I0830 01:30:06.827720  6600 bert_pos.py:666] ***** Eval results *****\n"
     ]
    },
    {
     "output_type": "stream",
     "name": "stdout",
     "text": [
      "INFO:tensorflow:  confusion_matrix = [[  0.   0.   0.   0.   0.   0.   0.   0.   0.   0.   0.   0.   0.   0.\n",
      "    0.   0.   0.   0.   0.   0.]\n",
      " [  0.   0.   0.   0.   0.   0.   0.   0.   0.   0.   0.   0.   0.   0.\n",
      "    0.   0.   0.   0.   0.   0.]\n",
      " [  0.   0.   0.   0.   0.   0.   0.   0.   0.   0.   0.   0.   0.   0.\n",
      "    0.   0.   0.   0.   0.   0.]\n",
      " [  0.   0.   0.   7.   0.   0.   0.   0.   0.   0.   0.   0.   0.   0.\n",
      "    0.   0.   0.   0.   0.   0.]\n",
      " [  0.   0.   0.   0.   0.   0.   0.   0.   0.   0.   0.   0.   0.   0.\n",
      "    0.   0.   0.   0.   0.   0.]\n",
      " [  0.   0.   0.   0.   0.   1.   0.   0.   0.   0.   0.   0.   0.   0.\n",
      "    0.   0.   0.   0.   0.   0.]\n",
      " [  0.   0.   0.   0.   0.   0.   1.   0.   0.   0.   0.   0.   0.   0.\n",
      "    0.   0.   0.   0.   0.   0.]\n",
      " [  0.   0.   0.   0.   0.   0.   0.   0.   0.   0.   0.   0.   0.   0.\n",
      "    0.   0.   0.   0.   0.   0.]\n",
      " [  0.   0.   0.   0.   0.   0.   0.   0.   0.   0.   0.   0.   0.   0.\n",
      "    0.   0.   0.   0.   0.   0.]\n",
      " [  0.   0.   0.   0.   0.   0.   0.   0.   0.   0.   0.   0.   0.   0.\n",
      "    0.   0.   0.   0.   0.   0.]\n",
      " [  0.   0.   0.   0.   0.   0.   0.   0.   0.   0.  10.   0.   0.   0.\n",
      "    0.   1.   0.   0.   0.   0.]\n",
      " [  0.   0.   0.   0.   0.   0.   0.   0.   0.   0.   0.   0.   0.   0.\n",
      "    0.   0.   0.   0.   0.   0.]\n",
      " [  0.   0.   0.   0.   0.   0.   0.   0.   0.   0.   1.   0.   5.   1.\n",
      "    0.   0.   0.   0.   0.   0.]\n",
      " [  0.   0.   0.   0.   0.   0.   0.   0.   0.   0.   0.   0.   0.   1.\n",
      "    0.   0.   0.   0.   0.   0.]\n",
      " [  0.   0.   0.   0.   0.   0.   0.   0.   0.   0.   0.   0.   0.   0.\n",
      "    5.   0.   0.   0.   0.   0.]\n",
      " [  0.   0.   0.   0.   0.   0.   0.   0.   0.   0.   0.   0.   0.   0.\n",
      "    0.   3.   0.   0.   0.   0.]\n",
      " [  0.   0.   0.   0.   0.   0.   0.   0.   0.   0.   1.   0.   0.   0.\n",
      "    0.   0.   5.   0.   0.   0.]\n",
      " [  0.   0.   0.   0.   0.   0.   0.   0.   0.   0.   0.   0.   0.   0.\n",
      "    0.   0.   0. 107.   0.   0.]\n",
      " [  0.   0.   0.   0.   0.   0.   0.   0.   0.   0.   0.   0.   0.   0.\n",
      "    0.   0.   0.   0.   2.   0.]\n",
      " [  0.   0.   0.   0.   0.   0.   0.   0.   0.   0.   0.   0.   0.   0.\n",
      "    0.   0.   0.   0.   0.   0.]]\n"
     ]
    },
    {
     "output_type": "stream",
     "name": "stderr",
     "text": [
      "I0830 01:30:06.840719  6600 bert_pos.py:668]   confusion_matrix = [[  0.   0.   0.   0.   0.   0.   0.   0.   0.   0.   0.   0.   0.   0.\n",
      "    0.   0.   0.   0.   0.   0.]\n",
      " [  0.   0.   0.   0.   0.   0.   0.   0.   0.   0.   0.   0.   0.   0.\n",
      "    0.   0.   0.   0.   0.   0.]\n",
      " [  0.   0.   0.   0.   0.   0.   0.   0.   0.   0.   0.   0.   0.   0.\n",
      "    0.   0.   0.   0.   0.   0.]\n",
      " [  0.   0.   0.   7.   0.   0.   0.   0.   0.   0.   0.   0.   0.   0.\n",
      "    0.   0.   0.   0.   0.   0.]\n",
      " [  0.   0.   0.   0.   0.   0.   0.   0.   0.   0.   0.   0.   0.   0.\n",
      "    0.   0.   0.   0.   0.   0.]\n",
      " [  0.   0.   0.   0.   0.   1.   0.   0.   0.   0.   0.   0.   0.   0.\n",
      "    0.   0.   0.   0.   0.   0.]\n",
      " [  0.   0.   0.   0.   0.   0.   1.   0.   0.   0.   0.   0.   0.   0.\n",
      "    0.   0.   0.   0.   0.   0.]\n",
      " [  0.   0.   0.   0.   0.   0.   0.   0.   0.   0.   0.   0.   0.   0.\n",
      "    0.   0.   0.   0.   0.   0.]\n",
      " [  0.   0.   0.   0.   0.   0.   0.   0.   0.   0.   0.   0.   0.   0.\n",
      "    0.   0.   0.   0.   0.   0.]\n",
      " [  0.   0.   0.   0.   0.   0.   0.   0.   0.   0.   0.   0.   0.   0.\n",
      "    0.   0.   0.   0.   0.   0.]\n",
      " [  0.   0.   0.   0.   0.   0.   0.   0.   0.   0.  10.   0.   0.   0.\n",
      "    0.   1.   0.   0.   0.   0.]\n",
      " [  0.   0.   0.   0.   0.   0.   0.   0.   0.   0.   0.   0.   0.   0.\n",
      "    0.   0.   0.   0.   0.   0.]\n",
      " [  0.   0.   0.   0.   0.   0.   0.   0.   0.   0.   1.   0.   5.   1.\n",
      "    0.   0.   0.   0.   0.   0.]\n",
      " [  0.   0.   0.   0.   0.   0.   0.   0.   0.   0.   0.   0.   0.   1.\n",
      "    0.   0.   0.   0.   0.   0.]\n",
      " [  0.   0.   0.   0.   0.   0.   0.   0.   0.   0.   0.   0.   0.   0.\n",
      "    5.   0.   0.   0.   0.   0.]\n",
      " [  0.   0.   0.   0.   0.   0.   0.   0.   0.   0.   0.   0.   0.   0.\n",
      "    0.   3.   0.   0.   0.   0.]\n",
      " [  0.   0.   0.   0.   0.   0.   0.   0.   0.   0.   1.   0.   0.   0.\n",
      "    0.   0.   5.   0.   0.   0.]\n",
      " [  0.   0.   0.   0.   0.   0.   0.   0.   0.   0.   0.   0.   0.   0.\n",
      "    0.   0.   0. 107.   0.   0.]\n",
      " [  0.   0.   0.   0.   0.   0.   0.   0.   0.   0.   0.   0.   0.   0.\n",
      "    0.   0.   0.   0.   2.   0.]\n",
      " [  0.   0.   0.   0.   0.   0.   0.   0.   0.   0.   0.   0.   0.   0.\n",
      "    0.   0.   0.   0.   0.   0.]]\n"
     ]
    },
    {
     "output_type": "stream",
     "name": "stdout",
     "text": [
      "INFO:tensorflow:  global_step = 584\n"
     ]
    },
    {
     "output_type": "stream",
     "name": "stderr",
     "text": [
      "I0830 01:30:06.854722  6600 bert_pos.py:668]   global_step = 584\n"
     ]
    },
    {
     "output_type": "stream",
     "name": "stdout",
     "text": [
      "INFO:tensorflow:  loss = 4.2303467\n"
     ]
    },
    {
     "output_type": "stream",
     "name": "stderr",
     "text": [
      "I0830 01:30:06.857722  6600 bert_pos.py:668]   loss = 4.2303467\n",
      "I0830 01:30:06.938720  6600 bert_pos.py:334] Writing example 0 of 413\n",
      "I0830 01:30:06.944720  6600 bert_pos.py:311] *** Example ***\n",
      "I0830 01:30:06.946721  6600 bert_pos.py:312] guid: test-0\n",
      "I0830 01:30:06.948722  6600 bert_pos.py:314] tokens: Be ##go ##du ama ##bh ##izi ##nis ##i at ##sh ##wen ##yek ##ile nga ##mat ##j ##hu ##gul ##uko wo ##m ##gom ##o ne ##bh ##odu ##luk ##o lo ##kula ##wu ##la eli ##nga ##pha ##kami ##sa ii ##nd ##lek ##o .\n",
      "I0830 01:30:06.949721  6600 bert_pos.py:315] input_ids: 101 14321 10797 11460 28149 39554 42985 12597 10116 10160 13264 19584 73713 12808 10184 17480 10418 13723 45837 39084 12796 10147 72757 10133 10554 39554 27752 29596 10133 10406 58889 40054 10330 18166 18161 37590 27980 10466 59139 11534 26776 10133 119 0 0 0 0 0 0 0 0 0 0 0 0 0 0 0 0 0 0 0 0 0 0 0 0 0 0 0 0 0 0 0 0 0 0 0 0 0 0 0 0 0 0 0 0 0 0 0 0 0 0 0 0 0 0 0 0 0 0 0 0 0 0\n",
      "I0830 01:30:06.951720  6600 bert_pos.py:316] input_mask: 1 1 1 1 1 1 1 1 1 1 1 1 1 1 1 1 1 1 1 1 1 1 1 1 1 1 1 1 1 1 1 1 1 1 1 1 1 1 1 1 1 1 1 0 0 0 0 0 0 0 0 0 0 0 0 0 0 0 0 0 0 0 0 0 0 0 0 0 0 0 0 0 0 0 0 0 0 0 0 0 0 0 0 0 0 0 0 0 0 0 0 0 0 0 0 0 0 0 0 0 0 0 0 0 0\n",
      "I0830 01:30:06.953720  6600 bert_pos.py:317] segment_ids: 0 0 0 0 0 0 0 0 0 0 0 0 0 0 0 0 0 0 0 0 0 0 0 0 0 0 0 0 0 0 0 0 0 0 0 0 0 0 0 0 0 0 0 0 0 0 0 0 0 0 0 0 0 0 0 0 0 0 0 0 0 0 0 0 0 0 0 0 0 0 0 0 0 0 0 0 0 0 0 0 0 0 0 0 0 0 0 0 0 0 0 0 0 0 0 0 0 0 0 0 0 0 0 0 0\n",
      "I0830 01:30:06.955725  6600 bert_pos.py:318] label_ids: 18 5 17 17 10 17 17 17 17 15 17 17 17 17 3 17 17 17 17 17 12 17 17 17 3 17 17 17 17 15 17 17 17 15 17 17 17 17 10 17 17 17 14 0 0 0 0 0 0 0 0 0 0 0 0 0 0 0 0 0 0 0 0 0 0 0 0 0 0 0 0 0 0 0 0 0 0 0 0 0 0 0 0 0 0 0 0 0 0 0 0 0 0 0 0 0 0 0 0 0 0 0 0 0 0\n",
      "I0830 01:30:06.963720  6600 bert_pos.py:311] *** Example ***\n",
      "I0830 01:30:06.966720  6600 bert_pos.py:312] guid: test-1\n",
      "I0830 01:30:06.968721  6600 bert_pos.py:314] tokens: UK ##U ##Z ##E K ##U ##Q ##IN ##ISE ##KI ##S ##W ##E UK ##U ##GC ##INE ##KA K ##W ##ET ##UT ##H ##U ##KO , ku ##yat ##lho ##ge ##ka uk ##uv ##uma uk ##u ##qa ##kat ##he ##ka ko ##bul ##ili obu ##bili obu ##njen ##ge ##zin ##to ez ##izi ##jame ##lek ##o ne ##zen ##ge ##zel ##ela ##nak ##o ng ##ok ##web ##hay ##oloji .\n",
      "I0830 01:30:06.970720  6600 bert_pos.py:315] input_ids: 101 10523 12022 13966 11259 148 12022 19282 27128 90569 59879 10731 13034 11259 10523 12022 54889 83198 67813 148 13034 52338 65729 12396 12022 57277 117 15694 25985 50403 10525 10371 16803 67000 16746 16803 10138 35102 14735 11643 10371 11252 50400 13784 52968 18043 52968 93894 10525 19325 10340 13112 42985 79812 26776 10133 10554 11985 10525 19432 15108 12728 10133 10743 11140 51943 49537 65357 119 0 0 0 0 0 0 0 0 0 0 0 0 0 0 0 0 0 0 0 0 0 0 0 0 0 0 0 0 0 0 0 0 0 0 0 0\n",
      "I0830 01:30:06.971723  6600 bert_pos.py:316] input_mask: 1 1 1 1 1 1 1 1 1 1 1 1 1 1 1 1 1 1 1 1 1 1 1 1 1 1 1 1 1 1 1 1 1 1 1 1 1 1 1 1 1 1 1 1 1 1 1 1 1 1 1 1 1 1 1 1 1 1 1 1 1 1 1 1 1 1 1 1 1 0 0 0 0 0 0 0 0 0 0 0 0 0 0 0 0 0 0 0 0 0 0 0 0 0 0 0 0 0 0 0 0 0 0 0 0\n",
      "I0830 01:30:06.974721  6600 bert_pos.py:317] segment_ids: 0 0 0 0 0 0 0 0 0 0 0 0 0 0 0 0 0 0 0 0 0 0 0 0 0 0 0 0 0 0 0 0 0 0 0 0 0 0 0 0 0 0 0 0 0 0 0 0 0 0 0 0 0 0 0 0 0 0 0 0 0 0 0 0 0 0 0 0 0 0 0 0 0 0 0 0 0 0 0 0 0 0 0 0 0 0 0 0 0 0 0 0 0 0 0 0 0 0 0 0 0 0 0 0 0\n",
      "I0830 01:30:06.976721  6600 bert_pos.py:318] label_ids: 18 10 17 17 17 10 17 17 17 17 17 17 17 17 10 17 17 17 17 12 17 17 17 17 17 17 14 10 17 17 17 17 10 17 17 16 17 17 17 17 17 12 17 17 2 17 10 17 17 17 17 15 17 17 17 17 3 17 17 17 17 17 17 12 17 17 17 17 14 0 0 0 0 0 0 0 0 0 0 0 0 0 0 0 0 0 0 0 0 0 0 0 0 0 0 0 0 0 0 0 0 0 0 0 0\n",
      "I0830 01:30:06.982722  6600 bert_pos.py:311] *** Example ***\n",
      "I0830 01:30:06.983721  6600 bert_pos.py:312] guid: test-2\n",
      "I0830 01:30:06.985723  6600 bert_pos.py:314] tokens: Im ##ise ##ben ##zi eni ##kel ##we ##ko i ##yal ##ingan ##ise ##ka yi ##ni nga ##maz ##inga na ? Ik ##oro ye ##zaba ##se ##ben ##zi ese ##ben ##zis ##a ku ##hle amat ##hu ##ba we ##zom ##not ##ho .\n",
      "I0830 01:30:06.986721  6600 bert_pos.py:315] input_ids: 101 10796 13041 10965 11282 51428 14510 12577 10440 177 30024 30408 13041 10371 44418 10342 10184 39125 24906 10132 136 74122 30700 11023 83850 10341 10965 11282 15046 10965 62123 10113 15694 41058 79459 13723 10537 11951 101447 32514 10758 119 0 0 0 0 0 0 0 0 0 0 0 0 0 0 0 0 0 0 0 0 0 0 0 0 0 0 0 0 0 0 0 0 0 0 0 0 0 0 0 0 0 0 0 0 0 0 0 0 0 0 0 0 0 0 0 0 0 0 0 0 0 0 0\n",
      "I0830 01:30:06.988722  6600 bert_pos.py:316] input_mask: 1 1 1 1 1 1 1 1 1 1 1 1 1 1 1 1 1 1 1 1 1 1 1 1 1 1 1 1 1 1 1 1 1 1 1 1 1 1 1 1 1 1 0 0 0 0 0 0 0 0 0 0 0 0 0 0 0 0 0 0 0 0 0 0 0 0 0 0 0 0 0 0 0 0 0 0 0 0 0 0 0 0 0 0 0 0 0 0 0 0 0 0 0 0 0 0 0 0 0 0 0 0 0 0 0\n",
      "I0830 01:30:06.991729  6600 bert_pos.py:317] segment_ids: 0 0 0 0 0 0 0 0 0 0 0 0 0 0 0 0 0 0 0 0 0 0 0 0 0 0 0 0 0 0 0 0 0 0 0 0 0 0 0 0 0 0 0 0 0 0 0 0 0 0 0 0 0 0 0 0 0 0 0 0 0 0 0 0 0 0 0 0 0 0 0 0 0 0 0 0 0 0 0 0 0 0 0 0 0 0 0 0 0 0 0 0 0 0 0 0 0 0 0 0 0 0 0 0 0\n",
      "I0830 01:30:06.993718  6600 bert_pos.py:318] label_ids: 18 10 17 17 17 15 17 17 17 16 17 17 17 17 6 17 3 17 17 9 14 10 17 12 17 17 17 17 15 17 17 17 2 17 10 17 17 12 17 17 17 14 0 0 0 0 0 0 0 0 0 0 0 0 0 0 0 0 0 0 0 0 0 0 0 0 0 0 0 0 0 0 0 0 0 0 0 0 0 0 0 0 0 0 0 0 0 0 0 0 0 0 0 0 0 0 0 0 0 0 0 0 0 0 0\n",
      "I0830 01:30:08.675717  6600 bert_pos.py:685] ***** Running prediction*****\n",
      "I0830 01:30:08.678721  6600 bert_pos.py:686]   Num examples = 413\n",
      "I0830 01:30:08.679722  6600 bert_pos.py:687]   Batch size = 8\n"
     ]
    },
    {
     "output_type": "stream",
     "name": "stdout",
     "text": [
      "INFO:tensorflow:Calling model_fn.\n"
     ]
    },
    {
     "output_type": "stream",
     "name": "stderr",
     "text": [
      "I0830 01:30:08.768717  6600 estimator.py:1145] Calling model_fn.\n"
     ]
    },
    {
     "output_type": "stream",
     "name": "stdout",
     "text": [
      "INFO:tensorflow:Running infer on CPU\n"
     ]
    },
    {
     "output_type": "stream",
     "name": "stderr",
     "text": [
      "I0830 01:30:08.773721  6600 tpu_estimator.py:2965] Running infer on CPU\n",
      "I0830 01:30:08.775719  6600 bert_pos.py:461] *** Features ***\n",
      "I0830 01:30:08.777721  6600 bert_pos.py:463]   name = input_ids, shape = (?, 105)\n",
      "I0830 01:30:08.778721  6600 bert_pos.py:463]   name = label_ids, shape = (?, 105)\n",
      "I0830 01:30:08.779720  6600 bert_pos.py:463]   name = mask, shape = (?, 105)\n",
      "I0830 01:30:08.781722  6600 bert_pos.py:463]   name = segment_ids, shape = (?, 105)\n"
     ]
    },
    {
     "output_type": "stream",
     "name": "stdout",
     "text": [
      "WARNING:tensorflow:Entity <bound method Dense.call of <tensorflow.python.layers.core.Dense object at 0x000001670C098588>> could not be transformed and will be executed as-is. Please report this to the AutgoGraph team. When filing the bug, set the verbosity to 10 (on Linux, `export AUTOGRAPH_VERBOSITY=10`) and attach the full output. Cause: converting <bound method Dense.call of <tensorflow.python.layers.core.Dense object at 0x000001670C098588>>: AttributeError: module 'gast' has no attribute 'Index'\n"
     ]
    },
    {
     "output_type": "stream",
     "name": "stderr",
     "text": [
      "W0830 01:30:19.706717  6600 ag_logging.py:145] Entity <bound method Dense.call of <tensorflow.python.layers.core.Dense object at 0x000001670C098588>> could not be transformed and will be executed as-is. Please report this to the AutgoGraph team. When filing the bug, set the verbosity to 10 (on Linux, `export AUTOGRAPH_VERBOSITY=10`) and attach the full output. Cause: converting <bound method Dense.call of <tensorflow.python.layers.core.Dense object at 0x000001670C098588>>: AttributeError: module 'gast' has no attribute 'Index'\n"
     ]
    },
    {
     "output_type": "stream",
     "name": "stdout",
     "text": [
      "WARNING: Entity <bound method Dense.call of <tensorflow.python.layers.core.Dense object at 0x000001670C098588>> could not be transformed and will be executed as-is. Please report this to the AutgoGraph team. When filing the bug, set the verbosity to 10 (on Linux, `export AUTOGRAPH_VERBOSITY=10`) and attach the full output. Cause: converting <bound method Dense.call of <tensorflow.python.layers.core.Dense object at 0x000001670C098588>>: AttributeError: module 'gast' has no attribute 'Index'\n"
     ]
    },
    {
     "output_type": "stream",
     "name": "stderr",
     "text": [
      "I0830 01:30:24.524723  6600 bert_pos.py:492] **** Trainable Variables ****\n",
      "I0830 01:30:24.526720  6600 bert_pos.py:498]   name = bert/embeddings/word_embeddings:0, shape = (119547, 768), *INIT_FROM_CKPT*\n",
      "I0830 01:30:24.527721  6600 bert_pos.py:498]   name = bert/embeddings/token_type_embeddings:0, shape = (2, 768), *INIT_FROM_CKPT*\n",
      "I0830 01:30:24.528719  6600 bert_pos.py:498]   name = bert/embeddings/position_embeddings:0, shape = (512, 768), *INIT_FROM_CKPT*\n",
      "I0830 01:30:24.531721  6600 bert_pos.py:498]   name = bert/embeddings/LayerNorm/beta:0, shape = (768,), *INIT_FROM_CKPT*\n",
      "I0830 01:30:24.532720  6600 bert_pos.py:498]   name = bert/embeddings/LayerNorm/gamma:0, shape = (768,), *INIT_FROM_CKPT*\n",
      "I0830 01:30:24.534723  6600 bert_pos.py:498]   name = bert/encoder/layer_0/attention/self/query/kernel:0, shape = (768, 768), *INIT_FROM_CKPT*\n",
      "I0830 01:30:24.538720  6600 bert_pos.py:498]   name = bert/encoder/layer_0/attention/self/query/bias:0, shape = (768,), *INIT_FROM_CKPT*\n",
      "I0830 01:30:24.539723  6600 bert_pos.py:498]   name = bert/encoder/layer_0/attention/self/key/kernel:0, shape = (768, 768), *INIT_FROM_CKPT*\n",
      "I0830 01:30:24.541722  6600 bert_pos.py:498]   name = bert/encoder/layer_0/attention/self/key/bias:0, shape = (768,), *INIT_FROM_CKPT*\n",
      "I0830 01:30:24.542721  6600 bert_pos.py:498]   name = bert/encoder/layer_0/attention/self/value/kernel:0, shape = (768, 768), *INIT_FROM_CKPT*\n",
      "I0830 01:30:24.544721  6600 bert_pos.py:498]   name = bert/encoder/layer_0/attention/self/value/bias:0, shape = (768,), *INIT_FROM_CKPT*\n",
      "I0830 01:30:24.546724  6600 bert_pos.py:498]   name = bert/encoder/layer_0/attention/output/dense/kernel:0, shape = (768, 768), *INIT_FROM_CKPT*\n",
      "I0830 01:30:24.548720  6600 bert_pos.py:498]   name = bert/encoder/layer_0/attention/output/dense/bias:0, shape = (768,), *INIT_FROM_CKPT*\n",
      "I0830 01:30:24.549720  6600 bert_pos.py:498]   name = bert/encoder/layer_0/attention/output/LayerNorm/beta:0, shape = (768,), *INIT_FROM_CKPT*\n",
      "I0830 01:30:24.551723  6600 bert_pos.py:498]   name = bert/encoder/layer_0/attention/output/LayerNorm/gamma:0, shape = (768,), *INIT_FROM_CKPT*\n",
      "I0830 01:30:24.552721  6600 bert_pos.py:498]   name = bert/encoder/layer_0/intermediate/dense/kernel:0, shape = (768, 3072), *INIT_FROM_CKPT*\n",
      "I0830 01:30:24.554721  6600 bert_pos.py:498]   name = bert/encoder/layer_0/intermediate/dense/bias:0, shape = (3072,), *INIT_FROM_CKPT*\n",
      "I0830 01:30:24.555721  6600 bert_pos.py:498]   name = bert/encoder/layer_0/output/dense/kernel:0, shape = (3072, 768), *INIT_FROM_CKPT*\n",
      "I0830 01:30:24.557723  6600 bert_pos.py:498]   name = bert/encoder/layer_0/output/dense/bias:0, shape = (768,), *INIT_FROM_CKPT*\n",
      "I0830 01:30:24.558719  6600 bert_pos.py:498]   name = bert/encoder/layer_0/output/LayerNorm/beta:0, shape = (768,), *INIT_FROM_CKPT*\n",
      "I0830 01:30:24.560722  6600 bert_pos.py:498]   name = bert/encoder/layer_0/output/LayerNorm/gamma:0, shape = (768,), *INIT_FROM_CKPT*\n",
      "I0830 01:30:24.562721  6600 bert_pos.py:498]   name = bert/encoder/layer_1/attention/self/query/kernel:0, shape = (768, 768), *INIT_FROM_CKPT*\n",
      "I0830 01:30:24.563720  6600 bert_pos.py:498]   name = bert/encoder/layer_1/attention/self/query/bias:0, shape = (768,), *INIT_FROM_CKPT*\n",
      "I0830 01:30:24.565722  6600 bert_pos.py:498]   name = bert/encoder/layer_1/attention/self/key/kernel:0, shape = (768, 768), *INIT_FROM_CKPT*\n",
      "I0830 01:30:24.566723  6600 bert_pos.py:498]   name = bert/encoder/layer_1/attention/self/key/bias:0, shape = (768,), *INIT_FROM_CKPT*\n",
      "I0830 01:30:24.568721  6600 bert_pos.py:498]   name = bert/encoder/layer_1/attention/self/value/kernel:0, shape = (768, 768), *INIT_FROM_CKPT*\n",
      "I0830 01:30:24.569721  6600 bert_pos.py:498]   name = bert/encoder/layer_1/attention/self/value/bias:0, shape = (768,), *INIT_FROM_CKPT*\n",
      "I0830 01:30:24.571719  6600 bert_pos.py:498]   name = bert/encoder/layer_1/attention/output/dense/kernel:0, shape = (768, 768), *INIT_FROM_CKPT*\n",
      "I0830 01:30:24.572720  6600 bert_pos.py:498]   name = bert/encoder/layer_1/attention/output/dense/bias:0, shape = (768,), *INIT_FROM_CKPT*\n",
      "I0830 01:30:24.574721  6600 bert_pos.py:498]   name = bert/encoder/layer_1/attention/output/LayerNorm/beta:0, shape = (768,), *INIT_FROM_CKPT*\n",
      "I0830 01:30:24.575721  6600 bert_pos.py:498]   name = bert/encoder/layer_1/attention/output/LayerNorm/gamma:0, shape = (768,), *INIT_FROM_CKPT*\n",
      "I0830 01:30:24.577721  6600 bert_pos.py:498]   name = bert/encoder/layer_1/intermediate/dense/kernel:0, shape = (768, 3072), *INIT_FROM_CKPT*\n",
      "I0830 01:30:24.579723  6600 bert_pos.py:498]   name = bert/encoder/layer_1/intermediate/dense/bias:0, shape = (3072,), *INIT_FROM_CKPT*\n",
      "I0830 01:30:24.580720  6600 bert_pos.py:498]   name = bert/encoder/layer_1/output/dense/kernel:0, shape = (3072, 768), *INIT_FROM_CKPT*\n",
      "I0830 01:30:24.582722  6600 bert_pos.py:498]   name = bert/encoder/layer_1/output/dense/bias:0, shape = (768,), *INIT_FROM_CKPT*\n",
      "I0830 01:30:24.583721  6600 bert_pos.py:498]   name = bert/encoder/layer_1/output/LayerNorm/beta:0, shape = (768,), *INIT_FROM_CKPT*\n",
      "I0830 01:30:24.585722  6600 bert_pos.py:498]   name = bert/encoder/layer_1/output/LayerNorm/gamma:0, shape = (768,), *INIT_FROM_CKPT*\n",
      "I0830 01:30:24.586721  6600 bert_pos.py:498]   name = bert/encoder/layer_2/attention/self/query/kernel:0, shape = (768, 768), *INIT_FROM_CKPT*\n",
      "I0830 01:30:24.588720  6600 bert_pos.py:498]   name = bert/encoder/layer_2/attention/self/query/bias:0, shape = (768,), *INIT_FROM_CKPT*\n",
      "I0830 01:30:24.589721  6600 bert_pos.py:498]   name = bert/encoder/layer_2/attention/self/key/kernel:0, shape = (768, 768), *INIT_FROM_CKPT*\n",
      "I0830 01:30:24.590720  6600 bert_pos.py:498]   name = bert/encoder/layer_2/attention/self/key/bias:0, shape = (768,), *INIT_FROM_CKPT*\n",
      "I0830 01:30:24.592722  6600 bert_pos.py:498]   name = bert/encoder/layer_2/attention/self/value/kernel:0, shape = (768, 768), *INIT_FROM_CKPT*\n",
      "I0830 01:30:24.594721  6600 bert_pos.py:498]   name = bert/encoder/layer_2/attention/self/value/bias:0, shape = (768,), *INIT_FROM_CKPT*\n",
      "I0830 01:30:24.595719  6600 bert_pos.py:498]   name = bert/encoder/layer_2/attention/output/dense/kernel:0, shape = (768, 768), *INIT_FROM_CKPT*\n",
      "I0830 01:30:24.597721  6600 bert_pos.py:498]   name = bert/encoder/layer_2/attention/output/dense/bias:0, shape = (768,), *INIT_FROM_CKPT*\n",
      "I0830 01:30:24.599720  6600 bert_pos.py:498]   name = bert/encoder/layer_2/attention/output/LayerNorm/beta:0, shape = (768,), *INIT_FROM_CKPT*\n",
      "I0830 01:30:24.600724  6600 bert_pos.py:498]   name = bert/encoder/layer_2/attention/output/LayerNorm/gamma:0, shape = (768,), *INIT_FROM_CKPT*\n",
      "I0830 01:30:24.601721  6600 bert_pos.py:498]   name = bert/encoder/layer_2/intermediate/dense/kernel:0, shape = (768, 3072), *INIT_FROM_CKPT*\n",
      "I0830 01:30:24.603723  6600 bert_pos.py:498]   name = bert/encoder/layer_2/intermediate/dense/bias:0, shape = (3072,), *INIT_FROM_CKPT*\n",
      "I0830 01:30:24.604721  6600 bert_pos.py:498]   name = bert/encoder/layer_2/output/dense/kernel:0, shape = (3072, 768), *INIT_FROM_CKPT*\n",
      "I0830 01:30:24.606722  6600 bert_pos.py:498]   name = bert/encoder/layer_2/output/dense/bias:0, shape = (768,), *INIT_FROM_CKPT*\n",
      "I0830 01:30:24.607722  6600 bert_pos.py:498]   name = bert/encoder/layer_2/output/LayerNorm/beta:0, shape = (768,), *INIT_FROM_CKPT*\n",
      "I0830 01:30:24.611721  6600 bert_pos.py:498]   name = bert/encoder/layer_2/output/LayerNorm/gamma:0, shape = (768,), *INIT_FROM_CKPT*\n",
      "I0830 01:30:24.612722  6600 bert_pos.py:498]   name = bert/encoder/layer_3/attention/self/query/kernel:0, shape = (768, 768), *INIT_FROM_CKPT*\n",
      "I0830 01:30:24.614721  6600 bert_pos.py:498]   name = bert/encoder/layer_3/attention/self/query/bias:0, shape = (768,), *INIT_FROM_CKPT*\n",
      "I0830 01:30:24.615723  6600 bert_pos.py:498]   name = bert/encoder/layer_3/attention/self/key/kernel:0, shape = (768, 768), *INIT_FROM_CKPT*\n",
      "I0830 01:30:24.617722  6600 bert_pos.py:498]   name = bert/encoder/layer_3/attention/self/key/bias:0, shape = (768,), *INIT_FROM_CKPT*\n",
      "I0830 01:30:24.618721  6600 bert_pos.py:498]   name = bert/encoder/layer_3/attention/self/value/kernel:0, shape = (768, 768), *INIT_FROM_CKPT*\n",
      "I0830 01:30:24.620719  6600 bert_pos.py:498]   name = bert/encoder/layer_3/attention/self/value/bias:0, shape = (768,), *INIT_FROM_CKPT*\n",
      "I0830 01:30:24.621720  6600 bert_pos.py:498]   name = bert/encoder/layer_3/attention/output/dense/kernel:0, shape = (768, 768), *INIT_FROM_CKPT*\n",
      "I0830 01:30:24.623720  6600 bert_pos.py:498]   name = bert/encoder/layer_3/attention/output/dense/bias:0, shape = (768,), *INIT_FROM_CKPT*\n",
      "I0830 01:30:24.625720  6600 bert_pos.py:498]   name = bert/encoder/layer_3/attention/output/LayerNorm/beta:0, shape = (768,), *INIT_FROM_CKPT*\n",
      "I0830 01:30:24.627720  6600 bert_pos.py:498]   name = bert/encoder/layer_3/attention/output/LayerNorm/gamma:0, shape = (768,), *INIT_FROM_CKPT*\n",
      "I0830 01:30:24.628721  6600 bert_pos.py:498]   name = bert/encoder/layer_3/intermediate/dense/kernel:0, shape = (768, 3072), *INIT_FROM_CKPT*\n",
      "I0830 01:30:24.629720  6600 bert_pos.py:498]   name = bert/encoder/layer_3/intermediate/dense/bias:0, shape = (3072,), *INIT_FROM_CKPT*\n",
      "I0830 01:30:24.631721  6600 bert_pos.py:498]   name = bert/encoder/layer_3/output/dense/kernel:0, shape = (3072, 768), *INIT_FROM_CKPT*\n",
      "I0830 01:30:24.632721  6600 bert_pos.py:498]   name = bert/encoder/layer_3/output/dense/bias:0, shape = (768,), *INIT_FROM_CKPT*\n",
      "I0830 01:30:24.633721  6600 bert_pos.py:498]   name = bert/encoder/layer_3/output/LayerNorm/beta:0, shape = (768,), *INIT_FROM_CKPT*\n",
      "I0830 01:30:24.635722  6600 bert_pos.py:498]   name = bert/encoder/layer_3/output/LayerNorm/gamma:0, shape = (768,), *INIT_FROM_CKPT*\n",
      "I0830 01:30:24.636720  6600 bert_pos.py:498]   name = bert/encoder/layer_4/attention/self/query/kernel:0, shape = (768, 768), *INIT_FROM_CKPT*\n",
      "I0830 01:30:24.637720  6600 bert_pos.py:498]   name = bert/encoder/layer_4/attention/self/query/bias:0, shape = (768,), *INIT_FROM_CKPT*\n",
      "I0830 01:30:24.639720  6600 bert_pos.py:498]   name = bert/encoder/layer_4/attention/self/key/kernel:0, shape = (768, 768), *INIT_FROM_CKPT*\n",
      "I0830 01:30:24.641721  6600 bert_pos.py:498]   name = bert/encoder/layer_4/attention/self/key/bias:0, shape = (768,), *INIT_FROM_CKPT*\n",
      "I0830 01:30:24.642722  6600 bert_pos.py:498]   name = bert/encoder/layer_4/attention/self/value/kernel:0, shape = (768, 768), *INIT_FROM_CKPT*\n",
      "I0830 01:30:24.644721  6600 bert_pos.py:498]   name = bert/encoder/layer_4/attention/self/value/bias:0, shape = (768,), *INIT_FROM_CKPT*\n",
      "I0830 01:30:24.645721  6600 bert_pos.py:498]   name = bert/encoder/layer_4/attention/output/dense/kernel:0, shape = (768, 768), *INIT_FROM_CKPT*\n",
      "I0830 01:30:24.647722  6600 bert_pos.py:498]   name = bert/encoder/layer_4/attention/output/dense/bias:0, shape = (768,), *INIT_FROM_CKPT*\n",
      "I0830 01:30:24.648721  6600 bert_pos.py:498]   name = bert/encoder/layer_4/attention/output/LayerNorm/beta:0, shape = (768,), *INIT_FROM_CKPT*\n",
      "I0830 01:30:24.649720  6600 bert_pos.py:498]   name = bert/encoder/layer_4/attention/output/LayerNorm/gamma:0, shape = (768,), *INIT_FROM_CKPT*\n",
      "I0830 01:30:24.651721  6600 bert_pos.py:498]   name = bert/encoder/layer_4/intermediate/dense/kernel:0, shape = (768, 3072), *INIT_FROM_CKPT*\n",
      "I0830 01:30:24.652721  6600 bert_pos.py:498]   name = bert/encoder/layer_4/intermediate/dense/bias:0, shape = (3072,), *INIT_FROM_CKPT*\n",
      "I0830 01:30:24.654721  6600 bert_pos.py:498]   name = bert/encoder/layer_4/output/dense/kernel:0, shape = (3072, 768), *INIT_FROM_CKPT*\n",
      "I0830 01:30:24.655721  6600 bert_pos.py:498]   name = bert/encoder/layer_4/output/dense/bias:0, shape = (768,), *INIT_FROM_CKPT*\n",
      "I0830 01:30:24.657719  6600 bert_pos.py:498]   name = bert/encoder/layer_4/output/LayerNorm/beta:0, shape = (768,), *INIT_FROM_CKPT*\n",
      "I0830 01:30:24.659723  6600 bert_pos.py:498]   name = bert/encoder/layer_4/output/LayerNorm/gamma:0, shape = (768,), *INIT_FROM_CKPT*\n",
      "I0830 01:30:24.660721  6600 bert_pos.py:498]   name = bert/encoder/layer_5/attention/self/query/kernel:0, shape = (768, 768), *INIT_FROM_CKPT*\n",
      "I0830 01:30:24.662721  6600 bert_pos.py:498]   name = bert/encoder/layer_5/attention/self/query/bias:0, shape = (768,), *INIT_FROM_CKPT*\n",
      "I0830 01:30:24.663722  6600 bert_pos.py:498]   name = bert/encoder/layer_5/attention/self/key/kernel:0, shape = (768, 768), *INIT_FROM_CKPT*\n",
      "I0830 01:30:24.665723  6600 bert_pos.py:498]   name = bert/encoder/layer_5/attention/self/key/bias:0, shape = (768,), *INIT_FROM_CKPT*\n",
      "I0830 01:30:24.666723  6600 bert_pos.py:498]   name = bert/encoder/layer_5/attention/self/value/kernel:0, shape = (768, 768), *INIT_FROM_CKPT*\n",
      "I0830 01:30:24.668722  6600 bert_pos.py:498]   name = bert/encoder/layer_5/attention/self/value/bias:0, shape = (768,), *INIT_FROM_CKPT*\n",
      "I0830 01:30:24.669720  6600 bert_pos.py:498]   name = bert/encoder/layer_5/attention/output/dense/kernel:0, shape = (768, 768), *INIT_FROM_CKPT*\n",
      "I0830 01:30:24.673728  6600 bert_pos.py:498]   name = bert/encoder/layer_5/attention/output/dense/bias:0, shape = (768,), *INIT_FROM_CKPT*\n",
      "I0830 01:30:24.675720  6600 bert_pos.py:498]   name = bert/encoder/layer_5/attention/output/LayerNorm/beta:0, shape = (768,), *INIT_FROM_CKPT*\n",
      "I0830 01:30:24.676719  6600 bert_pos.py:498]   name = bert/encoder/layer_5/attention/output/LayerNorm/gamma:0, shape = (768,), *INIT_FROM_CKPT*\n",
      "I0830 01:30:24.677721  6600 bert_pos.py:498]   name = bert/encoder/layer_5/intermediate/dense/kernel:0, shape = (768, 3072), *INIT_FROM_CKPT*\n",
      "I0830 01:30:24.679723  6600 bert_pos.py:498]   name = bert/encoder/layer_5/intermediate/dense/bias:0, shape = (3072,), *INIT_FROM_CKPT*\n",
      "I0830 01:30:24.680723  6600 bert_pos.py:498]   name = bert/encoder/layer_5/output/dense/kernel:0, shape = (3072, 768), *INIT_FROM_CKPT*\n",
      "I0830 01:30:24.682722  6600 bert_pos.py:498]   name = bert/encoder/layer_5/output/dense/bias:0, shape = (768,), *INIT_FROM_CKPT*\n",
      "I0830 01:30:24.683722  6600 bert_pos.py:498]   name = bert/encoder/layer_5/output/LayerNorm/beta:0, shape = (768,), *INIT_FROM_CKPT*\n",
      "I0830 01:30:24.685721  6600 bert_pos.py:498]   name = bert/encoder/layer_5/output/LayerNorm/gamma:0, shape = (768,), *INIT_FROM_CKPT*\n",
      "I0830 01:30:24.686721  6600 bert_pos.py:498]   name = bert/encoder/layer_6/attention/self/query/kernel:0, shape = (768, 768), *INIT_FROM_CKPT*\n",
      "I0830 01:30:24.688722  6600 bert_pos.py:498]   name = bert/encoder/layer_6/attention/self/query/bias:0, shape = (768,), *INIT_FROM_CKPT*\n",
      "I0830 01:30:24.689719  6600 bert_pos.py:498]   name = bert/encoder/layer_6/attention/self/key/kernel:0, shape = (768, 768), *INIT_FROM_CKPT*\n",
      "I0830 01:30:24.691723  6600 bert_pos.py:498]   name = bert/encoder/layer_6/attention/self/key/bias:0, shape = (768,), *INIT_FROM_CKPT*\n",
      "I0830 01:30:24.692723  6600 bert_pos.py:498]   name = bert/encoder/layer_6/attention/self/value/kernel:0, shape = (768, 768), *INIT_FROM_CKPT*\n",
      "I0830 01:30:24.694721  6600 bert_pos.py:498]   name = bert/encoder/layer_6/attention/self/value/bias:0, shape = (768,), *INIT_FROM_CKPT*\n",
      "I0830 01:30:24.695721  6600 bert_pos.py:498]   name = bert/encoder/layer_6/attention/output/dense/kernel:0, shape = (768, 768), *INIT_FROM_CKPT*\n",
      "I0830 01:30:24.697724  6600 bert_pos.py:498]   name = bert/encoder/layer_6/attention/output/dense/bias:0, shape = (768,), *INIT_FROM_CKPT*\n",
      "I0830 01:30:24.698722  6600 bert_pos.py:498]   name = bert/encoder/layer_6/attention/output/LayerNorm/beta:0, shape = (768,), *INIT_FROM_CKPT*\n",
      "I0830 01:30:24.700722  6600 bert_pos.py:498]   name = bert/encoder/layer_6/attention/output/LayerNorm/gamma:0, shape = (768,), *INIT_FROM_CKPT*\n",
      "I0830 01:30:24.701722  6600 bert_pos.py:498]   name = bert/encoder/layer_6/intermediate/dense/kernel:0, shape = (768, 3072), *INIT_FROM_CKPT*\n",
      "I0830 01:30:24.704725  6600 bert_pos.py:498]   name = bert/encoder/layer_6/intermediate/dense/bias:0, shape = (3072,), *INIT_FROM_CKPT*\n",
      "I0830 01:30:24.705724  6600 bert_pos.py:498]   name = bert/encoder/layer_6/output/dense/kernel:0, shape = (3072, 768), *INIT_FROM_CKPT*\n",
      "I0830 01:30:24.707722  6600 bert_pos.py:498]   name = bert/encoder/layer_6/output/dense/bias:0, shape = (768,), *INIT_FROM_CKPT*\n",
      "I0830 01:30:24.708723  6600 bert_pos.py:498]   name = bert/encoder/layer_6/output/LayerNorm/beta:0, shape = (768,), *INIT_FROM_CKPT*\n",
      "I0830 01:30:24.710723  6600 bert_pos.py:498]   name = bert/encoder/layer_6/output/LayerNorm/gamma:0, shape = (768,), *INIT_FROM_CKPT*\n",
      "I0830 01:30:24.712721  6600 bert_pos.py:498]   name = bert/encoder/layer_7/attention/self/query/kernel:0, shape = (768, 768), *INIT_FROM_CKPT*\n",
      "I0830 01:30:24.713721  6600 bert_pos.py:498]   name = bert/encoder/layer_7/attention/self/query/bias:0, shape = (768,), *INIT_FROM_CKPT*\n",
      "I0830 01:30:24.714721  6600 bert_pos.py:498]   name = bert/encoder/layer_7/attention/self/key/kernel:0, shape = (768, 768), *INIT_FROM_CKPT*\n",
      "I0830 01:30:24.716720  6600 bert_pos.py:498]   name = bert/encoder/layer_7/attention/self/key/bias:0, shape = (768,), *INIT_FROM_CKPT*\n",
      "I0830 01:30:24.717721  6600 bert_pos.py:498]   name = bert/encoder/layer_7/attention/self/value/kernel:0, shape = (768, 768), *INIT_FROM_CKPT*\n",
      "I0830 01:30:24.719722  6600 bert_pos.py:498]   name = bert/encoder/layer_7/attention/self/value/bias:0, shape = (768,), *INIT_FROM_CKPT*\n",
      "I0830 01:30:24.721724  6600 bert_pos.py:498]   name = bert/encoder/layer_7/attention/output/dense/kernel:0, shape = (768, 768), *INIT_FROM_CKPT*\n",
      "I0830 01:30:24.722723  6600 bert_pos.py:498]   name = bert/encoder/layer_7/attention/output/dense/bias:0, shape = (768,), *INIT_FROM_CKPT*\n",
      "I0830 01:30:24.724721  6600 bert_pos.py:498]   name = bert/encoder/layer_7/attention/output/LayerNorm/beta:0, shape = (768,), *INIT_FROM_CKPT*\n",
      "I0830 01:30:24.725720  6600 bert_pos.py:498]   name = bert/encoder/layer_7/attention/output/LayerNorm/gamma:0, shape = (768,), *INIT_FROM_CKPT*\n",
      "I0830 01:30:24.727723  6600 bert_pos.py:498]   name = bert/encoder/layer_7/intermediate/dense/kernel:0, shape = (768, 3072), *INIT_FROM_CKPT*\n",
      "I0830 01:30:24.728719  6600 bert_pos.py:498]   name = bert/encoder/layer_7/intermediate/dense/bias:0, shape = (3072,), *INIT_FROM_CKPT*\n",
      "I0830 01:30:24.730722  6600 bert_pos.py:498]   name = bert/encoder/layer_7/output/dense/kernel:0, shape = (3072, 768), *INIT_FROM_CKPT*\n",
      "I0830 01:30:24.732722  6600 bert_pos.py:498]   name = bert/encoder/layer_7/output/dense/bias:0, shape = (768,), *INIT_FROM_CKPT*\n",
      "I0830 01:30:24.733722  6600 bert_pos.py:498]   name = bert/encoder/layer_7/output/LayerNorm/beta:0, shape = (768,), *INIT_FROM_CKPT*\n",
      "I0830 01:30:24.736723  6600 bert_pos.py:498]   name = bert/encoder/layer_7/output/LayerNorm/gamma:0, shape = (768,), *INIT_FROM_CKPT*\n",
      "I0830 01:30:24.738723  6600 bert_pos.py:498]   name = bert/encoder/layer_8/attention/self/query/kernel:0, shape = (768, 768), *INIT_FROM_CKPT*\n",
      "I0830 01:30:24.739719  6600 bert_pos.py:498]   name = bert/encoder/layer_8/attention/self/query/bias:0, shape = (768,), *INIT_FROM_CKPT*\n",
      "I0830 01:30:24.741721  6600 bert_pos.py:498]   name = bert/encoder/layer_8/attention/self/key/kernel:0, shape = (768, 768), *INIT_FROM_CKPT*\n",
      "I0830 01:30:24.742722  6600 bert_pos.py:498]   name = bert/encoder/layer_8/attention/self/key/bias:0, shape = (768,), *INIT_FROM_CKPT*\n",
      "I0830 01:30:24.744722  6600 bert_pos.py:498]   name = bert/encoder/layer_8/attention/self/value/kernel:0, shape = (768, 768), *INIT_FROM_CKPT*\n",
      "I0830 01:30:24.745722  6600 bert_pos.py:498]   name = bert/encoder/layer_8/attention/self/value/bias:0, shape = (768,), *INIT_FROM_CKPT*\n",
      "I0830 01:30:24.747723  6600 bert_pos.py:498]   name = bert/encoder/layer_8/attention/output/dense/kernel:0, shape = (768, 768), *INIT_FROM_CKPT*\n",
      "I0830 01:30:24.749721  6600 bert_pos.py:498]   name = bert/encoder/layer_8/attention/output/dense/bias:0, shape = (768,), *INIT_FROM_CKPT*\n",
      "I0830 01:30:24.751723  6600 bert_pos.py:498]   name = bert/encoder/layer_8/attention/output/LayerNorm/beta:0, shape = (768,), *INIT_FROM_CKPT*\n",
      "I0830 01:30:24.753720  6600 bert_pos.py:498]   name = bert/encoder/layer_8/attention/output/LayerNorm/gamma:0, shape = (768,), *INIT_FROM_CKPT*\n",
      "I0830 01:30:24.754720  6600 bert_pos.py:498]   name = bert/encoder/layer_8/intermediate/dense/kernel:0, shape = (768, 3072), *INIT_FROM_CKPT*\n",
      "I0830 01:30:24.756725  6600 bert_pos.py:498]   name = bert/encoder/layer_8/intermediate/dense/bias:0, shape = (3072,), *INIT_FROM_CKPT*\n",
      "I0830 01:30:24.758721  6600 bert_pos.py:498]   name = bert/encoder/layer_8/output/dense/kernel:0, shape = (3072, 768), *INIT_FROM_CKPT*\n",
      "I0830 01:30:24.759721  6600 bert_pos.py:498]   name = bert/encoder/layer_8/output/dense/bias:0, shape = (768,), *INIT_FROM_CKPT*\n",
      "I0830 01:30:24.761723  6600 bert_pos.py:498]   name = bert/encoder/layer_8/output/LayerNorm/beta:0, shape = (768,), *INIT_FROM_CKPT*\n",
      "I0830 01:30:24.763722  6600 bert_pos.py:498]   name = bert/encoder/layer_8/output/LayerNorm/gamma:0, shape = (768,), *INIT_FROM_CKPT*\n",
      "I0830 01:30:24.764721  6600 bert_pos.py:498]   name = bert/encoder/layer_9/attention/self/query/kernel:0, shape = (768, 768), *INIT_FROM_CKPT*\n",
      "I0830 01:30:24.767720  6600 bert_pos.py:498]   name = bert/encoder/layer_9/attention/self/query/bias:0, shape = (768,), *INIT_FROM_CKPT*\n",
      "I0830 01:30:24.768731  6600 bert_pos.py:498]   name = bert/encoder/layer_9/attention/self/key/kernel:0, shape = (768, 768), *INIT_FROM_CKPT*\n",
      "I0830 01:30:24.770722  6600 bert_pos.py:498]   name = bert/encoder/layer_9/attention/self/key/bias:0, shape = (768,), *INIT_FROM_CKPT*\n",
      "I0830 01:30:24.771721  6600 bert_pos.py:498]   name = bert/encoder/layer_9/attention/self/value/kernel:0, shape = (768, 768), *INIT_FROM_CKPT*\n",
      "I0830 01:30:24.773723  6600 bert_pos.py:498]   name = bert/encoder/layer_9/attention/self/value/bias:0, shape = (768,), *INIT_FROM_CKPT*\n",
      "I0830 01:30:24.774721  6600 bert_pos.py:498]   name = bert/encoder/layer_9/attention/output/dense/kernel:0, shape = (768, 768), *INIT_FROM_CKPT*\n",
      "I0830 01:30:24.776719  6600 bert_pos.py:498]   name = bert/encoder/layer_9/attention/output/dense/bias:0, shape = (768,), *INIT_FROM_CKPT*\n",
      "I0830 01:30:24.778722  6600 bert_pos.py:498]   name = bert/encoder/layer_9/attention/output/LayerNorm/beta:0, shape = (768,), *INIT_FROM_CKPT*\n",
      "I0830 01:30:24.779722  6600 bert_pos.py:498]   name = bert/encoder/layer_9/attention/output/LayerNorm/gamma:0, shape = (768,), *INIT_FROM_CKPT*\n",
      "I0830 01:30:24.781721  6600 bert_pos.py:498]   name = bert/encoder/layer_9/intermediate/dense/kernel:0, shape = (768, 3072), *INIT_FROM_CKPT*\n",
      "I0830 01:30:24.783729  6600 bert_pos.py:498]   name = bert/encoder/layer_9/intermediate/dense/bias:0, shape = (3072,), *INIT_FROM_CKPT*\n",
      "I0830 01:30:24.785723  6600 bert_pos.py:498]   name = bert/encoder/layer_9/output/dense/kernel:0, shape = (3072, 768), *INIT_FROM_CKPT*\n",
      "I0830 01:30:24.786720  6600 bert_pos.py:498]   name = bert/encoder/layer_9/output/dense/bias:0, shape = (768,), *INIT_FROM_CKPT*\n",
      "I0830 01:30:24.788720  6600 bert_pos.py:498]   name = bert/encoder/layer_9/output/LayerNorm/beta:0, shape = (768,), *INIT_FROM_CKPT*\n",
      "I0830 01:30:24.789718  6600 bert_pos.py:498]   name = bert/encoder/layer_9/output/LayerNorm/gamma:0, shape = (768,), *INIT_FROM_CKPT*\n",
      "I0830 01:30:24.790720  6600 bert_pos.py:498]   name = bert/encoder/layer_10/attention/self/query/kernel:0, shape = (768, 768), *INIT_FROM_CKPT*\n",
      "I0830 01:30:24.792720  6600 bert_pos.py:498]   name = bert/encoder/layer_10/attention/self/query/bias:0, shape = (768,), *INIT_FROM_CKPT*\n",
      "I0830 01:30:24.793719  6600 bert_pos.py:498]   name = bert/encoder/layer_10/attention/self/key/kernel:0, shape = (768, 768), *INIT_FROM_CKPT*\n",
      "I0830 01:30:24.794718  6600 bert_pos.py:498]   name = bert/encoder/layer_10/attention/self/key/bias:0, shape = (768,), *INIT_FROM_CKPT*\n",
      "I0830 01:30:24.796719  6600 bert_pos.py:498]   name = bert/encoder/layer_10/attention/self/value/kernel:0, shape = (768, 768), *INIT_FROM_CKPT*\n",
      "I0830 01:30:24.798718  6600 bert_pos.py:498]   name = bert/encoder/layer_10/attention/self/value/bias:0, shape = (768,), *INIT_FROM_CKPT*\n",
      "I0830 01:30:24.801719  6600 bert_pos.py:498]   name = bert/encoder/layer_10/attention/output/dense/kernel:0, shape = (768, 768), *INIT_FROM_CKPT*\n",
      "I0830 01:30:24.802719  6600 bert_pos.py:498]   name = bert/encoder/layer_10/attention/output/dense/bias:0, shape = (768,), *INIT_FROM_CKPT*\n",
      "I0830 01:30:24.804720  6600 bert_pos.py:498]   name = bert/encoder/layer_10/attention/output/LayerNorm/beta:0, shape = (768,), *INIT_FROM_CKPT*\n",
      "I0830 01:30:24.805721  6600 bert_pos.py:498]   name = bert/encoder/layer_10/attention/output/LayerNorm/gamma:0, shape = (768,), *INIT_FROM_CKPT*\n",
      "I0830 01:30:24.806720  6600 bert_pos.py:498]   name = bert/encoder/layer_10/intermediate/dense/kernel:0, shape = (768, 3072), *INIT_FROM_CKPT*\n",
      "I0830 01:30:24.807719  6600 bert_pos.py:498]   name = bert/encoder/layer_10/intermediate/dense/bias:0, shape = (3072,), *INIT_FROM_CKPT*\n",
      "I0830 01:30:24.808718  6600 bert_pos.py:498]   name = bert/encoder/layer_10/output/dense/kernel:0, shape = (3072, 768), *INIT_FROM_CKPT*\n",
      "I0830 01:30:24.811721  6600 bert_pos.py:498]   name = bert/encoder/layer_10/output/dense/bias:0, shape = (768,), *INIT_FROM_CKPT*\n",
      "I0830 01:30:24.812718  6600 bert_pos.py:498]   name = bert/encoder/layer_10/output/LayerNorm/beta:0, shape = (768,), *INIT_FROM_CKPT*\n",
      "I0830 01:30:24.814719  6600 bert_pos.py:498]   name = bert/encoder/layer_10/output/LayerNorm/gamma:0, shape = (768,), *INIT_FROM_CKPT*\n",
      "I0830 01:30:24.816722  6600 bert_pos.py:498]   name = bert/encoder/layer_11/attention/self/query/kernel:0, shape = (768, 768), *INIT_FROM_CKPT*\n",
      "I0830 01:30:24.817720  6600 bert_pos.py:498]   name = bert/encoder/layer_11/attention/self/query/bias:0, shape = (768,), *INIT_FROM_CKPT*\n",
      "I0830 01:30:24.819721  6600 bert_pos.py:498]   name = bert/encoder/layer_11/attention/self/key/kernel:0, shape = (768, 768), *INIT_FROM_CKPT*\n",
      "I0830 01:30:24.820721  6600 bert_pos.py:498]   name = bert/encoder/layer_11/attention/self/key/bias:0, shape = (768,), *INIT_FROM_CKPT*\n",
      "I0830 01:30:24.822722  6600 bert_pos.py:498]   name = bert/encoder/layer_11/attention/self/value/kernel:0, shape = (768, 768), *INIT_FROM_CKPT*\n",
      "I0830 01:30:24.824721  6600 bert_pos.py:498]   name = bert/encoder/layer_11/attention/self/value/bias:0, shape = (768,), *INIT_FROM_CKPT*\n",
      "I0830 01:30:24.825722  6600 bert_pos.py:498]   name = bert/encoder/layer_11/attention/output/dense/kernel:0, shape = (768, 768), *INIT_FROM_CKPT*\n",
      "I0830 01:30:24.827720  6600 bert_pos.py:498]   name = bert/encoder/layer_11/attention/output/dense/bias:0, shape = (768,), *INIT_FROM_CKPT*\n",
      "I0830 01:30:24.828722  6600 bert_pos.py:498]   name = bert/encoder/layer_11/attention/output/LayerNorm/beta:0, shape = (768,), *INIT_FROM_CKPT*\n",
      "I0830 01:30:24.831723  6600 bert_pos.py:498]   name = bert/encoder/layer_11/attention/output/LayerNorm/gamma:0, shape = (768,), *INIT_FROM_CKPT*\n",
      "I0830 01:30:24.832722  6600 bert_pos.py:498]   name = bert/encoder/layer_11/intermediate/dense/kernel:0, shape = (768, 3072), *INIT_FROM_CKPT*\n",
      "I0830 01:30:24.834723  6600 bert_pos.py:498]   name = bert/encoder/layer_11/intermediate/dense/bias:0, shape = (3072,), *INIT_FROM_CKPT*\n",
      "I0830 01:30:24.835721  6600 bert_pos.py:498]   name = bert/encoder/layer_11/output/dense/kernel:0, shape = (3072, 768), *INIT_FROM_CKPT*\n",
      "I0830 01:30:24.837724  6600 bert_pos.py:498]   name = bert/encoder/layer_11/output/dense/bias:0, shape = (768,), *INIT_FROM_CKPT*\n",
      "I0830 01:30:24.839720  6600 bert_pos.py:498]   name = bert/encoder/layer_11/output/LayerNorm/beta:0, shape = (768,), *INIT_FROM_CKPT*\n",
      "I0830 01:30:24.840722  6600 bert_pos.py:498]   name = bert/encoder/layer_11/output/LayerNorm/gamma:0, shape = (768,), *INIT_FROM_CKPT*\n",
      "I0830 01:30:24.841719  6600 bert_pos.py:498]   name = bert/pooler/dense/kernel:0, shape = (768, 768), *INIT_FROM_CKPT*\n",
      "I0830 01:30:24.843724  6600 bert_pos.py:498]   name = bert/pooler/dense/bias:0, shape = (768,), *INIT_FROM_CKPT*\n",
      "I0830 01:30:24.844722  6600 bert_pos.py:498]   name = dense_1/kernel:0, shape = (768, 20)\n",
      "I0830 01:30:24.846721  6600 bert_pos.py:498]   name = dense_1/bias:0, shape = (20,)\n",
      "I0830 01:30:24.847720  6600 bert_pos.py:498]   name = crf_loss/transition:0, shape = (20, 20)\n"
     ]
    },
    {
     "output_type": "stream",
     "name": "stdout",
     "text": [
      "INFO:tensorflow:Done calling model_fn.\n"
     ]
    },
    {
     "output_type": "stream",
     "name": "stderr",
     "text": [
      "I0830 01:30:24.849721  6600 estimator.py:1147] Done calling model_fn.\n"
     ]
    },
    {
     "output_type": "stream",
     "name": "stdout",
     "text": [
      "INFO:tensorflow:Graph was finalized.\n"
     ]
    },
    {
     "output_type": "stream",
     "name": "stderr",
     "text": [
      "I0830 01:30:26.383725  6600 monitored_session.py:240] Graph was finalized.\n"
     ]
    },
    {
     "output_type": "stream",
     "name": "stdout",
     "text": [
      "INFO:tensorflow:Restoring parameters from ./output/result_dir\\model.ckpt-584\n"
     ]
    },
    {
     "output_type": "stream",
     "name": "stderr",
     "text": [
      "I0830 01:30:26.396720  6600 saver.py:1280] Restoring parameters from ./output/result_dir\\model.ckpt-584\n"
     ]
    },
    {
     "output_type": "stream",
     "name": "stdout",
     "text": [
      "INFO:tensorflow:Running local_init_op.\n"
     ]
    },
    {
     "output_type": "stream",
     "name": "stderr",
     "text": [
      "I0830 01:30:28.987721  6600 session_manager.py:500] Running local_init_op.\n"
     ]
    },
    {
     "output_type": "stream",
     "name": "stdout",
     "text": [
      "INFO:tensorflow:Done running local_init_op.\n"
     ]
    },
    {
     "output_type": "stream",
     "name": "stderr",
     "text": [
      "I0830 01:30:29.266720  6600 session_manager.py:502] Done running local_init_op.\n"
     ]
    },
    {
     "output_type": "stream",
     "name": "stdout",
     "text": [
      "INFO:tensorflow:prediction_loop marked as finished\n"
     ]
    },
    {
     "output_type": "stream",
     "name": "stderr",
     "text": [
      "I0830 01:33:59.385719  6600 error_handling.py:96] prediction_loop marked as finished\n"
     ]
    },
    {
     "output_type": "stream",
     "name": "stdout",
     "text": [
      "INFO:tensorflow:prediction_loop marked as finished\n"
     ]
    },
    {
     "output_type": "stream",
     "name": "stderr",
     "text": [
      "I0830 01:33:59.387717  6600 error_handling.py:96] prediction_loop marked as finished\n"
     ]
    }
   ],
   "metadata": {}
  },
  {
   "cell_type": "markdown",
   "source": [
    "# Evaluation"
   ],
   "metadata": {}
  },
  {
   "cell_type": "markdown",
   "source": [
    "## Classification report"
   ],
   "metadata": {}
  },
  {
   "cell_type": "markdown",
   "source": [
    "Results are stored in *'./output/result_dir/'*. Lets see the classification report:"
   ],
   "metadata": {}
  },
  {
   "cell_type": "code",
   "execution_count": 17,
   "source": [
    "predictions ='./output/result_dir/label_test.txt'"
   ],
   "outputs": [],
   "metadata": {}
  },
  {
   "cell_type": "code",
   "execution_count": 18,
   "source": [
    "y_true = []\r\n",
    "y_pred = []\r\n",
    "with open(predictions) as fp:\r\n",
    "    for line in fp:\r\n",
    "        line = line.split()\r\n",
    "        if not line[0].startswith('##') and not line[1].startswith('##') :#and not line[2].startswith('##'):\r\n",
    "            y_true.append(line[1])\r\n",
    "            y_pred.append(line[2])"
   ],
   "outputs": [],
   "metadata": {}
  },
  {
   "cell_type": "code",
   "execution_count": 19,
   "source": [
    "len(y_true), len(y_pred)"
   ],
   "outputs": [
    {
     "output_type": "execute_result",
     "data": {
      "text/plain": [
       "(6955, 6955)"
      ]
     },
     "metadata": {},
     "execution_count": 19
    }
   ],
   "metadata": {}
  },
  {
   "cell_type": "code",
   "execution_count": 20,
   "source": [
    "name='Bert fine-tuned model'\r\n",
    "print('\\n------------ Result of {} ----------\\n'.format(name))\r\n",
    "print(classification_report(y_true, y_pred, digits=4))"
   ],
   "outputs": [
    {
     "output_type": "stream",
     "name": "stdout",
     "text": [
      "\n",
      "------------ Result of Bert fine-tuned model ----------\n",
      "\n",
      "              precision    recall  f1-score   support\n",
      "\n",
      "        ABBR     1.0000    0.8000    0.8889        10\n",
      "         ADJ     0.9038    0.8952    0.8995       105\n",
      "         ADV     0.9547    0.9600    0.9574       901\n",
      "        CDEM     0.8559    0.8860    0.8707       114\n",
      "        CONJ     0.9362    0.9565    0.9462       230\n",
      "         COP     0.7222    0.6500    0.6842        40\n",
      "         FOR     1.0000    0.7500    0.8571         4\n",
      "        IDEO     0.8571    0.8571    0.8571         7\n",
      "         INT     0.7826    0.8182    0.8000        22\n",
      "           N     0.9307    0.8667    0.8976      1906\n",
      "         NUM     0.8889    0.8889    0.8889         9\n",
      "        POSS     0.9263    0.9308    0.9285      1012\n",
      "         PRO     0.9810    0.9537    0.9671       108\n",
      "        PUNC     0.9949    0.9949    0.9949       787\n",
      "         REL     0.8256    0.9074    0.8646       605\n",
      "           V     0.7704    0.8187    0.7938       877\n",
      "           X     0.9556    0.9862    0.9707       218\n",
      "\n",
      "    accuracy                         0.9074      6955\n",
      "   macro avg     0.8992    0.8777    0.8863      6955\n",
      "weighted avg     0.9095    0.9074    0.9078      6955\n",
      "\n"
     ]
    }
   ],
   "metadata": {}
  },
  {
   "cell_type": "code",
   "execution_count": 21,
   "source": [
    "print(\"Accuracy: {0:.4f}\".format(accuracy_score(y_true, y_pred)))\r\n",
    "print('f1-macro score: {0:.4f}'.format(f1_score(y_true, y_pred, average='macro')))"
   ],
   "outputs": [
    {
     "output_type": "stream",
     "name": "stdout",
     "text": [
      "Accuracy: 0.9074\n",
      "f1-macro score: 0.8863\n"
     ]
    }
   ],
   "metadata": {}
  },
  {
   "cell_type": "markdown",
   "source": [
    "## Confusion matrix"
   ],
   "metadata": {}
  },
  {
   "cell_type": "code",
   "execution_count": 22,
   "source": [
    "tags = sorted(set(y_true+y_pred))\r\n",
    "cnf_matrix = confusion_matrix(y_true, y_pred)\r\n",
    "plot_confusion_matrix(f1_score(y_true, y_pred, average='macro'), cnf_matrix, target_names=tags, title=name, normalize=False)"
   ],
   "outputs": [
    {
     "output_type": "display_data",
     "data": {
      "text/plain": [
       "<Figure size 720x432 with 2 Axes>"
      ],
      "image/svg+xml": "<?xml version=\"1.0\" encoding=\"utf-8\" standalone=\"no\"?>\r\n<!DOCTYPE svg PUBLIC \"-//W3C//DTD SVG 1.1//EN\"\r\n  \"http://www.w3.org/Graphics/SVG/1.1/DTD/svg11.dtd\">\r\n<svg height=\"448.658165pt\" version=\"1.1\" viewBox=\"0 0 509.520559 448.658165\" width=\"509.520559pt\" xmlns=\"http://www.w3.org/2000/svg\" xmlns:xlink=\"http://www.w3.org/1999/xlink\">\r\n <metadata>\r\n  <rdf:RDF xmlns:cc=\"http://creativecommons.org/ns#\" xmlns:dc=\"http://purl.org/dc/elements/1.1/\" xmlns:rdf=\"http://www.w3.org/1999/02/22-rdf-syntax-ns#\">\r\n   <cc:Work>\r\n    <dc:type rdf:resource=\"http://purl.org/dc/dcmitype/StillImage\"/>\r\n    <dc:date>2021-08-30T09:24:45.979290</dc:date>\r\n    <dc:format>image/svg+xml</dc:format>\r\n    <dc:creator>\r\n     <cc:Agent>\r\n      <dc:title>Matplotlib v3.4.2, https://matplotlib.org/</dc:title>\r\n     </cc:Agent>\r\n    </dc:creator>\r\n   </cc:Work>\r\n  </rdf:RDF>\r\n </metadata>\r\n <defs>\r\n  <style type=\"text/css\">*{stroke-linecap:butt;stroke-linejoin:round;}</style>\r\n </defs>\r\n <g id=\"figure_1\">\r\n  <g id=\"patch_1\">\r\n   <path d=\"M 0 448.658165 \r\nL 509.520559 448.658165 \r\nL 509.520559 0 \r\nL 0 0 \r\nz\r\n\" style=\"fill:none;\"/>\r\n  </g>\r\n  <g id=\"axes_1\">\r\n   <g id=\"patch_2\">\r\n    <path d=\"M 57.507812 381.787407 \r\nL 416.977095 381.787407 \r\nL 416.977095 22.318125 \r\nL 57.507812 22.318125 \r\nz\r\n\" style=\"fill:#ffffff;\"/>\r\n   </g>\r\n   <g clip-path=\"url(#p6830b8cd78)\">\r\n    <image height=\"360\" id=\"imageb2ebfb89fe\" transform=\"scale(1 -1)translate(0 -360)\" width=\"360\" x=\"57.507812\" xlink:href=\"data:image/png;base64,\r\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\" y=\"-21.787407\"/>\r\n   </g>\r\n   <g id=\"matplotlib.axis_1\">\r\n    <g id=\"xtick_1\">\r\n     <g id=\"line2d_1\">\r\n      <defs>\r\n       <path d=\"M 0 0 \r\nL 0 3.5 \r\n\" id=\"m6bc7eac155\" style=\"stroke:#000000;stroke-width:0.8;\"/>\r\n      </defs>\r\n      <g>\r\n       <use style=\"stroke:#000000;stroke-width:0.8;\" x=\"68.080438\" xlink:href=\"#m6bc7eac155\" y=\"381.787407\"/>\r\n      </g>\r\n     </g>\r\n     <g id=\"text_1\">\r\n      <!-- ABBR -->\r\n      <g transform=\"translate(60.305026 413.613484)rotate(-45)scale(0.1 -0.1)\">\r\n       <defs>\r\n        <path d=\"M 2188 4044 \r\nL 1331 1722 \r\nL 3047 1722 \r\nL 2188 4044 \r\nz\r\nM 1831 4666 \r\nL 2547 4666 \r\nL 4325 0 \r\nL 3669 0 \r\nL 3244 1197 \r\nL 1141 1197 \r\nL 716 0 \r\nL 50 0 \r\nL 1831 4666 \r\nz\r\n\" id=\"DejaVuSans-41\" transform=\"scale(0.015625)\"/>\r\n        <path d=\"M 1259 2228 \r\nL 1259 519 \r\nL 2272 519 \r\nQ 2781 519 3026 730 \r\nQ 3272 941 3272 1375 \r\nQ 3272 1813 3026 2020 \r\nQ 2781 2228 2272 2228 \r\nL 1259 2228 \r\nz\r\nM 1259 4147 \r\nL 1259 2741 \r\nL 2194 2741 \r\nQ 2656 2741 2882 2914 \r\nQ 3109 3088 3109 3444 \r\nQ 3109 3797 2882 3972 \r\nQ 2656 4147 2194 4147 \r\nL 1259 4147 \r\nz\r\nM 628 4666 \r\nL 2241 4666 \r\nQ 2963 4666 3353 4366 \r\nQ 3744 4066 3744 3513 \r\nQ 3744 3084 3544 2831 \r\nQ 3344 2578 2956 2516 \r\nQ 3422 2416 3680 2098 \r\nQ 3938 1781 3938 1306 \r\nQ 3938 681 3513 340 \r\nQ 3088 0 2303 0 \r\nL 628 0 \r\nL 628 4666 \r\nz\r\n\" id=\"DejaVuSans-42\" transform=\"scale(0.015625)\"/>\r\n        <path d=\"M 2841 2188 \r\nQ 3044 2119 3236 1894 \r\nQ 3428 1669 3622 1275 \r\nL 4263 0 \r\nL 3584 0 \r\nL 2988 1197 \r\nQ 2756 1666 2539 1819 \r\nQ 2322 1972 1947 1972 \r\nL 1259 1972 \r\nL 1259 0 \r\nL 628 0 \r\nL 628 4666 \r\nL 2053 4666 \r\nQ 2853 4666 3247 4331 \r\nQ 3641 3997 3641 3322 \r\nQ 3641 2881 3436 2590 \r\nQ 3231 2300 2841 2188 \r\nz\r\nM 1259 4147 \r\nL 1259 2491 \r\nL 2053 2491 \r\nQ 2509 2491 2742 2702 \r\nQ 2975 2913 2975 3322 \r\nQ 2975 3731 2742 3939 \r\nQ 2509 4147 2053 4147 \r\nL 1259 4147 \r\nz\r\n\" id=\"DejaVuSans-52\" transform=\"scale(0.015625)\"/>\r\n       </defs>\r\n       <use xlink:href=\"#DejaVuSans-41\"/>\r\n       <use x=\"68.408203\" xlink:href=\"#DejaVuSans-42\"/>\r\n       <use x=\"137.011719\" xlink:href=\"#DejaVuSans-42\"/>\r\n       <use x=\"205.615234\" xlink:href=\"#DejaVuSans-52\"/>\r\n      </g>\r\n     </g>\r\n    </g>\r\n    <g id=\"xtick_2\">\r\n     <g id=\"line2d_2\">\r\n      <g>\r\n       <use style=\"stroke:#000000;stroke-width:0.8;\" x=\"89.22569\" xlink:href=\"#m6bc7eac155\" y=\"381.787407\"/>\r\n      </g>\r\n     </g>\r\n     <g id=\"text_2\">\r\n      <!-- ADJ -->\r\n      <g transform=\"translate(84.992993 406.528053)rotate(-45)scale(0.1 -0.1)\">\r\n       <defs>\r\n        <path d=\"M 1259 4147 \r\nL 1259 519 \r\nL 2022 519 \r\nQ 2988 519 3436 956 \r\nQ 3884 1394 3884 2338 \r\nQ 3884 3275 3436 3711 \r\nQ 2988 4147 2022 4147 \r\nL 1259 4147 \r\nz\r\nM 628 4666 \r\nL 1925 4666 \r\nQ 3281 4666 3915 4102 \r\nQ 4550 3538 4550 2338 \r\nQ 4550 1131 3912 565 \r\nQ 3275 0 1925 0 \r\nL 628 0 \r\nL 628 4666 \r\nz\r\n\" id=\"DejaVuSans-44\" transform=\"scale(0.015625)\"/>\r\n        <path d=\"M 628 4666 \r\nL 1259 4666 \r\nL 1259 325 \r\nQ 1259 -519 939 -900 \r\nQ 619 -1281 -91 -1281 \r\nL -331 -1281 \r\nL -331 -750 \r\nL -134 -750 \r\nQ 284 -750 456 -515 \r\nQ 628 -281 628 325 \r\nL 628 4666 \r\nz\r\n\" id=\"DejaVuSans-4a\" transform=\"scale(0.015625)\"/>\r\n       </defs>\r\n       <use xlink:href=\"#DejaVuSans-41\"/>\r\n       <use x=\"68.408203\" xlink:href=\"#DejaVuSans-44\"/>\r\n       <use x=\"145.410156\" xlink:href=\"#DejaVuSans-4a\"/>\r\n      </g>\r\n     </g>\r\n    </g>\r\n    <g id=\"xtick_3\">\r\n     <g id=\"line2d_3\">\r\n      <g>\r\n       <use style=\"stroke:#000000;stroke-width:0.8;\" x=\"110.370942\" xlink:href=\"#m6bc7eac155\" y=\"381.787407\"/>\r\n      </g>\r\n     </g>\r\n     <g id=\"text_3\">\r\n      <!-- ADV -->\r\n      <g transform=\"translate(104.824573 409.155397)rotate(-45)scale(0.1 -0.1)\">\r\n       <defs>\r\n        <path d=\"M 1831 0 \r\nL 50 4666 \r\nL 709 4666 \r\nL 2188 738 \r\nL 3669 4666 \r\nL 4325 4666 \r\nL 2547 0 \r\nL 1831 0 \r\nz\r\n\" id=\"DejaVuSans-56\" transform=\"scale(0.015625)\"/>\r\n       </defs>\r\n       <use xlink:href=\"#DejaVuSans-41\"/>\r\n       <use x=\"68.408203\" xlink:href=\"#DejaVuSans-44\"/>\r\n       <use x=\"143.660156\" xlink:href=\"#DejaVuSans-56\"/>\r\n      </g>\r\n     </g>\r\n    </g>\r\n    <g id=\"xtick_4\">\r\n     <g id=\"line2d_4\">\r\n      <g>\r\n       <use style=\"stroke:#000000;stroke-width:0.8;\" x=\"131.516194\" xlink:href=\"#m6bc7eac155\" y=\"381.787407\"/>\r\n      </g>\r\n     </g>\r\n     <g id=\"text_4\">\r\n      <!-- CDEM -->\r\n      <g transform=\"translate(122.99169 415.111667)rotate(-45)scale(0.1 -0.1)\">\r\n       <defs>\r\n        <path d=\"M 4122 4306 \r\nL 4122 3641 \r\nQ 3803 3938 3442 4084 \r\nQ 3081 4231 2675 4231 \r\nQ 1875 4231 1450 3742 \r\nQ 1025 3253 1025 2328 \r\nQ 1025 1406 1450 917 \r\nQ 1875 428 2675 428 \r\nQ 3081 428 3442 575 \r\nQ 3803 722 4122 1019 \r\nL 4122 359 \r\nQ 3791 134 3420 21 \r\nQ 3050 -91 2638 -91 \r\nQ 1578 -91 968 557 \r\nQ 359 1206 359 2328 \r\nQ 359 3453 968 4101 \r\nQ 1578 4750 2638 4750 \r\nQ 3056 4750 3426 4639 \r\nQ 3797 4528 4122 4306 \r\nz\r\n\" id=\"DejaVuSans-43\" transform=\"scale(0.015625)\"/>\r\n        <path d=\"M 628 4666 \r\nL 3578 4666 \r\nL 3578 4134 \r\nL 1259 4134 \r\nL 1259 2753 \r\nL 3481 2753 \r\nL 3481 2222 \r\nL 1259 2222 \r\nL 1259 531 \r\nL 3634 531 \r\nL 3634 0 \r\nL 628 0 \r\nL 628 4666 \r\nz\r\n\" id=\"DejaVuSans-45\" transform=\"scale(0.015625)\"/>\r\n        <path d=\"M 628 4666 \r\nL 1569 4666 \r\nL 2759 1491 \r\nL 3956 4666 \r\nL 4897 4666 \r\nL 4897 0 \r\nL 4281 0 \r\nL 4281 4097 \r\nL 3078 897 \r\nL 2444 897 \r\nL 1241 4097 \r\nL 1241 0 \r\nL 628 0 \r\nL 628 4666 \r\nz\r\n\" id=\"DejaVuSans-4d\" transform=\"scale(0.015625)\"/>\r\n       </defs>\r\n       <use xlink:href=\"#DejaVuSans-43\"/>\r\n       <use x=\"69.824219\" xlink:href=\"#DejaVuSans-44\"/>\r\n       <use x=\"146.826172\" xlink:href=\"#DejaVuSans-45\"/>\r\n       <use x=\"210.009766\" xlink:href=\"#DejaVuSans-4d\"/>\r\n      </g>\r\n     </g>\r\n    </g>\r\n    <g id=\"xtick_5\">\r\n     <g id=\"line2d_5\">\r\n      <g>\r\n       <use style=\"stroke:#000000;stroke-width:0.8;\" x=\"152.661446\" xlink:href=\"#m6bc7eac155\" y=\"381.787407\"/>\r\n      </g>\r\n     </g>\r\n     <g id=\"text_5\">\r\n      <!-- CONJ -->\r\n      <g transform=\"translate(145.67269 412.040172)rotate(-45)scale(0.1 -0.1)\">\r\n       <defs>\r\n        <path d=\"M 2522 4238 \r\nQ 1834 4238 1429 3725 \r\nQ 1025 3213 1025 2328 \r\nQ 1025 1447 1429 934 \r\nQ 1834 422 2522 422 \r\nQ 3209 422 3611 934 \r\nQ 4013 1447 4013 2328 \r\nQ 4013 3213 3611 3725 \r\nQ 3209 4238 2522 4238 \r\nz\r\nM 2522 4750 \r\nQ 3503 4750 4090 4092 \r\nQ 4678 3434 4678 2328 \r\nQ 4678 1225 4090 567 \r\nQ 3503 -91 2522 -91 \r\nQ 1538 -91 948 565 \r\nQ 359 1222 359 2328 \r\nQ 359 3434 948 4092 \r\nQ 1538 4750 2522 4750 \r\nz\r\n\" id=\"DejaVuSans-4f\" transform=\"scale(0.015625)\"/>\r\n        <path d=\"M 628 4666 \r\nL 1478 4666 \r\nL 3547 763 \r\nL 3547 4666 \r\nL 4159 4666 \r\nL 4159 0 \r\nL 3309 0 \r\nL 1241 3903 \r\nL 1241 0 \r\nL 628 0 \r\nL 628 4666 \r\nz\r\n\" id=\"DejaVuSans-4e\" transform=\"scale(0.015625)\"/>\r\n       </defs>\r\n       <use xlink:href=\"#DejaVuSans-43\"/>\r\n       <use x=\"69.824219\" xlink:href=\"#DejaVuSans-4f\"/>\r\n       <use x=\"148.535156\" xlink:href=\"#DejaVuSans-4e\"/>\r\n       <use x=\"223.339844\" xlink:href=\"#DejaVuSans-4a\"/>\r\n      </g>\r\n     </g>\r\n    </g>\r\n    <g id=\"xtick_6\">\r\n     <g id=\"line2d_6\">\r\n      <g>\r\n       <use style=\"stroke:#000000;stroke-width:0.8;\" x=\"173.806698\" xlink:href=\"#m6bc7eac155\" y=\"381.787407\"/>\r\n      </g>\r\n     </g>\r\n     <g id=\"text_6\">\r\n      <!-- COP -->\r\n      <g transform=\"translate(168.374129 408.927797)rotate(-45)scale(0.1 -0.1)\">\r\n       <defs>\r\n        <path d=\"M 1259 4147 \r\nL 1259 2394 \r\nL 2053 2394 \r\nQ 2494 2394 2734 2622 \r\nQ 2975 2850 2975 3272 \r\nQ 2975 3691 2734 3919 \r\nQ 2494 4147 2053 4147 \r\nL 1259 4147 \r\nz\r\nM 628 4666 \r\nL 2053 4666 \r\nQ 2838 4666 3239 4311 \r\nQ 3641 3956 3641 3272 \r\nQ 3641 2581 3239 2228 \r\nQ 2838 1875 2053 1875 \r\nL 1259 1875 \r\nL 1259 0 \r\nL 628 0 \r\nL 628 4666 \r\nz\r\n\" id=\"DejaVuSans-50\" transform=\"scale(0.015625)\"/>\r\n       </defs>\r\n       <use xlink:href=\"#DejaVuSans-43\"/>\r\n       <use x=\"69.824219\" xlink:href=\"#DejaVuSans-4f\"/>\r\n       <use x=\"148.535156\" xlink:href=\"#DejaVuSans-50\"/>\r\n      </g>\r\n     </g>\r\n    </g>\r\n    <g id=\"xtick_7\">\r\n     <g id=\"line2d_7\">\r\n      <g>\r\n       <use style=\"stroke:#000000;stroke-width:0.8;\" x=\"194.95195\" xlink:href=\"#m6bc7eac155\" y=\"381.787407\"/>\r\n      </g>\r\n     </g>\r\n     <g id=\"text_7\">\r\n      <!-- FOR -->\r\n      <g transform=\"translate(189.629866 408.706826)rotate(-45)scale(0.1 -0.1)\">\r\n       <defs>\r\n        <path d=\"M 628 4666 \r\nL 3309 4666 \r\nL 3309 4134 \r\nL 1259 4134 \r\nL 1259 2759 \r\nL 3109 2759 \r\nL 3109 2228 \r\nL 1259 2228 \r\nL 1259 0 \r\nL 628 0 \r\nL 628 4666 \r\nz\r\n\" id=\"DejaVuSans-46\" transform=\"scale(0.015625)\"/>\r\n       </defs>\r\n       <use xlink:href=\"#DejaVuSans-46\"/>\r\n       <use x=\"57.519531\" xlink:href=\"#DejaVuSans-4f\"/>\r\n       <use x=\"136.230469\" xlink:href=\"#DejaVuSans-52\"/>\r\n      </g>\r\n     </g>\r\n    </g>\r\n    <g id=\"xtick_8\">\r\n     <g id=\"line2d_8\">\r\n      <g>\r\n       <use style=\"stroke:#000000;stroke-width:0.8;\" x=\"216.097202\" xlink:href=\"#m6bc7eac155\" y=\"381.787407\"/>\r\n      </g>\r\n     </g>\r\n     <g id=\"text_8\">\r\n      <!-- IDEO -->\r\n      <g transform=\"translate(209.265887 411.725288)rotate(-45)scale(0.1 -0.1)\">\r\n       <defs>\r\n        <path d=\"M 628 4666 \r\nL 1259 4666 \r\nL 1259 0 \r\nL 628 0 \r\nL 628 4666 \r\nz\r\n\" id=\"DejaVuSans-49\" transform=\"scale(0.015625)\"/>\r\n       </defs>\r\n       <use xlink:href=\"#DejaVuSans-49\"/>\r\n       <use x=\"29.492188\" xlink:href=\"#DejaVuSans-44\"/>\r\n       <use x=\"106.494141\" xlink:href=\"#DejaVuSans-45\"/>\r\n       <use x=\"169.677734\" xlink:href=\"#DejaVuSans-4f\"/>\r\n      </g>\r\n     </g>\r\n    </g>\r\n    <g id=\"xtick_9\">\r\n     <g id=\"line2d_9\">\r\n      <g>\r\n       <use style=\"stroke:#000000;stroke-width:0.8;\" x=\"237.242454\" xlink:href=\"#m6bc7eac155\" y=\"381.787407\"/>\r\n      </g>\r\n     </g>\r\n     <g id=\"text_9\">\r\n      <!-- INT -->\r\n      <g transform=\"translate(233.346185 405.855197)rotate(-45)scale(0.1 -0.1)\">\r\n       <defs>\r\n        <path d=\"M -19 4666 \r\nL 3928 4666 \r\nL 3928 4134 \r\nL 2272 4134 \r\nL 2272 0 \r\nL 1638 0 \r\nL 1638 4134 \r\nL -19 4134 \r\nL -19 4666 \r\nz\r\n\" id=\"DejaVuSans-54\" transform=\"scale(0.015625)\"/>\r\n       </defs>\r\n       <use xlink:href=\"#DejaVuSans-49\"/>\r\n       <use x=\"29.492188\" xlink:href=\"#DejaVuSans-4e\"/>\r\n       <use x=\"104.296875\" xlink:href=\"#DejaVuSans-54\"/>\r\n      </g>\r\n     </g>\r\n    </g>\r\n    <g id=\"xtick_10\">\r\n     <g id=\"line2d_10\">\r\n      <g>\r\n       <use style=\"stroke:#000000;stroke-width:0.8;\" x=\"258.387705\" xlink:href=\"#m6bc7eac155\" y=\"381.787407\"/>\r\n      </g>\r\n     </g>\r\n     <g id=\"text_10\">\r\n      <!-- N -->\r\n      <g transform=\"translate(257.693857 399.450356)rotate(-45)scale(0.1 -0.1)\">\r\n       <use xlink:href=\"#DejaVuSans-4e\"/>\r\n      </g>\r\n     </g>\r\n    </g>\r\n    <g id=\"xtick_11\">\r\n     <g id=\"line2d_11\">\r\n      <g>\r\n       <use style=\"stroke:#000000;stroke-width:0.8;\" x=\"279.532957\" xlink:href=\"#m6bc7eac155\" y=\"381.787407\"/>\r\n      </g>\r\n     </g>\r\n     <g id=\"text_11\">\r\n      <!-- NUM -->\r\n      <g transform=\"translate(273.201037 410.7265)rotate(-45)scale(0.1 -0.1)\">\r\n       <defs>\r\n        <path d=\"M 556 4666 \r\nL 1191 4666 \r\nL 1191 1831 \r\nQ 1191 1081 1462 751 \r\nQ 1734 422 2344 422 \r\nQ 2950 422 3222 751 \r\nQ 3494 1081 3494 1831 \r\nL 3494 4666 \r\nL 4128 4666 \r\nL 4128 1753 \r\nQ 4128 841 3676 375 \r\nQ 3225 -91 2344 -91 \r\nQ 1459 -91 1007 375 \r\nQ 556 841 556 1753 \r\nL 556 4666 \r\nz\r\n\" id=\"DejaVuSans-55\" transform=\"scale(0.015625)\"/>\r\n       </defs>\r\n       <use xlink:href=\"#DejaVuSans-4e\"/>\r\n       <use x=\"74.804688\" xlink:href=\"#DejaVuSans-55\"/>\r\n       <use x=\"147.998047\" xlink:href=\"#DejaVuSans-4d\"/>\r\n      </g>\r\n     </g>\r\n    </g>\r\n    <g id=\"xtick_12\">\r\n     <g id=\"line2d_12\">\r\n      <g>\r\n       <use style=\"stroke:#000000;stroke-width:0.8;\" x=\"300.678209\" xlink:href=\"#m6bc7eac155\" y=\"381.787407\"/>\r\n      </g>\r\n     </g>\r\n     <g id=\"text_12\">\r\n      <!-- POSS -->\r\n      <g transform=\"translate(293.225414 412.968249)rotate(-45)scale(0.1 -0.1)\">\r\n       <defs>\r\n        <path d=\"M 3425 4513 \r\nL 3425 3897 \r\nQ 3066 4069 2747 4153 \r\nQ 2428 4238 2131 4238 \r\nQ 1616 4238 1336 4038 \r\nQ 1056 3838 1056 3469 \r\nQ 1056 3159 1242 3001 \r\nQ 1428 2844 1947 2747 \r\nL 2328 2669 \r\nQ 3034 2534 3370 2195 \r\nQ 3706 1856 3706 1288 \r\nQ 3706 609 3251 259 \r\nQ 2797 -91 1919 -91 \r\nQ 1588 -91 1214 -16 \r\nQ 841 59 441 206 \r\nL 441 856 \r\nQ 825 641 1194 531 \r\nQ 1563 422 1919 422 \r\nQ 2459 422 2753 634 \r\nQ 3047 847 3047 1241 \r\nQ 3047 1584 2836 1778 \r\nQ 2625 1972 2144 2069 \r\nL 1759 2144 \r\nQ 1053 2284 737 2584 \r\nQ 422 2884 422 3419 \r\nQ 422 4038 858 4394 \r\nQ 1294 4750 2059 4750 \r\nQ 2388 4750 2728 4690 \r\nQ 3069 4631 3425 4513 \r\nz\r\n\" id=\"DejaVuSans-53\" transform=\"scale(0.015625)\"/>\r\n       </defs>\r\n       <use xlink:href=\"#DejaVuSans-50\"/>\r\n       <use x=\"60.302734\" xlink:href=\"#DejaVuSans-4f\"/>\r\n       <use x=\"139.013672\" xlink:href=\"#DejaVuSans-53\"/>\r\n       <use x=\"202.490234\" xlink:href=\"#DejaVuSans-53\"/>\r\n      </g>\r\n     </g>\r\n    </g>\r\n    <g id=\"xtick_13\">\r\n     <g id=\"line2d_13\">\r\n      <g>\r\n       <use style=\"stroke:#000000;stroke-width:0.8;\" x=\"321.823461\" xlink:href=\"#m6bc7eac155\" y=\"381.787407\"/>\r\n      </g>\r\n     </g>\r\n     <g id=\"text_13\">\r\n      <!-- PRO -->\r\n      <g transform=\"translate(316.403046 408.90349)rotate(-45)scale(0.1 -0.1)\">\r\n       <use xlink:href=\"#DejaVuSans-50\"/>\r\n       <use x=\"60.302734\" xlink:href=\"#DejaVuSans-52\"/>\r\n       <use x=\"129.785156\" xlink:href=\"#DejaVuSans-4f\"/>\r\n      </g>\r\n     </g>\r\n    </g>\r\n    <g id=\"xtick_14\">\r\n     <g id=\"line2d_14\">\r\n      <g>\r\n       <use style=\"stroke:#000000;stroke-width:0.8;\" x=\"342.968713\" xlink:href=\"#m6bc7eac155\" y=\"381.787407\"/>\r\n      </g>\r\n     </g>\r\n     <g id=\"text_14\">\r\n      <!-- PUNC -->\r\n      <g transform=\"translate(335.086682 413.826721)rotate(-45)scale(0.1 -0.1)\">\r\n       <use xlink:href=\"#DejaVuSans-50\"/>\r\n       <use x=\"60.302734\" xlink:href=\"#DejaVuSans-55\"/>\r\n       <use x=\"133.496094\" xlink:href=\"#DejaVuSans-4e\"/>\r\n       <use x=\"208.300781\" xlink:href=\"#DejaVuSans-43\"/>\r\n      </g>\r\n     </g>\r\n    </g>\r\n    <g id=\"xtick_15\">\r\n     <g id=\"line2d_15\">\r\n      <g>\r\n       <use style=\"stroke:#000000;stroke-width:0.8;\" x=\"364.113965\" xlink:href=\"#m6bc7eac155\" y=\"381.787407\"/>\r\n      </g>\r\n     </g>\r\n     <g id=\"text_15\">\r\n      <!-- REL -->\r\n      <g transform=\"translate(359.404523 407.481543)rotate(-45)scale(0.1 -0.1)\">\r\n       <defs>\r\n        <path d=\"M 628 4666 \r\nL 1259 4666 \r\nL 1259 531 \r\nL 3531 531 \r\nL 3531 0 \r\nL 628 0 \r\nL 628 4666 \r\nz\r\n\" id=\"DejaVuSans-4c\" transform=\"scale(0.015625)\"/>\r\n       </defs>\r\n       <use xlink:href=\"#DejaVuSans-52\"/>\r\n       <use x=\"69.482422\" xlink:href=\"#DejaVuSans-45\"/>\r\n       <use x=\"132.666016\" xlink:href=\"#DejaVuSans-4c\"/>\r\n      </g>\r\n     </g>\r\n    </g>\r\n    <g id=\"xtick_16\">\r\n     <g id=\"line2d_16\">\r\n      <g>\r\n       <use style=\"stroke:#000000;stroke-width:0.8;\" x=\"385.259217\" xlink:href=\"#m6bc7eac155\" y=\"381.787407\"/>\r\n      </g>\r\n     </g>\r\n     <g id=\"text_16\">\r\n      <!-- V -->\r\n      <g transform=\"translate(384.791863 398.997366)rotate(-45)scale(0.1 -0.1)\">\r\n       <use xlink:href=\"#DejaVuSans-56\"/>\r\n      </g>\r\n     </g>\r\n    </g>\r\n    <g id=\"xtick_17\">\r\n     <g id=\"line2d_17\">\r\n      <g>\r\n       <use style=\"stroke:#000000;stroke-width:0.8;\" x=\"406.404469\" xlink:href=\"#m6bc7eac155\" y=\"381.787407\"/>\r\n      </g>\r\n     </g>\r\n     <g id=\"text_17\">\r\n      <!-- X -->\r\n      <g transform=\"translate(405.933801 399.003995)rotate(-45)scale(0.1 -0.1)\">\r\n       <defs>\r\n        <path d=\"M 403 4666 \r\nL 1081 4666 \r\nL 2241 2931 \r\nL 3406 4666 \r\nL 4084 4666 \r\nL 2584 2425 \r\nL 4184 0 \r\nL 3506 0 \r\nL 2194 1984 \r\nL 872 0 \r\nL 191 0 \r\nL 1856 2491 \r\nL 403 4666 \r\nz\r\n\" id=\"DejaVuSans-58\" transform=\"scale(0.015625)\"/>\r\n       </defs>\r\n       <use xlink:href=\"#DejaVuSans-58\"/>\r\n      </g>\r\n     </g>\r\n    </g>\r\n    <g id=\"text_18\">\r\n     <!-- Predicted label -->\r\n     <g transform=\"translate(200.09011 428.180665)scale(0.1 -0.1)\">\r\n      <defs>\r\n       <path d=\"M 2631 2963 \r\nQ 2534 3019 2420 3045 \r\nQ 2306 3072 2169 3072 \r\nQ 1681 3072 1420 2755 \r\nQ 1159 2438 1159 1844 \r\nL 1159 0 \r\nL 581 0 \r\nL 581 3500 \r\nL 1159 3500 \r\nL 1159 2956 \r\nQ 1341 3275 1631 3429 \r\nQ 1922 3584 2338 3584 \r\nQ 2397 3584 2469 3576 \r\nQ 2541 3569 2628 3553 \r\nL 2631 2963 \r\nz\r\n\" id=\"DejaVuSans-72\" transform=\"scale(0.015625)\"/>\r\n       <path d=\"M 3597 1894 \r\nL 3597 1613 \r\nL 953 1613 \r\nQ 991 1019 1311 708 \r\nQ 1631 397 2203 397 \r\nQ 2534 397 2845 478 \r\nQ 3156 559 3463 722 \r\nL 3463 178 \r\nQ 3153 47 2828 -22 \r\nQ 2503 -91 2169 -91 \r\nQ 1331 -91 842 396 \r\nQ 353 884 353 1716 \r\nQ 353 2575 817 3079 \r\nQ 1281 3584 2069 3584 \r\nQ 2775 3584 3186 3129 \r\nQ 3597 2675 3597 1894 \r\nz\r\nM 3022 2063 \r\nQ 3016 2534 2758 2815 \r\nQ 2500 3097 2075 3097 \r\nQ 1594 3097 1305 2825 \r\nQ 1016 2553 972 2059 \r\nL 3022 2063 \r\nz\r\n\" id=\"DejaVuSans-65\" transform=\"scale(0.015625)\"/>\r\n       <path d=\"M 2906 2969 \r\nL 2906 4863 \r\nL 3481 4863 \r\nL 3481 0 \r\nL 2906 0 \r\nL 2906 525 \r\nQ 2725 213 2448 61 \r\nQ 2172 -91 1784 -91 \r\nQ 1150 -91 751 415 \r\nQ 353 922 353 1747 \r\nQ 353 2572 751 3078 \r\nQ 1150 3584 1784 3584 \r\nQ 2172 3584 2448 3432 \r\nQ 2725 3281 2906 2969 \r\nz\r\nM 947 1747 \r\nQ 947 1113 1208 752 \r\nQ 1469 391 1925 391 \r\nQ 2381 391 2643 752 \r\nQ 2906 1113 2906 1747 \r\nQ 2906 2381 2643 2742 \r\nQ 2381 3103 1925 3103 \r\nQ 1469 3103 1208 2742 \r\nQ 947 2381 947 1747 \r\nz\r\n\" id=\"DejaVuSans-64\" transform=\"scale(0.015625)\"/>\r\n       <path d=\"M 603 3500 \r\nL 1178 3500 \r\nL 1178 0 \r\nL 603 0 \r\nL 603 3500 \r\nz\r\nM 603 4863 \r\nL 1178 4863 \r\nL 1178 4134 \r\nL 603 4134 \r\nL 603 4863 \r\nz\r\n\" id=\"DejaVuSans-69\" transform=\"scale(0.015625)\"/>\r\n       <path d=\"M 3122 3366 \r\nL 3122 2828 \r\nQ 2878 2963 2633 3030 \r\nQ 2388 3097 2138 3097 \r\nQ 1578 3097 1268 2742 \r\nQ 959 2388 959 1747 \r\nQ 959 1106 1268 751 \r\nQ 1578 397 2138 397 \r\nQ 2388 397 2633 464 \r\nQ 2878 531 3122 666 \r\nL 3122 134 \r\nQ 2881 22 2623 -34 \r\nQ 2366 -91 2075 -91 \r\nQ 1284 -91 818 406 \r\nQ 353 903 353 1747 \r\nQ 353 2603 823 3093 \r\nQ 1294 3584 2113 3584 \r\nQ 2378 3584 2631 3529 \r\nQ 2884 3475 3122 3366 \r\nz\r\n\" id=\"DejaVuSans-63\" transform=\"scale(0.015625)\"/>\r\n       <path d=\"M 1172 4494 \r\nL 1172 3500 \r\nL 2356 3500 \r\nL 2356 3053 \r\nL 1172 3053 \r\nL 1172 1153 \r\nQ 1172 725 1289 603 \r\nQ 1406 481 1766 481 \r\nL 2356 481 \r\nL 2356 0 \r\nL 1766 0 \r\nQ 1100 0 847 248 \r\nQ 594 497 594 1153 \r\nL 594 3053 \r\nL 172 3053 \r\nL 172 3500 \r\nL 594 3500 \r\nL 594 4494 \r\nL 1172 4494 \r\nz\r\n\" id=\"DejaVuSans-74\" transform=\"scale(0.015625)\"/>\r\n       <path id=\"DejaVuSans-20\" transform=\"scale(0.015625)\"/>\r\n       <path d=\"M 603 4863 \r\nL 1178 4863 \r\nL 1178 0 \r\nL 603 0 \r\nL 603 4863 \r\nz\r\n\" id=\"DejaVuSans-6c\" transform=\"scale(0.015625)\"/>\r\n       <path d=\"M 2194 1759 \r\nQ 1497 1759 1228 1600 \r\nQ 959 1441 959 1056 \r\nQ 959 750 1161 570 \r\nQ 1363 391 1709 391 \r\nQ 2188 391 2477 730 \r\nQ 2766 1069 2766 1631 \r\nL 2766 1759 \r\nL 2194 1759 \r\nz\r\nM 3341 1997 \r\nL 3341 0 \r\nL 2766 0 \r\nL 2766 531 \r\nQ 2569 213 2275 61 \r\nQ 1981 -91 1556 -91 \r\nQ 1019 -91 701 211 \r\nQ 384 513 384 1019 \r\nQ 384 1609 779 1909 \r\nQ 1175 2209 1959 2209 \r\nL 2766 2209 \r\nL 2766 2266 \r\nQ 2766 2663 2505 2880 \r\nQ 2244 3097 1772 3097 \r\nQ 1472 3097 1187 3025 \r\nQ 903 2953 641 2809 \r\nL 641 3341 \r\nQ 956 3463 1253 3523 \r\nQ 1550 3584 1831 3584 \r\nQ 2591 3584 2966 3190 \r\nQ 3341 2797 3341 1997 \r\nz\r\n\" id=\"DejaVuSans-61\" transform=\"scale(0.015625)\"/>\r\n       <path d=\"M 3116 1747 \r\nQ 3116 2381 2855 2742 \r\nQ 2594 3103 2138 3103 \r\nQ 1681 3103 1420 2742 \r\nQ 1159 2381 1159 1747 \r\nQ 1159 1113 1420 752 \r\nQ 1681 391 2138 391 \r\nQ 2594 391 2855 752 \r\nQ 3116 1113 3116 1747 \r\nz\r\nM 1159 2969 \r\nQ 1341 3281 1617 3432 \r\nQ 1894 3584 2278 3584 \r\nQ 2916 3584 3314 3078 \r\nQ 3713 2572 3713 1747 \r\nQ 3713 922 3314 415 \r\nQ 2916 -91 2278 -91 \r\nQ 1894 -91 1617 61 \r\nQ 1341 213 1159 525 \r\nL 1159 0 \r\nL 581 0 \r\nL 581 4863 \r\nL 1159 4863 \r\nL 1159 2969 \r\nz\r\n\" id=\"DejaVuSans-62\" transform=\"scale(0.015625)\"/>\r\n      </defs>\r\n      <use xlink:href=\"#DejaVuSans-50\"/>\r\n      <use x=\"58.552734\" xlink:href=\"#DejaVuSans-72\"/>\r\n      <use x=\"97.416016\" xlink:href=\"#DejaVuSans-65\"/>\r\n      <use x=\"158.939453\" xlink:href=\"#DejaVuSans-64\"/>\r\n      <use x=\"222.416016\" xlink:href=\"#DejaVuSans-69\"/>\r\n      <use x=\"250.199219\" xlink:href=\"#DejaVuSans-63\"/>\r\n      <use x=\"305.179688\" xlink:href=\"#DejaVuSans-74\"/>\r\n      <use x=\"344.388672\" xlink:href=\"#DejaVuSans-65\"/>\r\n      <use x=\"405.912109\" xlink:href=\"#DejaVuSans-64\"/>\r\n      <use x=\"469.388672\" xlink:href=\"#DejaVuSans-20\"/>\r\n      <use x=\"501.175781\" xlink:href=\"#DejaVuSans-6c\"/>\r\n      <use x=\"528.958984\" xlink:href=\"#DejaVuSans-61\"/>\r\n      <use x=\"590.238281\" xlink:href=\"#DejaVuSans-62\"/>\r\n      <use x=\"653.714844\" xlink:href=\"#DejaVuSans-65\"/>\r\n      <use x=\"715.238281\" xlink:href=\"#DejaVuSans-6c\"/>\r\n     </g>\r\n     <!-- accuracy=0.9074; misclass=0.0926; f1-score=0.8863 -->\r\n     <g transform=\"translate(101.626829 439.378478)scale(0.1 -0.1)\">\r\n      <defs>\r\n       <path d=\"M 544 1381 \r\nL 544 3500 \r\nL 1119 3500 \r\nL 1119 1403 \r\nQ 1119 906 1312 657 \r\nQ 1506 409 1894 409 \r\nQ 2359 409 2629 706 \r\nQ 2900 1003 2900 1516 \r\nL 2900 3500 \r\nL 3475 3500 \r\nL 3475 0 \r\nL 2900 0 \r\nL 2900 538 \r\nQ 2691 219 2414 64 \r\nQ 2138 -91 1772 -91 \r\nQ 1169 -91 856 284 \r\nQ 544 659 544 1381 \r\nz\r\nM 1991 3584 \r\nL 1991 3584 \r\nz\r\n\" id=\"DejaVuSans-75\" transform=\"scale(0.015625)\"/>\r\n       <path d=\"M 2059 -325 \r\nQ 1816 -950 1584 -1140 \r\nQ 1353 -1331 966 -1331 \r\nL 506 -1331 \r\nL 506 -850 \r\nL 844 -850 \r\nQ 1081 -850 1212 -737 \r\nQ 1344 -625 1503 -206 \r\nL 1606 56 \r\nL 191 3500 \r\nL 800 3500 \r\nL 1894 763 \r\nL 2988 3500 \r\nL 3597 3500 \r\nL 2059 -325 \r\nz\r\n\" id=\"DejaVuSans-79\" transform=\"scale(0.015625)\"/>\r\n       <path d=\"M 678 2906 \r\nL 4684 2906 \r\nL 4684 2381 \r\nL 678 2381 \r\nL 678 2906 \r\nz\r\nM 678 1631 \r\nL 4684 1631 \r\nL 4684 1100 \r\nL 678 1100 \r\nL 678 1631 \r\nz\r\n\" id=\"DejaVuSans-3d\" transform=\"scale(0.015625)\"/>\r\n       <path d=\"M 2034 4250 \r\nQ 1547 4250 1301 3770 \r\nQ 1056 3291 1056 2328 \r\nQ 1056 1369 1301 889 \r\nQ 1547 409 2034 409 \r\nQ 2525 409 2770 889 \r\nQ 3016 1369 3016 2328 \r\nQ 3016 3291 2770 3770 \r\nQ 2525 4250 2034 4250 \r\nz\r\nM 2034 4750 \r\nQ 2819 4750 3233 4129 \r\nQ 3647 3509 3647 2328 \r\nQ 3647 1150 3233 529 \r\nQ 2819 -91 2034 -91 \r\nQ 1250 -91 836 529 \r\nQ 422 1150 422 2328 \r\nQ 422 3509 836 4129 \r\nQ 1250 4750 2034 4750 \r\nz\r\n\" id=\"DejaVuSans-30\" transform=\"scale(0.015625)\"/>\r\n       <path d=\"M 684 794 \r\nL 1344 794 \r\nL 1344 0 \r\nL 684 0 \r\nL 684 794 \r\nz\r\n\" id=\"DejaVuSans-2e\" transform=\"scale(0.015625)\"/>\r\n       <path d=\"M 703 97 \r\nL 703 672 \r\nQ 941 559 1184 500 \r\nQ 1428 441 1663 441 \r\nQ 2288 441 2617 861 \r\nQ 2947 1281 2994 2138 \r\nQ 2813 1869 2534 1725 \r\nQ 2256 1581 1919 1581 \r\nQ 1219 1581 811 2004 \r\nQ 403 2428 403 3163 \r\nQ 403 3881 828 4315 \r\nQ 1253 4750 1959 4750 \r\nQ 2769 4750 3195 4129 \r\nQ 3622 3509 3622 2328 \r\nQ 3622 1225 3098 567 \r\nQ 2575 -91 1691 -91 \r\nQ 1453 -91 1209 -44 \r\nQ 966 3 703 97 \r\nz\r\nM 1959 2075 \r\nQ 2384 2075 2632 2365 \r\nQ 2881 2656 2881 3163 \r\nQ 2881 3666 2632 3958 \r\nQ 2384 4250 1959 4250 \r\nQ 1534 4250 1286 3958 \r\nQ 1038 3666 1038 3163 \r\nQ 1038 2656 1286 2365 \r\nQ 1534 2075 1959 2075 \r\nz\r\n\" id=\"DejaVuSans-39\" transform=\"scale(0.015625)\"/>\r\n       <path d=\"M 525 4666 \r\nL 3525 4666 \r\nL 3525 4397 \r\nL 1831 0 \r\nL 1172 0 \r\nL 2766 4134 \r\nL 525 4134 \r\nL 525 4666 \r\nz\r\n\" id=\"DejaVuSans-37\" transform=\"scale(0.015625)\"/>\r\n       <path d=\"M 2419 4116 \r\nL 825 1625 \r\nL 2419 1625 \r\nL 2419 4116 \r\nz\r\nM 2253 4666 \r\nL 3047 4666 \r\nL 3047 1625 \r\nL 3713 1625 \r\nL 3713 1100 \r\nL 3047 1100 \r\nL 3047 0 \r\nL 2419 0 \r\nL 2419 1100 \r\nL 313 1100 \r\nL 313 1709 \r\nL 2253 4666 \r\nz\r\n\" id=\"DejaVuSans-34\" transform=\"scale(0.015625)\"/>\r\n       <path d=\"M 750 3309 \r\nL 1409 3309 \r\nL 1409 2516 \r\nL 750 2516 \r\nL 750 3309 \r\nz\r\nM 750 794 \r\nL 1409 794 \r\nL 1409 256 \r\nL 897 -744 \r\nL 494 -744 \r\nL 750 256 \r\nL 750 794 \r\nz\r\n\" id=\"DejaVuSans-3b\" transform=\"scale(0.015625)\"/>\r\n       <path d=\"M 3328 2828 \r\nQ 3544 3216 3844 3400 \r\nQ 4144 3584 4550 3584 \r\nQ 5097 3584 5394 3201 \r\nQ 5691 2819 5691 2113 \r\nL 5691 0 \r\nL 5113 0 \r\nL 5113 2094 \r\nQ 5113 2597 4934 2840 \r\nQ 4756 3084 4391 3084 \r\nQ 3944 3084 3684 2787 \r\nQ 3425 2491 3425 1978 \r\nL 3425 0 \r\nL 2847 0 \r\nL 2847 2094 \r\nQ 2847 2600 2669 2842 \r\nQ 2491 3084 2119 3084 \r\nQ 1678 3084 1418 2786 \r\nQ 1159 2488 1159 1978 \r\nL 1159 0 \r\nL 581 0 \r\nL 581 3500 \r\nL 1159 3500 \r\nL 1159 2956 \r\nQ 1356 3278 1631 3431 \r\nQ 1906 3584 2284 3584 \r\nQ 2666 3584 2933 3390 \r\nQ 3200 3197 3328 2828 \r\nz\r\n\" id=\"DejaVuSans-6d\" transform=\"scale(0.015625)\"/>\r\n       <path d=\"M 2834 3397 \r\nL 2834 2853 \r\nQ 2591 2978 2328 3040 \r\nQ 2066 3103 1784 3103 \r\nQ 1356 3103 1142 2972 \r\nQ 928 2841 928 2578 \r\nQ 928 2378 1081 2264 \r\nQ 1234 2150 1697 2047 \r\nL 1894 2003 \r\nQ 2506 1872 2764 1633 \r\nQ 3022 1394 3022 966 \r\nQ 3022 478 2636 193 \r\nQ 2250 -91 1575 -91 \r\nQ 1294 -91 989 -36 \r\nQ 684 19 347 128 \r\nL 347 722 \r\nQ 666 556 975 473 \r\nQ 1284 391 1588 391 \r\nQ 1994 391 2212 530 \r\nQ 2431 669 2431 922 \r\nQ 2431 1156 2273 1281 \r\nQ 2116 1406 1581 1522 \r\nL 1381 1569 \r\nQ 847 1681 609 1914 \r\nQ 372 2147 372 2553 \r\nQ 372 3047 722 3315 \r\nQ 1072 3584 1716 3584 \r\nQ 2034 3584 2315 3537 \r\nQ 2597 3491 2834 3397 \r\nz\r\n\" id=\"DejaVuSans-73\" transform=\"scale(0.015625)\"/>\r\n       <path d=\"M 1228 531 \r\nL 3431 531 \r\nL 3431 0 \r\nL 469 0 \r\nL 469 531 \r\nQ 828 903 1448 1529 \r\nQ 2069 2156 2228 2338 \r\nQ 2531 2678 2651 2914 \r\nQ 2772 3150 2772 3378 \r\nQ 2772 3750 2511 3984 \r\nQ 2250 4219 1831 4219 \r\nQ 1534 4219 1204 4116 \r\nQ 875 4013 500 3803 \r\nL 500 4441 \r\nQ 881 4594 1212 4672 \r\nQ 1544 4750 1819 4750 \r\nQ 2544 4750 2975 4387 \r\nQ 3406 4025 3406 3419 \r\nQ 3406 3131 3298 2873 \r\nQ 3191 2616 2906 2266 \r\nQ 2828 2175 2409 1742 \r\nQ 1991 1309 1228 531 \r\nz\r\n\" id=\"DejaVuSans-32\" transform=\"scale(0.015625)\"/>\r\n       <path d=\"M 2113 2584 \r\nQ 1688 2584 1439 2293 \r\nQ 1191 2003 1191 1497 \r\nQ 1191 994 1439 701 \r\nQ 1688 409 2113 409 \r\nQ 2538 409 2786 701 \r\nQ 3034 994 3034 1497 \r\nQ 3034 2003 2786 2293 \r\nQ 2538 2584 2113 2584 \r\nz\r\nM 3366 4563 \r\nL 3366 3988 \r\nQ 3128 4100 2886 4159 \r\nQ 2644 4219 2406 4219 \r\nQ 1781 4219 1451 3797 \r\nQ 1122 3375 1075 2522 \r\nQ 1259 2794 1537 2939 \r\nQ 1816 3084 2150 3084 \r\nQ 2853 3084 3261 2657 \r\nQ 3669 2231 3669 1497 \r\nQ 3669 778 3244 343 \r\nQ 2819 -91 2113 -91 \r\nQ 1303 -91 875 529 \r\nQ 447 1150 447 2328 \r\nQ 447 3434 972 4092 \r\nQ 1497 4750 2381 4750 \r\nQ 2619 4750 2861 4703 \r\nQ 3103 4656 3366 4563 \r\nz\r\n\" id=\"DejaVuSans-36\" transform=\"scale(0.015625)\"/>\r\n       <path d=\"M 2375 4863 \r\nL 2375 4384 \r\nL 1825 4384 \r\nQ 1516 4384 1395 4259 \r\nQ 1275 4134 1275 3809 \r\nL 1275 3500 \r\nL 2222 3500 \r\nL 2222 3053 \r\nL 1275 3053 \r\nL 1275 0 \r\nL 697 0 \r\nL 697 3053 \r\nL 147 3053 \r\nL 147 3500 \r\nL 697 3500 \r\nL 697 3744 \r\nQ 697 4328 969 4595 \r\nQ 1241 4863 1831 4863 \r\nL 2375 4863 \r\nz\r\n\" id=\"DejaVuSans-66\" transform=\"scale(0.015625)\"/>\r\n       <path d=\"M 794 531 \r\nL 1825 531 \r\nL 1825 4091 \r\nL 703 3866 \r\nL 703 4441 \r\nL 1819 4666 \r\nL 2450 4666 \r\nL 2450 531 \r\nL 3481 531 \r\nL 3481 0 \r\nL 794 0 \r\nL 794 531 \r\nz\r\n\" id=\"DejaVuSans-31\" transform=\"scale(0.015625)\"/>\r\n       <path d=\"M 313 2009 \r\nL 1997 2009 \r\nL 1997 1497 \r\nL 313 1497 \r\nL 313 2009 \r\nz\r\n\" id=\"DejaVuSans-2d\" transform=\"scale(0.015625)\"/>\r\n       <path d=\"M 1959 3097 \r\nQ 1497 3097 1228 2736 \r\nQ 959 2375 959 1747 \r\nQ 959 1119 1226 758 \r\nQ 1494 397 1959 397 \r\nQ 2419 397 2687 759 \r\nQ 2956 1122 2956 1747 \r\nQ 2956 2369 2687 2733 \r\nQ 2419 3097 1959 3097 \r\nz\r\nM 1959 3584 \r\nQ 2709 3584 3137 3096 \r\nQ 3566 2609 3566 1747 \r\nQ 3566 888 3137 398 \r\nQ 2709 -91 1959 -91 \r\nQ 1206 -91 779 398 \r\nQ 353 888 353 1747 \r\nQ 353 2609 779 3096 \r\nQ 1206 3584 1959 3584 \r\nz\r\n\" id=\"DejaVuSans-6f\" transform=\"scale(0.015625)\"/>\r\n       <path d=\"M 2034 2216 \r\nQ 1584 2216 1326 1975 \r\nQ 1069 1734 1069 1313 \r\nQ 1069 891 1326 650 \r\nQ 1584 409 2034 409 \r\nQ 2484 409 2743 651 \r\nQ 3003 894 3003 1313 \r\nQ 3003 1734 2745 1975 \r\nQ 2488 2216 2034 2216 \r\nz\r\nM 1403 2484 \r\nQ 997 2584 770 2862 \r\nQ 544 3141 544 3541 \r\nQ 544 4100 942 4425 \r\nQ 1341 4750 2034 4750 \r\nQ 2731 4750 3128 4425 \r\nQ 3525 4100 3525 3541 \r\nQ 3525 3141 3298 2862 \r\nQ 3072 2584 2669 2484 \r\nQ 3125 2378 3379 2068 \r\nQ 3634 1759 3634 1313 \r\nQ 3634 634 3220 271 \r\nQ 2806 -91 2034 -91 \r\nQ 1263 -91 848 271 \r\nQ 434 634 434 1313 \r\nQ 434 1759 690 2068 \r\nQ 947 2378 1403 2484 \r\nz\r\nM 1172 3481 \r\nQ 1172 3119 1398 2916 \r\nQ 1625 2713 2034 2713 \r\nQ 2441 2713 2670 2916 \r\nQ 2900 3119 2900 3481 \r\nQ 2900 3844 2670 4047 \r\nQ 2441 4250 2034 4250 \r\nQ 1625 4250 1398 4047 \r\nQ 1172 3844 1172 3481 \r\nz\r\n\" id=\"DejaVuSans-38\" transform=\"scale(0.015625)\"/>\r\n       <path d=\"M 2597 2516 \r\nQ 3050 2419 3304 2112 \r\nQ 3559 1806 3559 1356 \r\nQ 3559 666 3084 287 \r\nQ 2609 -91 1734 -91 \r\nQ 1441 -91 1130 -33 \r\nQ 819 25 488 141 \r\nL 488 750 \r\nQ 750 597 1062 519 \r\nQ 1375 441 1716 441 \r\nQ 2309 441 2620 675 \r\nQ 2931 909 2931 1356 \r\nQ 2931 1769 2642 2001 \r\nQ 2353 2234 1838 2234 \r\nL 1294 2234 \r\nL 1294 2753 \r\nL 1863 2753 \r\nQ 2328 2753 2575 2939 \r\nQ 2822 3125 2822 3475 \r\nQ 2822 3834 2567 4026 \r\nQ 2313 4219 1838 4219 \r\nQ 1578 4219 1281 4162 \r\nQ 984 4106 628 3988 \r\nL 628 4550 \r\nQ 988 4650 1302 4700 \r\nQ 1616 4750 1894 4750 \r\nQ 2613 4750 3031 4423 \r\nQ 3450 4097 3450 3541 \r\nQ 3450 3153 3228 2886 \r\nQ 3006 2619 2597 2516 \r\nz\r\n\" id=\"DejaVuSans-33\" transform=\"scale(0.015625)\"/>\r\n      </defs>\r\n      <use xlink:href=\"#DejaVuSans-61\"/>\r\n      <use x=\"61.279297\" xlink:href=\"#DejaVuSans-63\"/>\r\n      <use x=\"116.259766\" xlink:href=\"#DejaVuSans-63\"/>\r\n      <use x=\"171.240234\" xlink:href=\"#DejaVuSans-75\"/>\r\n      <use x=\"234.619141\" xlink:href=\"#DejaVuSans-72\"/>\r\n      <use x=\"275.732422\" xlink:href=\"#DejaVuSans-61\"/>\r\n      <use x=\"337.011719\" xlink:href=\"#DejaVuSans-63\"/>\r\n      <use x=\"391.992188\" xlink:href=\"#DejaVuSans-79\"/>\r\n      <use x=\"451.171875\" xlink:href=\"#DejaVuSans-3d\"/>\r\n      <use x=\"534.960938\" xlink:href=\"#DejaVuSans-30\"/>\r\n      <use x=\"598.583984\" xlink:href=\"#DejaVuSans-2e\"/>\r\n      <use x=\"630.371094\" xlink:href=\"#DejaVuSans-39\"/>\r\n      <use x=\"693.994141\" xlink:href=\"#DejaVuSans-30\"/>\r\n      <use x=\"757.617188\" xlink:href=\"#DejaVuSans-37\"/>\r\n      <use x=\"821.240234\" xlink:href=\"#DejaVuSans-34\"/>\r\n      <use x=\"884.863281\" xlink:href=\"#DejaVuSans-3b\"/>\r\n      <use x=\"918.554688\" xlink:href=\"#DejaVuSans-20\"/>\r\n      <use x=\"950.341797\" xlink:href=\"#DejaVuSans-6d\"/>\r\n      <use x=\"1047.753906\" xlink:href=\"#DejaVuSans-69\"/>\r\n      <use x=\"1075.537109\" xlink:href=\"#DejaVuSans-73\"/>\r\n      <use x=\"1127.636719\" xlink:href=\"#DejaVuSans-63\"/>\r\n      <use x=\"1182.617188\" xlink:href=\"#DejaVuSans-6c\"/>\r\n      <use x=\"1210.400391\" xlink:href=\"#DejaVuSans-61\"/>\r\n      <use x=\"1271.679688\" xlink:href=\"#DejaVuSans-73\"/>\r\n      <use x=\"1323.779297\" xlink:href=\"#DejaVuSans-73\"/>\r\n      <use x=\"1375.878906\" xlink:href=\"#DejaVuSans-3d\"/>\r\n      <use x=\"1459.667969\" xlink:href=\"#DejaVuSans-30\"/>\r\n      <use x=\"1523.291016\" xlink:href=\"#DejaVuSans-2e\"/>\r\n      <use x=\"1555.078125\" xlink:href=\"#DejaVuSans-30\"/>\r\n      <use x=\"1618.701172\" xlink:href=\"#DejaVuSans-39\"/>\r\n      <use x=\"1682.324219\" xlink:href=\"#DejaVuSans-32\"/>\r\n      <use x=\"1745.947266\" xlink:href=\"#DejaVuSans-36\"/>\r\n      <use x=\"1809.570312\" xlink:href=\"#DejaVuSans-3b\"/>\r\n      <use x=\"1843.261719\" xlink:href=\"#DejaVuSans-20\"/>\r\n      <use x=\"1875.048828\" xlink:href=\"#DejaVuSans-66\"/>\r\n      <use x=\"1910.253906\" xlink:href=\"#DejaVuSans-31\"/>\r\n      <use x=\"1973.876953\" xlink:href=\"#DejaVuSans-2d\"/>\r\n      <use x=\"2009.960938\" xlink:href=\"#DejaVuSans-73\"/>\r\n      <use x=\"2062.060547\" xlink:href=\"#DejaVuSans-63\"/>\r\n      <use x=\"2117.041016\" xlink:href=\"#DejaVuSans-6f\"/>\r\n      <use x=\"2178.222656\" xlink:href=\"#DejaVuSans-72\"/>\r\n      <use x=\"2217.085938\" xlink:href=\"#DejaVuSans-65\"/>\r\n      <use x=\"2278.609375\" xlink:href=\"#DejaVuSans-3d\"/>\r\n      <use x=\"2362.398438\" xlink:href=\"#DejaVuSans-30\"/>\r\n      <use x=\"2426.021484\" xlink:href=\"#DejaVuSans-2e\"/>\r\n      <use x=\"2457.808594\" xlink:href=\"#DejaVuSans-38\"/>\r\n      <use x=\"2521.431641\" xlink:href=\"#DejaVuSans-38\"/>\r\n      <use x=\"2585.054688\" xlink:href=\"#DejaVuSans-36\"/>\r\n      <use x=\"2648.677734\" xlink:href=\"#DejaVuSans-33\"/>\r\n     </g>\r\n    </g>\r\n   </g>\r\n   <g id=\"matplotlib.axis_2\">\r\n    <g id=\"ytick_1\">\r\n     <g id=\"line2d_18\">\r\n      <defs>\r\n       <path d=\"M 0 0 \r\nL -3.5 0 \r\n\" id=\"m08541a2679\" style=\"stroke:#000000;stroke-width:0.8;\"/>\r\n      </defs>\r\n      <g>\r\n       <use style=\"stroke:#000000;stroke-width:0.8;\" x=\"57.507812\" xlink:href=\"#m08541a2679\" y=\"32.890751\"/>\r\n      </g>\r\n     </g>\r\n     <g id=\"text_19\">\r\n      <!-- ABBR -->\r\n      <g transform=\"translate(22.996875 36.68997)scale(0.1 -0.1)\">\r\n       <use xlink:href=\"#DejaVuSans-41\"/>\r\n       <use x=\"68.408203\" xlink:href=\"#DejaVuSans-42\"/>\r\n       <use x=\"137.011719\" xlink:href=\"#DejaVuSans-42\"/>\r\n       <use x=\"205.615234\" xlink:href=\"#DejaVuSans-52\"/>\r\n      </g>\r\n     </g>\r\n    </g>\r\n    <g id=\"ytick_2\">\r\n     <g id=\"line2d_19\">\r\n      <g>\r\n       <use style=\"stroke:#000000;stroke-width:0.8;\" x=\"57.507812\" xlink:href=\"#m08541a2679\" y=\"54.036003\"/>\r\n      </g>\r\n     </g>\r\n     <g id=\"text_20\">\r\n      <!-- ADJ -->\r\n      <g transform=\"translate(33.017187 57.835222)scale(0.1 -0.1)\">\r\n       <use xlink:href=\"#DejaVuSans-41\"/>\r\n       <use x=\"68.408203\" xlink:href=\"#DejaVuSans-44\"/>\r\n       <use x=\"145.410156\" xlink:href=\"#DejaVuSans-4a\"/>\r\n      </g>\r\n     </g>\r\n    </g>\r\n    <g id=\"ytick_3\">\r\n     <g id=\"line2d_20\">\r\n      <g>\r\n       <use style=\"stroke:#000000;stroke-width:0.8;\" x=\"57.507812\" xlink:href=\"#m08541a2679\" y=\"75.181255\"/>\r\n      </g>\r\n     </g>\r\n     <g id=\"text_21\">\r\n      <!-- ADV -->\r\n      <g transform=\"translate(29.301562 78.980473)scale(0.1 -0.1)\">\r\n       <use xlink:href=\"#DejaVuSans-41\"/>\r\n       <use x=\"68.408203\" xlink:href=\"#DejaVuSans-44\"/>\r\n       <use x=\"143.660156\" xlink:href=\"#DejaVuSans-56\"/>\r\n      </g>\r\n     </g>\r\n    </g>\r\n    <g id=\"ytick_4\">\r\n     <g id=\"line2d_21\">\r\n      <g>\r\n       <use style=\"stroke:#000000;stroke-width:0.8;\" x=\"57.507812\" xlink:href=\"#m08541a2679\" y=\"96.326507\"/>\r\n      </g>\r\n     </g>\r\n     <g id=\"text_22\">\r\n      <!-- CDEM -->\r\n      <g transform=\"translate(20.878125 100.125725)scale(0.1 -0.1)\">\r\n       <use xlink:href=\"#DejaVuSans-43\"/>\r\n       <use x=\"69.824219\" xlink:href=\"#DejaVuSans-44\"/>\r\n       <use x=\"146.826172\" xlink:href=\"#DejaVuSans-45\"/>\r\n       <use x=\"210.009766\" xlink:href=\"#DejaVuSans-4d\"/>\r\n      </g>\r\n     </g>\r\n    </g>\r\n    <g id=\"ytick_5\">\r\n     <g id=\"line2d_22\">\r\n      <g>\r\n       <use style=\"stroke:#000000;stroke-width:0.8;\" x=\"57.507812\" xlink:href=\"#m08541a2679\" y=\"117.471759\"/>\r\n      </g>\r\n     </g>\r\n     <g id=\"text_23\">\r\n      <!-- CONJ -->\r\n      <g transform=\"translate(25.221875 121.270977)scale(0.1 -0.1)\">\r\n       <use xlink:href=\"#DejaVuSans-43\"/>\r\n       <use x=\"69.824219\" xlink:href=\"#DejaVuSans-4f\"/>\r\n       <use x=\"148.535156\" xlink:href=\"#DejaVuSans-4e\"/>\r\n       <use x=\"223.339844\" xlink:href=\"#DejaVuSans-4a\"/>\r\n      </g>\r\n     </g>\r\n    </g>\r\n    <g id=\"ytick_6\">\r\n     <g id=\"line2d_23\">\r\n      <g>\r\n       <use style=\"stroke:#000000;stroke-width:0.8;\" x=\"57.507812\" xlink:href=\"#m08541a2679\" y=\"138.61701\"/>\r\n      </g>\r\n     </g>\r\n     <g id=\"text_24\">\r\n      <!-- COP -->\r\n      <g transform=\"translate(29.623437 142.416229)scale(0.1 -0.1)\">\r\n       <use xlink:href=\"#DejaVuSans-43\"/>\r\n       <use x=\"69.824219\" xlink:href=\"#DejaVuSans-4f\"/>\r\n       <use x=\"148.535156\" xlink:href=\"#DejaVuSans-50\"/>\r\n      </g>\r\n     </g>\r\n    </g>\r\n    <g id=\"ytick_7\">\r\n     <g id=\"line2d_24\">\r\n      <g>\r\n       <use style=\"stroke:#000000;stroke-width:0.8;\" x=\"57.507812\" xlink:href=\"#m08541a2679\" y=\"159.762262\"/>\r\n      </g>\r\n     </g>\r\n     <g id=\"text_25\">\r\n      <!-- FOR -->\r\n      <g transform=\"translate(29.935937 163.561481)scale(0.1 -0.1)\">\r\n       <use xlink:href=\"#DejaVuSans-46\"/>\r\n       <use x=\"57.519531\" xlink:href=\"#DejaVuSans-4f\"/>\r\n       <use x=\"136.230469\" xlink:href=\"#DejaVuSans-52\"/>\r\n      </g>\r\n     </g>\r\n    </g>\r\n    <g id=\"ytick_8\">\r\n     <g id=\"line2d_25\">\r\n      <g>\r\n       <use style=\"stroke:#000000;stroke-width:0.8;\" x=\"57.507812\" xlink:href=\"#m08541a2679\" y=\"180.907514\"/>\r\n      </g>\r\n     </g>\r\n     <g id=\"text_26\">\r\n      <!-- IDEO -->\r\n      <g transform=\"translate(25.667187 184.706733)scale(0.1 -0.1)\">\r\n       <use xlink:href=\"#DejaVuSans-49\"/>\r\n       <use x=\"29.492188\" xlink:href=\"#DejaVuSans-44\"/>\r\n       <use x=\"106.494141\" xlink:href=\"#DejaVuSans-45\"/>\r\n       <use x=\"169.677734\" xlink:href=\"#DejaVuSans-4f\"/>\r\n      </g>\r\n     </g>\r\n    </g>\r\n    <g id=\"ytick_9\">\r\n     <g id=\"line2d_26\">\r\n      <g>\r\n       <use style=\"stroke:#000000;stroke-width:0.8;\" x=\"57.507812\" xlink:href=\"#m08541a2679\" y=\"202.052766\"/>\r\n      </g>\r\n     </g>\r\n     <g id=\"text_27\">\r\n      <!-- INT -->\r\n      <g transform=\"translate(33.96875 205.851985)scale(0.1 -0.1)\">\r\n       <use xlink:href=\"#DejaVuSans-49\"/>\r\n       <use x=\"29.492188\" xlink:href=\"#DejaVuSans-4e\"/>\r\n       <use x=\"104.296875\" xlink:href=\"#DejaVuSans-54\"/>\r\n      </g>\r\n     </g>\r\n    </g>\r\n    <g id=\"ytick_10\">\r\n     <g id=\"line2d_27\">\r\n      <g>\r\n       <use style=\"stroke:#000000;stroke-width:0.8;\" x=\"57.507812\" xlink:href=\"#m08541a2679\" y=\"223.198018\"/>\r\n      </g>\r\n     </g>\r\n     <g id=\"text_28\">\r\n      <!-- N -->\r\n      <g transform=\"translate(43.026562 226.997237)scale(0.1 -0.1)\">\r\n       <use xlink:href=\"#DejaVuSans-4e\"/>\r\n      </g>\r\n     </g>\r\n    </g>\r\n    <g id=\"ytick_11\">\r\n     <g id=\"line2d_28\">\r\n      <g>\r\n       <use style=\"stroke:#000000;stroke-width:0.8;\" x=\"57.507812\" xlink:href=\"#m08541a2679\" y=\"244.34327\"/>\r\n      </g>\r\n     </g>\r\n     <g id=\"text_29\">\r\n      <!-- NUM -->\r\n      <g transform=\"translate(27.079687 248.142489)scale(0.1 -0.1)\">\r\n       <use xlink:href=\"#DejaVuSans-4e\"/>\r\n       <use x=\"74.804688\" xlink:href=\"#DejaVuSans-55\"/>\r\n       <use x=\"147.998047\" xlink:href=\"#DejaVuSans-4d\"/>\r\n      </g>\r\n     </g>\r\n    </g>\r\n    <g id=\"ytick_12\">\r\n     <g id=\"line2d_29\">\r\n      <g>\r\n       <use style=\"stroke:#000000;stroke-width:0.8;\" x=\"57.507812\" xlink:href=\"#m08541a2679\" y=\"265.488522\"/>\r\n      </g>\r\n     </g>\r\n     <g id=\"text_30\">\r\n      <!-- POSS -->\r\n      <g transform=\"translate(23.909375 269.28774)scale(0.1 -0.1)\">\r\n       <use xlink:href=\"#DejaVuSans-50\"/>\r\n       <use x=\"60.302734\" xlink:href=\"#DejaVuSans-4f\"/>\r\n       <use x=\"139.013672\" xlink:href=\"#DejaVuSans-53\"/>\r\n       <use x=\"202.490234\" xlink:href=\"#DejaVuSans-53\"/>\r\n      </g>\r\n     </g>\r\n    </g>\r\n    <g id=\"ytick_13\">\r\n     <g id=\"line2d_30\">\r\n      <g>\r\n       <use style=\"stroke:#000000;stroke-width:0.8;\" x=\"57.507812\" xlink:href=\"#m08541a2679\" y=\"286.633774\"/>\r\n      </g>\r\n     </g>\r\n     <g id=\"text_31\">\r\n      <!-- PRO -->\r\n      <g transform=\"translate(29.657812 290.432992)scale(0.1 -0.1)\">\r\n       <use xlink:href=\"#DejaVuSans-50\"/>\r\n       <use x=\"60.302734\" xlink:href=\"#DejaVuSans-52\"/>\r\n       <use x=\"129.785156\" xlink:href=\"#DejaVuSans-4f\"/>\r\n      </g>\r\n     </g>\r\n    </g>\r\n    <g id=\"ytick_14\">\r\n     <g id=\"line2d_31\">\r\n      <g>\r\n       <use style=\"stroke:#000000;stroke-width:0.8;\" x=\"57.507812\" xlink:href=\"#m08541a2679\" y=\"307.779026\"/>\r\n      </g>\r\n     </g>\r\n     <g id=\"text_32\">\r\n      <!-- PUNC -->\r\n      <g transform=\"translate(22.695312 311.578244)scale(0.1 -0.1)\">\r\n       <use xlink:href=\"#DejaVuSans-50\"/>\r\n       <use x=\"60.302734\" xlink:href=\"#DejaVuSans-55\"/>\r\n       <use x=\"133.496094\" xlink:href=\"#DejaVuSans-4e\"/>\r\n       <use x=\"208.300781\" xlink:href=\"#DejaVuSans-43\"/>\r\n      </g>\r\n     </g>\r\n    </g>\r\n    <g id=\"ytick_15\">\r\n     <g id=\"line2d_32\">\r\n      <g>\r\n       <use style=\"stroke:#000000;stroke-width:0.8;\" x=\"57.507812\" xlink:href=\"#m08541a2679\" y=\"328.924277\"/>\r\n      </g>\r\n     </g>\r\n     <g id=\"text_33\">\r\n      <!-- REL -->\r\n      <g transform=\"translate(31.66875 332.723496)scale(0.1 -0.1)\">\r\n       <use xlink:href=\"#DejaVuSans-52\"/>\r\n       <use x=\"69.482422\" xlink:href=\"#DejaVuSans-45\"/>\r\n       <use x=\"132.666016\" xlink:href=\"#DejaVuSans-4c\"/>\r\n      </g>\r\n     </g>\r\n    </g>\r\n    <g id=\"ytick_16\">\r\n     <g id=\"line2d_33\">\r\n      <g>\r\n       <use style=\"stroke:#000000;stroke-width:0.8;\" x=\"57.507812\" xlink:href=\"#m08541a2679\" y=\"350.069529\"/>\r\n      </g>\r\n     </g>\r\n     <g id=\"text_34\">\r\n      <!-- V -->\r\n      <g transform=\"translate(43.667187 353.868748)scale(0.1 -0.1)\">\r\n       <use xlink:href=\"#DejaVuSans-56\"/>\r\n      </g>\r\n     </g>\r\n    </g>\r\n    <g id=\"ytick_17\">\r\n     <g id=\"line2d_34\">\r\n      <g>\r\n       <use style=\"stroke:#000000;stroke-width:0.8;\" x=\"57.507812\" xlink:href=\"#m08541a2679\" y=\"371.214781\"/>\r\n      </g>\r\n     </g>\r\n     <g id=\"text_35\">\r\n      <!-- X -->\r\n      <g transform=\"translate(43.657812 375.014)scale(0.1 -0.1)\">\r\n       <use xlink:href=\"#DejaVuSans-58\"/>\r\n      </g>\r\n     </g>\r\n    </g>\r\n    <g id=\"text_36\">\r\n     <!-- True label -->\r\n     <g transform=\"translate(14.798437 226.351985)rotate(-90)scale(0.1 -0.1)\">\r\n      <use xlink:href=\"#DejaVuSans-54\"/>\r\n      <use x=\"46.333984\" xlink:href=\"#DejaVuSans-72\"/>\r\n      <use x=\"87.447266\" xlink:href=\"#DejaVuSans-75\"/>\r\n      <use x=\"150.826172\" xlink:href=\"#DejaVuSans-65\"/>\r\n      <use x=\"212.349609\" xlink:href=\"#DejaVuSans-20\"/>\r\n      <use x=\"244.136719\" xlink:href=\"#DejaVuSans-6c\"/>\r\n      <use x=\"271.919922\" xlink:href=\"#DejaVuSans-61\"/>\r\n      <use x=\"333.199219\" xlink:href=\"#DejaVuSans-62\"/>\r\n      <use x=\"396.675781\" xlink:href=\"#DejaVuSans-65\"/>\r\n      <use x=\"458.199219\" xlink:href=\"#DejaVuSans-6c\"/>\r\n     </g>\r\n    </g>\r\n   </g>\r\n   <g id=\"patch_3\">\r\n    <path d=\"M 57.507812 381.787407 \r\nL 57.507812 22.318125 \r\n\" style=\"fill:none;stroke:#000000;stroke-linecap:square;stroke-linejoin:miter;stroke-width:0.8;\"/>\r\n   </g>\r\n   <g id=\"patch_4\">\r\n    <path d=\"M 416.977095 381.787407 \r\nL 416.977095 22.318125 \r\n\" style=\"fill:none;stroke:#000000;stroke-linecap:square;stroke-linejoin:miter;stroke-width:0.8;\"/>\r\n   </g>\r\n   <g id=\"patch_5\">\r\n    <path d=\"M 57.507812 381.787407 \r\nL 416.977095 381.787407 \r\n\" style=\"fill:none;stroke:#000000;stroke-linecap:square;stroke-linejoin:miter;stroke-width:0.8;\"/>\r\n   </g>\r\n   <g id=\"patch_6\">\r\n    <path d=\"M 57.507812 22.318125 \r\nL 416.977095 22.318125 \r\n\" style=\"fill:none;stroke:#000000;stroke-linecap:square;stroke-linejoin:miter;stroke-width:0.8;\"/>\r\n   </g>\r\n   <g id=\"text_37\">\r\n    <!-- 8 -->\r\n    <g transform=\"translate(64.899188 32.890751)scale(0.1 -0.1)\">\r\n     <use xlink:href=\"#DejaVuSans-38\"/>\r\n    </g>\r\n   </g>\r\n   <g id=\"text_38\">\r\n    <!-- 0 -->\r\n    <g transform=\"translate(86.04444 32.890751)scale(0.1 -0.1)\">\r\n     <use xlink:href=\"#DejaVuSans-30\"/>\r\n    </g>\r\n   </g>\r\n   <g id=\"text_39\">\r\n    <!-- 0 -->\r\n    <g transform=\"translate(107.189692 32.890751)scale(0.1 -0.1)\">\r\n     <use xlink:href=\"#DejaVuSans-30\"/>\r\n    </g>\r\n   </g>\r\n   <g id=\"text_40\">\r\n    <!-- 0 -->\r\n    <g transform=\"translate(128.334944 32.890751)scale(0.1 -0.1)\">\r\n     <use xlink:href=\"#DejaVuSans-30\"/>\r\n    </g>\r\n   </g>\r\n   <g id=\"text_41\">\r\n    <!-- 0 -->\r\n    <g transform=\"translate(149.480196 32.890751)scale(0.1 -0.1)\">\r\n     <use xlink:href=\"#DejaVuSans-30\"/>\r\n    </g>\r\n   </g>\r\n   <g id=\"text_42\">\r\n    <!-- 0 -->\r\n    <g transform=\"translate(170.625448 32.890751)scale(0.1 -0.1)\">\r\n     <use xlink:href=\"#DejaVuSans-30\"/>\r\n    </g>\r\n   </g>\r\n   <g id=\"text_43\">\r\n    <!-- 0 -->\r\n    <g transform=\"translate(191.7707 32.890751)scale(0.1 -0.1)\">\r\n     <use xlink:href=\"#DejaVuSans-30\"/>\r\n    </g>\r\n   </g>\r\n   <g id=\"text_44\">\r\n    <!-- 0 -->\r\n    <g transform=\"translate(212.915952 32.890751)scale(0.1 -0.1)\">\r\n     <use xlink:href=\"#DejaVuSans-30\"/>\r\n    </g>\r\n   </g>\r\n   <g id=\"text_45\">\r\n    <!-- 0 -->\r\n    <g transform=\"translate(234.061204 32.890751)scale(0.1 -0.1)\">\r\n     <use xlink:href=\"#DejaVuSans-30\"/>\r\n    </g>\r\n   </g>\r\n   <g id=\"text_46\">\r\n    <!-- 1 -->\r\n    <g transform=\"translate(255.206455 32.890751)scale(0.1 -0.1)\">\r\n     <use xlink:href=\"#DejaVuSans-31\"/>\r\n    </g>\r\n   </g>\r\n   <g id=\"text_47\">\r\n    <!-- 0 -->\r\n    <g transform=\"translate(276.351707 32.890751)scale(0.1 -0.1)\">\r\n     <use xlink:href=\"#DejaVuSans-30\"/>\r\n    </g>\r\n   </g>\r\n   <g id=\"text_48\">\r\n    <!-- 1 -->\r\n    <g transform=\"translate(297.496959 32.890751)scale(0.1 -0.1)\">\r\n     <use xlink:href=\"#DejaVuSans-31\"/>\r\n    </g>\r\n   </g>\r\n   <g id=\"text_49\">\r\n    <!-- 0 -->\r\n    <g transform=\"translate(318.642211 32.890751)scale(0.1 -0.1)\">\r\n     <use xlink:href=\"#DejaVuSans-30\"/>\r\n    </g>\r\n   </g>\r\n   <g id=\"text_50\">\r\n    <!-- 0 -->\r\n    <g transform=\"translate(339.787463 32.890751)scale(0.1 -0.1)\">\r\n     <use xlink:href=\"#DejaVuSans-30\"/>\r\n    </g>\r\n   </g>\r\n   <g id=\"text_51\">\r\n    <!-- 0 -->\r\n    <g transform=\"translate(360.932715 32.890751)scale(0.1 -0.1)\">\r\n     <use xlink:href=\"#DejaVuSans-30\"/>\r\n    </g>\r\n   </g>\r\n   <g id=\"text_52\">\r\n    <!-- 0 -->\r\n    <g transform=\"translate(382.077967 32.890751)scale(0.1 -0.1)\">\r\n     <use xlink:href=\"#DejaVuSans-30\"/>\r\n    </g>\r\n   </g>\r\n   <g id=\"text_53\">\r\n    <!-- 0 -->\r\n    <g transform=\"translate(403.223219 32.890751)scale(0.1 -0.1)\">\r\n     <use xlink:href=\"#DejaVuSans-30\"/>\r\n    </g>\r\n   </g>\r\n   <g id=\"text_54\">\r\n    <!-- 0 -->\r\n    <g transform=\"translate(64.899188 54.036003)scale(0.1 -0.1)\">\r\n     <use xlink:href=\"#DejaVuSans-30\"/>\r\n    </g>\r\n   </g>\r\n   <g id=\"text_55\">\r\n    <!-- 94 -->\r\n    <g transform=\"translate(82.86319 54.036003)scale(0.1 -0.1)\">\r\n     <use xlink:href=\"#DejaVuSans-39\"/>\r\n     <use x=\"63.623047\" xlink:href=\"#DejaVuSans-34\"/>\r\n    </g>\r\n   </g>\r\n   <g id=\"text_56\">\r\n    <!-- 0 -->\r\n    <g transform=\"translate(107.189692 54.036003)scale(0.1 -0.1)\">\r\n     <use xlink:href=\"#DejaVuSans-30\"/>\r\n    </g>\r\n   </g>\r\n   <g id=\"text_57\">\r\n    <!-- 0 -->\r\n    <g transform=\"translate(128.334944 54.036003)scale(0.1 -0.1)\">\r\n     <use xlink:href=\"#DejaVuSans-30\"/>\r\n    </g>\r\n   </g>\r\n   <g id=\"text_58\">\r\n    <!-- 0 -->\r\n    <g transform=\"translate(149.480196 54.036003)scale(0.1 -0.1)\">\r\n     <use xlink:href=\"#DejaVuSans-30\"/>\r\n    </g>\r\n   </g>\r\n   <g id=\"text_59\">\r\n    <!-- 0 -->\r\n    <g transform=\"translate(170.625448 54.036003)scale(0.1 -0.1)\">\r\n     <use xlink:href=\"#DejaVuSans-30\"/>\r\n    </g>\r\n   </g>\r\n   <g id=\"text_60\">\r\n    <!-- 0 -->\r\n    <g transform=\"translate(191.7707 54.036003)scale(0.1 -0.1)\">\r\n     <use xlink:href=\"#DejaVuSans-30\"/>\r\n    </g>\r\n   </g>\r\n   <g id=\"text_61\">\r\n    <!-- 0 -->\r\n    <g transform=\"translate(212.915952 54.036003)scale(0.1 -0.1)\">\r\n     <use xlink:href=\"#DejaVuSans-30\"/>\r\n    </g>\r\n   </g>\r\n   <g id=\"text_62\">\r\n    <!-- 1 -->\r\n    <g transform=\"translate(234.061204 54.036003)scale(0.1 -0.1)\">\r\n     <use xlink:href=\"#DejaVuSans-31\"/>\r\n    </g>\r\n   </g>\r\n   <g id=\"text_63\">\r\n    <!-- 5 -->\r\n    <g transform=\"translate(255.206455 54.036003)scale(0.1 -0.1)\">\r\n     <defs>\r\n      <path d=\"M 691 4666 \r\nL 3169 4666 \r\nL 3169 4134 \r\nL 1269 4134 \r\nL 1269 2991 \r\nQ 1406 3038 1543 3061 \r\nQ 1681 3084 1819 3084 \r\nQ 2600 3084 3056 2656 \r\nQ 3513 2228 3513 1497 \r\nQ 3513 744 3044 326 \r\nQ 2575 -91 1722 -91 \r\nQ 1428 -91 1123 -41 \r\nQ 819 9 494 109 \r\nL 494 744 \r\nQ 775 591 1075 516 \r\nQ 1375 441 1709 441 \r\nQ 2250 441 2565 725 \r\nQ 2881 1009 2881 1497 \r\nQ 2881 1984 2565 2268 \r\nQ 2250 2553 1709 2553 \r\nQ 1456 2553 1204 2497 \r\nQ 953 2441 691 2322 \r\nL 691 4666 \r\nz\r\n\" id=\"DejaVuSans-35\" transform=\"scale(0.015625)\"/>\r\n     </defs>\r\n     <use xlink:href=\"#DejaVuSans-35\"/>\r\n    </g>\r\n   </g>\r\n   <g id=\"text_64\">\r\n    <!-- 0 -->\r\n    <g transform=\"translate(276.351707 54.036003)scale(0.1 -0.1)\">\r\n     <use xlink:href=\"#DejaVuSans-30\"/>\r\n    </g>\r\n   </g>\r\n   <g id=\"text_65\">\r\n    <!-- 1 -->\r\n    <g transform=\"translate(297.496959 54.036003)scale(0.1 -0.1)\">\r\n     <use xlink:href=\"#DejaVuSans-31\"/>\r\n    </g>\r\n   </g>\r\n   <g id=\"text_66\">\r\n    <!-- 0 -->\r\n    <g transform=\"translate(318.642211 54.036003)scale(0.1 -0.1)\">\r\n     <use xlink:href=\"#DejaVuSans-30\"/>\r\n    </g>\r\n   </g>\r\n   <g id=\"text_67\">\r\n    <!-- 0 -->\r\n    <g transform=\"translate(339.787463 54.036003)scale(0.1 -0.1)\">\r\n     <use xlink:href=\"#DejaVuSans-30\"/>\r\n    </g>\r\n   </g>\r\n   <g id=\"text_68\">\r\n    <!-- 4 -->\r\n    <g transform=\"translate(360.932715 54.036003)scale(0.1 -0.1)\">\r\n     <use xlink:href=\"#DejaVuSans-34\"/>\r\n    </g>\r\n   </g>\r\n   <g id=\"text_69\">\r\n    <!-- 0 -->\r\n    <g transform=\"translate(382.077967 54.036003)scale(0.1 -0.1)\">\r\n     <use xlink:href=\"#DejaVuSans-30\"/>\r\n    </g>\r\n   </g>\r\n   <g id=\"text_70\">\r\n    <!-- 0 -->\r\n    <g transform=\"translate(403.223219 54.036003)scale(0.1 -0.1)\">\r\n     <use xlink:href=\"#DejaVuSans-30\"/>\r\n    </g>\r\n   </g>\r\n   <g id=\"text_71\">\r\n    <!-- 0 -->\r\n    <g transform=\"translate(64.899188 75.181255)scale(0.1 -0.1)\">\r\n     <use xlink:href=\"#DejaVuSans-30\"/>\r\n    </g>\r\n   </g>\r\n   <g id=\"text_72\">\r\n    <!-- 1 -->\r\n    <g transform=\"translate(86.04444 75.181255)scale(0.1 -0.1)\">\r\n     <use xlink:href=\"#DejaVuSans-31\"/>\r\n    </g>\r\n   </g>\r\n   <g id=\"text_73\">\r\n    <!-- 865 -->\r\n    <g style=\"fill:#ffffff;\" transform=\"translate(100.827192 75.181255)scale(0.1 -0.1)\">\r\n     <use xlink:href=\"#DejaVuSans-38\"/>\r\n     <use x=\"63.623047\" xlink:href=\"#DejaVuSans-36\"/>\r\n     <use x=\"127.246094\" xlink:href=\"#DejaVuSans-35\"/>\r\n    </g>\r\n   </g>\r\n   <g id=\"text_74\">\r\n    <!-- 2 -->\r\n    <g transform=\"translate(128.334944 75.181255)scale(0.1 -0.1)\">\r\n     <use xlink:href=\"#DejaVuSans-32\"/>\r\n    </g>\r\n   </g>\r\n   <g id=\"text_75\">\r\n    <!-- 2 -->\r\n    <g transform=\"translate(149.480196 75.181255)scale(0.1 -0.1)\">\r\n     <use xlink:href=\"#DejaVuSans-32\"/>\r\n    </g>\r\n   </g>\r\n   <g id=\"text_76\">\r\n    <!-- 3 -->\r\n    <g transform=\"translate(170.625448 75.181255)scale(0.1 -0.1)\">\r\n     <use xlink:href=\"#DejaVuSans-33\"/>\r\n    </g>\r\n   </g>\r\n   <g id=\"text_77\">\r\n    <!-- 0 -->\r\n    <g transform=\"translate(191.7707 75.181255)scale(0.1 -0.1)\">\r\n     <use xlink:href=\"#DejaVuSans-30\"/>\r\n    </g>\r\n   </g>\r\n   <g id=\"text_78\">\r\n    <!-- 0 -->\r\n    <g transform=\"translate(212.915952 75.181255)scale(0.1 -0.1)\">\r\n     <use xlink:href=\"#DejaVuSans-30\"/>\r\n    </g>\r\n   </g>\r\n   <g id=\"text_79\">\r\n    <!-- 0 -->\r\n    <g transform=\"translate(234.061204 75.181255)scale(0.1 -0.1)\">\r\n     <use xlink:href=\"#DejaVuSans-30\"/>\r\n    </g>\r\n   </g>\r\n   <g id=\"text_80\">\r\n    <!-- 10 -->\r\n    <g transform=\"translate(252.025205 75.181255)scale(0.1 -0.1)\">\r\n     <use xlink:href=\"#DejaVuSans-31\"/>\r\n     <use x=\"63.623047\" xlink:href=\"#DejaVuSans-30\"/>\r\n    </g>\r\n   </g>\r\n   <g id=\"text_81\">\r\n    <!-- 0 -->\r\n    <g transform=\"translate(276.351707 75.181255)scale(0.1 -0.1)\">\r\n     <use xlink:href=\"#DejaVuSans-30\"/>\r\n    </g>\r\n   </g>\r\n   <g id=\"text_82\">\r\n    <!-- 9 -->\r\n    <g transform=\"translate(297.496959 75.181255)scale(0.1 -0.1)\">\r\n     <use xlink:href=\"#DejaVuSans-39\"/>\r\n    </g>\r\n   </g>\r\n   <g id=\"text_83\">\r\n    <!-- 0 -->\r\n    <g transform=\"translate(318.642211 75.181255)scale(0.1 -0.1)\">\r\n     <use xlink:href=\"#DejaVuSans-30\"/>\r\n    </g>\r\n   </g>\r\n   <g id=\"text_84\">\r\n    <!-- 0 -->\r\n    <g transform=\"translate(339.787463 75.181255)scale(0.1 -0.1)\">\r\n     <use xlink:href=\"#DejaVuSans-30\"/>\r\n    </g>\r\n   </g>\r\n   <g id=\"text_85\">\r\n    <!-- 5 -->\r\n    <g transform=\"translate(360.932715 75.181255)scale(0.1 -0.1)\">\r\n     <use xlink:href=\"#DejaVuSans-35\"/>\r\n    </g>\r\n   </g>\r\n   <g id=\"text_86\">\r\n    <!-- 3 -->\r\n    <g transform=\"translate(382.077967 75.181255)scale(0.1 -0.1)\">\r\n     <use xlink:href=\"#DejaVuSans-33\"/>\r\n    </g>\r\n   </g>\r\n   <g id=\"text_87\">\r\n    <!-- 1 -->\r\n    <g transform=\"translate(403.223219 75.181255)scale(0.1 -0.1)\">\r\n     <use xlink:href=\"#DejaVuSans-31\"/>\r\n    </g>\r\n   </g>\r\n   <g id=\"text_88\">\r\n    <!-- 0 -->\r\n    <g transform=\"translate(64.899188 96.326507)scale(0.1 -0.1)\">\r\n     <use xlink:href=\"#DejaVuSans-30\"/>\r\n    </g>\r\n   </g>\r\n   <g id=\"text_89\">\r\n    <!-- 0 -->\r\n    <g transform=\"translate(86.04444 96.326507)scale(0.1 -0.1)\">\r\n     <use xlink:href=\"#DejaVuSans-30\"/>\r\n    </g>\r\n   </g>\r\n   <g id=\"text_90\">\r\n    <!-- 1 -->\r\n    <g transform=\"translate(107.189692 96.326507)scale(0.1 -0.1)\">\r\n     <use xlink:href=\"#DejaVuSans-31\"/>\r\n    </g>\r\n   </g>\r\n   <g id=\"text_91\">\r\n    <!-- 101 -->\r\n    <g transform=\"translate(121.972444 96.326507)scale(0.1 -0.1)\">\r\n     <use xlink:href=\"#DejaVuSans-31\"/>\r\n     <use x=\"63.623047\" xlink:href=\"#DejaVuSans-30\"/>\r\n     <use x=\"127.246094\" xlink:href=\"#DejaVuSans-31\"/>\r\n    </g>\r\n   </g>\r\n   <g id=\"text_92\">\r\n    <!-- 0 -->\r\n    <g transform=\"translate(149.480196 96.326507)scale(0.1 -0.1)\">\r\n     <use xlink:href=\"#DejaVuSans-30\"/>\r\n    </g>\r\n   </g>\r\n   <g id=\"text_93\">\r\n    <!-- 0 -->\r\n    <g transform=\"translate(170.625448 96.326507)scale(0.1 -0.1)\">\r\n     <use xlink:href=\"#DejaVuSans-30\"/>\r\n    </g>\r\n   </g>\r\n   <g id=\"text_94\">\r\n    <!-- 0 -->\r\n    <g transform=\"translate(191.7707 96.326507)scale(0.1 -0.1)\">\r\n     <use xlink:href=\"#DejaVuSans-30\"/>\r\n    </g>\r\n   </g>\r\n   <g id=\"text_95\">\r\n    <!-- 0 -->\r\n    <g transform=\"translate(212.915952 96.326507)scale(0.1 -0.1)\">\r\n     <use xlink:href=\"#DejaVuSans-30\"/>\r\n    </g>\r\n   </g>\r\n   <g id=\"text_96\">\r\n    <!-- 0 -->\r\n    <g transform=\"translate(234.061204 96.326507)scale(0.1 -0.1)\">\r\n     <use xlink:href=\"#DejaVuSans-30\"/>\r\n    </g>\r\n   </g>\r\n   <g id=\"text_97\">\r\n    <!-- 1 -->\r\n    <g transform=\"translate(255.206455 96.326507)scale(0.1 -0.1)\">\r\n     <use xlink:href=\"#DejaVuSans-31\"/>\r\n    </g>\r\n   </g>\r\n   <g id=\"text_98\">\r\n    <!-- 1 -->\r\n    <g transform=\"translate(276.351707 96.326507)scale(0.1 -0.1)\">\r\n     <use xlink:href=\"#DejaVuSans-31\"/>\r\n    </g>\r\n   </g>\r\n   <g id=\"text_99\">\r\n    <!-- 7 -->\r\n    <g transform=\"translate(297.496959 96.326507)scale(0.1 -0.1)\">\r\n     <use xlink:href=\"#DejaVuSans-37\"/>\r\n    </g>\r\n   </g>\r\n   <g id=\"text_100\">\r\n    <!-- 0 -->\r\n    <g transform=\"translate(318.642211 96.326507)scale(0.1 -0.1)\">\r\n     <use xlink:href=\"#DejaVuSans-30\"/>\r\n    </g>\r\n   </g>\r\n   <g id=\"text_101\">\r\n    <!-- 1 -->\r\n    <g transform=\"translate(339.787463 96.326507)scale(0.1 -0.1)\">\r\n     <use xlink:href=\"#DejaVuSans-31\"/>\r\n    </g>\r\n   </g>\r\n   <g id=\"text_102\">\r\n    <!-- 1 -->\r\n    <g transform=\"translate(360.932715 96.326507)scale(0.1 -0.1)\">\r\n     <use xlink:href=\"#DejaVuSans-31\"/>\r\n    </g>\r\n   </g>\r\n   <g id=\"text_103\">\r\n    <!-- 1 -->\r\n    <g transform=\"translate(382.077967 96.326507)scale(0.1 -0.1)\">\r\n     <use xlink:href=\"#DejaVuSans-31\"/>\r\n    </g>\r\n   </g>\r\n   <g id=\"text_104\">\r\n    <!-- 0 -->\r\n    <g transform=\"translate(403.223219 96.326507)scale(0.1 -0.1)\">\r\n     <use xlink:href=\"#DejaVuSans-30\"/>\r\n    </g>\r\n   </g>\r\n   <g id=\"text_105\">\r\n    <!-- 0 -->\r\n    <g transform=\"translate(64.899188 117.471759)scale(0.1 -0.1)\">\r\n     <use xlink:href=\"#DejaVuSans-30\"/>\r\n    </g>\r\n   </g>\r\n   <g id=\"text_106\">\r\n    <!-- 0 -->\r\n    <g transform=\"translate(86.04444 117.471759)scale(0.1 -0.1)\">\r\n     <use xlink:href=\"#DejaVuSans-30\"/>\r\n    </g>\r\n   </g>\r\n   <g id=\"text_107\">\r\n    <!-- 2 -->\r\n    <g transform=\"translate(107.189692 117.471759)scale(0.1 -0.1)\">\r\n     <use xlink:href=\"#DejaVuSans-32\"/>\r\n    </g>\r\n   </g>\r\n   <g id=\"text_108\">\r\n    <!-- 4 -->\r\n    <g transform=\"translate(128.334944 117.471759)scale(0.1 -0.1)\">\r\n     <use xlink:href=\"#DejaVuSans-34\"/>\r\n    </g>\r\n   </g>\r\n   <g id=\"text_109\">\r\n    <!-- 220 -->\r\n    <g transform=\"translate(143.117696 117.471759)scale(0.1 -0.1)\">\r\n     <use xlink:href=\"#DejaVuSans-32\"/>\r\n     <use x=\"63.623047\" xlink:href=\"#DejaVuSans-32\"/>\r\n     <use x=\"127.246094\" xlink:href=\"#DejaVuSans-30\"/>\r\n    </g>\r\n   </g>\r\n   <g id=\"text_110\">\r\n    <!-- 0 -->\r\n    <g transform=\"translate(170.625448 117.471759)scale(0.1 -0.1)\">\r\n     <use xlink:href=\"#DejaVuSans-30\"/>\r\n    </g>\r\n   </g>\r\n   <g id=\"text_111\">\r\n    <!-- 0 -->\r\n    <g transform=\"translate(191.7707 117.471759)scale(0.1 -0.1)\">\r\n     <use xlink:href=\"#DejaVuSans-30\"/>\r\n    </g>\r\n   </g>\r\n   <g id=\"text_112\">\r\n    <!-- 0 -->\r\n    <g transform=\"translate(212.915952 117.471759)scale(0.1 -0.1)\">\r\n     <use xlink:href=\"#DejaVuSans-30\"/>\r\n    </g>\r\n   </g>\r\n   <g id=\"text_113\">\r\n    <!-- 0 -->\r\n    <g transform=\"translate(234.061204 117.471759)scale(0.1 -0.1)\">\r\n     <use xlink:href=\"#DejaVuSans-30\"/>\r\n    </g>\r\n   </g>\r\n   <g id=\"text_114\">\r\n    <!-- 2 -->\r\n    <g transform=\"translate(255.206455 117.471759)scale(0.1 -0.1)\">\r\n     <use xlink:href=\"#DejaVuSans-32\"/>\r\n    </g>\r\n   </g>\r\n   <g id=\"text_115\">\r\n    <!-- 0 -->\r\n    <g transform=\"translate(276.351707 117.471759)scale(0.1 -0.1)\">\r\n     <use xlink:href=\"#DejaVuSans-30\"/>\r\n    </g>\r\n   </g>\r\n   <g id=\"text_116\">\r\n    <!-- 1 -->\r\n    <g transform=\"translate(297.496959 117.471759)scale(0.1 -0.1)\">\r\n     <use xlink:href=\"#DejaVuSans-31\"/>\r\n    </g>\r\n   </g>\r\n   <g id=\"text_117\">\r\n    <!-- 1 -->\r\n    <g transform=\"translate(318.642211 117.471759)scale(0.1 -0.1)\">\r\n     <use xlink:href=\"#DejaVuSans-31\"/>\r\n    </g>\r\n   </g>\r\n   <g id=\"text_118\">\r\n    <!-- 0 -->\r\n    <g transform=\"translate(339.787463 117.471759)scale(0.1 -0.1)\">\r\n     <use xlink:href=\"#DejaVuSans-30\"/>\r\n    </g>\r\n   </g>\r\n   <g id=\"text_119\">\r\n    <!-- 0 -->\r\n    <g transform=\"translate(360.932715 117.471759)scale(0.1 -0.1)\">\r\n     <use xlink:href=\"#DejaVuSans-30\"/>\r\n    </g>\r\n   </g>\r\n   <g id=\"text_120\">\r\n    <!-- 0 -->\r\n    <g transform=\"translate(382.077967 117.471759)scale(0.1 -0.1)\">\r\n     <use xlink:href=\"#DejaVuSans-30\"/>\r\n    </g>\r\n   </g>\r\n   <g id=\"text_121\">\r\n    <!-- 0 -->\r\n    <g transform=\"translate(403.223219 117.471759)scale(0.1 -0.1)\">\r\n     <use xlink:href=\"#DejaVuSans-30\"/>\r\n    </g>\r\n   </g>\r\n   <g id=\"text_122\">\r\n    <!-- 0 -->\r\n    <g transform=\"translate(64.899188 138.61701)scale(0.1 -0.1)\">\r\n     <use xlink:href=\"#DejaVuSans-30\"/>\r\n    </g>\r\n   </g>\r\n   <g id=\"text_123\">\r\n    <!-- 0 -->\r\n    <g transform=\"translate(86.04444 138.61701)scale(0.1 -0.1)\">\r\n     <use xlink:href=\"#DejaVuSans-30\"/>\r\n    </g>\r\n   </g>\r\n   <g id=\"text_124\">\r\n    <!-- 3 -->\r\n    <g transform=\"translate(107.189692 138.61701)scale(0.1 -0.1)\">\r\n     <use xlink:href=\"#DejaVuSans-33\"/>\r\n    </g>\r\n   </g>\r\n   <g id=\"text_125\">\r\n    <!-- 0 -->\r\n    <g transform=\"translate(128.334944 138.61701)scale(0.1 -0.1)\">\r\n     <use xlink:href=\"#DejaVuSans-30\"/>\r\n    </g>\r\n   </g>\r\n   <g id=\"text_126\">\r\n    <!-- 0 -->\r\n    <g transform=\"translate(149.480196 138.61701)scale(0.1 -0.1)\">\r\n     <use xlink:href=\"#DejaVuSans-30\"/>\r\n    </g>\r\n   </g>\r\n   <g id=\"text_127\">\r\n    <!-- 26 -->\r\n    <g transform=\"translate(167.444198 138.61701)scale(0.1 -0.1)\">\r\n     <use xlink:href=\"#DejaVuSans-32\"/>\r\n     <use x=\"63.623047\" xlink:href=\"#DejaVuSans-36\"/>\r\n    </g>\r\n   </g>\r\n   <g id=\"text_128\">\r\n    <!-- 0 -->\r\n    <g transform=\"translate(191.7707 138.61701)scale(0.1 -0.1)\">\r\n     <use xlink:href=\"#DejaVuSans-30\"/>\r\n    </g>\r\n   </g>\r\n   <g id=\"text_129\">\r\n    <!-- 0 -->\r\n    <g transform=\"translate(212.915952 138.61701)scale(0.1 -0.1)\">\r\n     <use xlink:href=\"#DejaVuSans-30\"/>\r\n    </g>\r\n   </g>\r\n   <g id=\"text_130\">\r\n    <!-- 1 -->\r\n    <g transform=\"translate(234.061204 138.61701)scale(0.1 -0.1)\">\r\n     <use xlink:href=\"#DejaVuSans-31\"/>\r\n    </g>\r\n   </g>\r\n   <g id=\"text_131\">\r\n    <!-- 1 -->\r\n    <g transform=\"translate(255.206455 138.61701)scale(0.1 -0.1)\">\r\n     <use xlink:href=\"#DejaVuSans-31\"/>\r\n    </g>\r\n   </g>\r\n   <g id=\"text_132\">\r\n    <!-- 0 -->\r\n    <g transform=\"translate(276.351707 138.61701)scale(0.1 -0.1)\">\r\n     <use xlink:href=\"#DejaVuSans-30\"/>\r\n    </g>\r\n   </g>\r\n   <g id=\"text_133\">\r\n    <!-- 1 -->\r\n    <g transform=\"translate(297.496959 138.61701)scale(0.1 -0.1)\">\r\n     <use xlink:href=\"#DejaVuSans-31\"/>\r\n    </g>\r\n   </g>\r\n   <g id=\"text_134\">\r\n    <!-- 0 -->\r\n    <g transform=\"translate(318.642211 138.61701)scale(0.1 -0.1)\">\r\n     <use xlink:href=\"#DejaVuSans-30\"/>\r\n    </g>\r\n   </g>\r\n   <g id=\"text_135\">\r\n    <!-- 0 -->\r\n    <g transform=\"translate(339.787463 138.61701)scale(0.1 -0.1)\">\r\n     <use xlink:href=\"#DejaVuSans-30\"/>\r\n    </g>\r\n   </g>\r\n   <g id=\"text_136\">\r\n    <!-- 0 -->\r\n    <g transform=\"translate(360.932715 138.61701)scale(0.1 -0.1)\">\r\n     <use xlink:href=\"#DejaVuSans-30\"/>\r\n    </g>\r\n   </g>\r\n   <g id=\"text_137\">\r\n    <!-- 8 -->\r\n    <g transform=\"translate(382.077967 138.61701)scale(0.1 -0.1)\">\r\n     <use xlink:href=\"#DejaVuSans-38\"/>\r\n    </g>\r\n   </g>\r\n   <g id=\"text_138\">\r\n    <!-- 0 -->\r\n    <g transform=\"translate(403.223219 138.61701)scale(0.1 -0.1)\">\r\n     <use xlink:href=\"#DejaVuSans-30\"/>\r\n    </g>\r\n   </g>\r\n   <g id=\"text_139\">\r\n    <!-- 0 -->\r\n    <g transform=\"translate(64.899188 159.762262)scale(0.1 -0.1)\">\r\n     <use xlink:href=\"#DejaVuSans-30\"/>\r\n    </g>\r\n   </g>\r\n   <g id=\"text_140\">\r\n    <!-- 0 -->\r\n    <g transform=\"translate(86.04444 159.762262)scale(0.1 -0.1)\">\r\n     <use xlink:href=\"#DejaVuSans-30\"/>\r\n    </g>\r\n   </g>\r\n   <g id=\"text_141\">\r\n    <!-- 0 -->\r\n    <g transform=\"translate(107.189692 159.762262)scale(0.1 -0.1)\">\r\n     <use xlink:href=\"#DejaVuSans-30\"/>\r\n    </g>\r\n   </g>\r\n   <g id=\"text_142\">\r\n    <!-- 0 -->\r\n    <g transform=\"translate(128.334944 159.762262)scale(0.1 -0.1)\">\r\n     <use xlink:href=\"#DejaVuSans-30\"/>\r\n    </g>\r\n   </g>\r\n   <g id=\"text_143\">\r\n    <!-- 0 -->\r\n    <g transform=\"translate(149.480196 159.762262)scale(0.1 -0.1)\">\r\n     <use xlink:href=\"#DejaVuSans-30\"/>\r\n    </g>\r\n   </g>\r\n   <g id=\"text_144\">\r\n    <!-- 0 -->\r\n    <g transform=\"translate(170.625448 159.762262)scale(0.1 -0.1)\">\r\n     <use xlink:href=\"#DejaVuSans-30\"/>\r\n    </g>\r\n   </g>\r\n   <g id=\"text_145\">\r\n    <!-- 3 -->\r\n    <g transform=\"translate(191.7707 159.762262)scale(0.1 -0.1)\">\r\n     <use xlink:href=\"#DejaVuSans-33\"/>\r\n    </g>\r\n   </g>\r\n   <g id=\"text_146\">\r\n    <!-- 0 -->\r\n    <g transform=\"translate(212.915952 159.762262)scale(0.1 -0.1)\">\r\n     <use xlink:href=\"#DejaVuSans-30\"/>\r\n    </g>\r\n   </g>\r\n   <g id=\"text_147\">\r\n    <!-- 0 -->\r\n    <g transform=\"translate(234.061204 159.762262)scale(0.1 -0.1)\">\r\n     <use xlink:href=\"#DejaVuSans-30\"/>\r\n    </g>\r\n   </g>\r\n   <g id=\"text_148\">\r\n    <!-- 0 -->\r\n    <g transform=\"translate(255.206455 159.762262)scale(0.1 -0.1)\">\r\n     <use xlink:href=\"#DejaVuSans-30\"/>\r\n    </g>\r\n   </g>\r\n   <g id=\"text_149\">\r\n    <!-- 0 -->\r\n    <g transform=\"translate(276.351707 159.762262)scale(0.1 -0.1)\">\r\n     <use xlink:href=\"#DejaVuSans-30\"/>\r\n    </g>\r\n   </g>\r\n   <g id=\"text_150\">\r\n    <!-- 0 -->\r\n    <g transform=\"translate(297.496959 159.762262)scale(0.1 -0.1)\">\r\n     <use xlink:href=\"#DejaVuSans-30\"/>\r\n    </g>\r\n   </g>\r\n   <g id=\"text_151\">\r\n    <!-- 0 -->\r\n    <g transform=\"translate(318.642211 159.762262)scale(0.1 -0.1)\">\r\n     <use xlink:href=\"#DejaVuSans-30\"/>\r\n    </g>\r\n   </g>\r\n   <g id=\"text_152\">\r\n    <!-- 0 -->\r\n    <g transform=\"translate(339.787463 159.762262)scale(0.1 -0.1)\">\r\n     <use xlink:href=\"#DejaVuSans-30\"/>\r\n    </g>\r\n   </g>\r\n   <g id=\"text_153\">\r\n    <!-- 0 -->\r\n    <g transform=\"translate(360.932715 159.762262)scale(0.1 -0.1)\">\r\n     <use xlink:href=\"#DejaVuSans-30\"/>\r\n    </g>\r\n   </g>\r\n   <g id=\"text_154\">\r\n    <!-- 0 -->\r\n    <g transform=\"translate(382.077967 159.762262)scale(0.1 -0.1)\">\r\n     <use xlink:href=\"#DejaVuSans-30\"/>\r\n    </g>\r\n   </g>\r\n   <g id=\"text_155\">\r\n    <!-- 1 -->\r\n    <g transform=\"translate(403.223219 159.762262)scale(0.1 -0.1)\">\r\n     <use xlink:href=\"#DejaVuSans-31\"/>\r\n    </g>\r\n   </g>\r\n   <g id=\"text_156\">\r\n    <!-- 0 -->\r\n    <g transform=\"translate(64.899188 180.907514)scale(0.1 -0.1)\">\r\n     <use xlink:href=\"#DejaVuSans-30\"/>\r\n    </g>\r\n   </g>\r\n   <g id=\"text_157\">\r\n    <!-- 0 -->\r\n    <g transform=\"translate(86.04444 180.907514)scale(0.1 -0.1)\">\r\n     <use xlink:href=\"#DejaVuSans-30\"/>\r\n    </g>\r\n   </g>\r\n   <g id=\"text_158\">\r\n    <!-- 0 -->\r\n    <g transform=\"translate(107.189692 180.907514)scale(0.1 -0.1)\">\r\n     <use xlink:href=\"#DejaVuSans-30\"/>\r\n    </g>\r\n   </g>\r\n   <g id=\"text_159\">\r\n    <!-- 0 -->\r\n    <g transform=\"translate(128.334944 180.907514)scale(0.1 -0.1)\">\r\n     <use xlink:href=\"#DejaVuSans-30\"/>\r\n    </g>\r\n   </g>\r\n   <g id=\"text_160\">\r\n    <!-- 0 -->\r\n    <g transform=\"translate(149.480196 180.907514)scale(0.1 -0.1)\">\r\n     <use xlink:href=\"#DejaVuSans-30\"/>\r\n    </g>\r\n   </g>\r\n   <g id=\"text_161\">\r\n    <!-- 0 -->\r\n    <g transform=\"translate(170.625448 180.907514)scale(0.1 -0.1)\">\r\n     <use xlink:href=\"#DejaVuSans-30\"/>\r\n    </g>\r\n   </g>\r\n   <g id=\"text_162\">\r\n    <!-- 0 -->\r\n    <g transform=\"translate(191.7707 180.907514)scale(0.1 -0.1)\">\r\n     <use xlink:href=\"#DejaVuSans-30\"/>\r\n    </g>\r\n   </g>\r\n   <g id=\"text_163\">\r\n    <!-- 6 -->\r\n    <g transform=\"translate(212.915952 180.907514)scale(0.1 -0.1)\">\r\n     <use xlink:href=\"#DejaVuSans-36\"/>\r\n    </g>\r\n   </g>\r\n   <g id=\"text_164\">\r\n    <!-- 0 -->\r\n    <g transform=\"translate(234.061204 180.907514)scale(0.1 -0.1)\">\r\n     <use xlink:href=\"#DejaVuSans-30\"/>\r\n    </g>\r\n   </g>\r\n   <g id=\"text_165\">\r\n    <!-- 0 -->\r\n    <g transform=\"translate(255.206455 180.907514)scale(0.1 -0.1)\">\r\n     <use xlink:href=\"#DejaVuSans-30\"/>\r\n    </g>\r\n   </g>\r\n   <g id=\"text_166\">\r\n    <!-- 0 -->\r\n    <g transform=\"translate(276.351707 180.907514)scale(0.1 -0.1)\">\r\n     <use xlink:href=\"#DejaVuSans-30\"/>\r\n    </g>\r\n   </g>\r\n   <g id=\"text_167\">\r\n    <!-- 0 -->\r\n    <g transform=\"translate(297.496959 180.907514)scale(0.1 -0.1)\">\r\n     <use xlink:href=\"#DejaVuSans-30\"/>\r\n    </g>\r\n   </g>\r\n   <g id=\"text_168\">\r\n    <!-- 1 -->\r\n    <g transform=\"translate(318.642211 180.907514)scale(0.1 -0.1)\">\r\n     <use xlink:href=\"#DejaVuSans-31\"/>\r\n    </g>\r\n   </g>\r\n   <g id=\"text_169\">\r\n    <!-- 0 -->\r\n    <g transform=\"translate(339.787463 180.907514)scale(0.1 -0.1)\">\r\n     <use xlink:href=\"#DejaVuSans-30\"/>\r\n    </g>\r\n   </g>\r\n   <g id=\"text_170\">\r\n    <!-- 0 -->\r\n    <g transform=\"translate(360.932715 180.907514)scale(0.1 -0.1)\">\r\n     <use xlink:href=\"#DejaVuSans-30\"/>\r\n    </g>\r\n   </g>\r\n   <g id=\"text_171\">\r\n    <!-- 0 -->\r\n    <g transform=\"translate(382.077967 180.907514)scale(0.1 -0.1)\">\r\n     <use xlink:href=\"#DejaVuSans-30\"/>\r\n    </g>\r\n   </g>\r\n   <g id=\"text_172\">\r\n    <!-- 0 -->\r\n    <g transform=\"translate(403.223219 180.907514)scale(0.1 -0.1)\">\r\n     <use xlink:href=\"#DejaVuSans-30\"/>\r\n    </g>\r\n   </g>\r\n   <g id=\"text_173\">\r\n    <!-- 0 -->\r\n    <g transform=\"translate(64.899188 202.052766)scale(0.1 -0.1)\">\r\n     <use xlink:href=\"#DejaVuSans-30\"/>\r\n    </g>\r\n   </g>\r\n   <g id=\"text_174\">\r\n    <!-- 0 -->\r\n    <g transform=\"translate(86.04444 202.052766)scale(0.1 -0.1)\">\r\n     <use xlink:href=\"#DejaVuSans-30\"/>\r\n    </g>\r\n   </g>\r\n   <g id=\"text_175\">\r\n    <!-- 2 -->\r\n    <g transform=\"translate(107.189692 202.052766)scale(0.1 -0.1)\">\r\n     <use xlink:href=\"#DejaVuSans-32\"/>\r\n    </g>\r\n   </g>\r\n   <g id=\"text_176\">\r\n    <!-- 0 -->\r\n    <g transform=\"translate(128.334944 202.052766)scale(0.1 -0.1)\">\r\n     <use xlink:href=\"#DejaVuSans-30\"/>\r\n    </g>\r\n   </g>\r\n   <g id=\"text_177\">\r\n    <!-- 0 -->\r\n    <g transform=\"translate(149.480196 202.052766)scale(0.1 -0.1)\">\r\n     <use xlink:href=\"#DejaVuSans-30\"/>\r\n    </g>\r\n   </g>\r\n   <g id=\"text_178\">\r\n    <!-- 1 -->\r\n    <g transform=\"translate(170.625448 202.052766)scale(0.1 -0.1)\">\r\n     <use xlink:href=\"#DejaVuSans-31\"/>\r\n    </g>\r\n   </g>\r\n   <g id=\"text_179\">\r\n    <!-- 0 -->\r\n    <g transform=\"translate(191.7707 202.052766)scale(0.1 -0.1)\">\r\n     <use xlink:href=\"#DejaVuSans-30\"/>\r\n    </g>\r\n   </g>\r\n   <g id=\"text_180\">\r\n    <!-- 0 -->\r\n    <g transform=\"translate(212.915952 202.052766)scale(0.1 -0.1)\">\r\n     <use xlink:href=\"#DejaVuSans-30\"/>\r\n    </g>\r\n   </g>\r\n   <g id=\"text_181\">\r\n    <!-- 18 -->\r\n    <g transform=\"translate(230.879954 202.052766)scale(0.1 -0.1)\">\r\n     <use xlink:href=\"#DejaVuSans-31\"/>\r\n     <use x=\"63.623047\" xlink:href=\"#DejaVuSans-38\"/>\r\n    </g>\r\n   </g>\r\n   <g id=\"text_182\">\r\n    <!-- 0 -->\r\n    <g transform=\"translate(255.206455 202.052766)scale(0.1 -0.1)\">\r\n     <use xlink:href=\"#DejaVuSans-30\"/>\r\n    </g>\r\n   </g>\r\n   <g id=\"text_183\">\r\n    <!-- 0 -->\r\n    <g transform=\"translate(276.351707 202.052766)scale(0.1 -0.1)\">\r\n     <use xlink:href=\"#DejaVuSans-30\"/>\r\n    </g>\r\n   </g>\r\n   <g id=\"text_184\">\r\n    <!-- 0 -->\r\n    <g transform=\"translate(297.496959 202.052766)scale(0.1 -0.1)\">\r\n     <use xlink:href=\"#DejaVuSans-30\"/>\r\n    </g>\r\n   </g>\r\n   <g id=\"text_185\">\r\n    <!-- 0 -->\r\n    <g transform=\"translate(318.642211 202.052766)scale(0.1 -0.1)\">\r\n     <use xlink:href=\"#DejaVuSans-30\"/>\r\n    </g>\r\n   </g>\r\n   <g id=\"text_186\">\r\n    <!-- 0 -->\r\n    <g transform=\"translate(339.787463 202.052766)scale(0.1 -0.1)\">\r\n     <use xlink:href=\"#DejaVuSans-30\"/>\r\n    </g>\r\n   </g>\r\n   <g id=\"text_187\">\r\n    <!-- 0 -->\r\n    <g transform=\"translate(360.932715 202.052766)scale(0.1 -0.1)\">\r\n     <use xlink:href=\"#DejaVuSans-30\"/>\r\n    </g>\r\n   </g>\r\n   <g id=\"text_188\">\r\n    <!-- 1 -->\r\n    <g transform=\"translate(382.077967 202.052766)scale(0.1 -0.1)\">\r\n     <use xlink:href=\"#DejaVuSans-31\"/>\r\n    </g>\r\n   </g>\r\n   <g id=\"text_189\">\r\n    <!-- 0 -->\r\n    <g transform=\"translate(403.223219 202.052766)scale(0.1 -0.1)\">\r\n     <use xlink:href=\"#DejaVuSans-30\"/>\r\n    </g>\r\n   </g>\r\n   <g id=\"text_190\">\r\n    <!-- 0 -->\r\n    <g transform=\"translate(64.899188 223.198018)scale(0.1 -0.1)\">\r\n     <use xlink:href=\"#DejaVuSans-30\"/>\r\n    </g>\r\n   </g>\r\n   <g id=\"text_191\">\r\n    <!-- 6 -->\r\n    <g transform=\"translate(86.04444 223.198018)scale(0.1 -0.1)\">\r\n     <use xlink:href=\"#DejaVuSans-36\"/>\r\n    </g>\r\n   </g>\r\n   <g id=\"text_192\">\r\n    <!-- 23 -->\r\n    <g transform=\"translate(104.008442 223.198018)scale(0.1 -0.1)\">\r\n     <use xlink:href=\"#DejaVuSans-32\"/>\r\n     <use x=\"63.623047\" xlink:href=\"#DejaVuSans-33\"/>\r\n    </g>\r\n   </g>\r\n   <g id=\"text_193\">\r\n    <!-- 1 -->\r\n    <g transform=\"translate(128.334944 223.198018)scale(0.1 -0.1)\">\r\n     <use xlink:href=\"#DejaVuSans-31\"/>\r\n    </g>\r\n   </g>\r\n   <g id=\"text_194\">\r\n    <!-- 1 -->\r\n    <g transform=\"translate(149.480196 223.198018)scale(0.1 -0.1)\">\r\n     <use xlink:href=\"#DejaVuSans-31\"/>\r\n    </g>\r\n   </g>\r\n   <g id=\"text_195\">\r\n    <!-- 1 -->\r\n    <g transform=\"translate(170.625448 223.198018)scale(0.1 -0.1)\">\r\n     <use xlink:href=\"#DejaVuSans-31\"/>\r\n    </g>\r\n   </g>\r\n   <g id=\"text_196\">\r\n    <!-- 0 -->\r\n    <g transform=\"translate(191.7707 223.198018)scale(0.1 -0.1)\">\r\n     <use xlink:href=\"#DejaVuSans-30\"/>\r\n    </g>\r\n   </g>\r\n   <g id=\"text_197\">\r\n    <!-- 1 -->\r\n    <g transform=\"translate(212.915952 223.198018)scale(0.1 -0.1)\">\r\n     <use xlink:href=\"#DejaVuSans-31\"/>\r\n    </g>\r\n   </g>\r\n   <g id=\"text_198\">\r\n    <!-- 3 -->\r\n    <g transform=\"translate(234.061204 223.198018)scale(0.1 -0.1)\">\r\n     <use xlink:href=\"#DejaVuSans-33\"/>\r\n    </g>\r\n   </g>\r\n   <g id=\"text_199\">\r\n    <!-- 1,652 -->\r\n    <g style=\"fill:#ffffff;\" transform=\"translate(244.073643 223.198018)scale(0.1 -0.1)\">\r\n     <defs>\r\n      <path d=\"M 750 794 \r\nL 1409 794 \r\nL 1409 256 \r\nL 897 -744 \r\nL 494 -744 \r\nL 750 256 \r\nL 750 794 \r\nz\r\n\" id=\"DejaVuSans-2c\" transform=\"scale(0.015625)\"/>\r\n     </defs>\r\n     <use xlink:href=\"#DejaVuSans-31\"/>\r\n     <use x=\"63.623047\" xlink:href=\"#DejaVuSans-2c\"/>\r\n     <use x=\"95.410156\" xlink:href=\"#DejaVuSans-36\"/>\r\n     <use x=\"159.033203\" xlink:href=\"#DejaVuSans-35\"/>\r\n     <use x=\"222.65625\" xlink:href=\"#DejaVuSans-32\"/>\r\n    </g>\r\n   </g>\r\n   <g id=\"text_200\">\r\n    <!-- 0 -->\r\n    <g transform=\"translate(276.351707 223.198018)scale(0.1 -0.1)\">\r\n     <use xlink:href=\"#DejaVuSans-30\"/>\r\n    </g>\r\n   </g>\r\n   <g id=\"text_201\">\r\n    <!-- 28 -->\r\n    <g transform=\"translate(294.315709 223.198018)scale(0.1 -0.1)\">\r\n     <use xlink:href=\"#DejaVuSans-32\"/>\r\n     <use x=\"63.623047\" xlink:href=\"#DejaVuSans-38\"/>\r\n    </g>\r\n   </g>\r\n   <g id=\"text_202\">\r\n    <!-- 0 -->\r\n    <g transform=\"translate(318.642211 223.198018)scale(0.1 -0.1)\">\r\n     <use xlink:href=\"#DejaVuSans-30\"/>\r\n    </g>\r\n   </g>\r\n   <g id=\"text_203\">\r\n    <!-- 0 -->\r\n    <g transform=\"translate(339.787463 223.198018)scale(0.1 -0.1)\">\r\n     <use xlink:href=\"#DejaVuSans-30\"/>\r\n    </g>\r\n   </g>\r\n   <g id=\"text_204\">\r\n    <!-- 45 -->\r\n    <g transform=\"translate(357.751465 223.198018)scale(0.1 -0.1)\">\r\n     <use xlink:href=\"#DejaVuSans-34\"/>\r\n     <use x=\"63.623047\" xlink:href=\"#DejaVuSans-35\"/>\r\n    </g>\r\n   </g>\r\n   <g id=\"text_205\">\r\n    <!-- 144 -->\r\n    <g transform=\"translate(375.715467 223.198018)scale(0.1 -0.1)\">\r\n     <use xlink:href=\"#DejaVuSans-31\"/>\r\n     <use x=\"63.623047\" xlink:href=\"#DejaVuSans-34\"/>\r\n     <use x=\"127.246094\" xlink:href=\"#DejaVuSans-34\"/>\r\n    </g>\r\n   </g>\r\n   <g id=\"text_206\">\r\n    <!-- 1 -->\r\n    <g transform=\"translate(403.223219 223.198018)scale(0.1 -0.1)\">\r\n     <use xlink:href=\"#DejaVuSans-31\"/>\r\n    </g>\r\n   </g>\r\n   <g id=\"text_207\">\r\n    <!-- 0 -->\r\n    <g transform=\"translate(64.899188 244.34327)scale(0.1 -0.1)\">\r\n     <use xlink:href=\"#DejaVuSans-30\"/>\r\n    </g>\r\n   </g>\r\n   <g id=\"text_208\">\r\n    <!-- 0 -->\r\n    <g transform=\"translate(86.04444 244.34327)scale(0.1 -0.1)\">\r\n     <use xlink:href=\"#DejaVuSans-30\"/>\r\n    </g>\r\n   </g>\r\n   <g id=\"text_209\">\r\n    <!-- 0 -->\r\n    <g transform=\"translate(107.189692 244.34327)scale(0.1 -0.1)\">\r\n     <use xlink:href=\"#DejaVuSans-30\"/>\r\n    </g>\r\n   </g>\r\n   <g id=\"text_210\">\r\n    <!-- 0 -->\r\n    <g transform=\"translate(128.334944 244.34327)scale(0.1 -0.1)\">\r\n     <use xlink:href=\"#DejaVuSans-30\"/>\r\n    </g>\r\n   </g>\r\n   <g id=\"text_211\">\r\n    <!-- 0 -->\r\n    <g transform=\"translate(149.480196 244.34327)scale(0.1 -0.1)\">\r\n     <use xlink:href=\"#DejaVuSans-30\"/>\r\n    </g>\r\n   </g>\r\n   <g id=\"text_212\">\r\n    <!-- 0 -->\r\n    <g transform=\"translate(170.625448 244.34327)scale(0.1 -0.1)\">\r\n     <use xlink:href=\"#DejaVuSans-30\"/>\r\n    </g>\r\n   </g>\r\n   <g id=\"text_213\">\r\n    <!-- 0 -->\r\n    <g transform=\"translate(191.7707 244.34327)scale(0.1 -0.1)\">\r\n     <use xlink:href=\"#DejaVuSans-30\"/>\r\n    </g>\r\n   </g>\r\n   <g id=\"text_214\">\r\n    <!-- 0 -->\r\n    <g transform=\"translate(212.915952 244.34327)scale(0.1 -0.1)\">\r\n     <use xlink:href=\"#DejaVuSans-30\"/>\r\n    </g>\r\n   </g>\r\n   <g id=\"text_215\">\r\n    <!-- 0 -->\r\n    <g transform=\"translate(234.061204 244.34327)scale(0.1 -0.1)\">\r\n     <use xlink:href=\"#DejaVuSans-30\"/>\r\n    </g>\r\n   </g>\r\n   <g id=\"text_216\">\r\n    <!-- 0 -->\r\n    <g transform=\"translate(255.206455 244.34327)scale(0.1 -0.1)\">\r\n     <use xlink:href=\"#DejaVuSans-30\"/>\r\n    </g>\r\n   </g>\r\n   <g id=\"text_217\">\r\n    <!-- 8 -->\r\n    <g transform=\"translate(276.351707 244.34327)scale(0.1 -0.1)\">\r\n     <use xlink:href=\"#DejaVuSans-38\"/>\r\n    </g>\r\n   </g>\r\n   <g id=\"text_218\">\r\n    <!-- 0 -->\r\n    <g transform=\"translate(297.496959 244.34327)scale(0.1 -0.1)\">\r\n     <use xlink:href=\"#DejaVuSans-30\"/>\r\n    </g>\r\n   </g>\r\n   <g id=\"text_219\">\r\n    <!-- 0 -->\r\n    <g transform=\"translate(318.642211 244.34327)scale(0.1 -0.1)\">\r\n     <use xlink:href=\"#DejaVuSans-30\"/>\r\n    </g>\r\n   </g>\r\n   <g id=\"text_220\">\r\n    <!-- 0 -->\r\n    <g transform=\"translate(339.787463 244.34327)scale(0.1 -0.1)\">\r\n     <use xlink:href=\"#DejaVuSans-30\"/>\r\n    </g>\r\n   </g>\r\n   <g id=\"text_221\">\r\n    <!-- 0 -->\r\n    <g transform=\"translate(360.932715 244.34327)scale(0.1 -0.1)\">\r\n     <use xlink:href=\"#DejaVuSans-30\"/>\r\n    </g>\r\n   </g>\r\n   <g id=\"text_222\">\r\n    <!-- 0 -->\r\n    <g transform=\"translate(382.077967 244.34327)scale(0.1 -0.1)\">\r\n     <use xlink:href=\"#DejaVuSans-30\"/>\r\n    </g>\r\n   </g>\r\n   <g id=\"text_223\">\r\n    <!-- 1 -->\r\n    <g transform=\"translate(403.223219 244.34327)scale(0.1 -0.1)\">\r\n     <use xlink:href=\"#DejaVuSans-31\"/>\r\n    </g>\r\n   </g>\r\n   <g id=\"text_224\">\r\n    <!-- 0 -->\r\n    <g transform=\"translate(64.899188 265.488522)scale(0.1 -0.1)\">\r\n     <use xlink:href=\"#DejaVuSans-30\"/>\r\n    </g>\r\n   </g>\r\n   <g id=\"text_225\">\r\n    <!-- 0 -->\r\n    <g transform=\"translate(86.04444 265.488522)scale(0.1 -0.1)\">\r\n     <use xlink:href=\"#DejaVuSans-30\"/>\r\n    </g>\r\n   </g>\r\n   <g id=\"text_226\">\r\n    <!-- 4 -->\r\n    <g transform=\"translate(107.189692 265.488522)scale(0.1 -0.1)\">\r\n     <use xlink:href=\"#DejaVuSans-34\"/>\r\n    </g>\r\n   </g>\r\n   <g id=\"text_227\">\r\n    <!-- 9 -->\r\n    <g transform=\"translate(128.334944 265.488522)scale(0.1 -0.1)\">\r\n     <use xlink:href=\"#DejaVuSans-39\"/>\r\n    </g>\r\n   </g>\r\n   <g id=\"text_228\">\r\n    <!-- 9 -->\r\n    <g transform=\"translate(149.480196 265.488522)scale(0.1 -0.1)\">\r\n     <use xlink:href=\"#DejaVuSans-39\"/>\r\n    </g>\r\n   </g>\r\n   <g id=\"text_229\">\r\n    <!-- 0 -->\r\n    <g transform=\"translate(170.625448 265.488522)scale(0.1 -0.1)\">\r\n     <use xlink:href=\"#DejaVuSans-30\"/>\r\n    </g>\r\n   </g>\r\n   <g id=\"text_230\">\r\n    <!-- 0 -->\r\n    <g transform=\"translate(191.7707 265.488522)scale(0.1 -0.1)\">\r\n     <use xlink:href=\"#DejaVuSans-30\"/>\r\n    </g>\r\n   </g>\r\n   <g id=\"text_231\">\r\n    <!-- 0 -->\r\n    <g transform=\"translate(212.915952 265.488522)scale(0.1 -0.1)\">\r\n     <use xlink:href=\"#DejaVuSans-30\"/>\r\n    </g>\r\n   </g>\r\n   <g id=\"text_232\">\r\n    <!-- 0 -->\r\n    <g transform=\"translate(234.061204 265.488522)scale(0.1 -0.1)\">\r\n     <use xlink:href=\"#DejaVuSans-30\"/>\r\n    </g>\r\n   </g>\r\n   <g id=\"text_233\">\r\n    <!-- 9 -->\r\n    <g transform=\"translate(255.206455 265.488522)scale(0.1 -0.1)\">\r\n     <use xlink:href=\"#DejaVuSans-39\"/>\r\n    </g>\r\n   </g>\r\n   <g id=\"text_234\">\r\n    <!-- 0 -->\r\n    <g transform=\"translate(276.351707 265.488522)scale(0.1 -0.1)\">\r\n     <use xlink:href=\"#DejaVuSans-30\"/>\r\n    </g>\r\n   </g>\r\n   <g id=\"text_235\">\r\n    <!-- 942 -->\r\n    <g style=\"fill:#ffffff;\" transform=\"translate(291.134459 265.488522)scale(0.1 -0.1)\">\r\n     <use xlink:href=\"#DejaVuSans-39\"/>\r\n     <use x=\"63.623047\" xlink:href=\"#DejaVuSans-34\"/>\r\n     <use x=\"127.246094\" xlink:href=\"#DejaVuSans-32\"/>\r\n    </g>\r\n   </g>\r\n   <g id=\"text_236\">\r\n    <!-- 0 -->\r\n    <g transform=\"translate(318.642211 265.488522)scale(0.1 -0.1)\">\r\n     <use xlink:href=\"#DejaVuSans-30\"/>\r\n    </g>\r\n   </g>\r\n   <g id=\"text_237\">\r\n    <!-- 0 -->\r\n    <g transform=\"translate(339.787463 265.488522)scale(0.1 -0.1)\">\r\n     <use xlink:href=\"#DejaVuSans-30\"/>\r\n    </g>\r\n   </g>\r\n   <g id=\"text_238\">\r\n    <!-- 5 -->\r\n    <g transform=\"translate(360.932715 265.488522)scale(0.1 -0.1)\">\r\n     <use xlink:href=\"#DejaVuSans-35\"/>\r\n    </g>\r\n   </g>\r\n   <g id=\"text_239\">\r\n    <!-- 34 -->\r\n    <g transform=\"translate(378.896717 265.488522)scale(0.1 -0.1)\">\r\n     <use xlink:href=\"#DejaVuSans-33\"/>\r\n     <use x=\"63.623047\" xlink:href=\"#DejaVuSans-34\"/>\r\n    </g>\r\n   </g>\r\n   <g id=\"text_240\">\r\n    <!-- 0 -->\r\n    <g transform=\"translate(403.223219 265.488522)scale(0.1 -0.1)\">\r\n     <use xlink:href=\"#DejaVuSans-30\"/>\r\n    </g>\r\n   </g>\r\n   <g id=\"text_241\">\r\n    <!-- 0 -->\r\n    <g transform=\"translate(64.899188 286.633774)scale(0.1 -0.1)\">\r\n     <use xlink:href=\"#DejaVuSans-30\"/>\r\n    </g>\r\n   </g>\r\n   <g id=\"text_242\">\r\n    <!-- 0 -->\r\n    <g transform=\"translate(86.04444 286.633774)scale(0.1 -0.1)\">\r\n     <use xlink:href=\"#DejaVuSans-30\"/>\r\n    </g>\r\n   </g>\r\n   <g id=\"text_243\">\r\n    <!-- 1 -->\r\n    <g transform=\"translate(107.189692 286.633774)scale(0.1 -0.1)\">\r\n     <use xlink:href=\"#DejaVuSans-31\"/>\r\n    </g>\r\n   </g>\r\n   <g id=\"text_244\">\r\n    <!-- 0 -->\r\n    <g transform=\"translate(128.334944 286.633774)scale(0.1 -0.1)\">\r\n     <use xlink:href=\"#DejaVuSans-30\"/>\r\n    </g>\r\n   </g>\r\n   <g id=\"text_245\">\r\n    <!-- 1 -->\r\n    <g transform=\"translate(149.480196 286.633774)scale(0.1 -0.1)\">\r\n     <use xlink:href=\"#DejaVuSans-31\"/>\r\n    </g>\r\n   </g>\r\n   <g id=\"text_246\">\r\n    <!-- 1 -->\r\n    <g transform=\"translate(170.625448 286.633774)scale(0.1 -0.1)\">\r\n     <use xlink:href=\"#DejaVuSans-31\"/>\r\n    </g>\r\n   </g>\r\n   <g id=\"text_247\">\r\n    <!-- 0 -->\r\n    <g transform=\"translate(191.7707 286.633774)scale(0.1 -0.1)\">\r\n     <use xlink:href=\"#DejaVuSans-30\"/>\r\n    </g>\r\n   </g>\r\n   <g id=\"text_248\">\r\n    <!-- 0 -->\r\n    <g transform=\"translate(212.915952 286.633774)scale(0.1 -0.1)\">\r\n     <use xlink:href=\"#DejaVuSans-30\"/>\r\n    </g>\r\n   </g>\r\n   <g id=\"text_249\">\r\n    <!-- 0 -->\r\n    <g transform=\"translate(234.061204 286.633774)scale(0.1 -0.1)\">\r\n     <use xlink:href=\"#DejaVuSans-30\"/>\r\n    </g>\r\n   </g>\r\n   <g id=\"text_250\">\r\n    <!-- 1 -->\r\n    <g transform=\"translate(255.206455 286.633774)scale(0.1 -0.1)\">\r\n     <use xlink:href=\"#DejaVuSans-31\"/>\r\n    </g>\r\n   </g>\r\n   <g id=\"text_251\">\r\n    <!-- 0 -->\r\n    <g transform=\"translate(276.351707 286.633774)scale(0.1 -0.1)\">\r\n     <use xlink:href=\"#DejaVuSans-30\"/>\r\n    </g>\r\n   </g>\r\n   <g id=\"text_252\">\r\n    <!-- 1 -->\r\n    <g transform=\"translate(297.496959 286.633774)scale(0.1 -0.1)\">\r\n     <use xlink:href=\"#DejaVuSans-31\"/>\r\n    </g>\r\n   </g>\r\n   <g id=\"text_253\">\r\n    <!-- 103 -->\r\n    <g transform=\"translate(312.279711 286.633774)scale(0.1 -0.1)\">\r\n     <use xlink:href=\"#DejaVuSans-31\"/>\r\n     <use x=\"63.623047\" xlink:href=\"#DejaVuSans-30\"/>\r\n     <use x=\"127.246094\" xlink:href=\"#DejaVuSans-33\"/>\r\n    </g>\r\n   </g>\r\n   <g id=\"text_254\">\r\n    <!-- 0 -->\r\n    <g transform=\"translate(339.787463 286.633774)scale(0.1 -0.1)\">\r\n     <use xlink:href=\"#DejaVuSans-30\"/>\r\n    </g>\r\n   </g>\r\n   <g id=\"text_255\">\r\n    <!-- 0 -->\r\n    <g transform=\"translate(360.932715 286.633774)scale(0.1 -0.1)\">\r\n     <use xlink:href=\"#DejaVuSans-30\"/>\r\n    </g>\r\n   </g>\r\n   <g id=\"text_256\">\r\n    <!-- 0 -->\r\n    <g transform=\"translate(382.077967 286.633774)scale(0.1 -0.1)\">\r\n     <use xlink:href=\"#DejaVuSans-30\"/>\r\n    </g>\r\n   </g>\r\n   <g id=\"text_257\">\r\n    <!-- 0 -->\r\n    <g transform=\"translate(403.223219 286.633774)scale(0.1 -0.1)\">\r\n     <use xlink:href=\"#DejaVuSans-30\"/>\r\n    </g>\r\n   </g>\r\n   <g id=\"text_258\">\r\n    <!-- 0 -->\r\n    <g transform=\"translate(64.899188 307.779026)scale(0.1 -0.1)\">\r\n     <use xlink:href=\"#DejaVuSans-30\"/>\r\n    </g>\r\n   </g>\r\n   <g id=\"text_259\">\r\n    <!-- 0 -->\r\n    <g transform=\"translate(86.04444 307.779026)scale(0.1 -0.1)\">\r\n     <use xlink:href=\"#DejaVuSans-30\"/>\r\n    </g>\r\n   </g>\r\n   <g id=\"text_260\">\r\n    <!-- 0 -->\r\n    <g transform=\"translate(107.189692 307.779026)scale(0.1 -0.1)\">\r\n     <use xlink:href=\"#DejaVuSans-30\"/>\r\n    </g>\r\n   </g>\r\n   <g id=\"text_261\">\r\n    <!-- 0 -->\r\n    <g transform=\"translate(128.334944 307.779026)scale(0.1 -0.1)\">\r\n     <use xlink:href=\"#DejaVuSans-30\"/>\r\n    </g>\r\n   </g>\r\n   <g id=\"text_262\">\r\n    <!-- 0 -->\r\n    <g transform=\"translate(149.480196 307.779026)scale(0.1 -0.1)\">\r\n     <use xlink:href=\"#DejaVuSans-30\"/>\r\n    </g>\r\n   </g>\r\n   <g id=\"text_263\">\r\n    <!-- 0 -->\r\n    <g transform=\"translate(170.625448 307.779026)scale(0.1 -0.1)\">\r\n     <use xlink:href=\"#DejaVuSans-30\"/>\r\n    </g>\r\n   </g>\r\n   <g id=\"text_264\">\r\n    <!-- 0 -->\r\n    <g transform=\"translate(191.7707 307.779026)scale(0.1 -0.1)\">\r\n     <use xlink:href=\"#DejaVuSans-30\"/>\r\n    </g>\r\n   </g>\r\n   <g id=\"text_265\">\r\n    <!-- 0 -->\r\n    <g transform=\"translate(212.915952 307.779026)scale(0.1 -0.1)\">\r\n     <use xlink:href=\"#DejaVuSans-30\"/>\r\n    </g>\r\n   </g>\r\n   <g id=\"text_266\">\r\n    <!-- 0 -->\r\n    <g transform=\"translate(234.061204 307.779026)scale(0.1 -0.1)\">\r\n     <use xlink:href=\"#DejaVuSans-30\"/>\r\n    </g>\r\n   </g>\r\n   <g id=\"text_267\">\r\n    <!-- 0 -->\r\n    <g transform=\"translate(255.206455 307.779026)scale(0.1 -0.1)\">\r\n     <use xlink:href=\"#DejaVuSans-30\"/>\r\n    </g>\r\n   </g>\r\n   <g id=\"text_268\">\r\n    <!-- 0 -->\r\n    <g transform=\"translate(276.351707 307.779026)scale(0.1 -0.1)\">\r\n     <use xlink:href=\"#DejaVuSans-30\"/>\r\n    </g>\r\n   </g>\r\n   <g id=\"text_269\">\r\n    <!-- 0 -->\r\n    <g transform=\"translate(297.496959 307.779026)scale(0.1 -0.1)\">\r\n     <use xlink:href=\"#DejaVuSans-30\"/>\r\n    </g>\r\n   </g>\r\n   <g id=\"text_270\">\r\n    <!-- 0 -->\r\n    <g transform=\"translate(318.642211 307.779026)scale(0.1 -0.1)\">\r\n     <use xlink:href=\"#DejaVuSans-30\"/>\r\n    </g>\r\n   </g>\r\n   <g id=\"text_271\">\r\n    <!-- 783 -->\r\n    <g transform=\"translate(333.424963 307.779026)scale(0.1 -0.1)\">\r\n     <use xlink:href=\"#DejaVuSans-37\"/>\r\n     <use x=\"63.623047\" xlink:href=\"#DejaVuSans-38\"/>\r\n     <use x=\"127.246094\" xlink:href=\"#DejaVuSans-33\"/>\r\n    </g>\r\n   </g>\r\n   <g id=\"text_272\">\r\n    <!-- 0 -->\r\n    <g transform=\"translate(360.932715 307.779026)scale(0.1 -0.1)\">\r\n     <use xlink:href=\"#DejaVuSans-30\"/>\r\n    </g>\r\n   </g>\r\n   <g id=\"text_273\">\r\n    <!-- 0 -->\r\n    <g transform=\"translate(382.077967 307.779026)scale(0.1 -0.1)\">\r\n     <use xlink:href=\"#DejaVuSans-30\"/>\r\n    </g>\r\n   </g>\r\n   <g id=\"text_274\">\r\n    <!-- 4 -->\r\n    <g transform=\"translate(403.223219 307.779026)scale(0.1 -0.1)\">\r\n     <use xlink:href=\"#DejaVuSans-34\"/>\r\n    </g>\r\n   </g>\r\n   <g id=\"text_275\">\r\n    <!-- 0 -->\r\n    <g transform=\"translate(64.899188 328.924277)scale(0.1 -0.1)\">\r\n     <use xlink:href=\"#DejaVuSans-30\"/>\r\n    </g>\r\n   </g>\r\n   <g id=\"text_276\">\r\n    <!-- 3 -->\r\n    <g transform=\"translate(86.04444 328.924277)scale(0.1 -0.1)\">\r\n     <use xlink:href=\"#DejaVuSans-33\"/>\r\n    </g>\r\n   </g>\r\n   <g id=\"text_277\">\r\n    <!-- 1 -->\r\n    <g transform=\"translate(107.189692 328.924277)scale(0.1 -0.1)\">\r\n     <use xlink:href=\"#DejaVuSans-31\"/>\r\n    </g>\r\n   </g>\r\n   <g id=\"text_278\">\r\n    <!-- 0 -->\r\n    <g transform=\"translate(128.334944 328.924277)scale(0.1 -0.1)\">\r\n     <use xlink:href=\"#DejaVuSans-30\"/>\r\n    </g>\r\n   </g>\r\n   <g id=\"text_279\">\r\n    <!-- 0 -->\r\n    <g transform=\"translate(149.480196 328.924277)scale(0.1 -0.1)\">\r\n     <use xlink:href=\"#DejaVuSans-30\"/>\r\n    </g>\r\n   </g>\r\n   <g id=\"text_280\">\r\n    <!-- 0 -->\r\n    <g transform=\"translate(170.625448 328.924277)scale(0.1 -0.1)\">\r\n     <use xlink:href=\"#DejaVuSans-30\"/>\r\n    </g>\r\n   </g>\r\n   <g id=\"text_281\">\r\n    <!-- 0 -->\r\n    <g transform=\"translate(191.7707 328.924277)scale(0.1 -0.1)\">\r\n     <use xlink:href=\"#DejaVuSans-30\"/>\r\n    </g>\r\n   </g>\r\n   <g id=\"text_282\">\r\n    <!-- 0 -->\r\n    <g transform=\"translate(212.915952 328.924277)scale(0.1 -0.1)\">\r\n     <use xlink:href=\"#DejaVuSans-30\"/>\r\n    </g>\r\n   </g>\r\n   <g id=\"text_283\">\r\n    <!-- 0 -->\r\n    <g transform=\"translate(234.061204 328.924277)scale(0.1 -0.1)\">\r\n     <use xlink:href=\"#DejaVuSans-30\"/>\r\n    </g>\r\n   </g>\r\n   <g id=\"text_284\">\r\n    <!-- 21 -->\r\n    <g transform=\"translate(252.025205 328.924277)scale(0.1 -0.1)\">\r\n     <use xlink:href=\"#DejaVuSans-32\"/>\r\n     <use x=\"63.623047\" xlink:href=\"#DejaVuSans-31\"/>\r\n    </g>\r\n   </g>\r\n   <g id=\"text_285\">\r\n    <!-- 0 -->\r\n    <g transform=\"translate(276.351707 328.924277)scale(0.1 -0.1)\">\r\n     <use xlink:href=\"#DejaVuSans-30\"/>\r\n    </g>\r\n   </g>\r\n   <g id=\"text_286\">\r\n    <!-- 7 -->\r\n    <g transform=\"translate(297.496959 328.924277)scale(0.1 -0.1)\">\r\n     <use xlink:href=\"#DejaVuSans-37\"/>\r\n    </g>\r\n   </g>\r\n   <g id=\"text_287\">\r\n    <!-- 0 -->\r\n    <g transform=\"translate(318.642211 328.924277)scale(0.1 -0.1)\">\r\n     <use xlink:href=\"#DejaVuSans-30\"/>\r\n    </g>\r\n   </g>\r\n   <g id=\"text_288\">\r\n    <!-- 0 -->\r\n    <g transform=\"translate(339.787463 328.924277)scale(0.1 -0.1)\">\r\n     <use xlink:href=\"#DejaVuSans-30\"/>\r\n    </g>\r\n   </g>\r\n   <g id=\"text_289\">\r\n    <!-- 549 -->\r\n    <g transform=\"translate(354.570215 328.924277)scale(0.1 -0.1)\">\r\n     <use xlink:href=\"#DejaVuSans-35\"/>\r\n     <use x=\"63.623047\" xlink:href=\"#DejaVuSans-34\"/>\r\n     <use x=\"127.246094\" xlink:href=\"#DejaVuSans-39\"/>\r\n    </g>\r\n   </g>\r\n   <g id=\"text_290\">\r\n    <!-- 23 -->\r\n    <g transform=\"translate(378.896717 328.924277)scale(0.1 -0.1)\">\r\n     <use xlink:href=\"#DejaVuSans-32\"/>\r\n     <use x=\"63.623047\" xlink:href=\"#DejaVuSans-33\"/>\r\n    </g>\r\n   </g>\r\n   <g id=\"text_291\">\r\n    <!-- 1 -->\r\n    <g transform=\"translate(403.223219 328.924277)scale(0.1 -0.1)\">\r\n     <use xlink:href=\"#DejaVuSans-31\"/>\r\n    </g>\r\n   </g>\r\n   <g id=\"text_292\">\r\n    <!-- 0 -->\r\n    <g transform=\"translate(64.899188 350.069529)scale(0.1 -0.1)\">\r\n     <use xlink:href=\"#DejaVuSans-30\"/>\r\n    </g>\r\n   </g>\r\n   <g id=\"text_293\">\r\n    <!-- 0 -->\r\n    <g transform=\"translate(86.04444 350.069529)scale(0.1 -0.1)\">\r\n     <use xlink:href=\"#DejaVuSans-30\"/>\r\n    </g>\r\n   </g>\r\n   <g id=\"text_294\">\r\n    <!-- 4 -->\r\n    <g transform=\"translate(107.189692 350.069529)scale(0.1 -0.1)\">\r\n     <use xlink:href=\"#DejaVuSans-34\"/>\r\n    </g>\r\n   </g>\r\n   <g id=\"text_295\">\r\n    <!-- 1 -->\r\n    <g transform=\"translate(128.334944 350.069529)scale(0.1 -0.1)\">\r\n     <use xlink:href=\"#DejaVuSans-31\"/>\r\n    </g>\r\n   </g>\r\n   <g id=\"text_296\">\r\n    <!-- 2 -->\r\n    <g transform=\"translate(149.480196 350.069529)scale(0.1 -0.1)\">\r\n     <use xlink:href=\"#DejaVuSans-32\"/>\r\n    </g>\r\n   </g>\r\n   <g id=\"text_297\">\r\n    <!-- 4 -->\r\n    <g transform=\"translate(170.625448 350.069529)scale(0.1 -0.1)\">\r\n     <use xlink:href=\"#DejaVuSans-34\"/>\r\n    </g>\r\n   </g>\r\n   <g id=\"text_298\">\r\n    <!-- 0 -->\r\n    <g transform=\"translate(191.7707 350.069529)scale(0.1 -0.1)\">\r\n     <use xlink:href=\"#DejaVuSans-30\"/>\r\n    </g>\r\n   </g>\r\n   <g id=\"text_299\">\r\n    <!-- 0 -->\r\n    <g transform=\"translate(212.915952 350.069529)scale(0.1 -0.1)\">\r\n     <use xlink:href=\"#DejaVuSans-30\"/>\r\n    </g>\r\n   </g>\r\n   <g id=\"text_300\">\r\n    <!-- 0 -->\r\n    <g transform=\"translate(234.061204 350.069529)scale(0.1 -0.1)\">\r\n     <use xlink:href=\"#DejaVuSans-30\"/>\r\n    </g>\r\n   </g>\r\n   <g id=\"text_301\">\r\n    <!-- 72 -->\r\n    <g transform=\"translate(252.025205 350.069529)scale(0.1 -0.1)\">\r\n     <use xlink:href=\"#DejaVuSans-37\"/>\r\n     <use x=\"63.623047\" xlink:href=\"#DejaVuSans-32\"/>\r\n    </g>\r\n   </g>\r\n   <g id=\"text_302\">\r\n    <!-- 0 -->\r\n    <g transform=\"translate(276.351707 350.069529)scale(0.1 -0.1)\">\r\n     <use xlink:href=\"#DejaVuSans-30\"/>\r\n    </g>\r\n   </g>\r\n   <g id=\"text_303\">\r\n    <!-- 19 -->\r\n    <g transform=\"translate(294.315709 350.069529)scale(0.1 -0.1)\">\r\n     <use xlink:href=\"#DejaVuSans-31\"/>\r\n     <use x=\"63.623047\" xlink:href=\"#DejaVuSans-39\"/>\r\n    </g>\r\n   </g>\r\n   <g id=\"text_304\">\r\n    <!-- 0 -->\r\n    <g transform=\"translate(318.642211 350.069529)scale(0.1 -0.1)\">\r\n     <use xlink:href=\"#DejaVuSans-30\"/>\r\n    </g>\r\n   </g>\r\n   <g id=\"text_305\">\r\n    <!-- 0 -->\r\n    <g transform=\"translate(339.787463 350.069529)scale(0.1 -0.1)\">\r\n     <use xlink:href=\"#DejaVuSans-30\"/>\r\n    </g>\r\n   </g>\r\n   <g id=\"text_306\">\r\n    <!-- 56 -->\r\n    <g transform=\"translate(357.751465 350.069529)scale(0.1 -0.1)\">\r\n     <use xlink:href=\"#DejaVuSans-35\"/>\r\n     <use x=\"63.623047\" xlink:href=\"#DejaVuSans-36\"/>\r\n    </g>\r\n   </g>\r\n   <g id=\"text_307\">\r\n    <!-- 718 -->\r\n    <g transform=\"translate(375.715467 350.069529)scale(0.1 -0.1)\">\r\n     <use xlink:href=\"#DejaVuSans-37\"/>\r\n     <use x=\"63.623047\" xlink:href=\"#DejaVuSans-31\"/>\r\n     <use x=\"127.246094\" xlink:href=\"#DejaVuSans-38\"/>\r\n    </g>\r\n   </g>\r\n   <g id=\"text_308\">\r\n    <!-- 1 -->\r\n    <g transform=\"translate(403.223219 350.069529)scale(0.1 -0.1)\">\r\n     <use xlink:href=\"#DejaVuSans-31\"/>\r\n    </g>\r\n   </g>\r\n   <g id=\"text_309\">\r\n    <!-- 0 -->\r\n    <g transform=\"translate(64.899188 371.214781)scale(0.1 -0.1)\">\r\n     <use xlink:href=\"#DejaVuSans-30\"/>\r\n    </g>\r\n   </g>\r\n   <g id=\"text_310\">\r\n    <!-- 0 -->\r\n    <g transform=\"translate(86.04444 371.214781)scale(0.1 -0.1)\">\r\n     <use xlink:href=\"#DejaVuSans-30\"/>\r\n    </g>\r\n   </g>\r\n   <g id=\"text_311\">\r\n    <!-- 0 -->\r\n    <g transform=\"translate(107.189692 371.214781)scale(0.1 -0.1)\">\r\n     <use xlink:href=\"#DejaVuSans-30\"/>\r\n    </g>\r\n   </g>\r\n   <g id=\"text_312\">\r\n    <!-- 0 -->\r\n    <g transform=\"translate(128.334944 371.214781)scale(0.1 -0.1)\">\r\n     <use xlink:href=\"#DejaVuSans-30\"/>\r\n    </g>\r\n   </g>\r\n   <g id=\"text_313\">\r\n    <!-- 0 -->\r\n    <g transform=\"translate(149.480196 371.214781)scale(0.1 -0.1)\">\r\n     <use xlink:href=\"#DejaVuSans-30\"/>\r\n    </g>\r\n   </g>\r\n   <g id=\"text_314\">\r\n    <!-- 0 -->\r\n    <g transform=\"translate(170.625448 371.214781)scale(0.1 -0.1)\">\r\n     <use xlink:href=\"#DejaVuSans-30\"/>\r\n    </g>\r\n   </g>\r\n   <g id=\"text_315\">\r\n    <!-- 0 -->\r\n    <g transform=\"translate(191.7707 371.214781)scale(0.1 -0.1)\">\r\n     <use xlink:href=\"#DejaVuSans-30\"/>\r\n    </g>\r\n   </g>\r\n   <g id=\"text_316\">\r\n    <!-- 0 -->\r\n    <g transform=\"translate(212.915952 371.214781)scale(0.1 -0.1)\">\r\n     <use xlink:href=\"#DejaVuSans-30\"/>\r\n    </g>\r\n   </g>\r\n   <g id=\"text_317\">\r\n    <!-- 0 -->\r\n    <g transform=\"translate(234.061204 371.214781)scale(0.1 -0.1)\">\r\n     <use xlink:href=\"#DejaVuSans-30\"/>\r\n    </g>\r\n   </g>\r\n   <g id=\"text_318\">\r\n    <!-- 0 -->\r\n    <g transform=\"translate(255.206455 371.214781)scale(0.1 -0.1)\">\r\n     <use xlink:href=\"#DejaVuSans-30\"/>\r\n    </g>\r\n   </g>\r\n   <g id=\"text_319\">\r\n    <!-- 0 -->\r\n    <g transform=\"translate(276.351707 371.214781)scale(0.1 -0.1)\">\r\n     <use xlink:href=\"#DejaVuSans-30\"/>\r\n    </g>\r\n   </g>\r\n   <g id=\"text_320\">\r\n    <!-- 0 -->\r\n    <g transform=\"translate(297.496959 371.214781)scale(0.1 -0.1)\">\r\n     <use xlink:href=\"#DejaVuSans-30\"/>\r\n    </g>\r\n   </g>\r\n   <g id=\"text_321\">\r\n    <!-- 0 -->\r\n    <g transform=\"translate(318.642211 371.214781)scale(0.1 -0.1)\">\r\n     <use xlink:href=\"#DejaVuSans-30\"/>\r\n    </g>\r\n   </g>\r\n   <g id=\"text_322\">\r\n    <!-- 3 -->\r\n    <g transform=\"translate(339.787463 371.214781)scale(0.1 -0.1)\">\r\n     <use xlink:href=\"#DejaVuSans-33\"/>\r\n    </g>\r\n   </g>\r\n   <g id=\"text_323\">\r\n    <!-- 0 -->\r\n    <g transform=\"translate(360.932715 371.214781)scale(0.1 -0.1)\">\r\n     <use xlink:href=\"#DejaVuSans-30\"/>\r\n    </g>\r\n   </g>\r\n   <g id=\"text_324\">\r\n    <!-- 0 -->\r\n    <g transform=\"translate(382.077967 371.214781)scale(0.1 -0.1)\">\r\n     <use xlink:href=\"#DejaVuSans-30\"/>\r\n    </g>\r\n   </g>\r\n   <g id=\"text_325\">\r\n    <!-- 215 -->\r\n    <g transform=\"translate(396.860719 371.214781)scale(0.1 -0.1)\">\r\n     <use xlink:href=\"#DejaVuSans-32\"/>\r\n     <use x=\"63.623047\" xlink:href=\"#DejaVuSans-31\"/>\r\n     <use x=\"127.246094\" xlink:href=\"#DejaVuSans-35\"/>\r\n    </g>\r\n   </g>\r\n   <g id=\"text_326\">\r\n    <!-- Bert fine-tuned model -->\r\n    <g transform=\"translate(171.221829 16.318125)scale(0.12 -0.12)\">\r\n     <defs>\r\n      <path d=\"M 3513 2113 \r\nL 3513 0 \r\nL 2938 0 \r\nL 2938 2094 \r\nQ 2938 2591 2744 2837 \r\nQ 2550 3084 2163 3084 \r\nQ 1697 3084 1428 2787 \r\nQ 1159 2491 1159 1978 \r\nL 1159 0 \r\nL 581 0 \r\nL 581 3500 \r\nL 1159 3500 \r\nL 1159 2956 \r\nQ 1366 3272 1645 3428 \r\nQ 1925 3584 2291 3584 \r\nQ 2894 3584 3203 3211 \r\nQ 3513 2838 3513 2113 \r\nz\r\n\" id=\"DejaVuSans-6e\" transform=\"scale(0.015625)\"/>\r\n     </defs>\r\n     <use xlink:href=\"#DejaVuSans-42\"/>\r\n     <use x=\"68.603516\" xlink:href=\"#DejaVuSans-65\"/>\r\n     <use x=\"130.126953\" xlink:href=\"#DejaVuSans-72\"/>\r\n     <use x=\"171.240234\" xlink:href=\"#DejaVuSans-74\"/>\r\n     <use x=\"210.449219\" xlink:href=\"#DejaVuSans-20\"/>\r\n     <use x=\"242.236328\" xlink:href=\"#DejaVuSans-66\"/>\r\n     <use x=\"277.441406\" xlink:href=\"#DejaVuSans-69\"/>\r\n     <use x=\"305.224609\" xlink:href=\"#DejaVuSans-6e\"/>\r\n     <use x=\"368.603516\" xlink:href=\"#DejaVuSans-65\"/>\r\n     <use x=\"430.126953\" xlink:href=\"#DejaVuSans-2d\"/>\r\n     <use x=\"466.210938\" xlink:href=\"#DejaVuSans-74\"/>\r\n     <use x=\"505.419922\" xlink:href=\"#DejaVuSans-75\"/>\r\n     <use x=\"568.798828\" xlink:href=\"#DejaVuSans-6e\"/>\r\n     <use x=\"632.177734\" xlink:href=\"#DejaVuSans-65\"/>\r\n     <use x=\"693.701172\" xlink:href=\"#DejaVuSans-64\"/>\r\n     <use x=\"757.177734\" xlink:href=\"#DejaVuSans-20\"/>\r\n     <use x=\"788.964844\" xlink:href=\"#DejaVuSans-6d\"/>\r\n     <use x=\"886.376953\" xlink:href=\"#DejaVuSans-6f\"/>\r\n     <use x=\"947.558594\" xlink:href=\"#DejaVuSans-64\"/>\r\n     <use x=\"1011.035156\" xlink:href=\"#DejaVuSans-65\"/>\r\n     <use x=\"1072.558594\" xlink:href=\"#DejaVuSans-6c\"/>\r\n    </g>\r\n   </g>\r\n  </g>\r\n  <g id=\"axes_2\">\r\n   <g id=\"patch_7\">\r\n    <path d=\"M 451.897095 381.787407 \r\nL 469.870559 381.787407 \r\nL 469.870559 22.318125 \r\nL 451.897095 22.318125 \r\nz\r\n\" style=\"fill:#ffffff;\"/>\r\n   </g>\r\n   <g id=\"patch_8\">\r\n    <path clip-path=\"url(#pd436c4238c)\" d=\"M 451.897095 381.787407 \r\nL 451.897095 380.38323 \r\nL 451.897095 23.722302 \r\nL 451.897095 22.318125 \r\nL 469.870559 22.318125 \r\nL 469.870559 23.722302 \r\nL 469.870559 380.38323 \r\nL 469.870559 381.787407 \r\nL 469.870559 381.787407 \r\nz\r\n\" style=\"fill:#ffffff;stroke:#ffffff;stroke-linejoin:miter;stroke-width:0.01;\"/>\r\n   </g>\r\n   <image height=\"359\" id=\"imaged34c1f013b\" transform=\"scale(1 -1)translate(0 -359)\" width=\"18\" x=\"452\" xlink:href=\"data:image/png;base64,\r\niVBORw0KGgoAAAANSUhEUgAAABIAAAFnCAYAAACrVhmRAAABt0lEQVR4nO2bQWoEMRADnTD//24OgZ08QT4UoRDqB4hVqyW3zc7Xz+/7HqAeBuacbwbmnOc9zE96IJzzQDhkjzhqDBJHbapdAFEW0bnf12xhsIFzxJTS/bZg06mGNbvYIiQ1CoiaozOLpFJSk63HxRYRBtvW4wsgXbDpVJtFchUH2yySqzjYZpFcC7ZcPtUWbLkWbLmEFvlA3RZS080R16NPLzWdalizhWe/cK2h5P8U96iXmk415X5EBRsCo6QGLhG2A5JSTUhNZ9ru9dhGDZxsCEgofy817lKztSYC+S411EAa5ecmu/ZOW/ykoQu2hX+u4mATXvx0PVJO9sI/AVVfaootUktNp5rw7G9+0rAFW7NFfOea7z1b6H6bRYTUdkBmIKH7ba9+xarN/bmE1LbW3AAhOE5q61EGQnCaqTWH/6jdACE4zRZRUluPMhCCQ75oQRu7L0aKE7KYmrBH3LdZOmo61YQ9mvz/B1SsmrBHxdQmfyyOmvB7Wptqkz+XkJoOSNijyZ+Bjk7+8zL/ZBu1KyDmFxX3qJiaUv5Ry0CyOTJaBHo9NlKb/BdAoxaqmNrCP1cxtT9ZaxuKxgAA9AAAAABJRU5ErkJggg==\" y=\"-22\"/>\r\n   <g id=\"matplotlib.axis_3\"/>\r\n   <g id=\"matplotlib.axis_4\">\r\n    <g id=\"ytick_18\">\r\n     <g id=\"line2d_35\">\r\n      <defs>\r\n       <path d=\"M 0 0 \r\nL 3.5 0 \r\n\" id=\"m508872423c\" style=\"stroke:#000000;stroke-width:0.8;\"/>\r\n      </defs>\r\n      <g>\r\n       <use style=\"stroke:#000000;stroke-width:0.8;\" x=\"469.870559\" xlink:href=\"#m508872423c\" y=\"381.787407\"/>\r\n      </g>\r\n     </g>\r\n     <g id=\"text_327\">\r\n      <!-- 0 -->\r\n      <g transform=\"translate(476.870559 385.586626)scale(0.1 -0.1)\">\r\n       <use xlink:href=\"#DejaVuSans-30\"/>\r\n      </g>\r\n     </g>\r\n    </g>\r\n    <g id=\"ytick_19\">\r\n     <g id=\"line2d_36\">\r\n      <g>\r\n       <use style=\"stroke:#000000;stroke-width:0.8;\" x=\"469.870559\" xlink:href=\"#m508872423c\" y=\"338.268124\"/>\r\n      </g>\r\n     </g>\r\n     <g id=\"text_328\">\r\n      <!-- 200 -->\r\n      <g transform=\"translate(476.870559 342.067342)scale(0.1 -0.1)\">\r\n       <use xlink:href=\"#DejaVuSans-32\"/>\r\n       <use x=\"63.623047\" xlink:href=\"#DejaVuSans-30\"/>\r\n       <use x=\"127.246094\" xlink:href=\"#DejaVuSans-30\"/>\r\n      </g>\r\n     </g>\r\n    </g>\r\n    <g id=\"ytick_20\">\r\n     <g id=\"line2d_37\">\r\n      <g>\r\n       <use style=\"stroke:#000000;stroke-width:0.8;\" x=\"469.870559\" xlink:href=\"#m508872423c\" y=\"294.74884\"/>\r\n      </g>\r\n     </g>\r\n     <g id=\"text_329\">\r\n      <!-- 400 -->\r\n      <g transform=\"translate(476.870559 298.548059)scale(0.1 -0.1)\">\r\n       <use xlink:href=\"#DejaVuSans-34\"/>\r\n       <use x=\"63.623047\" xlink:href=\"#DejaVuSans-30\"/>\r\n       <use x=\"127.246094\" xlink:href=\"#DejaVuSans-30\"/>\r\n      </g>\r\n     </g>\r\n    </g>\r\n    <g id=\"ytick_21\">\r\n     <g id=\"line2d_38\">\r\n      <g>\r\n       <use style=\"stroke:#000000;stroke-width:0.8;\" x=\"469.870559\" xlink:href=\"#m508872423c\" y=\"251.229556\"/>\r\n      </g>\r\n     </g>\r\n     <g id=\"text_330\">\r\n      <!-- 600 -->\r\n      <g transform=\"translate(476.870559 255.028775)scale(0.1 -0.1)\">\r\n       <use xlink:href=\"#DejaVuSans-36\"/>\r\n       <use x=\"63.623047\" xlink:href=\"#DejaVuSans-30\"/>\r\n       <use x=\"127.246094\" xlink:href=\"#DejaVuSans-30\"/>\r\n      </g>\r\n     </g>\r\n    </g>\r\n    <g id=\"ytick_22\">\r\n     <g id=\"line2d_39\">\r\n      <g>\r\n       <use style=\"stroke:#000000;stroke-width:0.8;\" x=\"469.870559\" xlink:href=\"#m508872423c\" y=\"207.710273\"/>\r\n      </g>\r\n     </g>\r\n     <g id=\"text_331\">\r\n      <!-- 800 -->\r\n      <g transform=\"translate(476.870559 211.509492)scale(0.1 -0.1)\">\r\n       <use xlink:href=\"#DejaVuSans-38\"/>\r\n       <use x=\"63.623047\" xlink:href=\"#DejaVuSans-30\"/>\r\n       <use x=\"127.246094\" xlink:href=\"#DejaVuSans-30\"/>\r\n      </g>\r\n     </g>\r\n    </g>\r\n    <g id=\"ytick_23\">\r\n     <g id=\"line2d_40\">\r\n      <g>\r\n       <use style=\"stroke:#000000;stroke-width:0.8;\" x=\"469.870559\" xlink:href=\"#m508872423c\" y=\"164.190989\"/>\r\n      </g>\r\n     </g>\r\n     <g id=\"text_332\">\r\n      <!-- 1000 -->\r\n      <g transform=\"translate(476.870559 167.990208)scale(0.1 -0.1)\">\r\n       <use xlink:href=\"#DejaVuSans-31\"/>\r\n       <use x=\"63.623047\" xlink:href=\"#DejaVuSans-30\"/>\r\n       <use x=\"127.246094\" xlink:href=\"#DejaVuSans-30\"/>\r\n       <use x=\"190.869141\" xlink:href=\"#DejaVuSans-30\"/>\r\n      </g>\r\n     </g>\r\n    </g>\r\n    <g id=\"ytick_24\">\r\n     <g id=\"line2d_41\">\r\n      <g>\r\n       <use style=\"stroke:#000000;stroke-width:0.8;\" x=\"469.870559\" xlink:href=\"#m508872423c\" y=\"120.671706\"/>\r\n      </g>\r\n     </g>\r\n     <g id=\"text_333\">\r\n      <!-- 1200 -->\r\n      <g transform=\"translate(476.870559 124.470925)scale(0.1 -0.1)\">\r\n       <use xlink:href=\"#DejaVuSans-31\"/>\r\n       <use x=\"63.623047\" xlink:href=\"#DejaVuSans-32\"/>\r\n       <use x=\"127.246094\" xlink:href=\"#DejaVuSans-30\"/>\r\n       <use x=\"190.869141\" xlink:href=\"#DejaVuSans-30\"/>\r\n      </g>\r\n     </g>\r\n    </g>\r\n    <g id=\"ytick_25\">\r\n     <g id=\"line2d_42\">\r\n      <g>\r\n       <use style=\"stroke:#000000;stroke-width:0.8;\" x=\"469.870559\" xlink:href=\"#m508872423c\" y=\"77.152422\"/>\r\n      </g>\r\n     </g>\r\n     <g id=\"text_334\">\r\n      <!-- 1400 -->\r\n      <g transform=\"translate(476.870559 80.951641)scale(0.1 -0.1)\">\r\n       <use xlink:href=\"#DejaVuSans-31\"/>\r\n       <use x=\"63.623047\" xlink:href=\"#DejaVuSans-34\"/>\r\n       <use x=\"127.246094\" xlink:href=\"#DejaVuSans-30\"/>\r\n       <use x=\"190.869141\" xlink:href=\"#DejaVuSans-30\"/>\r\n      </g>\r\n     </g>\r\n    </g>\r\n    <g id=\"ytick_26\">\r\n     <g id=\"line2d_43\">\r\n      <g>\r\n       <use style=\"stroke:#000000;stroke-width:0.8;\" x=\"469.870559\" xlink:href=\"#m508872423c\" y=\"33.633139\"/>\r\n      </g>\r\n     </g>\r\n     <g id=\"text_335\">\r\n      <!-- 1600 -->\r\n      <g transform=\"translate(476.870559 37.432357)scale(0.1 -0.1)\">\r\n       <use xlink:href=\"#DejaVuSans-31\"/>\r\n       <use x=\"63.623047\" xlink:href=\"#DejaVuSans-36\"/>\r\n       <use x=\"127.246094\" xlink:href=\"#DejaVuSans-30\"/>\r\n       <use x=\"190.869141\" xlink:href=\"#DejaVuSans-30\"/>\r\n      </g>\r\n     </g>\r\n    </g>\r\n   </g>\r\n   <g id=\"LineCollection_1\"/>\r\n   <g id=\"patch_9\">\r\n    <path d=\"M 451.897095 381.787407 \r\nL 451.897095 380.38323 \r\nL 451.897095 23.722302 \r\nL 451.897095 22.318125 \r\nL 469.870559 22.318125 \r\nL 469.870559 23.722302 \r\nL 469.870559 380.38323 \r\nL 469.870559 381.787407 \r\nz\r\n\" style=\"fill:none;stroke:#000000;stroke-linecap:square;stroke-linejoin:miter;stroke-width:0.8;\"/>\r\n   </g>\r\n  </g>\r\n </g>\r\n <defs>\r\n  <clipPath id=\"p6830b8cd78\">\r\n   <rect height=\"359.469282\" width=\"359.469282\" x=\"57.507812\" y=\"22.318125\"/>\r\n  </clipPath>\r\n  <clipPath id=\"pd436c4238c\">\r\n   <rect height=\"359.469282\" width=\"17.973464\" x=\"451.897095\" y=\"22.318125\"/>\r\n  </clipPath>\r\n </defs>\r\n</svg>\r\n",
      "image/png": "[encoded data removed]"
     },
     "metadata": {
      "needs_background": "light"
     }
    }
   ],
   "metadata": {}
  },
  {
   "cell_type": "markdown",
   "source": [
    "## Note"
   ],
   "metadata": {}
  },
  {
   "cell_type": "markdown",
   "source": [
    "**##** label is comming from original-to-tokenized alignment code in function <font color=blue>convert_single_example(ex_index, example, label_list, max_seq_length, tokenizer, mode)</font>  in *bert_pos.py*. Following suggestions from [WordPiece tokenization](https://github.com/google-research/bert) part, for pos tagging task input sentences are converted to the following format:"
   ],
   "metadata": {}
  },
  {
   "cell_type": "code",
   "execution_count": 1,
   "source": [
    "# orig_tokens = [\"John\", \"Johanson\", \"'s\",  \"house\"]\r\n",
    "# labels      = [\"NNP\",  \"NNP\",      \"POS\", \"NN\"]\r\n",
    "\r\n",
    "# bert_tokens = ['[CLS]\", \"john\", \"johan\", \"##son\", \"'\",   \"s\",  \"house\", \"[SEP]\"]\r\n",
    "# bert_labels = ['[CLS]\", \"NNP\",  \"NNP\",   \"##\",    \"POS\", \"##\", \"NN\",    \"[SEP]\"]"
   ],
   "outputs": [],
   "metadata": {}
  }
 ],
 "metadata": {
  "kernelspec": {
   "name": "python3",
   "display_name": "Python 3.7.9 64-bit"
  },
  "language_info": {
   "codemirror_mode": {
    "name": "ipython",
    "version": 3
   },
   "file_extension": ".py",
   "mimetype": "text/x-python",
   "name": "python",
   "nbconvert_exporter": "python",
   "pygments_lexer": "ipython3",
   "version": "3.7.9"
  },
  "interpreter": {
   "hash": "af813deb9b1041a3d218328d61c4f03144072bd904e1ecc31331ca02d8a1185b"
  }
 },
 "nbformat": 4,
 "nbformat_minor": 2
}